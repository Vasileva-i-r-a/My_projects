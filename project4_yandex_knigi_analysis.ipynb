{
 "cells": [
  {
   "cell_type": "markdown",
   "id": "_E41Wr5fqnFT",
   "metadata": {
    "id": "_E41Wr5fqnFT"
   },
   "source": [
    "# Часть 1. Проверка гипотезы в Python и составление аналитической записки"
   ]
  },
  {
   "cell_type": "markdown",
   "id": "e06910dd",
   "metadata": {
    "id": "e06910dd"
   },
   "source": [
    "\n",
    "\n",
    "\n",
    "- Автор: Васильева Ирина\n",
    "- Дата: 21.08.2025"
   ]
  },
  {
   "cell_type": "markdown",
   "id": "4149134c",
   "metadata": {
    "id": "4149134c"
   },
   "source": [
    "## Цели и задачи проекта\n",
    "\n",
    "<font color='#777778'>Анализ сервиса ЯндексКниги. В данном проекте проверяется гипотеза, что пользователи из Санкт-Петербурга проводят в среднем больше времени за чтением и прослушиванием книг в приложении, чем пользователи из Москвы.</font>"
   ]
  },
  {
   "cell_type": "markdown",
   "id": "728986ea",
   "metadata": {
    "id": "728986ea"
   },
   "source": [
    "## Описание данных\n",
    "\n",
    "<font color='#777778'>Данные предоставлены сервисом ЯндексКниги. Для проекта используются данные пользователей из Москвы и Санкт-Петербурга.</font>"
   ]
  },
  {
   "cell_type": "markdown",
   "id": "4fecaf95",
   "metadata": {
    "id": "4fecaf95"
   },
   "source": [
    "## Содержимое проекта\n",
    "\n",
    "<font color='#777778'>Знакомство с данными.\n",
    "Проверка на полные дубликаты.\n",
    "Проверка гипотезы с помощью t-теста.\n",
    "</font>"
   ]
  },
  {
   "cell_type": "markdown",
   "id": "6f7d21d6",
   "metadata": {
    "id": "6f7d21d6"
   },
   "source": [
    "### Загрузка данных и знакомство с ними\n"
   ]
  },
  {
   "cell_type": "code",
   "execution_count": 13,
   "id": "05faf34b",
   "metadata": {
    "id": "05faf34b"
   },
   "outputs": [],
   "source": [
    "import pandas as pd\n",
    "from IPython.display import display\n",
    "import seaborn as sns\n",
    "import matplotlib.pyplot as plt\n",
    "from scipy.stats import shapiro, ttest_ind, mannwhitneyu"
   ]
  },
  {
   "cell_type": "code",
   "execution_count": 2,
   "id": "ce87c1db",
   "metadata": {
    "id": "ce87c1db"
   },
   "outputs": [
    {
     "data": {
      "text/html": [
       "<div>\n",
       "<style scoped>\n",
       "    .dataframe tbody tr th:only-of-type {\n",
       "        vertical-align: middle;\n",
       "    }\n",
       "\n",
       "    .dataframe tbody tr th {\n",
       "        vertical-align: top;\n",
       "    }\n",
       "\n",
       "    .dataframe thead th {\n",
       "        text-align: right;\n",
       "    }\n",
       "</style>\n",
       "<table border=\"1\" class=\"dataframe\">\n",
       "  <thead>\n",
       "    <tr style=\"text-align: right;\">\n",
       "      <th></th>\n",
       "      <th>Unnamed: 0</th>\n",
       "      <th>city</th>\n",
       "      <th>puid</th>\n",
       "      <th>hours</th>\n",
       "    </tr>\n",
       "  </thead>\n",
       "  <tbody>\n",
       "    <tr>\n",
       "      <th>0</th>\n",
       "      <td>0</td>\n",
       "      <td>Москва</td>\n",
       "      <td>9668</td>\n",
       "      <td>26.167776</td>\n",
       "    </tr>\n",
       "    <tr>\n",
       "      <th>1</th>\n",
       "      <td>1</td>\n",
       "      <td>Москва</td>\n",
       "      <td>16598</td>\n",
       "      <td>82.111217</td>\n",
       "    </tr>\n",
       "    <tr>\n",
       "      <th>2</th>\n",
       "      <td>2</td>\n",
       "      <td>Москва</td>\n",
       "      <td>80401</td>\n",
       "      <td>4.656906</td>\n",
       "    </tr>\n",
       "    <tr>\n",
       "      <th>3</th>\n",
       "      <td>3</td>\n",
       "      <td>Москва</td>\n",
       "      <td>140205</td>\n",
       "      <td>1.840556</td>\n",
       "    </tr>\n",
       "    <tr>\n",
       "      <th>4</th>\n",
       "      <td>4</td>\n",
       "      <td>Москва</td>\n",
       "      <td>248755</td>\n",
       "      <td>151.326434</td>\n",
       "    </tr>\n",
       "  </tbody>\n",
       "</table>\n",
       "</div>"
      ],
      "text/plain": [
       "   Unnamed: 0    city    puid       hours\n",
       "0           0  Москва    9668   26.167776\n",
       "1           1  Москва   16598   82.111217\n",
       "2           2  Москва   80401    4.656906\n",
       "3           3  Москва  140205    1.840556\n",
       "4           4  Москва  248755  151.326434"
      ]
     },
     "metadata": {},
     "output_type": "display_data"
    },
    {
     "name": "stdout",
     "output_type": "stream",
     "text": [
      "<class 'pandas.core.frame.DataFrame'>\n",
      "RangeIndex: 8784 entries, 0 to 8783\n",
      "Data columns (total 4 columns):\n",
      " #   Column      Non-Null Count  Dtype  \n",
      "---  ------      --------------  -----  \n",
      " 0   Unnamed: 0  8784 non-null   int64  \n",
      " 1   city        8784 non-null   object \n",
      " 2   puid        8784 non-null   int64  \n",
      " 3   hours       8784 non-null   float64\n",
      "dtypes: float64(1), int64(2), object(1)\n",
      "memory usage: 274.6+ KB\n"
     ]
    }
   ],
   "source": [
    "data = pd.read_csv(\"/datasets/yandex_knigi_data.csv\")\n",
    "\n",
    "display(data.head(5))\n",
    "\n",
    "data.info()"
   ]
  },
  {
   "cell_type": "markdown",
   "id": "5f28000b",
   "metadata": {},
   "source": []
  },
  {
   "cell_type": "markdown",
   "id": "77139381",
   "metadata": {
    "id": "f68a7419"
   },
   "source": [
    "Выведена информация о данных. Пропусков нет. Типы данных соответствуют содержимому колонок."
   ]
  },
  {
   "cell_type": "code",
   "execution_count": 4,
   "id": "b286d123",
   "metadata": {},
   "outputs": [
    {
     "name": "stdout",
     "output_type": "stream",
     "text": [
      "Количество полных дубликатов: 0\n",
      "Количество неявных дубликатов по puid: 244\n"
     ]
    },
    {
     "data": {
      "text/html": [
       "<div>\n",
       "<style scoped>\n",
       "    .dataframe tbody tr th:only-of-type {\n",
       "        vertical-align: middle;\n",
       "    }\n",
       "\n",
       "    .dataframe tbody tr th {\n",
       "        vertical-align: top;\n",
       "    }\n",
       "\n",
       "    .dataframe thead th {\n",
       "        text-align: right;\n",
       "    }\n",
       "</style>\n",
       "<table border=\"1\" class=\"dataframe\">\n",
       "  <thead>\n",
       "    <tr style=\"text-align: right;\">\n",
       "      <th></th>\n",
       "      <th>Unnamed: 0</th>\n",
       "      <th>city</th>\n",
       "      <th>puid</th>\n",
       "      <th>hours</th>\n",
       "    </tr>\n",
       "  </thead>\n",
       "  <tbody>\n",
       "    <tr>\n",
       "      <th>35</th>\n",
       "      <td>35</td>\n",
       "      <td>Москва</td>\n",
       "      <td>2637041</td>\n",
       "      <td>10.317371</td>\n",
       "    </tr>\n",
       "    <tr>\n",
       "      <th>6247</th>\n",
       "      <td>6247</td>\n",
       "      <td>Санкт-Петербург</td>\n",
       "      <td>2637041</td>\n",
       "      <td>3.883926</td>\n",
       "    </tr>\n",
       "    <tr>\n",
       "      <th>134</th>\n",
       "      <td>134</td>\n",
       "      <td>Москва</td>\n",
       "      <td>9979490</td>\n",
       "      <td>32.415573</td>\n",
       "    </tr>\n",
       "    <tr>\n",
       "      <th>6274</th>\n",
       "      <td>6274</td>\n",
       "      <td>Санкт-Петербург</td>\n",
       "      <td>9979490</td>\n",
       "      <td>1.302997</td>\n",
       "    </tr>\n",
       "    <tr>\n",
       "      <th>145</th>\n",
       "      <td>145</td>\n",
       "      <td>Москва</td>\n",
       "      <td>10597984</td>\n",
       "      <td>42.931506</td>\n",
       "    </tr>\n",
       "    <tr>\n",
       "      <th>...</th>\n",
       "      <td>...</td>\n",
       "      <td>...</td>\n",
       "      <td>...</td>\n",
       "      <td>...</td>\n",
       "    </tr>\n",
       "    <tr>\n",
       "      <th>6195</th>\n",
       "      <td>6195</td>\n",
       "      <td>Москва</td>\n",
       "      <td>1130000020425037</td>\n",
       "      <td>0.310556</td>\n",
       "    </tr>\n",
       "    <tr>\n",
       "      <th>8775</th>\n",
       "      <td>8775</td>\n",
       "      <td>Санкт-Петербург</td>\n",
       "      <td>1130000023864516</td>\n",
       "      <td>14.384722</td>\n",
       "    </tr>\n",
       "    <tr>\n",
       "      <th>6202</th>\n",
       "      <td>6202</td>\n",
       "      <td>Москва</td>\n",
       "      <td>1130000023864516</td>\n",
       "      <td>142.830085</td>\n",
       "    </tr>\n",
       "    <tr>\n",
       "      <th>6210</th>\n",
       "      <td>6210</td>\n",
       "      <td>Москва</td>\n",
       "      <td>1130000028554332</td>\n",
       "      <td>11.277554</td>\n",
       "    </tr>\n",
       "    <tr>\n",
       "      <th>8779</th>\n",
       "      <td>8779</td>\n",
       "      <td>Санкт-Петербург</td>\n",
       "      <td>1130000028554332</td>\n",
       "      <td>4.107774</td>\n",
       "    </tr>\n",
       "  </tbody>\n",
       "</table>\n",
       "<p>488 rows × 4 columns</p>\n",
       "</div>"
      ],
      "text/plain": [
       "      Unnamed: 0             city              puid       hours\n",
       "35            35           Москва           2637041   10.317371\n",
       "6247        6247  Санкт-Петербург           2637041    3.883926\n",
       "134          134           Москва           9979490   32.415573\n",
       "6274        6274  Санкт-Петербург           9979490    1.302997\n",
       "145          145           Москва          10597984   42.931506\n",
       "...          ...              ...               ...         ...\n",
       "6195        6195           Москва  1130000020425037    0.310556\n",
       "8775        8775  Санкт-Петербург  1130000023864516   14.384722\n",
       "6202        6202           Москва  1130000023864516  142.830085\n",
       "6210        6210           Москва  1130000028554332   11.277554\n",
       "8779        8779  Санкт-Петербург  1130000028554332    4.107774\n",
       "\n",
       "[488 rows x 4 columns]"
      ]
     },
     "metadata": {},
     "output_type": "display_data"
    },
    {
     "name": "stdout",
     "output_type": "stream",
     "text": [
      "Количество уникальных puid после очистки: 8540\n"
     ]
    }
   ],
   "source": [
    "duplicates_count = data.duplicated().sum()\n",
    "print(f\"Количество полных дубликатов: {duplicates_count}\")\n",
    "\n",
    "if duplicates_count > 0:\n",
    "    display(data[data.duplicated()])\n",
    "puid_counts = data['puid'].value_counts()\n",
    "\n",
    "duplicate_puids = puid_counts[puid_counts > 1]\n",
    "\n",
    "print(f\"Количество неявных дубликатов по puid: {len(duplicate_puids)}\")\n",
    "\n",
    "if not duplicate_puids.empty:\n",
    "    display(data[data['puid'].isin(duplicate_puids.index)].sort_values(by='puid'))\n",
    "  \n",
    "data = data.drop_duplicates(subset='puid', keep='first')\n",
    "\n",
    "print(f\"Количество уникальных puid после очистки: {data['puid'].nunique()}\")"
   ]
  },
  {
   "cell_type": "markdown",
   "id": "0ab7c749",
   "metadata": {},
   "source": [
    "!!!Удалено 244 неявных дубликата"
   ]
  },
  {
   "cell_type": "markdown",
   "id": "956e82e2",
   "metadata": {
    "id": "956e82e2"
   },
   "source": [
    "### 2. Проверка гипотезы в Python\n",
    "\n",
    "Гипотеза звучит так: пользователи из Санкт-Петербурга проводят в среднем больше времени за чтением и прослушиванием книг в приложении, чем пользователи из Москвы. Попробуем статистически это доказать, используя одностороннюю проверку гипотезы с двумя выборками:\n",
    "\n",
    "- Нулевая гипотеза H₀: Средняя активность пользователей в часах в двух группах (Москва и Санкт-Петербург) не различается.\n",
    "\n",
    "- Альтернативная гипотеза H₁: Средняя активность пользователей в Санкт-Петербурге больше, и это различие статистически значимо."
   ]
  },
  {
   "cell_type": "code",
   "execution_count": 31,
   "id": "6ee4560b",
   "metadata": {},
   "outputs": [
    {
     "name": "stdout",
     "output_type": "stream",
     "text": [
      "Проверка нормальности (normaltest):\n",
      "Москва: p-value = 0.0000\n",
      "СПб: p-value = 0.0000\n"
     ]
    },
    {
     "data": {
      "image/png": "[encoded data removed]",
      "text/plain": [
       "<Figure size 720x432 with 1 Axes>"
      ]
     },
     "metadata": {
      "needs_background": "light"
     },
     "output_type": "display_data"
    },
    {
     "name": "stdout",
     "output_type": "stream",
     "text": [
      "\n",
      "Односторонний t-тест:\n",
      "t-статистика = 0.7782, p-value = 0.2182\n",
      "\n",
      "Mann–Whitney U-тест:\n",
      "U-статистика = 8093616.0000, p-value = 0.0891\n"
     ]
    }
   ],
   "source": [
    "moscow_hours = data[data['city'] == 'Москва']['hours']\n",
    "spb_hours = data[data['city'] == 'Санкт-Петербург']['hours']\n",
    "\n",
    "print('Проверка нормальности (normaltest):')\n",
    "stat_msk, p_msk = normaltest(moscow_hours)\n",
    "stat_spb, p_spb = normaltest(spb_hours)\n",
    "print(f'Москва: p-value = {p_msk:.4f}')\n",
    "print(f'СПб: p-value = {p_spb:.4f}')\n",
    "plt.figure(figsize=(10, 6))\n",
    "sns.histplot(moscow_hours, kde=True, color='blue', label='Москва', stat='density')\n",
    "sns.histplot(spb_hours, kde=True, color='green', label='Санкт-Петербург', stat='density')\n",
    "plt.title('Распределение времени активности (часов)')\n",
    "plt.xlabel('Часы')\n",
    "plt.ylabel('Плотность')\n",
    "plt.legend()\n",
    "plt.show()\n",
    "\n",
    "t_stat, p_value_ttest = ttest_ind(spb_hours, moscow_hours, equal_var=False, alternative='greater')\n",
    "print(f\"\\nОдносторонний t-тест:\")\n",
    "print(f\"t-статистика = {t_stat:.4f}, p-value = {p_value_ttest:.4f}\")\n",
    "\n",
    "u_stat, p_value_mw = mannwhitneyu(spb_hours, moscow_hours, alternative='greater')\n",
    "print(f\"\\nMann–Whitney U-тест:\")\n",
    "print(f\"U-статистика = {u_stat:.4f}, p-value = {p_value_mw:.4f}\")"
   ]
  },
  {
   "cell_type": "markdown",
   "id": "c3df14a2",
   "metadata": {},
   "source": [
    "Проверка нормальности на тесте для больших выборок - нормальность не подтверждена.\n",
    "Применен Mann–Whitney U-тест. p-value = 0.0891. "
   ]
  },
  {
   "cell_type": "markdown",
   "id": "6953e84c",
   "metadata": {
    "id": "6953e84c"
   },
   "source": [
    "### 3. Аналитическая записка\n",
    "По результатам анализа данных подготовим аналитическую записку, в которой опишете:\n",
    "\n",
    "- Выбранный тип t-теста и уровень статистической значимости.\n",
    "\n",
    "- Результат теста, или p-value.\n",
    "\n",
    "- Вывод на основе полученного p-value, то есть интерпретацию результатов.\n",
    "\n",
    "- Одну или две возможные причины, объясняющие полученные результаты.\n",
    "\n"
   ]
  },
  {
   "cell_type": "markdown",
   "id": "4947efd6",
   "metadata": {},
   "source": [
    "Данные взяты из таблицы yandex_knigi_data.csv.\n",
    "Сравнивались две независимые выборки: Москва и Санкт-Петербург.\n",
    "Применен Mann–Whitney U-тест.\n",
    "Уровень статистической значимости: α = 0.05.\n",
    "Результаты теста:\n",
    "U-статистика = 8093616.0000, p-value = 0.0891\n",
    "Интерпретация:\n",
    "Так как p-value (0.0891) близок к  пороговому значению α = 0.05, это может говорить о тенденции к большей активности пользователей из СПБ, но статистически значимого подтверждения нет.\n",
    "Вывод:\n",
    "Мы не можем утверждать, что пользователи Санкт-Петербурга проводят статистически значимо больше времени в приложении, чем пользователи Москвы. Различия между выборками не являются значимыми. Нулевую гипотезу нельзя отвергнуть.\n",
    "Возможные причины результатов:\n",
    "1.Москва и Санкт-Петербург - города-миллионники с близким образом жизни и уровнем цифровой грамотности. Пользователи в этих городах могут иметь схожие привычки чтения и прослушивания книг, что нивелирует различия.\n",
    "2.Недостаточный объём или разброс данных.\n",
    "Возможно, размер выборки или вариация внутри групп слишком велики. Разброс значений «часов активности» внутри каждой группы может «размывать» средние значения и мешать выявить статистически значимое различие."
   ]
  },
  {
   "cell_type": "markdown",
   "id": "NqOUIYhbrIfC",
   "metadata": {
    "id": "NqOUIYhbrIfC"
   },
   "source": [
    "# Часть 2. Анализ результатов A/B-тестирования"
   ]
  },
  {
   "cell_type": "markdown",
   "id": "tDwMKFNGsClr",
   "metadata": {
    "id": "tDwMKFNGsClr"
   },
   "source": [
    "Теперь нужно проанализировать другие данные. К вам обратились представители интернет-магазина BitMotion Kit, в котором продаются геймифицированные товары для тех, кто ведёт здоровый образ жизни. У него есть своя целевая аудитория, даже появились хиты продаж: эспандер со счётчиком и напоминанием, так и подстольный велотренажёр с Bluetooth.\n",
    "\n",
    "В будущем компания хочет расширить ассортимент товаров. Но перед этим нужно решить одну проблему. Интерфейс онлайн-магазина слишком сложен для пользователей — об этом говорят отзывы.\n",
    "\n",
    "Чтобы привлечь новых клиентов и увеличить число продаж, владельцы магазина разработали новую версию сайта и протестировали его на части пользователей. По задумке, это решение доказуемо повысит количество пользователей, которые совершат покупку.\n",
    "\n",
    "Задача — провести оценку результатов A/B-теста. В вашем распоряжении:\n",
    "\n",
    "* данные о действиях пользователей и распределении их на группы,\n",
    "\n",
    "* техническое задание.\n",
    "\n",
    "Оценим корректность проведения теста и проанализируйте его результаты."
   ]
  },
  {
   "cell_type": "markdown",
   "id": "UNXAAyF5r9Rk",
   "metadata": {
    "id": "UNXAAyF5r9Rk"
   },
   "source": [
    "### 1. Опишите цели исследования.\n",
    "\n"
   ]
  },
  {
   "cell_type": "markdown",
   "id": "kHx-51yES8bd",
   "metadata": {
    "id": "kHx-51yES8bd"
   },
   "source": [
    "Проводится А\\В тестирование по новой версии сайта. Предполагается, что эта версия доказуемо повысит количество пользователей, которые совершат покупку."
   ]
  },
  {
   "cell_type": "markdown",
   "id": "_CZryx2OsH-s",
   "metadata": {
    "id": "_CZryx2OsH-s"
   },
   "source": [
    "### 2. Загрузите данные, оцените их целостность.\n"
   ]
  },
  {
   "cell_type": "code",
   "execution_count": 18,
   "id": "DjFcJbeGsTIg",
   "metadata": {
    "id": "DjFcJbeGsTIg"
   },
   "outputs": [
    {
     "data": {
      "text/html": [
       "<div>\n",
       "<style scoped>\n",
       "    .dataframe tbody tr th:only-of-type {\n",
       "        vertical-align: middle;\n",
       "    }\n",
       "\n",
       "    .dataframe tbody tr th {\n",
       "        vertical-align: top;\n",
       "    }\n",
       "\n",
       "    .dataframe thead th {\n",
       "        text-align: right;\n",
       "    }\n",
       "</style>\n",
       "<table border=\"1\" class=\"dataframe\">\n",
       "  <thead>\n",
       "    <tr style=\"text-align: right;\">\n",
       "      <th></th>\n",
       "      <th>user_id</th>\n",
       "      <th>group</th>\n",
       "      <th>ab_test</th>\n",
       "      <th>device</th>\n",
       "    </tr>\n",
       "  </thead>\n",
       "  <tbody>\n",
       "    <tr>\n",
       "      <th>0</th>\n",
       "      <td>0002CE61FF2C4011</td>\n",
       "      <td>B</td>\n",
       "      <td>interface_eu_test</td>\n",
       "      <td>Mac</td>\n",
       "    </tr>\n",
       "    <tr>\n",
       "      <th>1</th>\n",
       "      <td>001064FEAAB631A1</td>\n",
       "      <td>B</td>\n",
       "      <td>recommender_system_test</td>\n",
       "      <td>Android</td>\n",
       "    </tr>\n",
       "    <tr>\n",
       "      <th>2</th>\n",
       "      <td>001064FEAAB631A1</td>\n",
       "      <td>A</td>\n",
       "      <td>interface_eu_test</td>\n",
       "      <td>Android</td>\n",
       "    </tr>\n",
       "    <tr>\n",
       "      <th>3</th>\n",
       "      <td>0010A1C096941592</td>\n",
       "      <td>A</td>\n",
       "      <td>recommender_system_test</td>\n",
       "      <td>Android</td>\n",
       "    </tr>\n",
       "    <tr>\n",
       "      <th>4</th>\n",
       "      <td>001E72F50D1C48FA</td>\n",
       "      <td>A</td>\n",
       "      <td>interface_eu_test</td>\n",
       "      <td>Mac</td>\n",
       "    </tr>\n",
       "  </tbody>\n",
       "</table>\n",
       "</div>"
      ],
      "text/plain": [
       "            user_id group                  ab_test   device\n",
       "0  0002CE61FF2C4011     B        interface_eu_test      Mac\n",
       "1  001064FEAAB631A1     B  recommender_system_test  Android\n",
       "2  001064FEAAB631A1     A        interface_eu_test  Android\n",
       "3  0010A1C096941592     A  recommender_system_test  Android\n",
       "4  001E72F50D1C48FA     A        interface_eu_test      Mac"
      ]
     },
     "metadata": {},
     "output_type": "display_data"
    },
    {
     "data": {
      "text/html": [
       "<div>\n",
       "<style scoped>\n",
       "    .dataframe tbody tr th:only-of-type {\n",
       "        vertical-align: middle;\n",
       "    }\n",
       "\n",
       "    .dataframe tbody tr th {\n",
       "        vertical-align: top;\n",
       "    }\n",
       "\n",
       "    .dataframe thead th {\n",
       "        text-align: right;\n",
       "    }\n",
       "</style>\n",
       "<table border=\"1\" class=\"dataframe\">\n",
       "  <thead>\n",
       "    <tr style=\"text-align: right;\">\n",
       "      <th></th>\n",
       "      <th>user_id</th>\n",
       "      <th>event_dt</th>\n",
       "      <th>event_name</th>\n",
       "      <th>details</th>\n",
       "    </tr>\n",
       "  </thead>\n",
       "  <tbody>\n",
       "    <tr>\n",
       "      <th>0</th>\n",
       "      <td>GLOBAL</td>\n",
       "      <td>2020-12-01 00:00:00</td>\n",
       "      <td>End of Black Friday Ads Campaign</td>\n",
       "      <td>ZONE_CODE15</td>\n",
       "    </tr>\n",
       "    <tr>\n",
       "      <th>1</th>\n",
       "      <td>CCBE9E7E99F94A08</td>\n",
       "      <td>2020-12-01 00:00:11</td>\n",
       "      <td>registration</td>\n",
       "      <td>0.0</td>\n",
       "    </tr>\n",
       "    <tr>\n",
       "      <th>2</th>\n",
       "      <td>GLOBAL</td>\n",
       "      <td>2020-12-01 00:00:25</td>\n",
       "      <td>product_page</td>\n",
       "      <td>NaN</td>\n",
       "    </tr>\n",
       "    <tr>\n",
       "      <th>3</th>\n",
       "      <td>CCBE9E7E99F94A08</td>\n",
       "      <td>2020-12-01 00:00:33</td>\n",
       "      <td>login</td>\n",
       "      <td>NaN</td>\n",
       "    </tr>\n",
       "    <tr>\n",
       "      <th>4</th>\n",
       "      <td>CCBE9E7E99F94A08</td>\n",
       "      <td>2020-12-01 00:00:52</td>\n",
       "      <td>product_page</td>\n",
       "      <td>NaN</td>\n",
       "    </tr>\n",
       "  </tbody>\n",
       "</table>\n",
       "</div>"
      ],
      "text/plain": [
       "            user_id            event_dt                        event_name  \\\n",
       "0            GLOBAL 2020-12-01 00:00:00  End of Black Friday Ads Campaign   \n",
       "1  CCBE9E7E99F94A08 2020-12-01 00:00:11                      registration   \n",
       "2            GLOBAL 2020-12-01 00:00:25                      product_page   \n",
       "3  CCBE9E7E99F94A08 2020-12-01 00:00:33                             login   \n",
       "4  CCBE9E7E99F94A08 2020-12-01 00:00:52                      product_page   \n",
       "\n",
       "       details  \n",
       "0  ZONE_CODE15  \n",
       "1          0.0  \n",
       "2          NaN  \n",
       "3          NaN  \n",
       "4          NaN  "
      ]
     },
     "metadata": {},
     "output_type": "display_data"
    },
    {
     "name": "stdout",
     "output_type": "stream",
     "text": [
      "<class 'pandas.core.frame.DataFrame'>\n",
      "RangeIndex: 14525 entries, 0 to 14524\n",
      "Data columns (total 4 columns):\n",
      " #   Column   Non-Null Count  Dtype \n",
      "---  ------   --------------  ----- \n",
      " 0   user_id  14525 non-null  object\n",
      " 1   group    14525 non-null  object\n",
      " 2   ab_test  14525 non-null  object\n",
      " 3   device   14525 non-null  object\n",
      "dtypes: object(4)\n",
      "memory usage: 454.0+ KB\n",
      "<class 'pandas.core.frame.DataFrame'>\n",
      "RangeIndex: 787286 entries, 0 to 787285\n",
      "Data columns (total 4 columns):\n",
      " #   Column      Non-Null Count   Dtype         \n",
      "---  ------      --------------   -----         \n",
      " 0   user_id     787286 non-null  object        \n",
      " 1   event_dt    787286 non-null  datetime64[ns]\n",
      " 2   event_name  787286 non-null  object        \n",
      " 3   details     249022 non-null  object        \n",
      "dtypes: datetime64[ns](1), object(3)\n",
      "memory usage: 24.0+ MB\n"
     ]
    }
   ],
   "source": [
    "participants = pd.read_csv('https://code.s3.yandex.net/datasets/ab_test_participants.csv')\n",
    "events = pd.read_csv('https://code.s3.yandex.net/datasets/ab_test_events.zip',\n",
    "                     parse_dates=['event_dt'], low_memory=False)\n",
    "display(participants.head(5))\n",
    "display(events.head(5))\n",
    "participants.info()\n",
    "events.info()"
   ]
  },
  {
   "cell_type": "markdown",
   "id": "CnzA-efasUrk",
   "metadata": {
    "id": "CnzA-efasUrk"
   },
   "source": [
    "## 3. По таблице `ab_test_participants` оцените корректность проведения теста:\n",
    "\n",
    "   3\\.1 Выделим пользователей, участвующих в тесте, и проверьте:\n",
    "\n",
    "   - соответствие требованиям технического задания,\n",
    "\n",
    "   - равномерность распределения пользователей по группам теста,\n",
    "\n",
    "   - отсутствие пересечений с конкурирующим тестом (нет пользователей, участвующих одновременно в двух тестовых группах)."
   ]
  },
  {
   "cell_type": "code",
   "execution_count": 22,
   "id": "aNa3zHrKslEN",
   "metadata": {
    "id": "aNa3zHrKslEN"
   },
   "outputs": [
    {
     "name": "stdout",
     "output_type": "stream",
     "text": [
      "Всего записей в interface_eu_test: 10850\n",
      "Уникальных пользователей в interface_eu_test: 10850\n",
      "\n",
      "Список групп в interface_eu_test:\n",
      "B    5467\n",
      "A    5383\n",
      "Name: group, dtype: int64\n",
      "\n",
      "Пользователей, попавших одновременно в две группы A и B (нарушение рандомизации): 0\n",
      "\n",
      "Полных дубликатов строк в interface_eu_test: 0\n",
      "\n",
      "Распределение пользователей по группам (уникальные пользователи):\n",
      "  group  users  share_%\n",
      "0     A   5383    49.61\n",
      "1     B   5467    50.39\n",
      "\n",
      "Абсолютная разница долей между A и B: 0.77%\n",
      "\n",
      "Пересечений пользователей между interface_eu_test и recommender_system_test: 887\n",
      "\n",
      "Примеры пересечений (первые 10 строк):\n",
      "             user_id                  ab_test group   device\n",
      "1   001064FEAAB631A1  recommender_system_test     B  Android\n",
      "2   001064FEAAB631A1        interface_eu_test     A  Android\n",
      "9   00341D8401F0F665  recommender_system_test     A   iPhone\n",
      "10  00341D8401F0F665        interface_eu_test     B   iPhone\n",
      "25  0082295A41A867B5        interface_eu_test     A   iPhone\n",
      "26  0082295A41A867B5  recommender_system_test     A   iPhone\n",
      "41  00E68F103C66C1F7  recommender_system_test     A       PC\n",
      "42  00E68F103C66C1F7        interface_eu_test     A       PC\n",
      "45  00EFA157F7B6E1C4        interface_eu_test     B  Android\n",
      "46  00EFA157F7B6E1C4  recommender_system_test     A  Android\n",
      "\n",
      "Случаев, когда один пользователь имеет >1 группы внутри одного теста среди пересечений: 0\n"
     ]
    }
   ],
   "source": [
    "iface = participants.query(\"ab_test == 'interface_eu_test'\").copy()\n",
    "\n",
    "print(f\"Всего записей в interface_eu_test: {len(iface)}\")\n",
    "print(f\"Уникальных пользователей в interface_eu_test: {iface['user_id'].nunique()}\")\n",
    "\n",
    "print(\"\\nСписок групп в interface_eu_test:\")\n",
    "print(iface['group'].value_counts(dropna=False))\n",
    "\n",
    "grp_per_user = (iface.groupby('user_id')['group']\n",
    "                     .nunique()\n",
    "                     .rename('unique_groups'))\n",
    "multi_group_users = grp_per_user[grp_per_user > 1]\n",
    "\n",
    "print(f\"\\nПользователей, попавших одновременно в две группы A и B (нарушение рандомизации): {multi_group_users.shape[0]}\")\n",
    "if not multi_group_users.empty:\n",
    "    print(\"Примеры user_id с дублированием групп:\")\n",
    "    print(multi_group_users.head())\n",
    "\n",
    "dup_count = iface.duplicated().sum()\n",
    "print(f\"\\nПолных дубликатов строк в interface_eu_test: {dup_count}\")\n",
    "\n",
    "users_per_group = (iface.drop_duplicates(['user_id', 'ab_test'])\n",
    "                         .groupby('group')['user_id']\n",
    "                         .nunique()\n",
    "                         .rename('users')\n",
    "                         .reset_index())\n",
    "total_users_iface = users_per_group['users'].sum()\n",
    "users_per_group['share_%'] = (users_per_group['users'] / total_users_iface * 100).round(2)\n",
    "\n",
    "print(\"\\nРаспределение пользователей по группам (уникальные пользователи):\")\n",
    "print(users_per_group)\n",
    "if {'A','B'}.issubset(set(users_per_group['group'])):\n",
    "    a = int(users_per_group.loc[users_per_group['group']=='A', 'users'])\n",
    "    b = int(users_per_group.loc[users_per_group['group']=='B', 'users'])\n",
    "    imbalance_pct = 100 * abs(a - b) / total_users_iface\n",
    "    print(f\"\\nАбсолютная разница долей между A и B: {imbalance_pct:.2f}%\")\n",
    "else:\n",
    "    print(\"\\nВнимание: найдены не только группы A/B — проверьте исходные данные.\")\n",
    "\n",
    "reco = participants.query(\"ab_test == 'recommender_system_test'\").copy()\n",
    "iface_users = set(iface['user_id'])\n",
    "reco_users = set(reco['user_id'])\n",
    "overlap_users = iface_users & reco_users\n",
    "\n",
    "print(f\"\\nПересечений пользователей между interface_eu_test и recommender_system_test: {len(overlap_users)}\")\n",
    "\n",
    "if overlap_users:\n",
    "    overlap_df = participants[participants['user_id'].isin(overlap_users)][['user_id','ab_test','group','device']]\n",
    "\n",
    "    print(\"\\nПримеры пересечений (первые 10 строк):\")\n",
    "    print(overlap_df.head(10))\n",
    "\n",
    "    cross_check = (overlap_df.groupby(['ab_test','user_id'])['group']\n",
    "                             .nunique()\n",
    "                             .reset_index(name='unique_groups'))\n",
    "    bad_cross = cross_check[cross_check['unique_groups'] > 1]\n",
    "    print(f\"\\nСлучаев, когда один пользователь имеет >1 группы внутри одного теста среди пересечений: {bad_cross.shape[0]}\")\n",
    "\n"
   ]
  },
  {
   "cell_type": "markdown",
   "id": "GjulgSrlsqUU",
   "metadata": {
    "id": "GjulgSrlsqUU"
   },
   "source": [
    "3\\.2 Проанализируем данные о пользовательской активности по таблице `ab_test_events`:\n",
    "\n",
    "- оставьте только события, связанные с участвующими в изучаемом тесте пользователями;"
   ]
  },
  {
   "cell_type": "code",
   "execution_count": 23,
   "id": "QMt0Ybo_swDK",
   "metadata": {
    "id": "QMt0Ybo_swDK"
   },
   "outputs": [
    {
     "name": "stdout",
     "output_type": "stream",
     "text": [
      "Всего событий для участников interface_eu_test: 79715\n"
     ]
    },
    {
     "data": {
      "text/html": [
       "<div>\n",
       "<style scoped>\n",
       "    .dataframe tbody tr th:only-of-type {\n",
       "        vertical-align: middle;\n",
       "    }\n",
       "\n",
       "    .dataframe tbody tr th {\n",
       "        vertical-align: top;\n",
       "    }\n",
       "\n",
       "    .dataframe thead th {\n",
       "        text-align: right;\n",
       "    }\n",
       "</style>\n",
       "<table border=\"1\" class=\"dataframe\">\n",
       "  <thead>\n",
       "    <tr style=\"text-align: right;\">\n",
       "      <th></th>\n",
       "      <th>user_id</th>\n",
       "      <th>event_dt</th>\n",
       "      <th>event_name</th>\n",
       "      <th>details</th>\n",
       "    </tr>\n",
       "  </thead>\n",
       "  <tbody>\n",
       "    <tr>\n",
       "      <th>0</th>\n",
       "      <td>5F506CEBEDC05D30</td>\n",
       "      <td>2020-12-06 14:10:01</td>\n",
       "      <td>registration</td>\n",
       "      <td>0.0</td>\n",
       "    </tr>\n",
       "    <tr>\n",
       "      <th>1</th>\n",
       "      <td>5F506CEBEDC05D30</td>\n",
       "      <td>2020-12-07 01:25:14</td>\n",
       "      <td>login</td>\n",
       "      <td>NaN</td>\n",
       "    </tr>\n",
       "    <tr>\n",
       "      <th>2</th>\n",
       "      <td>5F506CEBEDC05D30</td>\n",
       "      <td>2020-12-07 01:25:47</td>\n",
       "      <td>login</td>\n",
       "      <td>NaN</td>\n",
       "    </tr>\n",
       "    <tr>\n",
       "      <th>3</th>\n",
       "      <td>5F506CEBEDC05D30</td>\n",
       "      <td>2020-12-09 12:40:49</td>\n",
       "      <td>login</td>\n",
       "      <td>NaN</td>\n",
       "    </tr>\n",
       "    <tr>\n",
       "      <th>4</th>\n",
       "      <td>5F506CEBEDC05D30</td>\n",
       "      <td>2020-12-09 12:40:49</td>\n",
       "      <td>product_page</td>\n",
       "      <td>NaN</td>\n",
       "    </tr>\n",
       "  </tbody>\n",
       "</table>\n",
       "</div>"
      ],
      "text/plain": [
       "            user_id            event_dt    event_name details\n",
       "0  5F506CEBEDC05D30 2020-12-06 14:10:01  registration     0.0\n",
       "1  5F506CEBEDC05D30 2020-12-07 01:25:14         login     NaN\n",
       "2  5F506CEBEDC05D30 2020-12-07 01:25:47         login     NaN\n",
       "3  5F506CEBEDC05D30 2020-12-09 12:40:49         login     NaN\n",
       "4  5F506CEBEDC05D30 2020-12-09 12:40:49  product_page     NaN"
      ]
     },
     "metadata": {},
     "output_type": "display_data"
    }
   ],
   "source": [
    "iface_users = iface[['user_id']].drop_duplicates()\n",
    "\n",
    "events_iface = events.merge(iface_users, on='user_id', how='inner')\n",
    "\n",
    "print(f\"Всего событий для участников interface_eu_test: {len(events_iface)}\")\n",
    "display(events_iface.head())\n"
   ]
  },
  {
   "cell_type": "markdown",
   "id": "fBZ4DC2xswZJ",
   "metadata": {
    "id": "fBZ4DC2xswZJ"
   },
   "source": [
    "- определим горизонт анализа: рассчитайте время (лайфтайм) совершения события пользователем после регистрации и оставьте только те события, которые были выполнены в течение первых семи дней с момента регистрации;"
   ]
  },
  {
   "cell_type": "code",
   "execution_count": 24,
   "id": "sES4-dKts0Yb",
   "metadata": {
    "id": "sES4-dKts0Yb"
   },
   "outputs": [
    {
     "name": "stdout",
     "output_type": "stream",
     "text": [
      "Количество событий в первые 7 дней после регистрации: 71060\n"
     ]
    },
    {
     "data": {
      "text/html": [
       "<div>\n",
       "<style scoped>\n",
       "    .dataframe tbody tr th:only-of-type {\n",
       "        vertical-align: middle;\n",
       "    }\n",
       "\n",
       "    .dataframe tbody tr th {\n",
       "        vertical-align: top;\n",
       "    }\n",
       "\n",
       "    .dataframe thead th {\n",
       "        text-align: right;\n",
       "    }\n",
       "</style>\n",
       "<table border=\"1\" class=\"dataframe\">\n",
       "  <thead>\n",
       "    <tr style=\"text-align: right;\">\n",
       "      <th></th>\n",
       "      <th>user_id</th>\n",
       "      <th>event_dt</th>\n",
       "      <th>event_name</th>\n",
       "      <th>details</th>\n",
       "      <th>reg_dt</th>\n",
       "      <th>days_since_registration</th>\n",
       "    </tr>\n",
       "  </thead>\n",
       "  <tbody>\n",
       "    <tr>\n",
       "      <th>0</th>\n",
       "      <td>5F506CEBEDC05D30</td>\n",
       "      <td>2020-12-06 14:10:01</td>\n",
       "      <td>registration</td>\n",
       "      <td>0.0</td>\n",
       "      <td>2020-12-06 14:10:01</td>\n",
       "      <td>0</td>\n",
       "    </tr>\n",
       "    <tr>\n",
       "      <th>1</th>\n",
       "      <td>5F506CEBEDC05D30</td>\n",
       "      <td>2020-12-07 01:25:14</td>\n",
       "      <td>login</td>\n",
       "      <td>NaN</td>\n",
       "      <td>2020-12-06 14:10:01</td>\n",
       "      <td>0</td>\n",
       "    </tr>\n",
       "    <tr>\n",
       "      <th>2</th>\n",
       "      <td>5F506CEBEDC05D30</td>\n",
       "      <td>2020-12-07 01:25:47</td>\n",
       "      <td>login</td>\n",
       "      <td>NaN</td>\n",
       "      <td>2020-12-06 14:10:01</td>\n",
       "      <td>0</td>\n",
       "    </tr>\n",
       "    <tr>\n",
       "      <th>3</th>\n",
       "      <td>5F506CEBEDC05D30</td>\n",
       "      <td>2020-12-09 12:40:49</td>\n",
       "      <td>login</td>\n",
       "      <td>NaN</td>\n",
       "      <td>2020-12-06 14:10:01</td>\n",
       "      <td>2</td>\n",
       "    </tr>\n",
       "    <tr>\n",
       "      <th>4</th>\n",
       "      <td>5F506CEBEDC05D30</td>\n",
       "      <td>2020-12-09 12:40:49</td>\n",
       "      <td>product_page</td>\n",
       "      <td>NaN</td>\n",
       "      <td>2020-12-06 14:10:01</td>\n",
       "      <td>2</td>\n",
       "    </tr>\n",
       "  </tbody>\n",
       "</table>\n",
       "</div>"
      ],
      "text/plain": [
       "            user_id            event_dt    event_name details  \\\n",
       "0  5F506CEBEDC05D30 2020-12-06 14:10:01  registration     0.0   \n",
       "1  5F506CEBEDC05D30 2020-12-07 01:25:14         login     NaN   \n",
       "2  5F506CEBEDC05D30 2020-12-07 01:25:47         login     NaN   \n",
       "3  5F506CEBEDC05D30 2020-12-09 12:40:49         login     NaN   \n",
       "4  5F506CEBEDC05D30 2020-12-09 12:40:49  product_page     NaN   \n",
       "\n",
       "               reg_dt  days_since_registration  \n",
       "0 2020-12-06 14:10:01                        0  \n",
       "1 2020-12-06 14:10:01                        0  \n",
       "2 2020-12-06 14:10:01                        0  \n",
       "3 2020-12-06 14:10:01                        2  \n",
       "4 2020-12-06 14:10:01                        2  "
      ]
     },
     "metadata": {},
     "output_type": "display_data"
    }
   ],
   "source": [
    "\n",
    "registration = events_iface[events_iface['event_name'] == 'registration'][['user_id', 'event_dt']]\n",
    "registration = registration.rename(columns={'event_dt':'reg_dt'})\n",
    "\n",
    "events_with_reg = events_iface.merge(registration, on='user_id', how='left')\n",
    "\n",
    "events_with_reg['days_since_registration'] = (events_with_reg['event_dt'] - events_with_reg['reg_dt']).dt.days\n",
    "\n",
    "events_7days = events_with_reg[events_with_reg['days_since_registration'].between(0, 7)].copy()\n",
    "\n",
    "print(f\"Количество событий в первые 7 дней после регистрации: {len(events_7days)}\")\n",
    "display(events_7days.head())\n"
   ]
  },
  {
   "cell_type": "markdown",
   "id": "7cf1df48",
   "metadata": {},
   "source": [
    "Оценим достаточность выборки для получения статистически значимых результатов A/B-теста. Заданные параметры:\n",
    "\n",
    "- базовый показатель конверсии — 30%,\n",
    "\n",
    "- мощность теста — 80%,\n",
    "\n",
    "- достоверность теста — 95%."
   ]
  },
  {
   "cell_type": "code",
   "execution_count": 25,
   "id": "7d97b466",
   "metadata": {},
   "outputs": [
    {
     "name": "stdout",
     "output_type": "stream",
     "text": [
      "Необходимый размер выборки на каждую группу: 3761\n",
      "Всего уникальных пользователей в выборке: 10850\n"
     ]
    }
   ],
   "source": [
    "from statsmodels.stats.power import NormalIndPower\n",
    "from statsmodels.stats.proportion import proportion_effectsize\n",
    "\n",
    "alpha = 0.05       \n",
    "power = 0.8         \n",
    "p = 0.3             \n",
    "mde = 0.03          \n",
    "\n",
    "effect_size = proportion_effectsize(p, p + mde)\n",
    "\n",
    "\n",
    "analysis = NormalIndPower()\n",
    "\n",
    "sample_size_per_group = analysis.solve_power(\n",
    "    effect_size=effect_size,\n",
    "    alpha=alpha,\n",
    "    power=power,\n",
    "    ratio=1 \n",
    ")\n",
    "\n",
    "print(f\"Необходимый размер выборки на каждую группу: {int(sample_size_per_group)}\")\n",
    "\n",
    "\n",
    "unique_users = events_7days['user_id'].nunique()\n",
    "print(f\"Всего уникальных пользователей в выборке: {unique_users}\")"
   ]
  },
  {
   "cell_type": "markdown",
   "id": "b274a829",
   "metadata": {},
   "source": [
    "Размер выборки достаточный."
   ]
  },
  {
   "cell_type": "markdown",
   "id": "SadyUDgZs0t3",
   "metadata": {
    "id": "SadyUDgZs0t3"
   },
   "source": [
    "- рассчитаем для каждой группы количество посетителей, сделавших покупку, и общее количество посетителей."
   ]
  },
  {
   "cell_type": "code",
   "execution_count": 26,
   "id": "7ph853Xks4sy",
   "metadata": {
    "id": "7ph853Xks4sy"
   },
   "outputs": [
    {
     "data": {
      "text/html": [
       "<div>\n",
       "<style scoped>\n",
       "    .dataframe tbody tr th:only-of-type {\n",
       "        vertical-align: middle;\n",
       "    }\n",
       "\n",
       "    .dataframe tbody tr th {\n",
       "        vertical-align: top;\n",
       "    }\n",
       "\n",
       "    .dataframe thead th {\n",
       "        text-align: right;\n",
       "    }\n",
       "</style>\n",
       "<table border=\"1\" class=\"dataframe\">\n",
       "  <thead>\n",
       "    <tr style=\"text-align: right;\">\n",
       "      <th></th>\n",
       "      <th>group</th>\n",
       "      <th>total_users</th>\n",
       "      <th>purchasers</th>\n",
       "      <th>conversion</th>\n",
       "    </tr>\n",
       "  </thead>\n",
       "  <tbody>\n",
       "    <tr>\n",
       "      <th>0</th>\n",
       "      <td>A</td>\n",
       "      <td>5383</td>\n",
       "      <td>1542</td>\n",
       "      <td>28.645737</td>\n",
       "    </tr>\n",
       "    <tr>\n",
       "      <th>1</th>\n",
       "      <td>B</td>\n",
       "      <td>5467</td>\n",
       "      <td>1687</td>\n",
       "      <td>30.857875</td>\n",
       "    </tr>\n",
       "  </tbody>\n",
       "</table>\n",
       "</div>"
      ],
      "text/plain": [
       "  group  total_users  purchasers  conversion\n",
       "0     A         5383        1542   28.645737\n",
       "1     B         5467        1687   30.857875"
      ]
     },
     "metadata": {},
     "output_type": "display_data"
    }
   ],
   "source": [
    "events_with_group = events_7days.merge(\n",
    "    participants.query(\"ab_test == 'interface_eu_test'\")[['user_id', 'group']],\n",
    "    on='user_id',\n",
    "    how='left'\n",
    ")\n",
    "\n",
    "total_users_per_group = events_with_group.groupby('group')['user_id'].nunique().reset_index(name='total_users')\n",
    "\n",
    "purchase_per_user = events_with_group[events_with_group['event_name'] == 'purchase'] \\\n",
    "    .groupby('group')['user_id'].nunique() \\\n",
    "    .reset_index(name='purchasers')\n",
    "\n",
    "summary = total_users_per_group.merge(purchase_per_user, on='group', how='left')\n",
    "summary['purchasers'] = summary['purchasers'].fillna(0).astype(int)\n",
    "\n",
    "summary['conversion'] = summary['purchasers'] / summary['total_users'] * 100\n",
    "\n",
    "display(summary)\n"
   ]
  },
  {
   "cell_type": "markdown",
   "id": "100fa599",
   "metadata": {
    "id": "hHTHPkJYs8mE"
   },
   "source": [
    "В контрольной группе A из 5383 пользователей 1542 совершили покупку - конверсия ≈ 28.6%.\n",
    "В тестовой группе B из 5467 пользователей 1687 совершили покупку - конверсия ≈ 30.9%.\n",
    "То есть в тестовой группе B наблюдается рост активности пользователей: на 2,3 % выше доля пользователей, совершивших покупку.\n",
    "Предварительный вывод: новая версия сайта демонстрирует положительное влияние на конверсию, пользователи более активно совершают покупки."
   ]
  },
  {
   "cell_type": "markdown",
   "id": "IKZ1Oo3Ws919",
   "metadata": {
    "id": "IKZ1Oo3Ws919"
   },
   "source": [
    "### 4. Проведем оценку результатов A/B-тестирования:"
   ]
  },
  {
   "cell_type": "markdown",
   "id": "dcUdBSmvtC-E",
   "metadata": {
    "id": "dcUdBSmvtC-E"
   },
   "source": [
    "- Проверим изменение конверсии подходящим статистическим тестом, учитывая все этапы проверки гипотез."
   ]
  },
  {
   "cell_type": "markdown",
   "id": "3413c3b5",
   "metadata": {},
   "source": [
    "Нулевая гипозтеза H₀ - новая версия сайта не повлияет на количество покупок\n",
    "Альтернативная гипотеза H₁ - новая версия сайта статистически значимо повлияет на количество покупок "
   ]
  },
  {
   "cell_type": "code",
   "execution_count": 29,
   "id": "l_KOziBQtL3t",
   "metadata": {
    "id": "l_KOziBQtL3t"
   },
   "outputs": [
    {
     "name": "stdout",
     "output_type": "stream",
     "text": [
      "Z-статистика: 2.5198\n",
      "p-value (односторонний тест): 0.0059\n",
      "Различие статистически значимо: конверсия в группе B выше, чем в группе A.\n"
     ]
    }
   ],
   "source": [
    "import numpy as np\n",
    "from statsmodels.stats.proportion import proportions_ztest\n",
    "\n",
    "summary_sorted = summary.sort_values(by='group', ascending=False).reset_index(drop=True)\n",
    "\n",
    "purchasers = summary_sorted['purchasers'].values\n",
    "total_users = summary_sorted['total_users'].values\n",
    "\n",
    "stat, p_value_two_sided = proportions_ztest(count=purchasers, nobs=total_users)\n",
    "\n",
    "conversion_b = purchasers[0] / total_users[0]\n",
    "conversion_a = purchasers[1] / total_users[1]\n",
    "p_value_one_sided = p_value_two_sided / 2 if conversion_b > conversion_a else 1 - p_value_two_sided / 2\n",
    "\n",
    "print(f\"Z-статистика: {stat:.4f}\")\n",
    "print(f\"p-value (односторонний тест): {p_value_one_sided:.4f}\")\n",
    "\n",
    "alpha = 0.05\n",
    "if p_value_one_sided < alpha:\n",
    "    print(\"Различие статистически значимо: конверсия в группе B выше, чем в группе A.\")\n",
    "else:\n",
    "    print(\"Различие не является статистически значимым.\")"
   ]
  },
  {
   "cell_type": "markdown",
   "id": "a281f930",
   "metadata": {},
   "source": [
    "На основании проведённого анализа A/B-теста можно сделать следующие выводы:\n",
    "Повышение конверсии:\n",
    "В тестовой группе B конверсия пользователей, совершивших покупку, составила 30,9%, тогда как в контрольной группе A - 28,6%. Это соответствует росту на 2,3%\n",
    "Статистическая значимость:\n",
    "Z-статистика = -2.5198, p-value = 0.0059 (односторонний тест). Так как p-value < 0.05, мы отвергаем нулевую гипотезу H₀. Это означает, что различие в конверсии статистически значимо, и повышение конверсии в группе B не случайно.\n",
    "Интерпретация результата:\n",
    "Новая версия сайта, которая тестировалась на группе B, действительно привела к увеличению активности пользователей, выразившейся в более высокой доле совершивших покупку.\n",
    "Оценка достижения эффекта:\n",
    "Ожидаемый эффект в увеличении конверсии достигнут: тест показал положительное влияние интерфейса на поведение пользователей. Следующим шагом можно рассмотреть внедрение изменений для всех пользователей и продолжить мониторинг ключевых метрик.\n",
    "Итог: A/B-тест показал успешное улучшение пользовательской активности и конверсии, и результаты статистически подтверждены."
   ]
  }
 ],
 "metadata": {
  "ExecuteTimeLog": [
   {
    "duration": 456,
    "start_time": "2025-08-21T08:36:58.106Z"
   },
   {
    "duration": 96,
    "start_time": "2025-08-21T08:37:01.157Z"
   },
   {
    "duration": 60,
    "start_time": "2025-08-21T08:37:42.780Z"
   },
   {
    "duration": 566,
    "start_time": "2025-08-21T08:45:53.898Z"
   },
   {
    "duration": 35,
    "start_time": "2025-08-21T08:46:17.443Z"
   },
   {
    "duration": 9,
    "start_time": "2025-08-21T08:57:47.213Z"
   },
   {
    "duration": 10,
    "start_time": "2025-08-21T09:00:21.489Z"
   },
   {
    "duration": 1633,
    "start_time": "2025-08-21T09:34:28.609Z"
   },
   {
    "duration": 1563,
    "start_time": "2025-08-21T09:34:33.893Z"
   },
   {
    "duration": 2033,
    "start_time": "2025-08-21T09:38:14.911Z"
   },
   {
    "duration": 1894,
    "start_time": "2025-08-21T09:39:06.690Z"
   },
   {
    "duration": 150,
    "start_time": "2025-08-21T09:56:38.151Z"
   },
   {
    "duration": 61,
    "start_time": "2025-08-21T09:58:05.008Z"
   },
   {
    "duration": 96,
    "start_time": "2025-08-21T10:00:34.044Z"
   },
   {
    "duration": 101,
    "start_time": "2025-08-21T10:02:27.514Z"
   },
   {
    "duration": 59,
    "start_time": "2025-08-21T10:03:27.805Z"
   },
   {
    "duration": 64,
    "start_time": "2025-08-21T10:05:11.847Z"
   },
   {
    "duration": 36,
    "start_time": "2025-08-21T10:07:07.996Z"
   },
   {
    "duration": 74,
    "start_time": "2025-08-21T10:09:06.303Z"
   },
   {
    "duration": 7,
    "start_time": "2025-08-21T10:13:26.638Z"
   },
   {
    "duration": 166,
    "start_time": "2025-08-21T10:24:01.870Z"
   },
   {
    "duration": 68,
    "start_time": "2025-08-21T10:26:10.773Z"
   },
   {
    "duration": 390,
    "start_time": "2025-08-23T10:25:00.779Z"
   },
   {
    "duration": 92,
    "start_time": "2025-08-23T10:25:12.044Z"
   },
   {
    "duration": 21,
    "start_time": "2025-08-23T10:25:40.197Z"
   },
   {
    "duration": 22,
    "start_time": "2025-08-23T10:30:47.354Z"
   },
   {
    "duration": 457,
    "start_time": "2025-08-23T10:33:38.297Z"
   },
   {
    "duration": 103,
    "start_time": "2025-08-23T10:44:25.068Z"
   },
   {
    "duration": 516,
    "start_time": "2025-08-23T10:44:38.968Z"
   },
   {
    "duration": 1473,
    "start_time": "2025-08-23T10:46:28.992Z"
   },
   {
    "duration": 1453,
    "start_time": "2025-08-23T10:47:31.122Z"
   },
   {
    "duration": 4257,
    "start_time": "2025-08-23T10:47:46.199Z"
   },
   {
    "duration": 1312,
    "start_time": "2025-08-23T10:51:20.613Z"
   },
   {
    "duration": 4308,
    "start_time": "2025-08-23T10:53:09.783Z"
   },
   {
    "duration": 3,
    "start_time": "2025-08-23T12:00:49.969Z"
   },
   {
    "duration": 4466,
    "start_time": "2025-08-23T12:02:22.233Z"
   },
   {
    "duration": 4667,
    "start_time": "2025-08-23T12:10:21.732Z"
   },
   {
    "duration": 4708,
    "start_time": "2025-08-23T12:15:34.492Z"
   },
   {
    "duration": 13,
    "start_time": "2025-08-23T12:19:28.456Z"
   },
   {
    "duration": 1729,
    "start_time": "2025-08-23T12:19:52.253Z"
   },
   {
    "duration": 58,
    "start_time": "2025-08-23T12:20:00.082Z"
   },
   {
    "duration": 211,
    "start_time": "2025-08-23T12:20:06.978Z"
   },
   {
    "duration": 36,
    "start_time": "2025-08-23T12:20:18.307Z"
   },
   {
    "duration": 61,
    "start_time": "2025-08-23T12:21:14.202Z"
   },
   {
    "duration": 198,
    "start_time": "2025-08-23T12:21:26.265Z"
   },
   {
    "duration": 61,
    "start_time": "2025-08-23T12:21:33.683Z"
   },
   {
    "duration": 26,
    "start_time": "2025-08-23T12:21:40.563Z"
   },
   {
    "duration": 74,
    "start_time": "2025-08-23T12:21:49.819Z"
   },
   {
    "duration": 6,
    "start_time": "2025-08-23T12:25:15.765Z"
   },
   {
    "duration": 9,
    "start_time": "2025-08-23T12:30:09.559Z"
   },
   {
    "duration": 7,
    "start_time": "2025-08-23T12:32:32.521Z"
   },
   {
    "duration": 21,
    "start_time": "2025-08-23T12:38:19.179Z"
   },
   {
    "duration": 4441,
    "start_time": "2025-08-23T12:38:27.924Z"
   }
  ],
  "colab": {
   "provenance": [],
   "toc_visible": true
  },
  "kernelspec": {
   "display_name": "Python 3 (ipykernel)",
   "language": "python",
   "name": "python3"
  },
  "language_info": {
   "codemirror_mode": {
    "name": "ipython",
    "version": 3
   },
   "file_extension": ".py",
   "mimetype": "text/x-python",
   "name": "python",
   "nbconvert_exporter": "python",
   "pygments_lexer": "ipython3",
   "version": "3.9.5"
  },
  "toc": {
   "base_numbering": 1,
   "nav_menu": {},
   "number_sections": true,
   "sideBar": true,
   "skip_h1_title": true,
   "title_cell": "Table of Contents",
   "title_sidebar": "Contents",
   "toc_cell": false,
   "toc_position": {
    "height": "calc(100% - 180px)",
    "left": "10px",
    "top": "150px",
    "width": "165px"
   },
   "toc_section_display": true,
   "toc_window_display": true
  }
 },
 "nbformat": 4,
 "nbformat_minor": 5
}

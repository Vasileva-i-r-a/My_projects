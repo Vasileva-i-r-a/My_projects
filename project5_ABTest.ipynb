{
 "cells": [
  {
   "cell_type": "markdown",
   "metadata": {
    "id": "u98L9TgH0eMk"
   },
   "source": [
    "# Разработка A/B-тестирования и анализ результатов\n",
    "\n",
    "Вы работаете продуктовым аналитиком в компании, которая разрабатывает развлекательное приложение с функцией «бесконечной» ленты, как, например, в приложениях с короткими видео. В вашем приложении существует две модели монетизации: первая — ежемесячная платная подписка, которая позволяет пользователям смотреть ленту без рекламы, вторая — демонстрация рекламы для пользователей, которые ещё не оформили подписку.\n",
    "\n",
    "Команда разработчиков рекомендательных систем создала новый алгоритм рекомендаций, который, по их мнению, будет показывать более интересный контент для каждого пользователя. Вас, как аналитика, просят помочь рассчитать параметры A/B-теста, который позволит проверить эту гипотезу, и проанализировать его результаты."
   ]
  },
  {
   "cell_type": "markdown",
   "metadata": {
    "id": "LJBRALHs0eMf"
   },
   "source": [
    "## Описание данных\n",
    "\n",
    "Вы будете работать с тремя таблицами:\n",
    "\n",
    "- `sessions_project_history.csv` — таблица с историческими данными по сессиям пользователей на период с 2025-08-11 по 2025-09-23. Путь к файлу: `/datasets/sessions_project_history.csv`.\n",
    "\n",
    "- `sessions_project_test_part.csv` — таблица с данными за первый день проведения A/B-теста, то есть за 2025-10-14. Путь к файлу: `/datasets/sessions_project_test_part.csv`.\n",
    "\n",
    "- `sessions_project_test.csv` — таблица с данными за весь период проведения A/B-теста, то есть с 2025-10-14 по 2025-11-02. Путь к файлу: `/datasets/sessions_project_test.csv`.\n",
    "\n",
    "У этих таблиц почти совпадает структура и содержание колонок, различаются лишь периоды наблюдения.\n",
    "\n",
    "Поля таблиц `sessions_project_history.csv`, `sessions_project_test.csv`, `sessions_project_test_part.csv`:\n",
    "\n",
    "- `user_id` — идентификатор пользователя;\n",
    "\n",
    "- `session_id` — идентификатор сессии в приложении;\n",
    "\n",
    "- `session_date` — дата сессии;\n",
    "\n",
    "- `session_start_ts` — дата и время начала сессии;\n",
    "\n",
    "- `install_date` — дата установки приложения;\n",
    "\n",
    "- `session_number` — порядковый номер сессии для конкретного пользователя;\n",
    "\n",
    "- `registration_flag` — является ли пользователь зарегистрированным;\n",
    "\n",
    "- `page_counter` — количество просмотренных страниц во время сессии;\n",
    "\n",
    "- `region` — регион пользователя;\n",
    "\n",
    "- `device` — тип устройства пользователя;\n",
    "\n",
    "- `test_group` — тестовая группа (в таблице с историческими данными этого столбца нет).\n",
    "\n",
    "\n",
    "## Что нужно сделать\n",
    "Рассчитаем параметры теста, оценим корректность его проведения и проанализируем результаты эксперимента."
   ]
  },
  {
   "cell_type": "markdown",
   "metadata": {
    "id": "UpOucjID0eMl"
   },
   "source": [
    "### 1. Работа с историческими данными (EDA)"
   ]
  },
  {
   "cell_type": "markdown",
   "metadata": {
    "id": "8iJMtL-30eMl"
   },
   "source": [
    "####  Загрузка исторических данных\n",
    "На первом этапе поработаем с историческими данными приложения:"
   ]
  },
  {
   "cell_type": "code",
   "execution_count": 1,
   "metadata": {
    "id": "6TPR2-1RPboT"
   },
   "outputs": [],
   "source": [
    "from IPython.display import display\n",
    "import pandas as pd\n",
    "import matplotlib.pyplot as plt"
   ]
  },
  {
   "cell_type": "code",
   "execution_count": 2,
   "metadata": {},
   "outputs": [
    {
     "name": "stdout",
     "output_type": "stream",
     "text": [
      "<class 'pandas.core.frame.DataFrame'>\n",
      "RangeIndex: 435924 entries, 0 to 435923\n",
      "Data columns (total 10 columns):\n",
      " #   Column             Non-Null Count   Dtype \n",
      "---  ------             --------------   ----- \n",
      " 0   user_id            435924 non-null  object\n",
      " 1   session_id         435924 non-null  object\n",
      " 2   session_date       435924 non-null  object\n",
      " 3   session_start_ts   435924 non-null  object\n",
      " 4   install_date       435924 non-null  object\n",
      " 5   session_number     435924 non-null  int64 \n",
      " 6   registration_flag  435924 non-null  int64 \n",
      " 7   page_counter       435924 non-null  int64 \n",
      " 8   region             435924 non-null  object\n",
      " 9   device             435924 non-null  object\n",
      "dtypes: int64(3), object(7)\n",
      "memory usage: 33.3+ MB\n"
     ]
    },
    {
     "data": {
      "text/plain": [
       "None"
      ]
     },
     "metadata": {},
     "output_type": "display_data"
    },
    {
     "data": {
      "text/html": [
       "<div>\n",
       "<style scoped>\n",
       "    .dataframe tbody tr th:only-of-type {\n",
       "        vertical-align: middle;\n",
       "    }\n",
       "\n",
       "    .dataframe tbody tr th {\n",
       "        vertical-align: top;\n",
       "    }\n",
       "\n",
       "    .dataframe thead th {\n",
       "        text-align: right;\n",
       "    }\n",
       "</style>\n",
       "<table border=\"1\" class=\"dataframe\">\n",
       "  <thead>\n",
       "    <tr style=\"text-align: right;\">\n",
       "      <th></th>\n",
       "      <th>user_id</th>\n",
       "      <th>session_id</th>\n",
       "      <th>session_date</th>\n",
       "      <th>session_start_ts</th>\n",
       "      <th>install_date</th>\n",
       "      <th>session_number</th>\n",
       "      <th>registration_flag</th>\n",
       "      <th>page_counter</th>\n",
       "      <th>region</th>\n",
       "      <th>device</th>\n",
       "    </tr>\n",
       "  </thead>\n",
       "  <tbody>\n",
       "    <tr>\n",
       "      <th>0</th>\n",
       "      <td>E302123B7000BFE4</td>\n",
       "      <td>F9AF61A0C2023832</td>\n",
       "      <td>2025-08-15</td>\n",
       "      <td>2025-08-15 17:47:35</td>\n",
       "      <td>2025-08-15</td>\n",
       "      <td>1</td>\n",
       "      <td>0</td>\n",
       "      <td>3</td>\n",
       "      <td>CIS</td>\n",
       "      <td>iPhone</td>\n",
       "    </tr>\n",
       "    <tr>\n",
       "      <th>1</th>\n",
       "      <td>2530F72E221829FB</td>\n",
       "      <td>85003A206CBDAC6F</td>\n",
       "      <td>2025-08-15</td>\n",
       "      <td>2025-08-15 16:42:14</td>\n",
       "      <td>2025-08-15</td>\n",
       "      <td>1</td>\n",
       "      <td>0</td>\n",
       "      <td>4</td>\n",
       "      <td>MENA</td>\n",
       "      <td>Android</td>\n",
       "    </tr>\n",
       "    <tr>\n",
       "      <th>2</th>\n",
       "      <td>876E020A4FC512F5</td>\n",
       "      <td>3677423E49D72DEE</td>\n",
       "      <td>2025-08-15</td>\n",
       "      <td>2025-08-15 12:30:00</td>\n",
       "      <td>2025-08-15</td>\n",
       "      <td>1</td>\n",
       "      <td>0</td>\n",
       "      <td>4</td>\n",
       "      <td>EU</td>\n",
       "      <td>PC</td>\n",
       "    </tr>\n",
       "    <tr>\n",
       "      <th>3</th>\n",
       "      <td>2640B349E1D81584</td>\n",
       "      <td>956B45F5915CA225</td>\n",
       "      <td>2025-08-15</td>\n",
       "      <td>2025-08-15 15:31:31</td>\n",
       "      <td>2025-08-15</td>\n",
       "      <td>1</td>\n",
       "      <td>0</td>\n",
       "      <td>4</td>\n",
       "      <td>CIS</td>\n",
       "      <td>Android</td>\n",
       "    </tr>\n",
       "    <tr>\n",
       "      <th>4</th>\n",
       "      <td>94E1CBFAEF1F5EE9</td>\n",
       "      <td>83BF0DA35F9F1F40</td>\n",
       "      <td>2025-08-15</td>\n",
       "      <td>2025-08-15 21:33:53</td>\n",
       "      <td>2025-08-15</td>\n",
       "      <td>1</td>\n",
       "      <td>0</td>\n",
       "      <td>3</td>\n",
       "      <td>CIS</td>\n",
       "      <td>Android</td>\n",
       "    </tr>\n",
       "  </tbody>\n",
       "</table>\n",
       "</div>"
      ],
      "text/plain": [
       "            user_id        session_id session_date     session_start_ts  \\\n",
       "0  E302123B7000BFE4  F9AF61A0C2023832   2025-08-15  2025-08-15 17:47:35   \n",
       "1  2530F72E221829FB  85003A206CBDAC6F   2025-08-15  2025-08-15 16:42:14   \n",
       "2  876E020A4FC512F5  3677423E49D72DEE   2025-08-15  2025-08-15 12:30:00   \n",
       "3  2640B349E1D81584  956B45F5915CA225   2025-08-15  2025-08-15 15:31:31   \n",
       "4  94E1CBFAEF1F5EE9  83BF0DA35F9F1F40   2025-08-15  2025-08-15 21:33:53   \n",
       "\n",
       "  install_date  session_number  registration_flag  page_counter region  \\\n",
       "0   2025-08-15               1                  0             3    CIS   \n",
       "1   2025-08-15               1                  0             4   MENA   \n",
       "2   2025-08-15               1                  0             4     EU   \n",
       "3   2025-08-15               1                  0             4    CIS   \n",
       "4   2025-08-15               1                  0             3    CIS   \n",
       "\n",
       "    device  \n",
       "0   iPhone  \n",
       "1  Android  \n",
       "2       PC  \n",
       "3  Android  \n",
       "4  Android  "
      ]
     },
     "metadata": {},
     "output_type": "display_data"
    }
   ],
   "source": [
    "sessions_history = pd.read_csv(\"/datasets/sessions_project_history.csv\")\n",
    "display(sessions_history.info())\n",
    "display(sessions_history.head())"
   ]
  },
  {
   "cell_type": "markdown",
   "metadata": {
    "id": "qTDoiODz0eMo"
   },
   "source": [
    "####  Знакомство с данными\n",
    "- Для каждого уникального пользователя `user_id` рассчитаем количество уникальных сессий `session_id`.\n",
    "\n",
    "- Выведем на экран все данные из таблицы `sessions_history` для одного пользователя с наибольшим количеством сессий. Если таких пользователей несколько, выберем любого из них.\n",
    "\n",
    "- Изучим таблицу для одного пользователя, чтобы лучше понять логику формирования каждого столбца данных.\n",
    "\n"
   ]
  },
  {
   "cell_type": "code",
   "execution_count": 3,
   "metadata": {
    "id": "PWZO9vTIPbPN"
   },
   "outputs": [
    {
     "name": "stdout",
     "output_type": "stream",
     "text": [
      "Пользователь с наибольшим количеством сессий: 10E0DEFC1ABDBBE0\n"
     ]
    },
    {
     "data": {
      "text/html": [
       "<div>\n",
       "<style scoped>\n",
       "    .dataframe tbody tr th:only-of-type {\n",
       "        vertical-align: middle;\n",
       "    }\n",
       "\n",
       "    .dataframe tbody tr th {\n",
       "        vertical-align: top;\n",
       "    }\n",
       "\n",
       "    .dataframe thead th {\n",
       "        text-align: right;\n",
       "    }\n",
       "</style>\n",
       "<table border=\"1\" class=\"dataframe\">\n",
       "  <thead>\n",
       "    <tr style=\"text-align: right;\">\n",
       "      <th></th>\n",
       "      <th>user_id</th>\n",
       "      <th>session_id</th>\n",
       "      <th>session_date</th>\n",
       "      <th>session_start_ts</th>\n",
       "      <th>install_date</th>\n",
       "      <th>session_number</th>\n",
       "      <th>registration_flag</th>\n",
       "      <th>page_counter</th>\n",
       "      <th>region</th>\n",
       "      <th>device</th>\n",
       "    </tr>\n",
       "  </thead>\n",
       "  <tbody>\n",
       "    <tr>\n",
       "      <th>115558</th>\n",
       "      <td>10E0DEFC1ABDBBE0</td>\n",
       "      <td>B8F0423BBFFCF5DC</td>\n",
       "      <td>2025-08-14</td>\n",
       "      <td>2025-08-14 13:57:39</td>\n",
       "      <td>2025-08-14</td>\n",
       "      <td>1</td>\n",
       "      <td>0</td>\n",
       "      <td>4</td>\n",
       "      <td>CIS</td>\n",
       "      <td>Android</td>\n",
       "    </tr>\n",
       "    <tr>\n",
       "      <th>191751</th>\n",
       "      <td>10E0DEFC1ABDBBE0</td>\n",
       "      <td>87CA2FA549473837</td>\n",
       "      <td>2025-08-15</td>\n",
       "      <td>2025-08-15 16:42:10</td>\n",
       "      <td>2025-08-14</td>\n",
       "      <td>2</td>\n",
       "      <td>0</td>\n",
       "      <td>3</td>\n",
       "      <td>CIS</td>\n",
       "      <td>Android</td>\n",
       "    </tr>\n",
       "    <tr>\n",
       "      <th>239370</th>\n",
       "      <td>10E0DEFC1ABDBBE0</td>\n",
       "      <td>4ADD8011DCDCE318</td>\n",
       "      <td>2025-08-16</td>\n",
       "      <td>2025-08-16 19:53:21</td>\n",
       "      <td>2025-08-14</td>\n",
       "      <td>3</td>\n",
       "      <td>0</td>\n",
       "      <td>3</td>\n",
       "      <td>CIS</td>\n",
       "      <td>Android</td>\n",
       "    </tr>\n",
       "    <tr>\n",
       "      <th>274629</th>\n",
       "      <td>10E0DEFC1ABDBBE0</td>\n",
       "      <td>DF0FD0E09BF1F3D7</td>\n",
       "      <td>2025-08-17</td>\n",
       "      <td>2025-08-17 15:03:43</td>\n",
       "      <td>2025-08-14</td>\n",
       "      <td>4</td>\n",
       "      <td>0</td>\n",
       "      <td>1</td>\n",
       "      <td>CIS</td>\n",
       "      <td>Android</td>\n",
       "    </tr>\n",
       "    <tr>\n",
       "      <th>302501</th>\n",
       "      <td>10E0DEFC1ABDBBE0</td>\n",
       "      <td>3C221774B4DE6885</td>\n",
       "      <td>2025-08-18</td>\n",
       "      <td>2025-08-18 17:29:14</td>\n",
       "      <td>2025-08-14</td>\n",
       "      <td>5</td>\n",
       "      <td>0</td>\n",
       "      <td>4</td>\n",
       "      <td>CIS</td>\n",
       "      <td>Android</td>\n",
       "    </tr>\n",
       "    <tr>\n",
       "      <th>325557</th>\n",
       "      <td>10E0DEFC1ABDBBE0</td>\n",
       "      <td>031BD7A67048105B</td>\n",
       "      <td>2025-08-19</td>\n",
       "      <td>2025-08-19 13:23:55</td>\n",
       "      <td>2025-08-14</td>\n",
       "      <td>6</td>\n",
       "      <td>0</td>\n",
       "      <td>2</td>\n",
       "      <td>CIS</td>\n",
       "      <td>Android</td>\n",
       "    </tr>\n",
       "    <tr>\n",
       "      <th>345336</th>\n",
       "      <td>10E0DEFC1ABDBBE0</td>\n",
       "      <td>FF4315CF4AD4B100</td>\n",
       "      <td>2025-08-20</td>\n",
       "      <td>2025-08-20 19:31:54</td>\n",
       "      <td>2025-08-14</td>\n",
       "      <td>7</td>\n",
       "      <td>0</td>\n",
       "      <td>2</td>\n",
       "      <td>CIS</td>\n",
       "      <td>Android</td>\n",
       "    </tr>\n",
       "    <tr>\n",
       "      <th>377532</th>\n",
       "      <td>10E0DEFC1ABDBBE0</td>\n",
       "      <td>4045FEA0747203B4</td>\n",
       "      <td>2025-08-22</td>\n",
       "      <td>2025-08-22 17:54:13</td>\n",
       "      <td>2025-08-14</td>\n",
       "      <td>8</td>\n",
       "      <td>0</td>\n",
       "      <td>2</td>\n",
       "      <td>CIS</td>\n",
       "      <td>Android</td>\n",
       "    </tr>\n",
       "    <tr>\n",
       "      <th>403538</th>\n",
       "      <td>10E0DEFC1ABDBBE0</td>\n",
       "      <td>344B086C421C7F37</td>\n",
       "      <td>2025-08-24</td>\n",
       "      <td>2025-08-24 14:46:13</td>\n",
       "      <td>2025-08-14</td>\n",
       "      <td>9</td>\n",
       "      <td>0</td>\n",
       "      <td>2</td>\n",
       "      <td>CIS</td>\n",
       "      <td>Android</td>\n",
       "    </tr>\n",
       "    <tr>\n",
       "      <th>414743</th>\n",
       "      <td>10E0DEFC1ABDBBE0</td>\n",
       "      <td>054F20BA371E4C9D</td>\n",
       "      <td>2025-08-25</td>\n",
       "      <td>2025-08-25 18:36:41</td>\n",
       "      <td>2025-08-14</td>\n",
       "      <td>10</td>\n",
       "      <td>0</td>\n",
       "      <td>3</td>\n",
       "      <td>CIS</td>\n",
       "      <td>Android</td>\n",
       "    </tr>\n",
       "  </tbody>\n",
       "</table>\n",
       "</div>"
      ],
      "text/plain": [
       "                 user_id        session_id session_date     session_start_ts  \\\n",
       "115558  10E0DEFC1ABDBBE0  B8F0423BBFFCF5DC   2025-08-14  2025-08-14 13:57:39   \n",
       "191751  10E0DEFC1ABDBBE0  87CA2FA549473837   2025-08-15  2025-08-15 16:42:10   \n",
       "239370  10E0DEFC1ABDBBE0  4ADD8011DCDCE318   2025-08-16  2025-08-16 19:53:21   \n",
       "274629  10E0DEFC1ABDBBE0  DF0FD0E09BF1F3D7   2025-08-17  2025-08-17 15:03:43   \n",
       "302501  10E0DEFC1ABDBBE0  3C221774B4DE6885   2025-08-18  2025-08-18 17:29:14   \n",
       "325557  10E0DEFC1ABDBBE0  031BD7A67048105B   2025-08-19  2025-08-19 13:23:55   \n",
       "345336  10E0DEFC1ABDBBE0  FF4315CF4AD4B100   2025-08-20  2025-08-20 19:31:54   \n",
       "377532  10E0DEFC1ABDBBE0  4045FEA0747203B4   2025-08-22  2025-08-22 17:54:13   \n",
       "403538  10E0DEFC1ABDBBE0  344B086C421C7F37   2025-08-24  2025-08-24 14:46:13   \n",
       "414743  10E0DEFC1ABDBBE0  054F20BA371E4C9D   2025-08-25  2025-08-25 18:36:41   \n",
       "\n",
       "       install_date  session_number  registration_flag  page_counter region  \\\n",
       "115558   2025-08-14               1                  0             4    CIS   \n",
       "191751   2025-08-14               2                  0             3    CIS   \n",
       "239370   2025-08-14               3                  0             3    CIS   \n",
       "274629   2025-08-14               4                  0             1    CIS   \n",
       "302501   2025-08-14               5                  0             4    CIS   \n",
       "325557   2025-08-14               6                  0             2    CIS   \n",
       "345336   2025-08-14               7                  0             2    CIS   \n",
       "377532   2025-08-14               8                  0             2    CIS   \n",
       "403538   2025-08-14               9                  0             2    CIS   \n",
       "414743   2025-08-14              10                  0             3    CIS   \n",
       "\n",
       "         device  \n",
       "115558  Android  \n",
       "191751  Android  \n",
       "239370  Android  \n",
       "274629  Android  \n",
       "302501  Android  \n",
       "325557  Android  \n",
       "345336  Android  \n",
       "377532  Android  \n",
       "403538  Android  \n",
       "414743  Android  "
      ]
     },
     "metadata": {},
     "output_type": "display_data"
    }
   ],
   "source": [
    "user_sessions_count = (\n",
    "    sessions_history.groupby(\"user_id\")[\"session_id\"]\n",
    "    .nunique()\n",
    "    .reset_index(name=\"unique_sessions\")\n",
    ")\n",
    "\n",
    "max_sessions_user = user_sessions_count.sort_values(\n",
    "    \"unique_sessions\", ascending=False\n",
    ").iloc[0][\"user_id\"]\n",
    "\n",
    "user_data = sessions_history[sessions_history[\"user_id\"] == max_sessions_user]\n",
    "\n",
    "user_data = user_data.drop_duplicates(subset=\"session_id\")\n",
    "\n",
    "print(f\"Пользователь с наибольшим количеством сессий: {max_sessions_user}\")\n",
    "display(user_data)"
   ]
  },
  {
   "cell_type": "markdown",
   "metadata": {
    "id": "CmcGpJTP0eMq"
   },
   "source": [
    "####  Анализ числа регистраций\n",
    "Одна из важнейших метрик продукта — число зарегистрированных пользователей. Используем исторические данные, визуализируем, как менялось число регистраций в приложении за время его существования.\n",
    "\n",
    "- Агрегируем исторические данные и рассчитаем число уникальных пользователей и число зарегистрированных пользователей для каждого дня наблюдения. Для простоты считаем, что у пользователя в течение дня бывает одна сессия максимум и статус регистрации в течение одного дня не может измениться.\n",
    "\n",
    "- Построем линейные графики общего числа пользователей и общего числа зарегистрированных пользователей по дням. Отобразим их на одном графике.\n",
    "\n",
    "- Построим отдельный линейный график доли зарегистрированных пользователей от всех пользователей по дням."
   ]
  },
  {
   "cell_type": "code",
   "execution_count": 4,
   "metadata": {
    "id": "tN_6Ml3EPatS"
   },
   "outputs": [
    {
     "data": {
      "image/png": "[encoded data removed]",
      "text/plain": [
       "<Figure size 864x432 with 1 Axes>"
      ]
     },
     "metadata": {
      "needs_background": "light"
     },
     "output_type": "display_data"
    },
    {
     "data": {
      "image/png": "[encoded data removed]",
      "text/plain": [
       "<Figure size 864x432 with 1 Axes>"
      ]
     },
     "metadata": {
      "needs_background": "light"
     },
     "output_type": "display_data"
    }
   ],
   "source": [
    "sessions_history[\"session_date\"] = pd.to_datetime(sessions_history[\"session_date\"])\n",
    "\n",
    "daily_stats = (\n",
    "    sessions_history.groupby(\"session_date\")\n",
    "    .agg(\n",
    "        total_users=(\"user_id\", \"nunique\"),\n",
    "        registered_users=(\"registration_flag\", \"sum\")\n",
    "    )\n",
    "    .reset_index()\n",
    ")\n",
    "\n",
    "daily_stats[\"registered_share\"] = (\n",
    "    daily_stats[\"registered_users\"] / daily_stats[\"total_users\"]\n",
    ")\n",
    "\n",
    "plt.figure(figsize=(12, 6))\n",
    "plt.plot(daily_stats[\"session_date\"], daily_stats[\"total_users\"], label=\"Все пользователи\", marker=\"o\")\n",
    "plt.plot(daily_stats[\"session_date\"], daily_stats[\"registered_users\"], label=\"Зарегистрированные пользователи\", marker=\"o\")\n",
    "plt.title(\"Количество пользователей по дням\")\n",
    "plt.xlabel(\"Дата\")\n",
    "plt.ylabel(\"Количество пользователей\")\n",
    "plt.grid(True)\n",
    "plt.legend()\n",
    "plt.show()\n",
    "\n",
    "plt.figure(figsize=(12, 6))\n",
    "plt.plot(daily_stats[\"session_date\"], daily_stats[\"registered_share\"], color=\"green\", marker=\"o\")\n",
    "plt.title(\"Доля зарегистрированных пользователей по дням\")\n",
    "plt.xlabel(\"Дата\")\n",
    "plt.ylabel(\"Доля зарегистрированных пользователей\")\n",
    "plt.grid(True)\n",
    "plt.show()\n"
   ]
  },
  {
   "cell_type": "markdown",
   "metadata": {
    "id": "UR7D7RhF0eMr"
   },
   "source": [
    "####  Анализ числа просмотренных страниц\n",
    "Другая важная метрика продукта — число просмотренных страниц в приложении. Чем больше страниц просмотрено, тем сильнее пользователь увлечён контентом, а значит, выше шансы, что он зарегистрируется и оплатит подписку.\n",
    "\n",
    "- Найдем количество сессий для каждого значения количества просмотренных страниц. Например: одну страницу просмотрели в 29 160 сессиях, две страницы — в 105 536 сессиях и так далее.\n",
    "\n",
    "- Построем столбчатую диаграмму, где по оси X будет число просмотренных страниц, по оси Y — количество сессий."
   ]
  },
  {
   "cell_type": "code",
   "execution_count": 5,
   "metadata": {
    "id": "cb6hPlVzPaSf"
   },
   "outputs": [
    {
     "data": {
      "image/png": "[encoded data removed]",
      "text/plain": [
       "<Figure size 864x432 with 1 Axes>"
      ]
     },
     "metadata": {
      "needs_background": "light"
     },
     "output_type": "display_data"
    }
   ],
   "source": [
    "page_views_counts = (\n",
    "    sessions_history.groupby(\"page_counter\")[\"session_id\"]\n",
    "    .count()\n",
    "    .reset_index(name=\"sessions_count\")\n",
    ")\n",
    "\n",
    "plt.figure(figsize=(12, 6))\n",
    "bars = plt.bar(page_views_counts[\"page_counter\"], page_views_counts[\"sessions_count\"], color=\"skyblue\")\n",
    "\n",
    "plt.title(\"Количество сессий по числу просмотренных страниц\")\n",
    "plt.xlabel(\"Количество просмотренных страниц\")\n",
    "plt.ylabel(\"Количество сессий\")\n",
    "plt.grid(axis=\"y\", linestyle=\"--\", alpha=0.7)\n",
    "for bar in bars:\n",
    "    height = bar.get_height()\n",
    "    plt.text(bar.get_x() + bar.get_width()/2, height + 5, str(height), ha='center', va='bottom', fontsize=9)\n",
    "\n",
    "plt.show()\n"
   ]
  },
  {
   "cell_type": "markdown",
   "metadata": {
    "id": "xDltSpVP0eMr"
   },
   "source": [
    "#### Доля пользователей, просмотревших более четырёх страниц\n",
    "Продуктовая команда продукта считает, что сессии, в рамках которых пользователь просмотрел 4 и более страниц, говорят об удовлетворённости контентом и алгоритмами рекомендаций. Этот показатель является важной прокси-метрикой для продукта.\n",
    "\n",
    "- В датафрейме `sessions_history` создадим дополнительный столбец `good_session`. В него войдёт значение `1`, если за одну сессию было просмотрено 4 и более страниц, и значение `0`, если было просмотрено меньше.\n",
    "\n",
    "- Построим график со средним значением доли успешных сессий от всех сессий по дням за весь период наблюдения."
   ]
  },
  {
   "cell_type": "code",
   "execution_count": 6,
   "metadata": {
    "id": "iygaPfixPYMW"
   },
   "outputs": [
    {
     "name": "stdout",
     "output_type": "stream",
     "text": [
      "Среднее за весь период: 0.3075\n",
      "Среднее за последние 7 дней: 0.3030\n",
      "Стандартное отклонение за последние 7 дней: 0.0132\n"
     ]
    },
    {
     "data": {
      "image/png": "[encoded data removed]",
      "text/plain": [
       "<Figure size 864x432 with 1 Axes>"
      ]
     },
     "metadata": {
      "needs_background": "light"
     },
     "output_type": "display_data"
    }
   ],
   "source": [
    "import numpy as np\n",
    "sessions_history[\"good_session\"] = np.where(sessions_history[\"page_counter\"] >= 4, 1, 0)\n",
    "\n",
    "good_sessions_daily = (\n",
    "    sessions_history.groupby(\"session_date\")[\"good_session\"]\n",
    "    .mean()\n",
    "    .reset_index()\n",
    ")\n",
    "\n",
    "mean_all = good_sessions_daily[\"good_session\"].mean()\n",
    "mean_last_7days = good_sessions_daily.tail(7)[\"good_session\"].mean()\n",
    "std_dev_last_7days = good_sessions_daily.tail(7)[\"good_session\"].std()\n",
    "\n",
    "print(f\"Среднее за весь период: {mean_all:.4f}\")\n",
    "print(f\"Среднее за последние 7 дней: {mean_last_7days:.4f}\")\n",
    "print(f\"Стандартное отклонение за последние 7 дней: {std_dev_last_7days:.4f}\")\n",
    "plt.figure(figsize=(12, 6))\n",
    "plt.plot(good_sessions_daily[\"session_date\"], good_sessions_daily[\"good_session\"], \n",
    "         marker=\"o\", color=\"green\", label=\"Доля успешных сессий\")\n",
    "plt.axhline(mean_all, color='red', linestyle='--', label=\"Среднее за весь период\")\n",
    "plt.title(\"Доля успешных сессий (>= 4 страниц) по дням\")\n",
    "plt.xlabel(\"Дата\")\n",
    "plt.ylabel(\"Доля успешных сессий\")\n",
    "plt.grid(True, linestyle=\"--\", alpha=0.7)\n",
    "plt.xticks(rotation=45)\n",
    "plt.legend()\n",
    "plt.tight_layout()\n",
    "plt.show()\n"
   ]
  },
  {
   "cell_type": "markdown",
   "metadata": {
    "id": "21JcG77Y0eMt"
   },
   "source": [
    "###  Подготовка к тесту\n",
    "При планировании теста необходимо проделать несколько важных шагов:\n",
    "\n",
    "- Сформулировать нулевую и альтернативную гипотезы\n",
    "\n",
    "- Определиться с целевой метрикой.\n",
    "\n",
    "- Рассчитать необходимый размер выборки.\n",
    "\n",
    "- Исходя из текущих значений трафика рассчитать необходимую длительность проведения теста."
   ]
  },
  {
   "cell_type": "markdown",
   "metadata": {
    "id": "kXdcwkjf859k"
   },
   "source": [
    "####  Формулировка нулевой и альтернативной гипотез"
   ]
  },
  {
   "cell_type": "markdown",
   "metadata": {},
   "source": [
    "Основная метрика - просмотр более 4 страниц за 1 сессию, т.е. кол-во успешных сессий.\n",
    "Нулевая гипотеза - новый алгоритм не увеличивает количество успешных сессий\n",
    "Альтернативная гипотеза новый алгоритм увеличивает количество успешных сессий"
   ]
  },
  {
   "cell_type": "markdown",
   "metadata": {
    "id": "uzaeln270eMt"
   },
   "source": [
    "####  Расчёт размера выборки\n",
    "\n",
    "- Уровень значимости — 0.05.\n",
    "\n",
    "- Вероятность ошибки второго рода — 0.2.\n",
    "\n",
    "- Мощность теста.\n",
    "\n",
    "- Минимальный детектируемый эффект, или MDE, — 3%. Обратите внимание, что здесь нужно указать десятичную дробь, а не процент.\n",
    "\n",
    "При расчёте размера выборки используем метод `solve_power()` из класса `power.NormalIndPower` модуля `statsmodels.stats`.\n"
   ]
  },
  {
   "cell_type": "code",
   "execution_count": 7,
   "metadata": {
    "id": "zSxJyPGPNdaI"
   },
   "outputs": [
    {
     "name": "stdout",
     "output_type": "stream",
     "text": [
      "Необходимый размер выборки для каждой группы: 41040\n"
     ]
    }
   ],
   "source": [
    "from statsmodels.stats.power import NormalIndPower\n",
    "from statsmodels.stats.proportion import proportion_effectsize\n",
    "\n",
    "# Задаём параметры\n",
    "alpha = 0.05   # Уровень значимости\n",
    "beta = 0.2     # Ошибка второго рода\n",
    "power = 0.8    # Мощность теста\n",
    "p1 = 0.3       # Базовый уровень доли\n",
    "mde = 0.03 * p1  # Минимальный детектируемый эффект (в абсолютном значении)\n",
    "\n",
    "# Рассчитываем effect size\n",
    "effect_size = proportion_effectsize(p1, p1 + mde)\n",
    "\n",
    "# Инициализируем класс NormalIndPower\n",
    "power_analysis = NormalIndPower()\n",
    "\n",
    "# Рассчитываем размер выборки\n",
    "sample_size = power_analysis.solve_power(\n",
    "    effect_size=effect_size,\n",
    "    power=power,\n",
    "    alpha=alpha,\n",
    "    ratio=1  # Равномерное распределение выборок\n",
    ")\n",
    "\n",
    "print(f\"Необходимый размер выборки для каждой группы: {int(sample_size)}\")\n"
   ]
  },
  {
   "cell_type": "markdown",
   "metadata": {
    "id": "qLEv4RoV0eMu"
   },
   "source": [
    "####  Расчёт длительности A/B-теста\n",
    "\n",
    "Используем данные о количестве пользователей в каждой выборке и среднем количестве пользователей приложения. Рассчитайте длительность теста, разделив одно на другое.\n",
    "\n",
    "- Рассчитаем среднее количество уникальных пользователей приложения в день.\n",
    "\n",
    "- Определим длительность теста исходя из рассчитанного значения размера выборок и среднего дневного трафика приложения."
   ]
  },
  {
   "cell_type": "code",
   "execution_count": 8,
   "metadata": {
    "id": "KZDRbryDOGHa"
   },
   "outputs": [
    {
     "name": "stdout",
     "output_type": "stream",
     "text": [
      "Рассчитанная длительность A/B-теста при текущем уровне трафика в 9907 пользователей в день составит 9 дней\n"
     ]
    }
   ],
   "source": [
    "from math import ceil\n",
    "\n",
    "avg_daily_users = daily_stats[\"total_users\"].mean()\n",
    "\n",
    "total_sample_size = sample_size * 2\n",
    "\n",
    "test_duration = ceil(total_sample_size / avg_daily_users)\n",
    "\n",
    "print(f\"Рассчитанная длительность A/B-теста при текущем уровне трафика в {avg_daily_users:.0f} пользователей в день составит {test_duration} дней\")"
   ]
  },
  {
   "cell_type": "markdown",
   "metadata": {
    "id": "ZuvtAdha0eMv"
   },
   "source": [
    "###  Мониторинг А/В-теста"
   ]
  },
  {
   "cell_type": "markdown",
   "metadata": {
    "id": "jq5sE3Ya0eMv"
   },
   "source": [
    "####  Проверка распределения пользователей\n",
    "\n",
    "A/B-тест успешно запущен, и уже доступны данные за первые три дня. На этом этапе нужно убедиться, что всё идёт хорошо: пользователи разделены правильным образом, а интересующие вас метрики корректно считаются.\n",
    "\n",
    "- Считаем и сохраняем в датафрейм `sessions_test_part` CSV-файл с историческими данными о сессиях пользователей `sessions_project_test_part.csv`.\n",
    "\n",
    "- Рассчитаем количество уникальных пользователей в каждой из экспериментальных групп для одного дня наблюдения.\n",
    "\n",
    "- Рассчитаем и выведите на экран процентную разницу в количестве пользователей в группах A и B. Построим любую удобную визуализацию, на которой будет видно возможное различие двух групп.\n",
    "\n",
    "Для расчёта процентной разницы воспользуйтесь формулой:\n",
    "$$P = 100 \\cdot  \\frac{|A − B|}{A}$$"
   ]
  },
  {
   "cell_type": "code",
   "execution_count": 9,
   "metadata": {
    "id": "G1bqIzDJOUiz"
   },
   "outputs": [
    {
     "name": "stdout",
     "output_type": "stream",
     "text": [
      "Уникальных пользователей в группе A: 1477\n",
      "Уникальных пользователей в группе B: 1466\n",
      "Процентная разница: 0.74%\n"
     ]
    },
    {
     "data": {
      "image/png": "[encoded data removed]",
      "text/plain": [
       "<Figure size 432x288 with 1 Axes>"
      ]
     },
     "metadata": {
      "needs_background": "light"
     },
     "output_type": "display_data"
    }
   ],
   "source": [
    "sessions_test_part = pd.read_csv(\"/datasets/sessions_project_test_part.csv\")\n",
    "sessions_test_part[\"session_date\"] = pd.to_datetime(sessions_test_part[\"session_date\"])\n",
    "\n",
    "first_day = sessions_test_part[\"session_date\"].min()\n",
    "day_one_data = sessions_test_part[sessions_test_part[\"session_date\"] == first_day]\n",
    "\n",
    "users_per_group = (\n",
    "    day_one_data.groupby(\"test_group\")[\"user_id\"]\n",
    "    .nunique()\n",
    "    .reset_index(name=\"unique_users\")\n",
    ")\n",
    "\n",
    "A_users = users_per_group.loc[users_per_group[\"test_group\"] == \"A\", \"unique_users\"].iloc[0]\n",
    "B_users = users_per_group.loc[users_per_group[\"test_group\"] == \"B\", \"unique_users\"].iloc[0]\n",
    "P = 100 * abs(A_users - B_users) / A_users\n",
    "\n",
    "print(f\"Уникальных пользователей в группе A: {A_users}\")\n",
    "print(f\"Уникальных пользователей в группе B: {B_users}\")\n",
    "print(f\"Процентная разница: {P:.2f}%\")\n",
    "\n",
    "plt.figure(figsize=(6, 4))\n",
    "bars = plt.bar(users_per_group[\"test_group\"], users_per_group[\"unique_users\"], color=[\"skyblue\", \"salmon\"])\n",
    "plt.title(\"Количество уникальных пользователей в первый день теста\")\n",
    "plt.ylabel(\"Уникальные пользователи\")\n",
    "plt.grid(axis=\"y\", linestyle=\"--\", alpha=0.7)\n",
    "\n",
    "for bar in bars:\n",
    "    height = bar.get_height()\n",
    "    plt.text(bar.get_x() + bar.get_width()/2, height + 5, str(height), ha='center', va='bottom')\n",
    "\n",
    "plt.show()"
   ]
  },
  {
   "cell_type": "markdown",
   "metadata": {
    "id": "sgpNY5bv0eM0"
   },
   "source": [
    "####  Проверка пересечений пользователей\n",
    "Помимо проверки равенства количества пользователей в группах, полезно убедиться в том, что группы независимы. Для этого нужно убедиться, что никто из пользователей случайно не попал в обе группы одновременно.\n",
    "\n",
    "- Рассчитаем количество пользователей, которые встречаются одновременно в группах A и B, или убедимся, что таких нет."
   ]
  },
  {
   "cell_type": "code",
   "execution_count": 10,
   "metadata": {
    "id": "E72ozN9FOX1u"
   },
   "outputs": [
    {
     "name": "stdout",
     "output_type": "stream",
     "text": [
      "Количество пользователей, попавших в обе группы: 0\n",
      "Пересечения нет, группы независимы.\n"
     ]
    }
   ],
   "source": [
    "users_A = set(sessions_test_part.loc[sessions_test_part[\"test_group\"] == \"A\", \"user_id\"].unique())\n",
    "users_B = set(sessions_test_part.loc[sessions_test_part[\"test_group\"] == \"B\", \"user_id\"].unique())\n",
    "\n",
    "overlap_users = users_A.intersection(users_B)\n",
    "\n",
    "print(f\"Количество пользователей, попавших в обе группы: {len(overlap_users)}\")\n",
    "if len(overlap_users) > 0:\n",
    "    print(\"ID этих пользователей:\", overlap_users)\n",
    "else:\n",
    "    print(\"Пересечения нет, группы независимы.\")"
   ]
  },
  {
   "cell_type": "markdown",
   "metadata": {
    "id": "6RvkNLrg0eM1"
   },
   "source": [
    "####  Равномерность разделения пользователей по устройствам\n",
    "Полезно также убедиться в том, что пользователи равномерно распределены по всем доступным категориальным переменным — типам устройств и регионам.\n",
    "\n",
    "Построим две диаграммы:\n",
    "\n",
    "- доля каждого типа устройства для пользователей из группы A,\n",
    "\n",
    "- доля каждого типа устройства для пользователей из группы B."
   ]
  },
  {
   "cell_type": "code",
   "execution_count": 11,
   "metadata": {
    "id": "x_IP6PUNPWHC"
   },
   "outputs": [
    {
     "data": {
      "image/png": "[encoded data removed]",
      "text/plain": [
       "<Figure size 1008x432 with 2 Axes>"
      ]
     },
     "metadata": {
      "needs_background": "light"
     },
     "output_type": "display_data"
    }
   ],
   "source": [
    "group_A = sessions_test_part[sessions_test_part[\"test_group\"] == \"A\"]\n",
    "group_B = sessions_test_part[sessions_test_part[\"test_group\"] == \"B\"]\n",
    "\n",
    "device_dist_A = group_A.groupby(\"device\")[\"user_id\"].nunique().sort_values(ascending=False)\n",
    "device_dist_B = group_B.groupby(\"device\")[\"user_id\"].nunique().sort_values(ascending=False)\n",
    "\n",
    "device_share_A = device_dist_A / device_dist_A.sum()\n",
    "device_share_B = device_dist_B / device_dist_B.sum()\n",
    "\n",
    "fig, axes = plt.subplots(1, 2, figsize=(14, 6))\n",
    "\n",
    "device_share_A.plot(kind=\"bar\", ax=axes[0], color=\"skyblue\")\n",
    "axes[0].set_title(\"Доля типов устройств — Группа A\")\n",
    "axes[0].set_ylabel(\"Доля пользователей\")\n",
    "axes[0].set_xlabel(\"Тип устройства\")\n",
    "axes[0].set_ylim(0, 1)\n",
    "axes[0].grid(axis=\"y\", linestyle=\"--\", alpha=0.7)\n",
    "for i, v in enumerate(device_share_A):\n",
    "    axes[0].text(i, v + 0.01, f\"{v:.1%}\", ha=\"center\")\n",
    "\n",
    "device_share_B.plot(kind=\"bar\", ax=axes[1], color=\"salmon\")\n",
    "axes[1].set_title(\"Доля типов устройств — Группа B\")\n",
    "axes[1].set_ylabel(\"Доля пользователей\")\n",
    "axes[1].set_xlabel(\"Тип устройства\")\n",
    "axes[1].set_ylim(0, 1)\n",
    "axes[1].grid(axis=\"y\", linestyle=\"--\", alpha=0.7)\n",
    "for i, v in enumerate(device_share_B):\n",
    "    axes[1].text(i, v + 0.01, f\"{v:.1%}\", ha=\"center\")\n",
    "\n",
    "plt.suptitle(\"Сравнение распределения типов устройств в группах A и B\", fontsize=16)\n",
    "plt.tight_layout()\n",
    "plt.show()"
   ]
  },
  {
   "cell_type": "markdown",
   "metadata": {
    "id": "gAgmP6vo0eM1"
   },
   "source": [
    "####  Равномерность распределения пользователей по регионам\n",
    "Теперь убедимся, что пользователи равномерно распределены по регионам.\n",
    "\n",
    "Построим две диаграммы:\n",
    "\n",
    "- доля каждого региона для пользователей из группы A,\n",
    "\n",
    "- доля каждого региона для пользователей из группы B."
   ]
  },
  {
   "cell_type": "code",
   "execution_count": 12,
   "metadata": {
    "id": "3hAq-FG4OdYM"
   },
   "outputs": [
    {
     "data": {
      "image/png": "[encoded data removed]",
      "text/plain": [
       "<Figure size 1008x432 with 2 Axes>"
      ]
     },
     "metadata": {},
     "output_type": "display_data"
    }
   ],
   "source": [
    "\n",
    "region_dist_A = group_A.groupby(\"region\")[\"user_id\"].nunique()\n",
    "region_dist_B = group_B.groupby(\"region\")[\"user_id\"].nunique()\n",
    "\n",
    "region_share_A = region_dist_A / region_dist_A.sum()\n",
    "region_share_B = region_dist_B / region_dist_B.sum()\n",
    "\n",
    "fig, axes = plt.subplots(1, 2, figsize=(14, 6))\n",
    "\n",
    "axes[0].pie(\n",
    "    region_share_A,\n",
    "    labels=region_share_A.index,\n",
    "    autopct='%1.1f%%',\n",
    "    startangle=90,\n",
    "    colors=plt.cm.Paired.colors\n",
    ")\n",
    "axes[0].set_title(\"Доля регионов — Группа A\")\n",
    "axes[1].pie(\n",
    "    region_share_B,\n",
    "    labels=region_share_B.index,\n",
    "    autopct='%1.1f%%',\n",
    "    startangle=90,\n",
    "    colors=plt.cm.Paired.colors\n",
    ")\n",
    "axes[1].set_title(\"Доля регионов — Группа B\")\n",
    "\n",
    "plt.suptitle(\"Сравнение распределения регионов в группах A и B\", fontsize=16)\n",
    "plt.show()\n"
   ]
  },
  {
   "cell_type": "markdown",
   "metadata": {
    "id": "X2WSZ-sDrSUi"
   },
   "source": [
    "#### Вывод после проверки A/B-теста"
   ]
  },
  {
   "cell_type": "markdown",
   "metadata": {},
   "source": [
    "Выводы по первому дню A/B теста:\n",
    "    1. По количеству пользователей группы практически не отличаются(разница менее 1 %)\n",
    "    2. Пересечения пользователей нет\n",
    "    3. Распределение пользователей по устройствам в группах без существенных отклонений\n",
    "    4. Доли регионов в каждой группе представлены без существенных отклонений\n",
    "    По итогам первого дня тестирование проходит без нарушений."
   ]
  },
  {
   "cell_type": "markdown",
   "metadata": {
    "id": "nudRr_BQ0eM2"
   },
   "source": [
    "###  Проверка результатов A/B-теста\n",
    "\n",
    "A/B-тест завершён, и у вас есть результаты за все дни проведения эксперимента. Необходимо убедиться в корректности теста и верно интерпретировать результаты."
   ]
  },
  {
   "cell_type": "markdown",
   "metadata": {
    "id": "JVve-YBB0eM2"
   },
   "source": [
    "####  Получение результатов теста и подсчёт основной метрики\n",
    "\n",
    "- Считаем и сохраняем в датафрейм `sessions_test` CSV-файл с историческими данными о сессиях пользователей `sessions_project_test.csv`.\n",
    "\n",
    "- В датафрейме `sessions_test` создадим дополнительный столбец `good_session`. В него войдёт значение `1`, если за одну сессию было просмотрено 4 и более страниц, и значение `0`, если просмотрено меньше."
   ]
  },
  {
   "cell_type": "code",
   "execution_count": 13,
   "metadata": {
    "id": "EqRlwMtKPTir"
   },
   "outputs": [
    {
     "data": {
      "text/html": [
       "<div>\n",
       "<style scoped>\n",
       "    .dataframe tbody tr th:only-of-type {\n",
       "        vertical-align: middle;\n",
       "    }\n",
       "\n",
       "    .dataframe tbody tr th {\n",
       "        vertical-align: top;\n",
       "    }\n",
       "\n",
       "    .dataframe thead th {\n",
       "        text-align: right;\n",
       "    }\n",
       "</style>\n",
       "<table border=\"1\" class=\"dataframe\">\n",
       "  <thead>\n",
       "    <tr style=\"text-align: right;\">\n",
       "      <th></th>\n",
       "      <th>user_id</th>\n",
       "      <th>session_id</th>\n",
       "      <th>session_date</th>\n",
       "      <th>session_start_ts</th>\n",
       "      <th>install_date</th>\n",
       "      <th>session_number</th>\n",
       "      <th>registration_flag</th>\n",
       "      <th>page_counter</th>\n",
       "      <th>region</th>\n",
       "      <th>device</th>\n",
       "      <th>test_group</th>\n",
       "      <th>good_session</th>\n",
       "    </tr>\n",
       "  </thead>\n",
       "  <tbody>\n",
       "    <tr>\n",
       "      <th>0</th>\n",
       "      <td>6DAE3B3654DA738E</td>\n",
       "      <td>C69249E26E58F6E2</td>\n",
       "      <td>2025-10-26</td>\n",
       "      <td>2025-10-26 18:15:05</td>\n",
       "      <td>2025-10-16</td>\n",
       "      <td>3</td>\n",
       "      <td>0</td>\n",
       "      <td>3</td>\n",
       "      <td>MENA</td>\n",
       "      <td>Android</td>\n",
       "      <td>A</td>\n",
       "      <td>0</td>\n",
       "    </tr>\n",
       "    <tr>\n",
       "      <th>1</th>\n",
       "      <td>0A3FE5D1DD59110A</td>\n",
       "      <td>66D66D7C9F5181B7</td>\n",
       "      <td>2025-10-21</td>\n",
       "      <td>2025-10-21 17:04:53</td>\n",
       "      <td>2025-10-15</td>\n",
       "      <td>2</td>\n",
       "      <td>1</td>\n",
       "      <td>2</td>\n",
       "      <td>CIS</td>\n",
       "      <td>Android</td>\n",
       "      <td>B</td>\n",
       "      <td>0</td>\n",
       "    </tr>\n",
       "    <tr>\n",
       "      <th>2</th>\n",
       "      <td>2041F1D7AA740B88</td>\n",
       "      <td>50DE51D42215E74C</td>\n",
       "      <td>2025-10-23</td>\n",
       "      <td>2025-10-23 17:39:29</td>\n",
       "      <td>2025-10-19</td>\n",
       "      <td>3</td>\n",
       "      <td>0</td>\n",
       "      <td>2</td>\n",
       "      <td>MENA</td>\n",
       "      <td>Android</td>\n",
       "      <td>A</td>\n",
       "      <td>0</td>\n",
       "    </tr>\n",
       "    <tr>\n",
       "      <th>3</th>\n",
       "      <td>43D7585009168086</td>\n",
       "      <td>5763C0C353C22263</td>\n",
       "      <td>2025-10-24</td>\n",
       "      <td>2025-10-24 15:01:57</td>\n",
       "      <td>2025-10-18</td>\n",
       "      <td>4</td>\n",
       "      <td>0</td>\n",
       "      <td>1</td>\n",
       "      <td>CIS</td>\n",
       "      <td>iPhone</td>\n",
       "      <td>B</td>\n",
       "      <td>0</td>\n",
       "    </tr>\n",
       "    <tr>\n",
       "      <th>4</th>\n",
       "      <td>15AD68B14D62D88C</td>\n",
       "      <td>B1AD09F93C1053BC</td>\n",
       "      <td>2025-10-17</td>\n",
       "      <td>2025-10-17 17:34:39</td>\n",
       "      <td>2025-10-17</td>\n",
       "      <td>1</td>\n",
       "      <td>0</td>\n",
       "      <td>2</td>\n",
       "      <td>MENA</td>\n",
       "      <td>Android</td>\n",
       "      <td>B</td>\n",
       "      <td>0</td>\n",
       "    </tr>\n",
       "  </tbody>\n",
       "</table>\n",
       "</div>"
      ],
      "text/plain": [
       "            user_id        session_id session_date     session_start_ts  \\\n",
       "0  6DAE3B3654DA738E  C69249E26E58F6E2   2025-10-26  2025-10-26 18:15:05   \n",
       "1  0A3FE5D1DD59110A  66D66D7C9F5181B7   2025-10-21  2025-10-21 17:04:53   \n",
       "2  2041F1D7AA740B88  50DE51D42215E74C   2025-10-23  2025-10-23 17:39:29   \n",
       "3  43D7585009168086  5763C0C353C22263   2025-10-24  2025-10-24 15:01:57   \n",
       "4  15AD68B14D62D88C  B1AD09F93C1053BC   2025-10-17  2025-10-17 17:34:39   \n",
       "\n",
       "  install_date  session_number  registration_flag  page_counter region  \\\n",
       "0   2025-10-16               3                  0             3   MENA   \n",
       "1   2025-10-15               2                  1             2    CIS   \n",
       "2   2025-10-19               3                  0             2   MENA   \n",
       "3   2025-10-18               4                  0             1    CIS   \n",
       "4   2025-10-17               1                  0             2   MENA   \n",
       "\n",
       "    device test_group  good_session  \n",
       "0  Android          A             0  \n",
       "1  Android          B             0  \n",
       "2  Android          A             0  \n",
       "3   iPhone          B             0  \n",
       "4  Android          B             0  "
      ]
     },
     "metadata": {},
     "output_type": "display_data"
    },
    {
     "name": "stdout",
     "output_type": "stream",
     "text": [
      "Длительность теста: 20 дней\n",
      "Общее количество сессий в 2 группах: 100005\n",
      "Количество уникальных пользователей в 2 группах: 30579\n"
     ]
    }
   ],
   "source": [
    "sessions_test = pd.read_csv(\"/datasets/sessions_project_test.csv\")\n",
    "\n",
    "sessions_test[\"good_session\"] = (sessions_test[\"page_counter\"] >= 4).astype(int)\n",
    "\n",
    "display(sessions_test.head())\n",
    "\n",
    "sessions_test[\"session_date\"] = pd.to_datetime(sessions_test[\"session_date\"])\n",
    "\n",
    "test_duration_days = (sessions_test[\"session_date\"].max() - sessions_test[\"session_date\"].min()).days + 1\n",
    "print(f\"Длительность теста: {test_duration_days} дней\")\n",
    "\n",
    "total_sessions = sessions_test.shape[0]\n",
    "\n",
    "unique_users = sessions_test[\"user_id\"].nunique()\n",
    "\n",
    "print(f\"Общее количество сессий в 2 группах: {total_sessions}\")\n",
    "print(f\"Количество уникальных пользователей в 2 группах: {unique_users}\")"
   ]
  },
  {
   "cell_type": "markdown",
   "metadata": {
    "id": "aeYhrMYy0eM2"
   },
   "source": [
    "####  Проверка корректности результатов теста\n",
    "\n",
    "Прежде чем приступать к анализу ключевых продуктовых метрик, необходимо убедиться, что тест проведён корректно и вы будете сравнивать две сопоставимые группы.\n",
    "\n",
    "- Рассчитаем количество уникальных сессий для каждого дня и обеих тестовых групп, используя группировку.\n",
    "\n",
    "- Проверим, что количество уникальных дневных сессий в двух выборках не различается или различия не статистически значимыми. Используйте статистический тест, который позволит сделать вывод о равенстве средних двух выборок.\n",
    "\n",
    "- В качестве ответа выведим на экран полученное значение p-value и интерпретируем его."
   ]
  },
  {
   "cell_type": "markdown",
   "metadata": {},
   "source": [
    "p-value очень большое, различия между группами практически отсутствуют"
   ]
  },
  {
   "cell_type": "code",
   "execution_count": 14,
   "metadata": {
    "id": "5NUlcltkTTSU"
   },
   "outputs": [
    {
     "name": "stdout",
     "output_type": "stream",
     "text": [
      "p-value: 0.9382\n",
      "Различие между группами не является статистически значимым — группы сопоставимы.\n"
     ]
    }
   ],
   "source": [
    "from scipy import stats\n",
    "daily_sessions = (\n",
    "    sessions_test.groupby([\"session_date\", \"test_group\"])[\"session_id\"]\n",
    "    .nunique()\n",
    "    .reset_index(name=\"unique_sessions\")\n",
    ")\n",
    "sessions_A = daily_sessions[daily_sessions[\"test_group\"] == \"A\"][\"unique_sessions\"]\n",
    "sessions_B = daily_sessions[daily_sessions[\"test_group\"] == \"B\"][\"unique_sessions\"]\n",
    "\n",
    "t_stat, p_value = stats.ttest_ind(sessions_A, sessions_B, equal_var=False)\n",
    "\n",
    "print(f\"p-value: {p_value:.4f}\")\n",
    "\n",
    "if p_value < 0.05:\n",
    "    print(\"Различие между группами статистически значимое — группы могут быть несопоставимыми.\")\n",
    "else:\n",
    "    print(\"Различие между группами не является статистически значимым — группы сопоставимы.\")"
   ]
  },
  {
   "cell_type": "markdown",
   "metadata": {
    "id": "7kwRxzg70eM3"
   },
   "source": [
    "####  Сравнение доли успешных сессий\n",
    "\n",
    "Используем созданный на первом шаге задания столбец `good_session` и рассчитайте долю успешных сессий для выборок A и B, а также разницу в этом показателе. Полученный вывод отобразим на экране."
   ]
  },
  {
   "cell_type": "code",
   "execution_count": 15,
   "metadata": {
    "id": "Uku-V1CpPRCz"
   },
   "outputs": [
    {
     "name": "stdout",
     "output_type": "stream",
     "text": [
      "Доля успешных сессий в группе A: 0.3077\n",
      "Доля успешных сессий в группе B: 0.3183\n",
      "Разница долей успешных сессий (B - A): 0.0106\n"
     ]
    }
   ],
   "source": [
    "success_rate = sessions_test.groupby(\"test_group\")[\"good_session\"].mean().reset_index()\n",
    "success_rate.rename(columns={\"good_session\": \"success_share\"}, inplace=True)\n",
    "\n",
    "share_A = success_rate[success_rate[\"test_group\"] == \"A\"][\"success_share\"].values[0]\n",
    "share_B = success_rate[success_rate[\"test_group\"] == \"B\"][\"success_share\"].values[0]\n",
    "\n",
    "diff = share_B - share_A\n",
    "\n",
    "print(f\"Доля успешных сессий в группе A: {share_A:.4f}\")\n",
    "print(f\"Доля успешных сессий в группе B: {share_B:.4f}\")\n",
    "print(f\"Разница долей успешных сессий (B - A): {diff:.4f}\")"
   ]
  },
  {
   "cell_type": "markdown",
   "metadata": {},
   "source": [
    "Группа B показывает небольшое улучшение доли успешных сессий по сравнению с контрольной группой A.\n",
    "\n",
    "На первый взгляд улучшение есть, но пока неизвестно, статистически значимо ли оно.\n",
    "\n",
    "Для окончательного вывода нужно провести A/B-тест на статистическую значимость"
   ]
  },
  {
   "cell_type": "markdown",
   "metadata": {
    "id": "9fMFuja10eM4"
   },
   "source": [
    "####  Насколько статистически значимо изменение ключевой метрики\n",
    "\n",
    "На предыдущем шаге убедились, что количество успешных сессий в тестовой выборке примерно на 1.1% выше, чем в контрольной, но делать выводы только на основе этого значения будет некорректно. Для принятия решения всегда необходимо отвечать на вопрос: является ли это изменение статистически значимым.\n",
    "\n",
    "- Используя статистический тест, рассчитаем, является ли изменение в метрике доли успешных сессий статистически значимым.\n",
    "\n",
    "- Выведим на экран полученное значение p-value и свои выводы о статистической значимости."
   ]
  },
  {
   "cell_type": "code",
   "execution_count": 16,
   "metadata": {
    "id": "gFvhRGwlPLS0"
   },
   "outputs": [
    {
     "name": "stdout",
     "output_type": "stream",
     "text": [
      "p-value: 0.0003\n",
      "Изменение доли успешных сессий статистически значимо.\n"
     ]
    }
   ],
   "source": [
    "from statsmodels.stats.proportion import proportions_ztest\n",
    "\n",
    "success_counts = sessions_test.groupby(\"test_group\")[\"good_session\"].sum().values\n",
    "total_counts = sessions_test.groupby(\"test_group\")[\"good_session\"].count().values\n",
    "\n",
    "z_stat, p_value = proportions_ztest(success_counts, total_counts)\n",
    "\n",
    "print(f\"p-value: {p_value:.4f}\")\n",
    "\n",
    "if p_value < 0.05:\n",
    "    print(\"Изменение доли успешных сессий статистически значимо.\")\n",
    "else:\n",
    "    print(\"Изменение доли успешных сессий не является статистически значимым.\")"
   ]
  },
  {
   "cell_type": "markdown",
   "metadata": {
    "id": "GnJrkY9Q63zS"
   },
   "source": [
    "####  Вывод по результатам A/B-эксперимента"
   ]
  },
  {
   "cell_type": "markdown",
   "metadata": {},
   "source": [
    "Был проведен A/B тест на 41040 пользователях в течение 20 дней.\n",
    "Ключевая метрика для проверки - кол-во успешных сессий(просмотр более 4 страниц за сессию)\n",
    "Около 50 тысяч сессий в каждой группе, но в пересчете на уникальных пользователей это составляет примерно 15 тысяч для каждой группы.\n",
    "По итогу тестирования p-value: 0.0003. Уровень значимости в эксперименте был выбран на уровне 0.05. Результат достигнут.\n",
    "Внедрение нового алгоритма повляияло на рост ключевой метрики.\n",
    "Рекомендовано внедрить новый алгоритм в приложение."
   ]
  }
 ],
 "metadata": {
  "ExecuteTimeLog": [
   {
    "duration": 459,
    "start_time": "2025-08-13T06:09:59.624Z"
   },
   {
    "duration": 114,
    "start_time": "2025-08-13T06:10:07.235Z"
   },
   {
    "duration": 3,
    "start_time": "2025-08-13T06:11:09.490Z"
   },
   {
    "duration": 65,
    "start_time": "2025-08-13T06:11:14.675Z"
   },
   {
    "duration": 1249,
    "start_time": "2025-08-13T06:14:12.441Z"
   },
   {
    "duration": 636,
    "start_time": "2025-08-13T06:16:55.163Z"
   },
   {
    "duration": 460,
    "start_time": "2025-08-13T06:19:09.851Z"
   },
   {
    "duration": 1146,
    "start_time": "2025-08-13T06:19:13.566Z"
   },
   {
    "duration": 625,
    "start_time": "2025-08-13T06:19:22.329Z"
   },
   {
    "duration": 735,
    "start_time": "2025-08-13T06:20:08.442Z"
   },
   {
    "duration": 221,
    "start_time": "2025-08-13T06:22:27.364Z"
   },
   {
    "duration": 463,
    "start_time": "2025-08-13T06:24:33.951Z"
   },
   {
    "duration": 609,
    "start_time": "2025-08-13T06:29:16.596Z"
   },
   {
    "duration": 586,
    "start_time": "2025-08-13T06:30:13.723Z"
   },
   {
    "duration": 223,
    "start_time": "2025-08-13T06:31:51.008Z"
   },
   {
    "duration": 359,
    "start_time": "2025-08-13T06:32:00.334Z"
   },
   {
    "duration": 887,
    "start_time": "2025-08-14T05:26:05.237Z"
   },
   {
    "duration": 87,
    "start_time": "2025-08-14T05:39:09.597Z"
   },
   {
    "duration": 9,
    "start_time": "2025-08-14T05:41:23.322Z"
   },
   {
    "duration": 447,
    "start_time": "2025-08-14T05:41:33.642Z"
   },
   {
    "duration": 2324,
    "start_time": "2025-08-14T05:41:37.470Z"
   },
   {
    "duration": 602,
    "start_time": "2025-08-14T05:41:49.606Z"
   },
   {
    "duration": 712,
    "start_time": "2025-08-14T05:41:56.324Z"
   },
   {
    "duration": 184,
    "start_time": "2025-08-14T05:42:02.992Z"
   },
   {
    "duration": 389,
    "start_time": "2025-08-14T05:42:09.138Z"
   },
   {
    "duration": 13,
    "start_time": "2025-08-14T05:42:18.631Z"
   },
   {
    "duration": 4,
    "start_time": "2025-08-14T05:42:31.740Z"
   },
   {
    "duration": 186,
    "start_time": "2025-08-14T05:45:32.102Z"
   },
   {
    "duration": 7,
    "start_time": "2025-08-14T05:47:13.588Z"
   },
   {
    "duration": 412,
    "start_time": "2025-08-14T05:48:16.052Z"
   },
   {
    "duration": 155,
    "start_time": "2025-08-14T05:49:17.619Z"
   },
   {
    "duration": 305,
    "start_time": "2025-08-14T06:04:16.215Z"
   },
   {
    "duration": 134,
    "start_time": "2025-08-14T06:08:40.409Z"
   },
   {
    "duration": 45,
    "start_time": "2025-08-14T06:09:16.670Z"
   },
   {
    "duration": 14,
    "start_time": "2025-08-14T06:11:58.286Z"
   },
   {
    "duration": 19,
    "start_time": "2025-08-14T06:14:47.368Z"
   },
   {
    "duration": 713,
    "start_time": "2025-08-14T07:04:09.431Z"
   },
   {
    "duration": 3423,
    "start_time": "2025-08-14T07:04:10.146Z"
   },
   {
    "duration": 630,
    "start_time": "2025-08-14T07:04:13.571Z"
   },
   {
    "duration": 779,
    "start_time": "2025-08-14T07:04:14.203Z"
   },
   {
    "duration": 240,
    "start_time": "2025-08-14T07:04:14.984Z"
   },
   {
    "duration": 342,
    "start_time": "2025-08-14T07:04:15.225Z"
   },
   {
    "duration": 543,
    "start_time": "2025-08-14T07:04:15.569Z"
   },
   {
    "duration": 5,
    "start_time": "2025-08-14T07:04:16.113Z"
   },
   {
    "duration": 257,
    "start_time": "2025-08-14T07:04:16.120Z"
   },
   {
    "duration": 8,
    "start_time": "2025-08-14T07:04:16.378Z"
   },
   {
    "duration": 434,
    "start_time": "2025-08-14T07:04:16.388Z"
   },
   {
    "duration": 183,
    "start_time": "2025-08-14T07:04:16.823Z"
   },
   {
    "duration": 94,
    "start_time": "2025-08-14T07:04:17.008Z"
   },
   {
    "duration": 0,
    "start_time": "2025-08-14T07:04:17.104Z"
   },
   {
    "duration": 0,
    "start_time": "2025-08-14T07:04:17.105Z"
   },
   {
    "duration": 0,
    "start_time": "2025-08-14T07:04:17.106Z"
   },
   {
    "duration": 0,
    "start_time": "2025-08-14T07:04:17.107Z"
   },
   {
    "duration": 364,
    "start_time": "2025-08-14T07:08:53.472Z"
   },
   {
    "duration": 49,
    "start_time": "2025-08-14T07:08:54.660Z"
   },
   {
    "duration": 16,
    "start_time": "2025-08-14T07:08:55.527Z"
   },
   {
    "duration": 21,
    "start_time": "2025-08-14T07:09:31.107Z"
   },
   {
    "duration": 927,
    "start_time": "2025-08-14T09:18:12.113Z"
   },
   {
    "duration": 1303,
    "start_time": "2025-08-14T09:19:31.961Z"
   },
   {
    "duration": 1653,
    "start_time": "2025-08-14T09:20:07.992Z"
   },
   {
    "duration": 633,
    "start_time": "2025-08-14T09:21:50.507Z"
   },
   {
    "duration": 33,
    "start_time": "2025-08-14T09:22:43.812Z"
   },
   {
    "duration": 54,
    "start_time": "2025-08-14T09:23:27.274Z"
   },
   {
    "duration": 213,
    "start_time": "2025-08-14T09:25:17.405Z"
   },
   {
    "duration": 109,
    "start_time": "2025-08-14T09:25:36.399Z"
   },
   {
    "duration": 240,
    "start_time": "2025-08-14T09:26:09.159Z"
   },
   {
    "duration": 251,
    "start_time": "2025-08-14T09:27:18.359Z"
   },
   {
    "duration": 1087,
    "start_time": "2025-08-14T09:29:13.543Z"
   },
   {
    "duration": 1002,
    "start_time": "2025-08-14T09:29:35.624Z"
   },
   {
    "duration": 944,
    "start_time": "2025-08-14T09:29:52.141Z"
   },
   {
    "duration": 9,
    "start_time": "2025-08-14T09:30:50.329Z"
   },
   {
    "duration": 442,
    "start_time": "2025-08-14T09:31:04.423Z"
   },
   {
    "duration": 37,
    "start_time": "2025-08-14T09:31:11.936Z"
   },
   {
    "duration": 989,
    "start_time": "2025-08-14T09:31:37.547Z"
   },
   {
    "duration": 5,
    "start_time": "2025-08-14T09:31:48.660Z"
   },
   {
    "duration": 8,
    "start_time": "2025-08-14T09:33:19.904Z"
   },
   {
    "duration": 170,
    "start_time": "2025-08-14T09:35:19.847Z"
   },
   {
    "duration": 341,
    "start_time": "2025-08-14T09:39:17.034Z"
   },
   {
    "duration": 54,
    "start_time": "2025-08-14T09:39:45.761Z"
   },
   {
    "duration": 18,
    "start_time": "2025-08-14T09:40:03.551Z"
   },
   {
    "duration": 21,
    "start_time": "2025-08-14T09:40:11.435Z"
   },
   {
    "duration": 319,
    "start_time": "2025-08-14T09:42:17.948Z"
   },
   {
    "duration": 404,
    "start_time": "2025-08-14T09:43:18.536Z"
   },
   {
    "duration": 351,
    "start_time": "2025-08-14T09:43:49.093Z"
   },
   {
    "duration": 706,
    "start_time": "2025-08-14T12:16:57.112Z"
   },
   {
    "duration": 1230,
    "start_time": "2025-08-14T12:16:57.820Z"
   },
   {
    "duration": 647,
    "start_time": "2025-08-14T12:16:59.052Z"
   },
   {
    "duration": 779,
    "start_time": "2025-08-14T12:16:59.701Z"
   },
   {
    "duration": 225,
    "start_time": "2025-08-14T12:17:00.482Z"
   },
   {
    "duration": 85,
    "start_time": "2025-08-14T12:17:00.708Z"
   },
   {
    "duration": 0,
    "start_time": "2025-08-14T12:17:00.794Z"
   },
   {
    "duration": 0,
    "start_time": "2025-08-14T12:17:00.796Z"
   },
   {
    "duration": 0,
    "start_time": "2025-08-14T12:17:00.796Z"
   },
   {
    "duration": 0,
    "start_time": "2025-08-14T12:17:00.798Z"
   },
   {
    "duration": 0,
    "start_time": "2025-08-14T12:17:00.799Z"
   },
   {
    "duration": 0,
    "start_time": "2025-08-14T12:17:00.800Z"
   },
   {
    "duration": 0,
    "start_time": "2025-08-14T12:17:00.801Z"
   },
   {
    "duration": 0,
    "start_time": "2025-08-14T12:17:00.802Z"
   },
   {
    "duration": 0,
    "start_time": "2025-08-14T12:17:00.803Z"
   },
   {
    "duration": 0,
    "start_time": "2025-08-14T12:17:00.804Z"
   },
   {
    "duration": 3,
    "start_time": "2025-08-14T12:23:44.197Z"
   },
   {
    "duration": 1196,
    "start_time": "2025-08-14T12:23:44.201Z"
   },
   {
    "duration": 625,
    "start_time": "2025-08-14T12:23:45.398Z"
   },
   {
    "duration": 704,
    "start_time": "2025-08-14T12:23:46.025Z"
   },
   {
    "duration": 216,
    "start_time": "2025-08-14T12:23:46.738Z"
   },
   {
    "duration": 459,
    "start_time": "2025-08-14T12:23:46.956Z"
   },
   {
    "duration": 23,
    "start_time": "2025-08-14T12:23:47.417Z"
   },
   {
    "duration": 9,
    "start_time": "2025-08-14T12:23:47.442Z"
   },
   {
    "duration": 180,
    "start_time": "2025-08-14T12:23:47.452Z"
   },
   {
    "duration": 19,
    "start_time": "2025-08-14T12:23:47.634Z"
   },
   {
    "duration": 448,
    "start_time": "2025-08-14T12:23:47.655Z"
   },
   {
    "duration": 183,
    "start_time": "2025-08-14T12:23:48.106Z"
   },
   {
    "duration": 297,
    "start_time": "2025-08-14T12:23:48.290Z"
   },
   {
    "duration": 56,
    "start_time": "2025-08-14T12:23:48.588Z"
   },
   {
    "duration": 26,
    "start_time": "2025-08-14T12:23:48.646Z"
   },
   {
    "duration": 25,
    "start_time": "2025-08-14T12:23:48.675Z"
   },
   {
    "duration": 723,
    "start_time": "2025-08-14T12:26:02.106Z"
   },
   {
    "duration": 1250,
    "start_time": "2025-08-14T12:26:02.831Z"
   },
   {
    "duration": 646,
    "start_time": "2025-08-14T12:26:04.083Z"
   },
   {
    "duration": 751,
    "start_time": "2025-08-14T12:26:04.739Z"
   },
   {
    "duration": 221,
    "start_time": "2025-08-14T12:26:05.492Z"
   },
   {
    "duration": 455,
    "start_time": "2025-08-14T12:26:05.715Z"
   },
   {
    "duration": 508,
    "start_time": "2025-08-14T12:26:06.172Z"
   },
   {
    "duration": 4,
    "start_time": "2025-08-14T12:26:06.681Z"
   },
   {
    "duration": 164,
    "start_time": "2025-08-14T12:26:06.687Z"
   },
   {
    "duration": 7,
    "start_time": "2025-08-14T12:26:06.855Z"
   },
   {
    "duration": 418,
    "start_time": "2025-08-14T12:26:06.864Z"
   },
   {
    "duration": 178,
    "start_time": "2025-08-14T12:26:07.284Z"
   },
   {
    "duration": 318,
    "start_time": "2025-08-14T12:26:07.464Z"
   },
   {
    "duration": 44,
    "start_time": "2025-08-14T12:26:07.784Z"
   },
   {
    "duration": 23,
    "start_time": "2025-08-14T12:26:07.830Z"
   },
   {
    "duration": 19,
    "start_time": "2025-08-14T12:26:07.854Z"
   }
  ],
  "colab": {
   "provenance": []
  },
  "kernelspec": {
   "display_name": "Python 3 (ipykernel)",
   "language": "python",
   "name": "python3"
  },
  "language_info": {
   "codemirror_mode": {
    "name": "ipython",
    "version": 3
   },
   "file_extension": ".py",
   "mimetype": "text/x-python",
   "name": "python",
   "nbconvert_exporter": "python",
   "pygments_lexer": "ipython3",
   "version": "3.9.5"
  },
  "toc": {
   "base_numbering": 1,
   "nav_menu": {},
   "number_sections": true,
   "sideBar": true,
   "skip_h1_title": true,
   "title_cell": "Table of Contents",
   "title_sidebar": "Contents",
   "toc_cell": false,
   "toc_position": {},
   "toc_section_display": true,
   "toc_window_display": false
  }
 },
 "nbformat": 4,
 "nbformat_minor": 1
}

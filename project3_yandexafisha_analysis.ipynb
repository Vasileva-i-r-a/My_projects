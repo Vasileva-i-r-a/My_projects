{
 "cells": [
  {
   "cell_type": "markdown",
   "metadata": {
    "id": "LMuaGIE3lGcr"
   },
   "source": [
    "# Исследовательский анализ данных и проверка гипотез о бронировании билетов сервиса Яндекс Афиша с 1 июня 2024 года по 31 октября 2024 года."
   ]
  },
  {
   "cell_type": "markdown",
   "metadata": {},
   "source": [
    "### Выполнила Васильева Ирина 9.09.2025"
   ]
  },
  {
   "cell_type": "markdown",
   "metadata": {},
   "source": [
    "### Содержание:\n",
    "1. Введение\n",
    "2. Загрузка данных и знакомство с ними\n",
    "3. Предобработка данных и подготовка их к исследованию\n",
    "4. Исследовательский анализ данных:\n",
    " 4.1. Анализ распределения заказов по сегментам и их сезонные изменения\n",
    " 4.2. Осенняя активность пользователей\n",
    " 4.3. Популярные события и партнёры\n",
    "5. Статистический анализ данных\n",
    "6. Общий вывод и рекомендации"
   ]
  },
  {
   "cell_type": "markdown",
   "metadata": {},
   "source": [
    "## Введение"
   ]
  },
  {
   "cell_type": "markdown",
   "metadata": {},
   "source": [
    "Коллеги из продуктового отдела сервиса Яндекс Афиша заметили общее изменение в пользовательском спросе. Причины этого пока неясны. Сработал фактор сезонности, и пользователи поменяли предпочтения? Или изменилась аудитория? Стоит также разобраться, какие события стали привлекать больше зрителей, а какие организаторы и площадки выбились в лидеры. А также понять, отличаются ли своей активностью пользователи мобильных устройств от клиентов, которые бронируют билеты со стационарного компьютера.\n",
    "Проведем исследовательский анализ данных Яндекс Афиши с 1 июня 2024 года по 31 октября 2024 года,чтобы дать ответы на вопросы коллег."
   ]
  },
  {
   "cell_type": "markdown",
   "metadata": {},
   "source": [
    "##  Загрузка данных и знакомство с ними"
   ]
  },
  {
   "cell_type": "code",
   "execution_count": 1,
   "metadata": {},
   "outputs": [],
   "source": [
    "import pandas as pd\n",
    "from IPython.display import display\n",
    "import matplotlib.pyplot as plt\n",
    "import seaborn as sns\n",
    "from scipy.stats import ttest_ind"
   ]
  },
  {
   "cell_type": "code",
   "execution_count": 2,
   "metadata": {},
   "outputs": [
    {
     "name": "stdout",
     "output_type": "stream",
     "text": [
      "Orders dataset:\n"
     ]
    },
    {
     "data": {
      "text/html": [
       "<div>\n",
       "<style scoped>\n",
       "    .dataframe tbody tr th:only-of-type {\n",
       "        vertical-align: middle;\n",
       "    }\n",
       "\n",
       "    .dataframe tbody tr th {\n",
       "        vertical-align: top;\n",
       "    }\n",
       "\n",
       "    .dataframe thead th {\n",
       "        text-align: right;\n",
       "    }\n",
       "</style>\n",
       "<table border=\"1\" class=\"dataframe\">\n",
       "  <thead>\n",
       "    <tr style=\"text-align: right;\">\n",
       "      <th></th>\n",
       "      <th>order_id</th>\n",
       "      <th>user_id</th>\n",
       "      <th>created_dt_msk</th>\n",
       "      <th>created_ts_msk</th>\n",
       "      <th>event_id</th>\n",
       "      <th>cinema_circuit</th>\n",
       "      <th>age_limit</th>\n",
       "      <th>currency_code</th>\n",
       "      <th>device_type_canonical</th>\n",
       "      <th>revenue</th>\n",
       "      <th>service_name</th>\n",
       "      <th>tickets_count</th>\n",
       "      <th>total</th>\n",
       "      <th>days_since_prev</th>\n",
       "    </tr>\n",
       "  </thead>\n",
       "  <tbody>\n",
       "    <tr>\n",
       "      <th>0</th>\n",
       "      <td>4359165</td>\n",
       "      <td>0002849b70a3ce2</td>\n",
       "      <td>2024-08-20</td>\n",
       "      <td>2024-08-20 16:08:03</td>\n",
       "      <td>169230</td>\n",
       "      <td>нет</td>\n",
       "      <td>16</td>\n",
       "      <td>rub</td>\n",
       "      <td>mobile</td>\n",
       "      <td>1521.94</td>\n",
       "      <td>Край билетов</td>\n",
       "      <td>4</td>\n",
       "      <td>10870.99</td>\n",
       "      <td>NaN</td>\n",
       "    </tr>\n",
       "    <tr>\n",
       "      <th>1</th>\n",
       "      <td>7965605</td>\n",
       "      <td>0005ca5e93f2cf4</td>\n",
       "      <td>2024-07-23</td>\n",
       "      <td>2024-07-23 18:36:24</td>\n",
       "      <td>237325</td>\n",
       "      <td>нет</td>\n",
       "      <td>0</td>\n",
       "      <td>rub</td>\n",
       "      <td>mobile</td>\n",
       "      <td>289.45</td>\n",
       "      <td>Мой билет</td>\n",
       "      <td>2</td>\n",
       "      <td>2067.51</td>\n",
       "      <td>NaN</td>\n",
       "    </tr>\n",
       "    <tr>\n",
       "      <th>2</th>\n",
       "      <td>7292370</td>\n",
       "      <td>0005ca5e93f2cf4</td>\n",
       "      <td>2024-10-06</td>\n",
       "      <td>2024-10-06 13:56:02</td>\n",
       "      <td>578454</td>\n",
       "      <td>нет</td>\n",
       "      <td>0</td>\n",
       "      <td>rub</td>\n",
       "      <td>mobile</td>\n",
       "      <td>1258.57</td>\n",
       "      <td>За билетом!</td>\n",
       "      <td>4</td>\n",
       "      <td>13984.16</td>\n",
       "      <td>75.0</td>\n",
       "    </tr>\n",
       "    <tr>\n",
       "      <th>3</th>\n",
       "      <td>1139875</td>\n",
       "      <td>000898990054619</td>\n",
       "      <td>2024-07-13</td>\n",
       "      <td>2024-07-13 19:40:48</td>\n",
       "      <td>387271</td>\n",
       "      <td>нет</td>\n",
       "      <td>0</td>\n",
       "      <td>rub</td>\n",
       "      <td>mobile</td>\n",
       "      <td>8.49</td>\n",
       "      <td>Лови билет!</td>\n",
       "      <td>2</td>\n",
       "      <td>212.28</td>\n",
       "      <td>NaN</td>\n",
       "    </tr>\n",
       "    <tr>\n",
       "      <th>4</th>\n",
       "      <td>972400</td>\n",
       "      <td>000898990054619</td>\n",
       "      <td>2024-10-04</td>\n",
       "      <td>2024-10-04 22:33:15</td>\n",
       "      <td>509453</td>\n",
       "      <td>нет</td>\n",
       "      <td>18</td>\n",
       "      <td>rub</td>\n",
       "      <td>mobile</td>\n",
       "      <td>1390.41</td>\n",
       "      <td>Билеты без проблем</td>\n",
       "      <td>3</td>\n",
       "      <td>10695.43</td>\n",
       "      <td>83.0</td>\n",
       "    </tr>\n",
       "  </tbody>\n",
       "</table>\n",
       "</div>"
      ],
      "text/plain": [
       "   order_id          user_id created_dt_msk       created_ts_msk  event_id  \\\n",
       "0   4359165  0002849b70a3ce2     2024-08-20  2024-08-20 16:08:03    169230   \n",
       "1   7965605  0005ca5e93f2cf4     2024-07-23  2024-07-23 18:36:24    237325   \n",
       "2   7292370  0005ca5e93f2cf4     2024-10-06  2024-10-06 13:56:02    578454   \n",
       "3   1139875  000898990054619     2024-07-13  2024-07-13 19:40:48    387271   \n",
       "4    972400  000898990054619     2024-10-04  2024-10-04 22:33:15    509453   \n",
       "\n",
       "  cinema_circuit  age_limit currency_code device_type_canonical  revenue  \\\n",
       "0            нет         16           rub                mobile  1521.94   \n",
       "1            нет          0           rub                mobile   289.45   \n",
       "2            нет          0           rub                mobile  1258.57   \n",
       "3            нет          0           rub                mobile     8.49   \n",
       "4            нет         18           rub                mobile  1390.41   \n",
       "\n",
       "         service_name  tickets_count     total  days_since_prev  \n",
       "0        Край билетов              4  10870.99              NaN  \n",
       "1           Мой билет              2   2067.51              NaN  \n",
       "2         За билетом!              4  13984.16             75.0  \n",
       "3         Лови билет!              2    212.28              NaN  \n",
       "4  Билеты без проблем              3  10695.43             83.0  "
      ]
     },
     "metadata": {},
     "output_type": "display_data"
    }
   ],
   "source": [
    "orders_url = 'https://code.s3.yandex.net/datasets/final_tickets_orders_df.csv'\n",
    "\n",
    "orders_df = pd.read_csv(orders_url)\n",
    "\n",
    "print(\"Orders dataset:\")\n",
    "display(orders_df.head())\n"
   ]
  },
  {
   "cell_type": "code",
   "execution_count": 3,
   "metadata": {},
   "outputs": [
    {
     "name": "stdout",
     "output_type": "stream",
     "text": [
      "Events dataset:\n"
     ]
    },
    {
     "data": {
      "text/html": [
       "<div>\n",
       "<style scoped>\n",
       "    .dataframe tbody tr th:only-of-type {\n",
       "        vertical-align: middle;\n",
       "    }\n",
       "\n",
       "    .dataframe tbody tr th {\n",
       "        vertical-align: top;\n",
       "    }\n",
       "\n",
       "    .dataframe thead th {\n",
       "        text-align: right;\n",
       "    }\n",
       "</style>\n",
       "<table border=\"1\" class=\"dataframe\">\n",
       "  <thead>\n",
       "    <tr style=\"text-align: right;\">\n",
       "      <th></th>\n",
       "      <th>event_id</th>\n",
       "      <th>event_name</th>\n",
       "      <th>event_type_description</th>\n",
       "      <th>event_type_main</th>\n",
       "      <th>organizers</th>\n",
       "      <th>region_name</th>\n",
       "      <th>city_name</th>\n",
       "      <th>city_id</th>\n",
       "      <th>venue_id</th>\n",
       "      <th>venue_name</th>\n",
       "      <th>venue_address</th>\n",
       "    </tr>\n",
       "  </thead>\n",
       "  <tbody>\n",
       "    <tr>\n",
       "      <th>0</th>\n",
       "      <td>4436</td>\n",
       "      <td>e4f26fba-da77-4c61-928a-6c3e434d793f</td>\n",
       "      <td>спектакль</td>\n",
       "      <td>театр</td>\n",
       "      <td>№4893</td>\n",
       "      <td>Североярская область</td>\n",
       "      <td>Озёрск</td>\n",
       "      <td>2</td>\n",
       "      <td>1600</td>\n",
       "      <td>Кладбище искусств \"Проблема\" и партнеры</td>\n",
       "      <td>наб. Загородная, д. 785</td>\n",
       "    </tr>\n",
       "    <tr>\n",
       "      <th>1</th>\n",
       "      <td>5785</td>\n",
       "      <td>5cc08a60-fdea-4186-9bb2-bffc3603fb77</td>\n",
       "      <td>спектакль</td>\n",
       "      <td>театр</td>\n",
       "      <td>№1931</td>\n",
       "      <td>Светополянский округ</td>\n",
       "      <td>Глиноград</td>\n",
       "      <td>54</td>\n",
       "      <td>2196</td>\n",
       "      <td>Лекции по искусству \"Свет\" Групп</td>\n",
       "      <td>ул. Ягодная, д. 942</td>\n",
       "    </tr>\n",
       "    <tr>\n",
       "      <th>2</th>\n",
       "      <td>8817</td>\n",
       "      <td>8e379a89-3a10-4811-ba06-ec22ebebe989</td>\n",
       "      <td>спектакль</td>\n",
       "      <td>театр</td>\n",
       "      <td>№4896</td>\n",
       "      <td>Североярская область</td>\n",
       "      <td>Озёрск</td>\n",
       "      <td>2</td>\n",
       "      <td>4043</td>\n",
       "      <td>Кинокомитет \"Золотая\" Инк</td>\n",
       "      <td>ш. Коммуны, д. 92 стр. 6</td>\n",
       "    </tr>\n",
       "    <tr>\n",
       "      <th>3</th>\n",
       "      <td>8849</td>\n",
       "      <td>682e3129-6a32-4952-9d8a-ef7f60d4c247</td>\n",
       "      <td>спектакль</td>\n",
       "      <td>театр</td>\n",
       "      <td>№4960</td>\n",
       "      <td>Каменевский регион</td>\n",
       "      <td>Глиногорск</td>\n",
       "      <td>213</td>\n",
       "      <td>1987</td>\n",
       "      <td>Выставка ремесел \"Свет\" Лтд</td>\n",
       "      <td>пер. Набережный, д. 35</td>\n",
       "    </tr>\n",
       "    <tr>\n",
       "      <th>4</th>\n",
       "      <td>8850</td>\n",
       "      <td>d6e99176-c77f-4af0-9222-07c571f6c624</td>\n",
       "      <td>спектакль</td>\n",
       "      <td>театр</td>\n",
       "      <td>№4770</td>\n",
       "      <td>Лесодальний край</td>\n",
       "      <td>Родниковец</td>\n",
       "      <td>55</td>\n",
       "      <td>4230</td>\n",
       "      <td>Фестивальный проект \"Листья\" Групп</td>\n",
       "      <td>пер. Проезжий, д. 9</td>\n",
       "    </tr>\n",
       "  </tbody>\n",
       "</table>\n",
       "</div>"
      ],
      "text/plain": [
       "   event_id                            event_name event_type_description  \\\n",
       "0      4436  e4f26fba-da77-4c61-928a-6c3e434d793f              спектакль   \n",
       "1      5785  5cc08a60-fdea-4186-9bb2-bffc3603fb77              спектакль   \n",
       "2      8817  8e379a89-3a10-4811-ba06-ec22ebebe989              спектакль   \n",
       "3      8849  682e3129-6a32-4952-9d8a-ef7f60d4c247              спектакль   \n",
       "4      8850  d6e99176-c77f-4af0-9222-07c571f6c624              спектакль   \n",
       "\n",
       "  event_type_main organizers           region_name   city_name  city_id  \\\n",
       "0           театр      №4893  Североярская область      Озёрск        2   \n",
       "1           театр      №1931  Светополянский округ   Глиноград       54   \n",
       "2           театр      №4896  Североярская область      Озёрск        2   \n",
       "3           театр      №4960    Каменевский регион  Глиногорск      213   \n",
       "4           театр      №4770      Лесодальний край  Родниковец       55   \n",
       "\n",
       "   venue_id                               venue_name             venue_address  \n",
       "0      1600  Кладбище искусств \"Проблема\" и партнеры   наб. Загородная, д. 785  \n",
       "1      2196         Лекции по искусству \"Свет\" Групп       ул. Ягодная, д. 942  \n",
       "2      4043                Кинокомитет \"Золотая\" Инк  ш. Коммуны, д. 92 стр. 6  \n",
       "3      1987              Выставка ремесел \"Свет\" Лтд    пер. Набережный, д. 35  \n",
       "4      4230       Фестивальный проект \"Листья\" Групп       пер. Проезжий, д. 9  "
      ]
     },
     "metadata": {},
     "output_type": "display_data"
    }
   ],
   "source": [
    "events_url = 'https://code.s3.yandex.net/datasets/final_tickets_events_df.csv'\n",
    "events_df = pd.read_csv(events_url)\n",
    "print(\"Events dataset:\")\n",
    "display(events_df.head())"
   ]
  },
  {
   "cell_type": "code",
   "execution_count": 4,
   "metadata": {},
   "outputs": [
    {
     "name": "stdout",
     "output_type": "stream",
     "text": [
      "<class 'pandas.core.frame.DataFrame'>\n",
      "RangeIndex: 290849 entries, 0 to 290848\n",
      "Data columns (total 14 columns):\n",
      " #   Column                 Non-Null Count   Dtype  \n",
      "---  ------                 --------------   -----  \n",
      " 0   order_id               290849 non-null  int64  \n",
      " 1   user_id                290849 non-null  object \n",
      " 2   created_dt_msk         290849 non-null  object \n",
      " 3   created_ts_msk         290849 non-null  object \n",
      " 4   event_id               290849 non-null  int64  \n",
      " 5   cinema_circuit         290849 non-null  object \n",
      " 6   age_limit              290849 non-null  int64  \n",
      " 7   currency_code          290849 non-null  object \n",
      " 8   device_type_canonical  290849 non-null  object \n",
      " 9   revenue                290849 non-null  float64\n",
      " 10  service_name           290849 non-null  object \n",
      " 11  tickets_count          290849 non-null  int64  \n",
      " 12  total                  290849 non-null  float64\n",
      " 13  days_since_prev        268909 non-null  float64\n",
      "dtypes: float64(3), int64(4), object(7)\n",
      "memory usage: 31.1+ MB\n",
      "None\n"
     ]
    }
   ],
   "source": [
    "print(orders_df.info())"
   ]
  },
  {
   "cell_type": "markdown",
   "metadata": {},
   "source": [
    "Приведем 2 колонки с датами к типу дата. Остальные колонки соответствуют, пропусков нет, кроме days_since_prev."
   ]
  },
  {
   "cell_type": "code",
   "execution_count": 5,
   "metadata": {},
   "outputs": [
    {
     "name": "stdout",
     "output_type": "stream",
     "text": [
      "<class 'pandas.core.frame.DataFrame'>\n",
      "RangeIndex: 290849 entries, 0 to 290848\n",
      "Data columns (total 14 columns):\n",
      " #   Column                 Non-Null Count   Dtype         \n",
      "---  ------                 --------------   -----         \n",
      " 0   order_id               290849 non-null  int64         \n",
      " 1   user_id                290849 non-null  object        \n",
      " 2   created_dt_msk         290849 non-null  datetime64[ns]\n",
      " 3   created_ts_msk         290849 non-null  datetime64[ns]\n",
      " 4   event_id               290849 non-null  int64         \n",
      " 5   cinema_circuit         290849 non-null  object        \n",
      " 6   age_limit              290849 non-null  int64         \n",
      " 7   currency_code          290849 non-null  object        \n",
      " 8   device_type_canonical  290849 non-null  object        \n",
      " 9   revenue                290849 non-null  float64       \n",
      " 10  service_name           290849 non-null  object        \n",
      " 11  tickets_count          290849 non-null  int64         \n",
      " 12  total                  290849 non-null  float64       \n",
      " 13  days_since_prev        268909 non-null  float64       \n",
      "dtypes: datetime64[ns](2), float64(3), int64(4), object(5)\n",
      "memory usage: 31.1+ MB\n",
      "None\n"
     ]
    }
   ],
   "source": [
    "orders_df['created_dt_msk'] = pd.to_datetime(orders_df['created_dt_msk'])\n",
    "orders_df['created_ts_msk'] = pd.to_datetime(orders_df['created_ts_msk'])\n",
    "print(orders_df.info())"
   ]
  },
  {
   "cell_type": "code",
   "execution_count": 6,
   "metadata": {},
   "outputs": [
    {
     "name": "stdout",
     "output_type": "stream",
     "text": [
      "<class 'pandas.core.frame.DataFrame'>\n",
      "RangeIndex: 22427 entries, 0 to 22426\n",
      "Data columns (total 11 columns):\n",
      " #   Column                  Non-Null Count  Dtype \n",
      "---  ------                  --------------  ----- \n",
      " 0   event_id                22427 non-null  int64 \n",
      " 1   event_name              22427 non-null  object\n",
      " 2   event_type_description  22427 non-null  object\n",
      " 3   event_type_main         22427 non-null  object\n",
      " 4   organizers              22427 non-null  object\n",
      " 5   region_name             22427 non-null  object\n",
      " 6   city_name               22427 non-null  object\n",
      " 7   city_id                 22427 non-null  int64 \n",
      " 8   venue_id                22427 non-null  int64 \n",
      " 9   venue_name              22427 non-null  object\n",
      " 10  venue_address           22427 non-null  object\n",
      "dtypes: int64(3), object(8)\n",
      "memory usage: 1.9+ MB\n",
      "None\n"
     ]
    }
   ],
   "source": [
    "print(events_df.info())"
   ]
  },
  {
   "cell_type": "markdown",
   "metadata": {},
   "source": [
    "Типы данных в датафрейме events соответствуют назначению. Пропусков нет."
   ]
  },
  {
   "cell_type": "markdown",
   "metadata": {},
   "source": [
    "## Предобработка данных и подготовка их к исследованию"
   ]
  },
  {
   "cell_type": "code",
   "execution_count": 7,
   "metadata": {},
   "outputs": [],
   "source": [
    "# Присоединяем таблицу для конвертации валюты\n",
    "tenge_url = 'https://code.s3.yandex.net/datasets/final_tickets_tenge_df.csv'\n",
    "\n",
    "tenge_df = pd.read_csv(tenge_url)\n",
    "\n",
    "tenge_df['created_dt_msk'] = pd.to_datetime(tenge_df['data']).dt.date\n",
    "\n",
    "# Код ревьюера\n",
    "tenge_df['created_dt_msk'] = pd.to_datetime(tenge_df['created_dt_msk']) \n",
    "\n",
    "tenge_df = tenge_df.rename(columns={'curs': 'kzt_rub_rate'})[['created_dt_msk','kzt_rub_rate']]\n",
    "\n",
    "orders_df = orders_df.merge(tenge_df, on='created_dt_msk', how='left')"
   ]
  },
  {
   "cell_type": "code",
   "execution_count": 8,
   "metadata": {
    "scrolled": true
   },
   "outputs": [],
   "source": [
    "## Создадим новоую колонку для расчета выручки в рублях\n",
    "def convert_to_rub(row):\n",
    "    if row['currency_code'] == 'kzt':\n",
    "        return row['revenue'] * row['kzt_rub_rate'] / 100\n",
    "    else:\n",
    "        return row['revenue']\n",
    "\n",
    "orders_df['revenue_rub'] = orders_df.apply(convert_to_rub, axis=1)\n",
    "\n",
    "orders_df['one_ticket_revenue_rub'] = orders_df['revenue_rub'] / orders_df['tickets_count']\n"
   ]
  },
  {
   "cell_type": "code",
   "execution_count": 9,
   "metadata": {},
   "outputs": [
    {
     "data": {
      "text/html": [
       "<div>\n",
       "<style scoped>\n",
       "    .dataframe tbody tr th:only-of-type {\n",
       "        vertical-align: middle;\n",
       "    }\n",
       "\n",
       "    .dataframe tbody tr th {\n",
       "        vertical-align: top;\n",
       "    }\n",
       "\n",
       "    .dataframe thead th {\n",
       "        text-align: right;\n",
       "    }\n",
       "</style>\n",
       "<table border=\"1\" class=\"dataframe\">\n",
       "  <thead>\n",
       "    <tr style=\"text-align: right;\">\n",
       "      <th></th>\n",
       "      <th>order_id</th>\n",
       "      <th>user_id</th>\n",
       "      <th>created_dt_msk</th>\n",
       "      <th>created_ts_msk</th>\n",
       "      <th>event_id</th>\n",
       "      <th>cinema_circuit</th>\n",
       "      <th>age_limit</th>\n",
       "      <th>currency_code</th>\n",
       "      <th>device_type_canonical</th>\n",
       "      <th>revenue</th>\n",
       "      <th>service_name</th>\n",
       "      <th>tickets_count</th>\n",
       "      <th>total</th>\n",
       "      <th>days_since_prev</th>\n",
       "      <th>kzt_rub_rate</th>\n",
       "      <th>revenue_rub</th>\n",
       "      <th>one_ticket_revenue_rub</th>\n",
       "      <th>month</th>\n",
       "      <th>season</th>\n",
       "    </tr>\n",
       "  </thead>\n",
       "  <tbody>\n",
       "    <tr>\n",
       "      <th>0</th>\n",
       "      <td>4359165</td>\n",
       "      <td>0002849b70a3ce2</td>\n",
       "      <td>2024-08-20</td>\n",
       "      <td>2024-08-20 16:08:03</td>\n",
       "      <td>169230</td>\n",
       "      <td>нет</td>\n",
       "      <td>16</td>\n",
       "      <td>rub</td>\n",
       "      <td>mobile</td>\n",
       "      <td>1521.94</td>\n",
       "      <td>Край билетов</td>\n",
       "      <td>4</td>\n",
       "      <td>10870.99</td>\n",
       "      <td>NaN</td>\n",
       "      <td>18.6972</td>\n",
       "      <td>1521.94</td>\n",
       "      <td>380.4850</td>\n",
       "      <td>8</td>\n",
       "      <td>лето</td>\n",
       "    </tr>\n",
       "    <tr>\n",
       "      <th>1</th>\n",
       "      <td>7965605</td>\n",
       "      <td>0005ca5e93f2cf4</td>\n",
       "      <td>2024-07-23</td>\n",
       "      <td>2024-07-23 18:36:24</td>\n",
       "      <td>237325</td>\n",
       "      <td>нет</td>\n",
       "      <td>0</td>\n",
       "      <td>rub</td>\n",
       "      <td>mobile</td>\n",
       "      <td>289.45</td>\n",
       "      <td>Мой билет</td>\n",
       "      <td>2</td>\n",
       "      <td>2067.51</td>\n",
       "      <td>NaN</td>\n",
       "      <td>18.3419</td>\n",
       "      <td>289.45</td>\n",
       "      <td>144.7250</td>\n",
       "      <td>7</td>\n",
       "      <td>лето</td>\n",
       "    </tr>\n",
       "    <tr>\n",
       "      <th>2</th>\n",
       "      <td>7292370</td>\n",
       "      <td>0005ca5e93f2cf4</td>\n",
       "      <td>2024-10-06</td>\n",
       "      <td>2024-10-06 13:56:02</td>\n",
       "      <td>578454</td>\n",
       "      <td>нет</td>\n",
       "      <td>0</td>\n",
       "      <td>rub</td>\n",
       "      <td>mobile</td>\n",
       "      <td>1258.57</td>\n",
       "      <td>За билетом!</td>\n",
       "      <td>4</td>\n",
       "      <td>13984.16</td>\n",
       "      <td>75.0</td>\n",
       "      <td>19.6475</td>\n",
       "      <td>1258.57</td>\n",
       "      <td>314.6425</td>\n",
       "      <td>10</td>\n",
       "      <td>осень</td>\n",
       "    </tr>\n",
       "    <tr>\n",
       "      <th>3</th>\n",
       "      <td>1139875</td>\n",
       "      <td>000898990054619</td>\n",
       "      <td>2024-07-13</td>\n",
       "      <td>2024-07-13 19:40:48</td>\n",
       "      <td>387271</td>\n",
       "      <td>нет</td>\n",
       "      <td>0</td>\n",
       "      <td>rub</td>\n",
       "      <td>mobile</td>\n",
       "      <td>8.49</td>\n",
       "      <td>Лови билет!</td>\n",
       "      <td>2</td>\n",
       "      <td>212.28</td>\n",
       "      <td>NaN</td>\n",
       "      <td>18.5010</td>\n",
       "      <td>8.49</td>\n",
       "      <td>4.2450</td>\n",
       "      <td>7</td>\n",
       "      <td>лето</td>\n",
       "    </tr>\n",
       "    <tr>\n",
       "      <th>4</th>\n",
       "      <td>972400</td>\n",
       "      <td>000898990054619</td>\n",
       "      <td>2024-10-04</td>\n",
       "      <td>2024-10-04 22:33:15</td>\n",
       "      <td>509453</td>\n",
       "      <td>нет</td>\n",
       "      <td>18</td>\n",
       "      <td>rub</td>\n",
       "      <td>mobile</td>\n",
       "      <td>1390.41</td>\n",
       "      <td>Билеты без проблем</td>\n",
       "      <td>3</td>\n",
       "      <td>10695.43</td>\n",
       "      <td>83.0</td>\n",
       "      <td>19.6648</td>\n",
       "      <td>1390.41</td>\n",
       "      <td>463.4700</td>\n",
       "      <td>10</td>\n",
       "      <td>осень</td>\n",
       "    </tr>\n",
       "  </tbody>\n",
       "</table>\n",
       "</div>"
      ],
      "text/plain": [
       "   order_id          user_id created_dt_msk      created_ts_msk  event_id  \\\n",
       "0   4359165  0002849b70a3ce2     2024-08-20 2024-08-20 16:08:03    169230   \n",
       "1   7965605  0005ca5e93f2cf4     2024-07-23 2024-07-23 18:36:24    237325   \n",
       "2   7292370  0005ca5e93f2cf4     2024-10-06 2024-10-06 13:56:02    578454   \n",
       "3   1139875  000898990054619     2024-07-13 2024-07-13 19:40:48    387271   \n",
       "4    972400  000898990054619     2024-10-04 2024-10-04 22:33:15    509453   \n",
       "\n",
       "  cinema_circuit  age_limit currency_code device_type_canonical  revenue  \\\n",
       "0            нет         16           rub                mobile  1521.94   \n",
       "1            нет          0           rub                mobile   289.45   \n",
       "2            нет          0           rub                mobile  1258.57   \n",
       "3            нет          0           rub                mobile     8.49   \n",
       "4            нет         18           rub                mobile  1390.41   \n",
       "\n",
       "         service_name  tickets_count     total  days_since_prev  kzt_rub_rate  \\\n",
       "0        Край билетов              4  10870.99              NaN       18.6972   \n",
       "1           Мой билет              2   2067.51              NaN       18.3419   \n",
       "2         За билетом!              4  13984.16             75.0       19.6475   \n",
       "3         Лови билет!              2    212.28              NaN       18.5010   \n",
       "4  Билеты без проблем              3  10695.43             83.0       19.6648   \n",
       "\n",
       "   revenue_rub  one_ticket_revenue_rub  month season  \n",
       "0      1521.94                380.4850      8   лето  \n",
       "1       289.45                144.7250      7   лето  \n",
       "2      1258.57                314.6425     10  осень  \n",
       "3         8.49                  4.2450      7   лето  \n",
       "4      1390.41                463.4700     10  осень  "
      ]
     },
     "metadata": {},
     "output_type": "display_data"
    }
   ],
   "source": [
    "## Выделим месяц и сезоны\n",
    "orders_df['month'] = pd.to_datetime(orders_df['created_dt_msk']).dt.month\n",
    "def get_season(month):\n",
    "    if month >= 3 and month <= 5:\n",
    "        return 'весна'\n",
    "    elif month >= 6 and month <= 8:\n",
    "        return 'лето'\n",
    "    elif month >= 9 and month <= 11:\n",
    "        return 'осень'\n",
    "    else:  # 12, 1, 2\n",
    "        return 'зима'\n",
    "\n",
    "orders_df['season'] = orders_df['month'].apply(get_season)\n",
    "display(orders_df.head())"
   ]
  },
  {
   "cell_type": "code",
   "execution_count": 10,
   "metadata": {},
   "outputs": [
    {
     "data": {
      "text/html": [
       "<div>\n",
       "<style scoped>\n",
       "    .dataframe tbody tr th:only-of-type {\n",
       "        vertical-align: middle;\n",
       "    }\n",
       "\n",
       "    .dataframe tbody tr th {\n",
       "        vertical-align: top;\n",
       "    }\n",
       "\n",
       "    .dataframe thead th {\n",
       "        text-align: right;\n",
       "    }\n",
       "</style>\n",
       "<table border=\"1\" class=\"dataframe\">\n",
       "  <thead>\n",
       "    <tr style=\"text-align: right;\">\n",
       "      <th></th>\n",
       "      <th>order_id</th>\n",
       "      <th>user_id</th>\n",
       "      <th>created_dt_msk</th>\n",
       "      <th>created_ts_msk</th>\n",
       "      <th>event_id</th>\n",
       "      <th>cinema_circuit</th>\n",
       "      <th>age_limit</th>\n",
       "      <th>currency_code</th>\n",
       "      <th>device_type_canonical</th>\n",
       "      <th>revenue</th>\n",
       "      <th>...</th>\n",
       "      <th>event_name</th>\n",
       "      <th>event_type_description</th>\n",
       "      <th>event_type_main</th>\n",
       "      <th>organizers</th>\n",
       "      <th>region_name</th>\n",
       "      <th>city_name</th>\n",
       "      <th>city_id</th>\n",
       "      <th>venue_id</th>\n",
       "      <th>venue_name</th>\n",
       "      <th>venue_address</th>\n",
       "    </tr>\n",
       "  </thead>\n",
       "  <tbody>\n",
       "    <tr>\n",
       "      <th>0</th>\n",
       "      <td>4359165</td>\n",
       "      <td>0002849b70a3ce2</td>\n",
       "      <td>2024-08-20</td>\n",
       "      <td>2024-08-20 16:08:03</td>\n",
       "      <td>169230</td>\n",
       "      <td>нет</td>\n",
       "      <td>16</td>\n",
       "      <td>rub</td>\n",
       "      <td>mobile</td>\n",
       "      <td>1521.94</td>\n",
       "      <td>...</td>\n",
       "      <td>f0f7b271-04eb-4af6-bcb8-8f05cf46d6ad</td>\n",
       "      <td>спектакль</td>\n",
       "      <td>театр</td>\n",
       "      <td>№3322</td>\n",
       "      <td>Каменевский регион</td>\n",
       "      <td>Глиногорск</td>\n",
       "      <td>213.0</td>\n",
       "      <td>3972.0</td>\n",
       "      <td>Сценический центр \"Деталь\" Групп</td>\n",
       "      <td>алл. Машиностроителей, д. 19 стр. 6</td>\n",
       "    </tr>\n",
       "    <tr>\n",
       "      <th>1</th>\n",
       "      <td>7965605</td>\n",
       "      <td>0005ca5e93f2cf4</td>\n",
       "      <td>2024-07-23</td>\n",
       "      <td>2024-07-23 18:36:24</td>\n",
       "      <td>237325</td>\n",
       "      <td>нет</td>\n",
       "      <td>0</td>\n",
       "      <td>rub</td>\n",
       "      <td>mobile</td>\n",
       "      <td>289.45</td>\n",
       "      <td>...</td>\n",
       "      <td>40efeb04-81b7-4135-b41f-708ff00cc64c</td>\n",
       "      <td>событие</td>\n",
       "      <td>выставки</td>\n",
       "      <td>№4850</td>\n",
       "      <td>Каменевский регион</td>\n",
       "      <td>Глиногорск</td>\n",
       "      <td>213.0</td>\n",
       "      <td>2941.0</td>\n",
       "      <td>Музыкальная школа для детей \"Аккаунт\" Лтд</td>\n",
       "      <td>алл. Шмидта, д. 9 стр. 4</td>\n",
       "    </tr>\n",
       "    <tr>\n",
       "      <th>2</th>\n",
       "      <td>7292370</td>\n",
       "      <td>0005ca5e93f2cf4</td>\n",
       "      <td>2024-10-06</td>\n",
       "      <td>2024-10-06 13:56:02</td>\n",
       "      <td>578454</td>\n",
       "      <td>нет</td>\n",
       "      <td>0</td>\n",
       "      <td>rub</td>\n",
       "      <td>mobile</td>\n",
       "      <td>1258.57</td>\n",
       "      <td>...</td>\n",
       "      <td>01f3fb7b-ed07-4f94-b1d3-9a2e1ee5a8ca</td>\n",
       "      <td>цирковое шоу</td>\n",
       "      <td>другое</td>\n",
       "      <td>№1540</td>\n",
       "      <td>Каменевский регион</td>\n",
       "      <td>Глиногорск</td>\n",
       "      <td>213.0</td>\n",
       "      <td>4507.0</td>\n",
       "      <td>Училище искусств \"Нирвана\" Инк</td>\n",
       "      <td>алл. Юбилейная, д. 5/6</td>\n",
       "    </tr>\n",
       "    <tr>\n",
       "      <th>3</th>\n",
       "      <td>1139875</td>\n",
       "      <td>000898990054619</td>\n",
       "      <td>2024-07-13</td>\n",
       "      <td>2024-07-13 19:40:48</td>\n",
       "      <td>387271</td>\n",
       "      <td>нет</td>\n",
       "      <td>0</td>\n",
       "      <td>rub</td>\n",
       "      <td>mobile</td>\n",
       "      <td>8.49</td>\n",
       "      <td>...</td>\n",
       "      <td>2f638715-8844-466c-b43f-378a627c419f</td>\n",
       "      <td>выставка</td>\n",
       "      <td>другое</td>\n",
       "      <td>№5049</td>\n",
       "      <td>Североярская область</td>\n",
       "      <td>Озёрск</td>\n",
       "      <td>2.0</td>\n",
       "      <td>3574.0</td>\n",
       "      <td>Театр альтернативного искусства \"Ода\" Лимитед</td>\n",
       "      <td>алл. Есенина, д. 243 к. 3/8</td>\n",
       "    </tr>\n",
       "    <tr>\n",
       "      <th>4</th>\n",
       "      <td>972400</td>\n",
       "      <td>000898990054619</td>\n",
       "      <td>2024-10-04</td>\n",
       "      <td>2024-10-04 22:33:15</td>\n",
       "      <td>509453</td>\n",
       "      <td>нет</td>\n",
       "      <td>18</td>\n",
       "      <td>rub</td>\n",
       "      <td>mobile</td>\n",
       "      <td>1390.41</td>\n",
       "      <td>...</td>\n",
       "      <td>10d805d3-9809-4d8a-834e-225b7d03f95d</td>\n",
       "      <td>шоу</td>\n",
       "      <td>стендап</td>\n",
       "      <td>№832</td>\n",
       "      <td>Озернинский край</td>\n",
       "      <td>Родниковецк</td>\n",
       "      <td>240.0</td>\n",
       "      <td>1896.0</td>\n",
       "      <td>Театр кукол \"Огни\" Инкорпорэйтед</td>\n",
       "      <td>ш. Набережное, д. 595 стр. 8</td>\n",
       "    </tr>\n",
       "  </tbody>\n",
       "</table>\n",
       "<p>5 rows × 29 columns</p>\n",
       "</div>"
      ],
      "text/plain": [
       "   order_id          user_id created_dt_msk      created_ts_msk  event_id  \\\n",
       "0   4359165  0002849b70a3ce2     2024-08-20 2024-08-20 16:08:03    169230   \n",
       "1   7965605  0005ca5e93f2cf4     2024-07-23 2024-07-23 18:36:24    237325   \n",
       "2   7292370  0005ca5e93f2cf4     2024-10-06 2024-10-06 13:56:02    578454   \n",
       "3   1139875  000898990054619     2024-07-13 2024-07-13 19:40:48    387271   \n",
       "4    972400  000898990054619     2024-10-04 2024-10-04 22:33:15    509453   \n",
       "\n",
       "  cinema_circuit  age_limit currency_code device_type_canonical  revenue  ...  \\\n",
       "0            нет         16           rub                mobile  1521.94  ...   \n",
       "1            нет          0           rub                mobile   289.45  ...   \n",
       "2            нет          0           rub                mobile  1258.57  ...   \n",
       "3            нет          0           rub                mobile     8.49  ...   \n",
       "4            нет         18           rub                mobile  1390.41  ...   \n",
       "\n",
       "                             event_name  event_type_description  \\\n",
       "0  f0f7b271-04eb-4af6-bcb8-8f05cf46d6ad               спектакль   \n",
       "1  40efeb04-81b7-4135-b41f-708ff00cc64c                 событие   \n",
       "2  01f3fb7b-ed07-4f94-b1d3-9a2e1ee5a8ca            цирковое шоу   \n",
       "3  2f638715-8844-466c-b43f-378a627c419f                выставка   \n",
       "4  10d805d3-9809-4d8a-834e-225b7d03f95d                     шоу   \n",
       "\n",
       "   event_type_main  organizers           region_name    city_name  city_id  \\\n",
       "0            театр       №3322    Каменевский регион   Глиногорск    213.0   \n",
       "1         выставки       №4850    Каменевский регион   Глиногорск    213.0   \n",
       "2           другое       №1540    Каменевский регион   Глиногорск    213.0   \n",
       "3           другое       №5049  Североярская область       Озёрск      2.0   \n",
       "4          стендап        №832      Озернинский край  Родниковецк    240.0   \n",
       "\n",
       "   venue_id                                     venue_name  \\\n",
       "0    3972.0               Сценический центр \"Деталь\" Групп   \n",
       "1    2941.0      Музыкальная школа для детей \"Аккаунт\" Лтд   \n",
       "2    4507.0                 Училище искусств \"Нирвана\" Инк   \n",
       "3    3574.0  Театр альтернативного искусства \"Ода\" Лимитед   \n",
       "4    1896.0               Театр кукол \"Огни\" Инкорпорэйтед   \n",
       "\n",
       "                         venue_address  \n",
       "0  алл. Машиностроителей, д. 19 стр. 6  \n",
       "1             алл. Шмидта, д. 9 стр. 4  \n",
       "2               алл. Юбилейная, д. 5/6  \n",
       "3          алл. Есенина, д. 243 к. 3/8  \n",
       "4         ш. Набережное, д. 595 стр. 8  \n",
       "\n",
       "[5 rows x 29 columns]"
      ]
     },
     "metadata": {},
     "output_type": "display_data"
    },
    {
     "name": "stdout",
     "output_type": "stream",
     "text": [
      "\n",
      "Общее количество заказов после объединения: 290849\n",
      "Количество уникальных мероприятий: 22446\n",
      "Количество уникальных регионов: 81\n",
      "Количество уникальных партнеров: 4293\n"
     ]
    }
   ],
   "source": [
    "## Объединим данные\n",
    "full_df = orders_df.merge(events_df, on='event_id', how='left')\n",
    "display(full_df.head())\n",
    "print(f\"\\nОбщее количество заказов после объединения: {len(full_df)}\")\n",
    "print(f\"Количество уникальных мероприятий: {full_df['event_id'].nunique()}\")\n",
    "print(f\"Количество уникальных регионов: {full_df['region_name'].nunique()}\")\n",
    "print(f\"Количество уникальных партнеров: {full_df['organizers'].nunique()}\")"
   ]
  },
  {
   "cell_type": "code",
   "execution_count": 11,
   "metadata": {},
   "outputs": [
    {
     "name": "stdout",
     "output_type": "stream",
     "text": [
      "625.0830544371823\n",
      "555.1279716611334\n"
     ]
    }
   ],
   "source": [
    "print(full_df['revenue'].mean())\n",
    "print(full_df['revenue_rub'].mean())"
   ]
  },
  {
   "cell_type": "markdown",
   "metadata": {},
   "source": [
    "Все датафреймы объеденены и приведены к единой валюте. Добавлены новые колонки revenue_rub выручка в единой валюте, one_ticket_revenue_rub выручка с 1 билета, month месяц, season сезон."
   ]
  },
  {
   "cell_type": "code",
   "execution_count": 12,
   "metadata": {},
   "outputs": [
    {
     "name": "stdout",
     "output_type": "stream",
     "text": [
      "Series([], dtype: int64)\n",
      "\n",
      "Размер данных после удаления строк с NaN (кроме days_since_prev): 290611\n"
     ]
    }
   ],
   "source": [
    "\n",
    "cols_critical = ['event_name', 'city_name', 'region_name', \n",
    "                 'organizers', 'event_type_main', 'event_type_description', 'city_id']\n",
    "\n",
    "full_df_filtered = full_df.dropna(subset=cols_critical)\n",
    "\n",
    "missing_summary_after = full_df_filtered[cols_critical].isna().sum()\n",
    "print(missing_summary_after[missing_summary_after > 0])\n",
    "\n",
    "print(f\"\\nРазмер данных после удаления строк с NaN (кроме days_since_prev): {len(full_df_filtered)}\")\n"
   ]
  },
  {
   "cell_type": "markdown",
   "metadata": {},
   "source": [
    "Удалено 238 строк данных, 0,08% где нет информации о событиях"
   ]
  },
  {
   "cell_type": "code",
   "execution_count": 13,
   "metadata": {},
   "outputs": [
    {
     "name": "stdout",
     "output_type": "stream",
     "text": [
      "Явных дубликатов строк: 0\n",
      "Неявных дубликатов по бронированию билета: 86451\n"
     ]
    }
   ],
   "source": [
    "exact_duplicates = full_df_filtered[full_df_filtered.duplicated()]\n",
    "print(f\"Явных дубликатов строк: {len(exact_duplicates)}\")\n",
    "\n",
    "cols_for_logical_duplicates = ['user_id', 'event_id', 'created_dt_msk', 'tickets_count', 'revenue_rub']\n",
    "\n",
    "logical_duplicates = full_df_filtered[full_df_filtered.duplicated(subset=cols_for_logical_duplicates, keep=False)]\n",
    "print(f\"Неявных дубликатов по бронированию билета: {len(logical_duplicates)}\")\n"
   ]
  },
  {
   "cell_type": "code",
   "execution_count": 14,
   "metadata": {},
   "outputs": [
    {
     "name": "stdout",
     "output_type": "stream",
     "text": [
      "Неявных дубликатов по уточнённым признакам: 83761\n"
     ]
    }
   ],
   "source": [
    "# Анализ неявных дубликатов\n",
    "cols_for_logical_duplicates = [\n",
    "    'user_id', \n",
    "    'event_id', \n",
    "    'created_dt_msk', \n",
    "    'tickets_count', \n",
    "    'revenue_rub',\n",
    "    'device_type_canonical',   \n",
    "    'service_name',            \n",
    "    'total'                    \n",
    "]\n",
    "\n",
    "logical_duplicates = full_df_filtered[\n",
    "    full_df_filtered.duplicated(subset=cols_for_logical_duplicates, keep=False)\n",
    "]\n",
    "\n",
    "print(f\"Неявных дубликатов по уточнённым признакам: {len(logical_duplicates)}\")\n"
   ]
  },
  {
   "cell_type": "code",
   "execution_count": 15,
   "metadata": {},
   "outputs": [
    {
     "data": {
      "text/html": [
       "<div>\n",
       "<style scoped>\n",
       "    .dataframe tbody tr th:only-of-type {\n",
       "        vertical-align: middle;\n",
       "    }\n",
       "\n",
       "    .dataframe tbody tr th {\n",
       "        vertical-align: top;\n",
       "    }\n",
       "\n",
       "    .dataframe thead th {\n",
       "        text-align: right;\n",
       "    }\n",
       "</style>\n",
       "<table border=\"1\" class=\"dataframe\">\n",
       "  <thead>\n",
       "    <tr style=\"text-align: right;\">\n",
       "      <th></th>\n",
       "      <th>order_id</th>\n",
       "      <th>user_id</th>\n",
       "      <th>created_dt_msk</th>\n",
       "      <th>created_ts_msk</th>\n",
       "      <th>event_id</th>\n",
       "      <th>cinema_circuit</th>\n",
       "      <th>age_limit</th>\n",
       "      <th>currency_code</th>\n",
       "      <th>device_type_canonical</th>\n",
       "      <th>revenue</th>\n",
       "      <th>...</th>\n",
       "      <th>event_name</th>\n",
       "      <th>event_type_description</th>\n",
       "      <th>event_type_main</th>\n",
       "      <th>organizers</th>\n",
       "      <th>region_name</th>\n",
       "      <th>city_name</th>\n",
       "      <th>city_id</th>\n",
       "      <th>venue_id</th>\n",
       "      <th>venue_name</th>\n",
       "      <th>venue_address</th>\n",
       "    </tr>\n",
       "  </thead>\n",
       "  <tbody>\n",
       "    <tr>\n",
       "      <th>9</th>\n",
       "      <td>6818017</td>\n",
       "      <td>000cf0659a9f40f</td>\n",
       "      <td>2024-06-20</td>\n",
       "      <td>2024-06-20 10:35:26</td>\n",
       "      <td>516728</td>\n",
       "      <td>нет</td>\n",
       "      <td>12</td>\n",
       "      <td>rub</td>\n",
       "      <td>mobile</td>\n",
       "      <td>1421.91</td>\n",
       "      <td>...</td>\n",
       "      <td>11be386f-7cb7-4aa1-a8e4-ba73a29c1af2</td>\n",
       "      <td>концерт</td>\n",
       "      <td>концерты</td>\n",
       "      <td>№1756</td>\n",
       "      <td>Широковская область</td>\n",
       "      <td>Радужнополье</td>\n",
       "      <td>35.0</td>\n",
       "      <td>4471.0</td>\n",
       "      <td>Киновидеостудия \"Тон\" и партнеры</td>\n",
       "      <td>ул. Тихая, д. 69 стр. 669</td>\n",
       "    </tr>\n",
       "    <tr>\n",
       "      <th>11</th>\n",
       "      <td>6818249</td>\n",
       "      <td>000cf0659a9f40f</td>\n",
       "      <td>2024-06-20</td>\n",
       "      <td>2024-06-20 10:49:48</td>\n",
       "      <td>516728</td>\n",
       "      <td>нет</td>\n",
       "      <td>12</td>\n",
       "      <td>rub</td>\n",
       "      <td>mobile</td>\n",
       "      <td>710.95</td>\n",
       "      <td>...</td>\n",
       "      <td>11be386f-7cb7-4aa1-a8e4-ba73a29c1af2</td>\n",
       "      <td>концерт</td>\n",
       "      <td>концерты</td>\n",
       "      <td>№1756</td>\n",
       "      <td>Широковская область</td>\n",
       "      <td>Радужнополье</td>\n",
       "      <td>35.0</td>\n",
       "      <td>4471.0</td>\n",
       "      <td>Киновидеостудия \"Тон\" и партнеры</td>\n",
       "      <td>ул. Тихая, д. 69 стр. 669</td>\n",
       "    </tr>\n",
       "    <tr>\n",
       "      <th>12</th>\n",
       "      <td>6818220</td>\n",
       "      <td>000cf0659a9f40f</td>\n",
       "      <td>2024-06-20</td>\n",
       "      <td>2024-06-20 10:56:16</td>\n",
       "      <td>516728</td>\n",
       "      <td>нет</td>\n",
       "      <td>12</td>\n",
       "      <td>rub</td>\n",
       "      <td>mobile</td>\n",
       "      <td>1421.91</td>\n",
       "      <td>...</td>\n",
       "      <td>11be386f-7cb7-4aa1-a8e4-ba73a29c1af2</td>\n",
       "      <td>концерт</td>\n",
       "      <td>концерты</td>\n",
       "      <td>№1756</td>\n",
       "      <td>Широковская область</td>\n",
       "      <td>Радужнополье</td>\n",
       "      <td>35.0</td>\n",
       "      <td>4471.0</td>\n",
       "      <td>Киновидеостудия \"Тон\" и партнеры</td>\n",
       "      <td>ул. Тихая, д. 69 стр. 669</td>\n",
       "    </tr>\n",
       "    <tr>\n",
       "      <th>13</th>\n",
       "      <td>6818075</td>\n",
       "      <td>000cf0659a9f40f</td>\n",
       "      <td>2024-06-20</td>\n",
       "      <td>2024-06-20 12:42:12</td>\n",
       "      <td>516728</td>\n",
       "      <td>нет</td>\n",
       "      <td>12</td>\n",
       "      <td>rub</td>\n",
       "      <td>mobile</td>\n",
       "      <td>1421.91</td>\n",
       "      <td>...</td>\n",
       "      <td>11be386f-7cb7-4aa1-a8e4-ba73a29c1af2</td>\n",
       "      <td>концерт</td>\n",
       "      <td>концерты</td>\n",
       "      <td>№1756</td>\n",
       "      <td>Широковская область</td>\n",
       "      <td>Радужнополье</td>\n",
       "      <td>35.0</td>\n",
       "      <td>4471.0</td>\n",
       "      <td>Киновидеостудия \"Тон\" и партнеры</td>\n",
       "      <td>ул. Тихая, д. 69 стр. 669</td>\n",
       "    </tr>\n",
       "    <tr>\n",
       "      <th>14</th>\n",
       "      <td>6818191</td>\n",
       "      <td>000cf0659a9f40f</td>\n",
       "      <td>2024-06-20</td>\n",
       "      <td>2024-06-20 10:51:10</td>\n",
       "      <td>516728</td>\n",
       "      <td>нет</td>\n",
       "      <td>12</td>\n",
       "      <td>rub</td>\n",
       "      <td>mobile</td>\n",
       "      <td>1421.91</td>\n",
       "      <td>...</td>\n",
       "      <td>11be386f-7cb7-4aa1-a8e4-ba73a29c1af2</td>\n",
       "      <td>концерт</td>\n",
       "      <td>концерты</td>\n",
       "      <td>№1756</td>\n",
       "      <td>Широковская область</td>\n",
       "      <td>Радужнополье</td>\n",
       "      <td>35.0</td>\n",
       "      <td>4471.0</td>\n",
       "      <td>Киновидеостудия \"Тон\" и партнеры</td>\n",
       "      <td>ул. Тихая, д. 69 стр. 669</td>\n",
       "    </tr>\n",
       "    <tr>\n",
       "      <th>15</th>\n",
       "      <td>6818046</td>\n",
       "      <td>000cf0659a9f40f</td>\n",
       "      <td>2024-06-20</td>\n",
       "      <td>2024-06-20 12:40:27</td>\n",
       "      <td>516728</td>\n",
       "      <td>нет</td>\n",
       "      <td>12</td>\n",
       "      <td>rub</td>\n",
       "      <td>mobile</td>\n",
       "      <td>1421.91</td>\n",
       "      <td>...</td>\n",
       "      <td>11be386f-7cb7-4aa1-a8e4-ba73a29c1af2</td>\n",
       "      <td>концерт</td>\n",
       "      <td>концерты</td>\n",
       "      <td>№1756</td>\n",
       "      <td>Широковская область</td>\n",
       "      <td>Радужнополье</td>\n",
       "      <td>35.0</td>\n",
       "      <td>4471.0</td>\n",
       "      <td>Киновидеостудия \"Тон\" и партнеры</td>\n",
       "      <td>ул. Тихая, д. 69 стр. 669</td>\n",
       "    </tr>\n",
       "    <tr>\n",
       "      <th>16</th>\n",
       "      <td>6818104</td>\n",
       "      <td>000cf0659a9f40f</td>\n",
       "      <td>2024-06-20</td>\n",
       "      <td>2024-06-20 12:46:11</td>\n",
       "      <td>516728</td>\n",
       "      <td>нет</td>\n",
       "      <td>12</td>\n",
       "      <td>rub</td>\n",
       "      <td>mobile</td>\n",
       "      <td>710.95</td>\n",
       "      <td>...</td>\n",
       "      <td>11be386f-7cb7-4aa1-a8e4-ba73a29c1af2</td>\n",
       "      <td>концерт</td>\n",
       "      <td>концерты</td>\n",
       "      <td>№1756</td>\n",
       "      <td>Широковская область</td>\n",
       "      <td>Радужнополье</td>\n",
       "      <td>35.0</td>\n",
       "      <td>4471.0</td>\n",
       "      <td>Киновидеостудия \"Тон\" и партнеры</td>\n",
       "      <td>ул. Тихая, д. 69 стр. 669</td>\n",
       "    </tr>\n",
       "  </tbody>\n",
       "</table>\n",
       "<p>7 rows × 29 columns</p>\n",
       "</div>"
      ],
      "text/plain": [
       "    order_id          user_id created_dt_msk      created_ts_msk  event_id  \\\n",
       "9    6818017  000cf0659a9f40f     2024-06-20 2024-06-20 10:35:26    516728   \n",
       "11   6818249  000cf0659a9f40f     2024-06-20 2024-06-20 10:49:48    516728   \n",
       "12   6818220  000cf0659a9f40f     2024-06-20 2024-06-20 10:56:16    516728   \n",
       "13   6818075  000cf0659a9f40f     2024-06-20 2024-06-20 12:42:12    516728   \n",
       "14   6818191  000cf0659a9f40f     2024-06-20 2024-06-20 10:51:10    516728   \n",
       "15   6818046  000cf0659a9f40f     2024-06-20 2024-06-20 12:40:27    516728   \n",
       "16   6818104  000cf0659a9f40f     2024-06-20 2024-06-20 12:46:11    516728   \n",
       "\n",
       "   cinema_circuit  age_limit currency_code device_type_canonical  revenue  \\\n",
       "9             нет         12           rub                mobile  1421.91   \n",
       "11            нет         12           rub                mobile   710.95   \n",
       "12            нет         12           rub                mobile  1421.91   \n",
       "13            нет         12           rub                mobile  1421.91   \n",
       "14            нет         12           rub                mobile  1421.91   \n",
       "15            нет         12           rub                mobile  1421.91   \n",
       "16            нет         12           rub                mobile   710.95   \n",
       "\n",
       "    ...                            event_name  event_type_description  \\\n",
       "9   ...  11be386f-7cb7-4aa1-a8e4-ba73a29c1af2                 концерт   \n",
       "11  ...  11be386f-7cb7-4aa1-a8e4-ba73a29c1af2                 концерт   \n",
       "12  ...  11be386f-7cb7-4aa1-a8e4-ba73a29c1af2                 концерт   \n",
       "13  ...  11be386f-7cb7-4aa1-a8e4-ba73a29c1af2                 концерт   \n",
       "14  ...  11be386f-7cb7-4aa1-a8e4-ba73a29c1af2                 концерт   \n",
       "15  ...  11be386f-7cb7-4aa1-a8e4-ba73a29c1af2                 концерт   \n",
       "16  ...  11be386f-7cb7-4aa1-a8e4-ba73a29c1af2                 концерт   \n",
       "\n",
       "    event_type_main  organizers          region_name     city_name  city_id  \\\n",
       "9          концерты       №1756  Широковская область  Радужнополье     35.0   \n",
       "11         концерты       №1756  Широковская область  Радужнополье     35.0   \n",
       "12         концерты       №1756  Широковская область  Радужнополье     35.0   \n",
       "13         концерты       №1756  Широковская область  Радужнополье     35.0   \n",
       "14         концерты       №1756  Широковская область  Радужнополье     35.0   \n",
       "15         концерты       №1756  Широковская область  Радужнополье     35.0   \n",
       "16         концерты       №1756  Широковская область  Радужнополье     35.0   \n",
       "\n",
       "    venue_id                        venue_name              venue_address  \n",
       "9     4471.0  Киновидеостудия \"Тон\" и партнеры  ул. Тихая, д. 69 стр. 669  \n",
       "11    4471.0  Киновидеостудия \"Тон\" и партнеры  ул. Тихая, д. 69 стр. 669  \n",
       "12    4471.0  Киновидеостудия \"Тон\" и партнеры  ул. Тихая, д. 69 стр. 669  \n",
       "13    4471.0  Киновидеостудия \"Тон\" и партнеры  ул. Тихая, д. 69 стр. 669  \n",
       "14    4471.0  Киновидеостудия \"Тон\" и партнеры  ул. Тихая, д. 69 стр. 669  \n",
       "15    4471.0  Киновидеостудия \"Тон\" и партнеры  ул. Тихая, д. 69 стр. 669  \n",
       "16    4471.0  Киновидеостудия \"Тон\" и партнеры  ул. Тихая, д. 69 стр. 669  \n",
       "\n",
       "[7 rows x 29 columns]"
      ]
     },
     "metadata": {},
     "output_type": "display_data"
    }
   ],
   "source": [
    "sample_duplicates = logical_duplicates.sort_values(['user_id', 'event_id', 'created_dt_msk']).head(7)\n",
    "display(sample_duplicates)\n"
   ]
  },
  {
   "cell_type": "code",
   "execution_count": 16,
   "metadata": {},
   "outputs": [
    {
     "name": "stdout",
     "output_type": "stream",
     "text": [
      "Количество строк в diff_df: 2690\n",
      "Уникальных пользователей с расхождениями: 718\n",
      "\n",
      "ТОП-10 пользователей с наибольшим числом таких заказов:\n"
     ]
    },
    {
     "data": {
      "text/html": [
       "<div>\n",
       "<style scoped>\n",
       "    .dataframe tbody tr th:only-of-type {\n",
       "        vertical-align: middle;\n",
       "    }\n",
       "\n",
       "    .dataframe tbody tr th {\n",
       "        vertical-align: top;\n",
       "    }\n",
       "\n",
       "    .dataframe thead th {\n",
       "        text-align: right;\n",
       "    }\n",
       "</style>\n",
       "<table border=\"1\" class=\"dataframe\">\n",
       "  <thead>\n",
       "    <tr style=\"text-align: right;\">\n",
       "      <th></th>\n",
       "      <th>user_id</th>\n",
       "      <th>n_suspicious_orders</th>\n",
       "    </tr>\n",
       "  </thead>\n",
       "  <tbody>\n",
       "    <tr>\n",
       "      <th>32</th>\n",
       "      <td>0beb8fc0c0a9ce1</td>\n",
       "      <td>147</td>\n",
       "    </tr>\n",
       "    <tr>\n",
       "      <th>72</th>\n",
       "      <td>18e9aead0a393e7</td>\n",
       "      <td>66</td>\n",
       "    </tr>\n",
       "    <tr>\n",
       "      <th>199</th>\n",
       "      <td>3ee7dc2e115847f</td>\n",
       "      <td>48</td>\n",
       "    </tr>\n",
       "    <tr>\n",
       "      <th>82</th>\n",
       "      <td>1c2a2133e1df1b4</td>\n",
       "      <td>40</td>\n",
       "    </tr>\n",
       "    <tr>\n",
       "      <th>378</th>\n",
       "      <td>8187dac4be757a0</td>\n",
       "      <td>39</td>\n",
       "    </tr>\n",
       "    <tr>\n",
       "      <th>366</th>\n",
       "      <td>7eb4fc207ecc10f</td>\n",
       "      <td>35</td>\n",
       "    </tr>\n",
       "    <tr>\n",
       "      <th>216</th>\n",
       "      <td>44c1c640a242aea</td>\n",
       "      <td>33</td>\n",
       "    </tr>\n",
       "    <tr>\n",
       "      <th>6</th>\n",
       "      <td>02ea4583333f064</td>\n",
       "      <td>30</td>\n",
       "    </tr>\n",
       "    <tr>\n",
       "      <th>246</th>\n",
       "      <td>4ec8f6429431987</td>\n",
       "      <td>30</td>\n",
       "    </tr>\n",
       "    <tr>\n",
       "      <th>324</th>\n",
       "      <td>6cf5aff356429e5</td>\n",
       "      <td>29</td>\n",
       "    </tr>\n",
       "  </tbody>\n",
       "</table>\n",
       "</div>"
      ],
      "text/plain": [
       "             user_id  n_suspicious_orders\n",
       "32   0beb8fc0c0a9ce1                  147\n",
       "72   18e9aead0a393e7                   66\n",
       "199  3ee7dc2e115847f                   48\n",
       "82   1c2a2133e1df1b4                   40\n",
       "378  8187dac4be757a0                   39\n",
       "366  7eb4fc207ecc10f                   35\n",
       "216  44c1c640a242aea                   33\n",
       "6    02ea4583333f064                   30\n",
       "246  4ec8f6429431987                   30\n",
       "324  6cf5aff356429e5                   29"
      ]
     },
     "metadata": {},
     "output_type": "display_data"
    }
   ],
   "source": [
    "# --- ШАГ 1. Определим два набора дублей ---\n",
    "# «широкие» дубли (по первым признакам)\n",
    "cols_basic = ['user_id', 'event_id', 'created_dt_msk', 'tickets_count', 'revenue_rub']\n",
    "dup_basic = full_df_filtered[full_df_filtered.duplicated(subset=cols_basic, keep=False)]\n",
    "\n",
    "# «уточнённые» дубли (с устройством, партнёром и total)\n",
    "cols_extended = cols_basic + ['device_type_canonical', 'service_name', 'total']\n",
    "dup_extended = full_df_filtered[full_df_filtered.duplicated(subset=cols_extended, keep=False)]\n",
    "\n",
    "# --- ШАГ 2. Найдём «разницу» = те самые 3000 строк ---\n",
    "diff_df = pd.concat([dup_basic, dup_extended]).drop_duplicates(keep=False)\n",
    "\n",
    "print(f\"Количество строк в diff_df: {len(diff_df)}\")\n",
    "\n",
    "# --- ШАГ 3. Посмотрим распределение по пользователям ---\n",
    "user_diff = diff_df.groupby(\"user_id\")['order_id'].count().reset_index()\n",
    "user_diff.rename(columns={'order_id':'n_suspicious_orders'}, inplace=True)\n",
    "\n",
    "print(f\"Уникальных пользователей с расхождениями: {user_diff['user_id'].nunique()}\")\n",
    "print(\"\\nТОП-10 пользователей с наибольшим числом таких заказов:\")\n",
    "display(user_diff.sort_values(by='n_suspicious_orders', ascending=False).head(10))\n"
   ]
  },
  {
   "cell_type": "code",
   "execution_count": 17,
   "metadata": {},
   "outputs": [
    {
     "name": "stdout",
     "output_type": "stream",
     "text": [
      "Общее количество строк после обработки неявных дубликатов: 288639\n"
     ]
    }
   ],
   "source": [
    "# Оставляем по одному заказу для каждого пользователя с расхождениями\n",
    "one_order_per_user = diff_df.groupby('user_id').first().reset_index()\n",
    "\n",
    "# Объединяем с остальными строками\n",
    "remaining_df = full_df_filtered[~full_df_filtered['order_id'].isin(diff_df['order_id'])]\n",
    "\n",
    "final_df = pd.concat([remaining_df, one_order_per_user], ignore_index=True)\n",
    "\n",
    "print(f\"Общее количество строк после обработки неявных дубликатов: {len(final_df)}\")\n"
   ]
  },
  {
   "cell_type": "markdown",
   "metadata": {},
   "source": [
    "Явных дубликатов нет. Неявные дубликаты есть, 2690 строк. Это пользователи, которые  совершали по несколько заказов на 1 мероприятие в 1 день. Чтобы избежать искажений в дальнейшем анализе данных, для таких пользователей оставлен 1 заказ."
   ]
  },
  {
   "cell_type": "code",
   "execution_count": 18,
   "metadata": {
    "scrolled": true
   },
   "outputs": [],
   "source": [
    "# Категориальные и количественные столбцы \n",
    "categorical_cols = ['currency_code', 'device_type_canonical', 'season', \n",
    "                    'event_type_main', 'organizers', 'region_name', 'city_name']\n",
    "quantitative_cols = ['revenue', 'tickets_count', 'revenue_rub', 'one_ticket_revenue_rub']\n",
    "\n",
    "# Нормализация категориальных данных\n",
    "for col in ['device_type_canonical', 'currency_code', 'season']:\n",
    "    if col in final_df.columns:\n",
    "        final_df.loc[:, col] = full_df[col].str.lower().str.strip()"
   ]
  },
  {
   "cell_type": "code",
   "execution_count": 19,
   "metadata": {},
   "outputs": [
    {
     "name": "stdout",
     "output_type": "stream",
     "text": [
      "Категориальные признаки:\n",
      "\n",
      "Столбец: currency_code\n",
      "rub    283637\n",
      "kzt      5002\n",
      "Name: currency_code, dtype: int64\n",
      "\n",
      "\n",
      "Столбец: device_type_canonical\n",
      "mobile     230905\n",
      "desktop     57734\n",
      "Name: device_type_canonical, dtype: int64\n",
      "\n",
      "\n",
      "Столбец: season\n",
      "осень    168461\n",
      "лето     120178\n",
      "Name: season, dtype: int64\n",
      "\n",
      "\n",
      "Столбец: event_type_main\n",
      "концерты    114460\n",
      "театр        66714\n",
      "другое       65572\n",
      "спорт        21739\n",
      "стендап      13325\n",
      "выставки      4843\n",
      "ёлки          1986\n",
      "Name: event_type_main, dtype: int64\n",
      "\n",
      "\n",
      "Столбец: organizers\n",
      "№1531    9656\n",
      "№2121    4682\n",
      "№4054    4312\n",
      "№4549    3922\n",
      "№4837    3337\n",
      "         ... \n",
      "№4940       1\n",
      "№2150       1\n",
      "№2712       1\n",
      "№2702       1\n",
      "№2362       1\n",
      "Name: organizers, Length: 4292, dtype: int64\n",
      "\n",
      "\n",
      "Столбец: region_name\n",
      "Каменевский регион          90283\n",
      "Североярская область        43804\n",
      "Широковская область         16359\n",
      "Медовская область           13782\n",
      "Озернинский край            10363\n",
      "                            ...  \n",
      "Лесноярский край               19\n",
      "Крутоводский регион            18\n",
      "Верхозёрский край              11\n",
      "Сосноводолинская область       10\n",
      "Теплоозёрский округ             7\n",
      "Name: region_name, Length: 81, dtype: int64\n",
      "\n",
      "\n",
      "Столбец: city_name\n",
      "Глиногорск       88677\n",
      "Озёрск           43665\n",
      "Радужсвет        13592\n",
      "Радужнополье      8701\n",
      "Верховино         6540\n",
      "                 ...  \n",
      "Поляноречинск        1\n",
      "Яблоновец            1\n",
      "Радужовинск          1\n",
      "Дальнеград           1\n",
      "Ягодинска            1\n",
      "Name: city_name, Length: 352, dtype: int64\n",
      "\n",
      "\n"
     ]
    }
   ],
   "source": [
    "# Анализ категориальных данных \n",
    "print(\"Категориальные признаки:\\n\")\n",
    "for col in categorical_cols:\n",
    "    if col in final_df.columns:\n",
    "        print(f\"Столбец: {col}\")\n",
    "        print(final_df[col].value_counts(dropna=False))\n",
    "        print(\"\\n\")\n",
    "    else:\n",
    "        print(f\"Столбец {col} отсутствует в данных.\\n\")"
   ]
  },
  {
   "cell_type": "markdown",
   "metadata": {},
   "source": [
    "Категорийный данные без особенностей, пропусков нет."
   ]
  },
  {
   "cell_type": "code",
   "execution_count": 20,
   "metadata": {},
   "outputs": [
    {
     "name": "stdout",
     "output_type": "stream",
     "text": [
      "Статистика для revenue:\n",
      "count    288639.000000\n",
      "mean        624.258409\n",
      "std        1224.456808\n",
      "min         -90.760000\n",
      "1%            0.000000\n",
      "25%         116.790000\n",
      "50%         355.060000\n",
      "75%         808.670000\n",
      "99%        3891.660000\n",
      "max       81174.540000\n",
      "Name: revenue, dtype: float64\n"
     ]
    },
    {
     "data": {
      "image/png": "[encoded data removed]",
      "text/plain": [
       "<Figure size 864x288 with 2 Axes>"
      ]
     },
     "metadata": {
      "needs_background": "light"
     },
     "output_type": "display_data"
    },
    {
     "name": "stdout",
     "output_type": "stream",
     "text": [
      "Статистика для tickets_count:\n",
      "count    288639.000000\n",
      "mean          2.754510\n",
      "std           1.170898\n",
      "min           1.000000\n",
      "1%            1.000000\n",
      "25%           2.000000\n",
      "50%           3.000000\n",
      "75%           4.000000\n",
      "99%           6.000000\n",
      "max          57.000000\n",
      "Name: tickets_count, dtype: float64\n"
     ]
    },
    {
     "data": {
      "image/png": "[encoded data removed]",
      "text/plain": [
       "<Figure size 864x288 with 2 Axes>"
      ]
     },
     "metadata": {
      "needs_background": "light"
     },
     "output_type": "display_data"
    },
    {
     "name": "stdout",
     "output_type": "stream",
     "text": [
      "Статистика для revenue_rub:\n",
      "count    288639.000000\n",
      "mean        555.010660\n",
      "std         877.000922\n",
      "min         -90.760000\n",
      "1%            0.000000\n",
      "25%         113.710000\n",
      "50%         349.940000\n",
      "75%         801.960000\n",
      "99%        2628.421739\n",
      "max       81174.540000\n",
      "Name: revenue_rub, dtype: float64\n"
     ]
    },
    {
     "data": {
      "image/png": "[encoded data removed]",
      "text/plain": [
       "<Figure size 864x288 with 2 Axes>"
      ]
     },
     "metadata": {
      "needs_background": "light"
     },
     "output_type": "display_data"
    },
    {
     "name": "stdout",
     "output_type": "stream",
     "text": [
      "Статистика для one_ticket_revenue_rub:\n",
      "count    288639.000000\n",
      "mean        200.985745\n",
      "std         303.498821\n",
      "min         -18.152000\n",
      "1%            0.000000\n",
      "25%          46.820000\n",
      "50%         149.396667\n",
      "75%         308.380000\n",
      "99%         772.500000\n",
      "max       21757.540000\n",
      "Name: one_ticket_revenue_rub, dtype: float64\n"
     ]
    },
    {
     "data": {
      "image/png": "[encoded data removed]",
      "text/plain": [
       "<Figure size 864x288 with 2 Axes>"
      ]
     },
     "metadata": {
      "needs_background": "light"
     },
     "output_type": "display_data"
    }
   ],
   "source": [
    "# Анализ количественных данных\n",
    "for col in quantitative_cols:\n",
    "    print(f\"Статистика для {col}:\")\n",
    "    print(final_df[col].describe(percentiles=[0.01,0.25,0.5,0.75,0.99]))\n",
    "    \n",
    "    plt.figure(figsize=(12,4))\n",
    "    \n",
    "    # Гистограмма\n",
    "    plt.subplot(1,2,1)\n",
    "    sns.histplot(final_df[col], bins=50, kde=True)\n",
    "    plt.title(f\"Гистограмма для {col}\", fontsize=14)\n",
    "    plt.xlabel(col, fontsize=12)\n",
    "    plt.ylabel(\"Количество заказов\", fontsize=12)\n",
    "    \n",
    "    # Диаграмма размаха\n",
    "    plt.subplot(1,2,2)\n",
    "    sns.boxplot(x=final_df[col])\n",
    "    plt.title(f\"Диаграмма размаха для {col}\", fontsize=14)\n",
    "    plt.xlabel(col, fontsize=12)\n",
    "    \n",
    "    plt.tight_layout()\n",
    "    plt.show()\n"
   ]
  },
  {
   "cell_type": "markdown",
   "metadata": {},
   "source": [
    "revenue (сумма заказа в исходной валюте)\n",
    "min = -90.76 встречаются отрицательные значения, их нужно удалить или исправить.\n",
    "max = 81 174.54, 99-й процентиль = 4 000.19 есть крупные выбросы.\n",
    "median = 355.34, mean = 625.08 среднее выше медианы из-за выбросов.\n",
    "Вывод: данные сильно скошены вправо. Для анализа полезно фильтровать по 99-му процентилю, чтобы убрать экстремальные заказы.\n",
    "tickets_count (количество билетов)\n",
    "min = 1, max = 57, median = 3, mean = 2.75\n",
    "1% квантиль = 1, 99% квантиль = 6 редкие заказы с большим количеством билетов (выбросы)\n",
    "Вывод: большая часть заказов - 1-6 билетов, редкие крупные покупки могут сильно влиять на средние значения выручки.\n",
    "revenue_rub (выручка в рублях)\n",
    "min = -90.76, 99-й процентиль = 2 628.42, max = 81 174.54\n",
    "Присутствуют отрицательные значения их нужно удалить.\n",
    "median = 350.26, mean = 555.13 выборка с сильным правым хвостом.\n",
    "Вывод: после конвертации в рубли ситуация с выбросами сохранилась, требуется фильтрация по 99-му процентилю и удаление отрицательных.\n",
    "one_ticket_revenue_rub (выручка с одного билета)\n",
    "min = -18.15, median = 149.46, mean = 201.03, 99-й процентиль = 772.5, max = 21 757.54\n",
    "Отрицательные и очень большие значения выбросы.\n",
    "Вывод: для анализа средней стоимости билета рекомендуется исключить отрицательные значения и использовать фильтр по 99-му процентилю."
   ]
  },
  {
   "cell_type": "code",
   "execution_count": 21,
   "metadata": {},
   "outputs": [
    {
     "name": "stdout",
     "output_type": "stream",
     "text": [
      "\n",
      "Размер данных после фильтрации по 99% выручки: 285753\n"
     ]
    }
   ],
   "source": [
    "# Определяем 99-й процентиль выручки по валютам\n",
    "revenue_rub_99 = final_df[final_df['currency_code']=='rub']['revenue'].quantile(0.99)\n",
    "revenue_kzt_99 = final_df[final_df['currency_code']=='kzt']['revenue'].quantile(0.99)\n",
    "\n",
    "# Фильтруем данные, оставляя только заказы до 99-го процентиля\n",
    "final_df = final_df[\n",
    "    ((final_df['currency_code']=='rub') & (final_df['revenue'] <= revenue_rub_99)) |\n",
    "    ((final_df['currency_code']=='kzt') & (final_df['revenue'] <= revenue_kzt_99))\n",
    "].copy()\n",
    "\n",
    "print(f\"\\nРазмер данных после фильтрации по 99% выручки: {len(final_df)}\")\n"
   ]
  },
  {
   "cell_type": "code",
   "execution_count": 22,
   "metadata": {},
   "outputs": [
    {
     "name": "stdout",
     "output_type": "stream",
     "text": [
      "Размер данных после удаления отрицательных значений: 285375\n"
     ]
    }
   ],
   "source": [
    "final_df = final_df[\n",
    "    (final_df['revenue'] >= 0) &\n",
    "    (final_df['revenue_rub'] >= 0) &\n",
    "    (final_df['one_ticket_revenue_rub'] >= 0)\n",
    "].copy()\n",
    "\n",
    "print(f\"Размер данных после удаления отрицательных значений: {len(final_df)}\")\n"
   ]
  },
  {
   "cell_type": "markdown",
   "metadata": {},
   "source": [
    "Проведена полная предобратка данных. Убраны пропуски в ключевых колонках, отрицательные значения в денежных колонках, сильные выбросы, проведена работа над неявными дубликатами. Для исселдовательского анализа осталось 285375 строк чистых данных."
   ]
  },
  {
   "cell_type": "markdown",
   "metadata": {},
   "source": [
    "## Исследовательский анализ данных:"
   ]
  },
  {
   "cell_type": "markdown",
   "metadata": {},
   "source": [
    "1. Анализ распределения заказов по сегментам и их сезонные изменения"
   ]
  },
  {
   "cell_type": "markdown",
   "metadata": {},
   "source": [
    "- Количество заказов по месяцам"
   ]
  },
  {
   "cell_type": "code",
   "execution_count": 23,
   "metadata": {},
   "outputs": [
    {
     "data": {
      "image/png": "[encoded data removed]",
      "text/plain": [
       "<Figure size 720x360 with 1 Axes>"
      ]
     },
     "metadata": {
      "needs_background": "light"
     },
     "output_type": "display_data"
    }
   ],
   "source": [
    "# Группировка по месяцам и подсчет количества заказов\n",
    "monthly_orders = final_df.groupby('month')['order_id'].count().reset_index()\n",
    "monthly_orders.rename(columns={'order_id': 'Количество заказов'}, inplace=True)\n",
    "\n",
    "# Оставляем только месяцы с 6 по 10\n",
    "monthly_orders = monthly_orders[monthly_orders['month'].between(6, 10)]\n",
    "plt.figure(figsize=(10,5))\n",
    "sns.barplot(data=monthly_orders, x='month', y='Количество заказов', palette=\"viridis\")\n",
    "plt.title(\"Количество заказов по месяцам (2024)\", fontsize=14)\n",
    "plt.xlabel(\"Месяц\", fontsize=12)\n",
    "plt.ylabel(\"Количество заказов\", fontsize=12)\n",
    "plt.xticks(range(0, len(monthly_orders)), monthly_orders['month'])\n",
    "plt.grid(axis='y', linestyle='--', alpha=0.7)\n",
    "plt.show()\n",
    "\n"
   ]
  },
  {
   "cell_type": "markdown",
   "metadata": {},
   "source": [
    "- Распределение заказов по категориям летом и осенью"
   ]
  },
  {
   "cell_type": "markdown",
   "metadata": {},
   "source": [
    "В летние месяцы заказов меньше. В июне около 3 тысяч, в августе чуть больше 4. В осенние месяцы значительный рост - в сентябре 7000, в октябре около 10 000 заказов. "
   ]
  },
  {
   "cell_type": "code",
   "execution_count": 24,
   "metadata": {},
   "outputs": [
    {
     "data": {
      "image/png": "[encoded data removed]",
      "text/plain": [
       "<Figure size 720x360 with 1 Axes>"
      ]
     },
     "metadata": {
      "needs_background": "light"
     },
     "output_type": "display_data"
    },
    {
     "data": {
      "image/png": "[encoded data removed]",
      "text/plain": [
       "<Figure size 720x360 with 1 Axes>"
      ]
     },
     "metadata": {
      "needs_background": "light"
     },
     "output_type": "display_data"
    },
    {
     "data": {
      "image/png": "[encoded data removed]",
      "text/plain": [
       "<Figure size 720x360 with 1 Axes>"
      ]
     },
     "metadata": {
      "needs_background": "light"
     },
     "output_type": "display_data"
    }
   ],
   "source": [
    "categorical_cols = ['event_type_main', 'device_type_canonical', 'age_limit']\n",
    "\n",
    "for col in categorical_cols:\n",
    "    temp = final_df.groupby(['season', col])['order_id'].count().reset_index()\n",
    "    temp.rename(columns={'order_id': 'Количество заказов'}, inplace=True)\n",
    "    \n",
    "    temp['Доля заказов'] = temp.groupby('season')['Количество заказов'].transform(lambda x: x / x.sum())\n",
    "    \n",
    "    plt.figure(figsize=(10,5))\n",
    "    sns.barplot(data=temp, x=col, y='Доля заказов', hue='season', palette=['#1f77b4','#ff7f0e'])\n",
    "    plt.title(f\"Распределение заказов по {col} летом и осенью (доли)\", fontsize=14)\n",
    "    plt.xlabel(col.replace('_', ' ').capitalize(), fontsize=12)\n",
    "    plt.ylabel(\"Доля заказов\", fontsize=12)\n",
    "    plt.xticks(rotation=45)\n",
    "    plt.legend(title='Сезон', labels=['Осень', 'Лето'])\n",
    "    plt.grid(axis='y', linestyle='--', alpha=0.7)\n",
    "    plt.show()"
   ]
  },
  {
   "cell_type": "markdown",
   "metadata": {},
   "source": [
    "По типу мероприятия больше всего концертов(около 40%), театр и другое. Выраженной сезонности нет.\n",
    "По типу устройства выраженной сезонности нет, около 80% заказов приходят с мобильных устройств.\n",
    "По возрасту больше всего заказов в группе 16 и 12 лет. Выраженной сезонности нет"
   ]
  },
  {
   "cell_type": "markdown",
   "metadata": {},
   "source": [
    "- Средняя стоимость билета по типу мероприятия летом и осенью"
   ]
  },
  {
   "cell_type": "code",
   "execution_count": 25,
   "metadata": {},
   "outputs": [
    {
     "data": {
      "image/png": "[encoded data removed]",
      "text/plain": [
       "<Figure size 720x360 with 1 Axes>"
      ]
     },
     "metadata": {
      "needs_background": "light"
     },
     "output_type": "display_data"
    }
   ],
   "source": [
    "\n",
    "avg_ticket_revenue = final_df.groupby(['season', 'event_type_main'])['one_ticket_revenue_rub'].mean().reset_index()\n",
    "\n",
    "summer = avg_ticket_revenue[avg_ticket_revenue['season'] == 'лето'].set_index('event_type_main')\n",
    "autumn = avg_ticket_revenue[avg_ticket_revenue['season'] == 'осень'].set_index('event_type_main')\n",
    "change = ((autumn['one_ticket_revenue_rub'] - summer['one_ticket_revenue_rub']) / summer['one_ticket_revenue_rub'] * 100).reset_index()\n",
    "change.rename(columns={'one_ticket_revenue_rub': 'Изменение_%', 'event_type_main':'Тип мероприятия'}, inplace=True)\n",
    "\n",
    "plt.figure(figsize=(10,5))\n",
    "sns.barplot(x='Тип мероприятия', y='Изменение_%', data=change, palette='viridis')\n",
    "plt.title(\"Относительное изменение средней стоимости билета (осень vs лето), %\", fontsize=14)\n",
    "plt.ylabel(\"Изменение, %\", fontsize=12)\n",
    "plt.xlabel(\"Тип мероприятия\", fontsize=12)\n",
    "plt.xticks(rotation=45)\n",
    "plt.axhline(0, color='black', linestyle='--')\n",
    "plt.grid(axis='y', linestyle='--', alpha=0.7)\n",
    "plt.show()\n"
   ]
  },
  {
   "cell_type": "markdown",
   "metadata": {},
   "source": [
    "Осенью дороже выставки, спорт и концерты. Остальные мероприятия дороже летом."
   ]
  },
  {
   "cell_type": "markdown",
   "metadata": {},
   "source": [
    "2.Осенняя активность пользователей"
   ]
  },
  {
   "cell_type": "code",
   "execution_count": 26,
   "metadata": {},
   "outputs": [
    {
     "data": {
      "image/png": "[encoded data removed]",
      "text/plain": [
       "<Figure size 1080x576 with 4 Axes>"
      ]
     },
     "metadata": {
      "needs_background": "light"
     },
     "output_type": "display_data"
    }
   ],
   "source": [
    "autumn_df = final_df[final_df['season']=='осень'].copy()\n",
    "\n",
    "autumn_df['день_недели'] = autumn_df['created_dt_msk'].dt.day_name()\n",
    "\n",
    "daily_stats = autumn_df.groupby('created_dt_msk').agg(\n",
    "    количество_заказов=('order_id','count'),\n",
    "    активные_пользователи=('user_id','nunique'),\n",
    "    средняя_стоимость_билета=('one_ticket_revenue_rub','mean')\n",
    ").reset_index()\n",
    "\n",
    "daily_stats['заказы_на_пользователя'] = daily_stats['количество_заказов'] / daily_stats['активные_пользователи']\n",
    "\n",
    "plt.figure(figsize=(15,8))\n",
    "\n",
    "plt.subplot(2,2,1)\n",
    "sns.lineplot(data=daily_stats, x='created_dt_msk', y='количество_заказов', marker='o')\n",
    "plt.title(\"Количество заказов по дням\")\n",
    "plt.xlabel(\"Дата\")\n",
    "plt.ylabel(\"Количество заказов\")\n",
    "plt.xticks(rotation=45)\n",
    "\n",
    "plt.subplot(2,2,2)\n",
    "sns.lineplot(data=daily_stats, x='created_dt_msk', y='активные_пользователи', marker='o', color='green')\n",
    "plt.title(\"Количество активных пользователей (DAU) по дням\")\n",
    "plt.xlabel(\"Дата\")\n",
    "plt.ylabel(\"DAU\")\n",
    "plt.xticks(rotation=45)\n",
    "\n",
    "plt.subplot(2,2,3)\n",
    "sns.lineplot(data=daily_stats, x='created_dt_msk', y='заказы_на_пользователя', marker='o', color='orange')\n",
    "plt.title(\"Среднее число заказов на одного пользователя\")\n",
    "plt.xlabel(\"Дата\")\n",
    "plt.ylabel(\"Заказы на пользователя\")\n",
    "plt.xticks(rotation=45)\n",
    "\n",
    "plt.subplot(2,2,4)\n",
    "sns.lineplot(data=daily_stats, x='created_dt_msk', y='средняя_стоимость_билета', marker='o', color='red')\n",
    "plt.title(\"Средняя стоимость одного билета\")\n",
    "plt.xlabel(\"Дата\")\n",
    "plt.ylabel(\"Средняя стоимость (руб.)\")\n",
    "plt.xticks(rotation=45)\n",
    "\n",
    "plt.tight_layout()\n",
    "plt.show()\n"
   ]
  },
  {
   "cell_type": "markdown",
   "metadata": {},
   "source": [
    "Пики количества заказов по дням произошли в первых числах сентября и первых числах октября(до 7000 заказов). DAU постепенно растет с 600 в сентябре до около 1000 в октябре, в летние месяцы 300-400. Среднее число заказов на 1 пользователя также было 2 пика в первых числах сентября и октября, около 6.Средняя стоимость билета около 160, есть 2 периода резкого снижения первые числа сентября и октября."
   ]
  },
  {
   "cell_type": "code",
   "execution_count": 27,
   "metadata": {},
   "outputs": [
    {
     "data": {
      "image/png": "[encoded data removed]",
      "text/plain": [
       "<Figure size 864x360 with 1 Axes>"
      ]
     },
     "metadata": {
      "needs_background": "light"
     },
     "output_type": "display_data"
    }
   ],
   "source": [
    "# День недели и выходные\n",
    "daily_stats['день_недели'] = daily_stats['created_dt_msk'].dt.day_name()\n",
    "daily_stats['выходной'] = daily_stats['день_недели'].isin(['Saturday', 'Sunday'])\n",
    "\n",
    "# Сводка по дням недели\n",
    "weekly_stats = daily_stats.groupby('день_недели').agg(\n",
    "    среднее_количество_заказов=('количество_заказов','mean'),\n",
    "    среднее_активные_пользователи=('активные_пользователи','mean'),\n",
    "    средние_заказы_на_пользователя=('заказы_на_пользователя','mean'),\n",
    "    средняя_стоимость_билета=('средняя_стоимость_билета','mean')\n",
    ").reindex(['Monday','Tuesday','Wednesday','Thursday','Friday','Saturday','Sunday']).reset_index()\n",
    "\n",
    "plt.figure(figsize=(12,5))\n",
    "sns.barplot(data=weekly_stats, x='день_недели', y='среднее_количество_заказов', palette='viridis')\n",
    "plt.title(\"Среднее количество заказов по дням недели\")\n",
    "plt.xlabel(\"День недели\")\n",
    "plt.ylabel(\"Среднее количество заказов\")\n",
    "plt.xticks(rotation=45)\n",
    "plt.show()\n",
    "\n"
   ]
  },
  {
   "cell_type": "markdown",
   "metadata": {},
   "source": [
    "По дням недели больше всего заказов во вторник, четверг и пятницу. Меньше всего в воскресенье.\n"
   ]
  },
  {
   "cell_type": "markdown",
   "metadata": {},
   "source": [
    "3. Популярные события и партнёры"
   ]
  },
  {
   "cell_type": "code",
   "execution_count": 28,
   "metadata": {},
   "outputs": [
    {
     "data": {
      "image/png": "[encoded data removed]",
      "text/plain": [
       "<Figure size 864x360 with 1 Axes>"
      ]
     },
     "metadata": {
      "needs_background": "light"
     },
     "output_type": "display_data"
    },
    {
     "data": {
      "image/png": "[encoded data removed]",
      "text/plain": [
       "<Figure size 864x360 with 1 Axes>"
      ]
     },
     "metadata": {
      "needs_background": "light"
     },
     "output_type": "display_data"
    }
   ],
   "source": [
    "region_stats = autumn_df.groupby('region_name').agg(\n",
    "    unique_events=('event_id','nunique'),\n",
    "    orders_count=('order_id','count')\n",
    ").reset_index()\n",
    "\n",
    "region_stats['event_share'] = region_stats['unique_events'] / region_stats['unique_events'].sum()\n",
    "region_stats['orders_share'] = region_stats['orders_count'] / region_stats['orders_count'].sum()\n",
    "\n",
    "region_stats = region_stats.sort_values(by='unique_events', ascending=False)\n",
    "region_stats.head(10)\n",
    "plt.figure(figsize=(12,5))\n",
    "sns.barplot(data=region_stats.head(10), x='region_name', y='unique_events', color='skyblue')\n",
    "plt.title(\"Топ-10 регионов по количеству уникальных мероприятий (осень 2024)\")\n",
    "plt.xticks(rotation=45)\n",
    "plt.ylabel(\"Количество уникальных мероприятий\")\n",
    "plt.show()\n",
    "\n",
    "plt.figure(figsize=(12,5))\n",
    "sns.barplot(data=region_stats.head(10), x='region_name', y='orders_count', color='salmon')\n",
    "plt.title(\"Топ-10 регионов по количеству заказов (осень 2024)\")\n",
    "plt.xticks(rotation=45)\n",
    "plt.ylabel(\"Количество заказов\")\n",
    "plt.show()\n"
   ]
  },
  {
   "cell_type": "markdown",
   "metadata": {},
   "source": [
    "Больше всего мероприятий осенью проходит в Каменевском регионе(около 5000) и Североярской области(около 3000).Лидеры по количеству заказов теже. В Каменевском регионе около 50000) и Североярской области около 25000."
   ]
  },
  {
   "cell_type": "code",
   "execution_count": 29,
   "metadata": {},
   "outputs": [
    {
     "data": {
      "image/png": "[encoded data removed]",
      "text/plain": [
       "<Figure size 864x360 with 1 Axes>"
      ]
     },
     "metadata": {
      "needs_background": "light"
     },
     "output_type": "display_data"
    },
    {
     "data": {
      "image/png": "[encoded data removed]",
      "text/plain": [
       "<Figure size 864x360 with 1 Axes>"
      ]
     },
     "metadata": {
      "needs_background": "light"
     },
     "output_type": "display_data"
    }
   ],
   "source": [
    "partner_stats = autumn_df.groupby('service_name').agg(\n",
    "    unique_events=('event_id','nunique'),\n",
    "    orders_count=('order_id','count'),\n",
    "    revenue_total=('revenue_rub','sum')\n",
    ").reset_index()\n",
    "\n",
    "partner_stats['event_share'] = partner_stats['unique_events'] / partner_stats['unique_events'].sum()\n",
    "partner_stats['orders_share'] = partner_stats['orders_count'] / partner_stats['orders_count'].sum()\n",
    "partner_stats['revenue_share'] = partner_stats['revenue_total'] / partner_stats['revenue_total'].sum()\n",
    "\n",
    "partner_stats = partner_stats.sort_values(by='orders_count', ascending=False)\n",
    "partner_stats.head(10)\n",
    "plt.figure(figsize=(12,5))\n",
    "sns.barplot(data=partner_stats.head(10), x='service_name', y='orders_count', color='skyblue')\n",
    "plt.title(\"Топ-10 партнёров по количеству заказов (осень 2024)\")\n",
    "plt.xticks(rotation=45)\n",
    "plt.ylabel(\"Количество заказов\")\n",
    "plt.show()\n",
    "\n",
    "plt.figure(figsize=(12,5))\n",
    "sns.barplot(data=partner_stats.head(10), x='service_name', y='revenue_total', color='salmon')\n",
    "plt.title(\"Топ-10 партнёров по выручке (осень 2024)\")\n",
    "plt.xticks(rotation=45)\n",
    "plt.ylabel(\"Выручка, RUB\")\n",
    "plt.show()\n"
   ]
  },
  {
   "cell_type": "markdown",
   "metadata": {},
   "source": [
    "Топ-партнеры по количесвту заказов осенью Билеты без проблем, Лови билет и Билеты в руки. По выручке лидер Билеты без проблем, \n",
    "также Мой билет и Облачно."
   ]
  },
  {
   "cell_type": "markdown",
   "metadata": {},
   "source": [
    "##  Статистический анализ данных"
   ]
  },
  {
   "cell_type": "markdown",
   "metadata": {},
   "source": [
    "Гипотеза 1: Среднее количество заказов на пользователя\n",
    "\n",
    "H0 (нулевая): среднее orders_per_user у мобильных пользователей не больше чем у десктопных\n",
    "H1 (альтернатива): среднее orders_per_user у мобильных пользователей больше чем у десктопных\n",
    "\n",
    "Гипотеза 2: Среднее время между заказами\n",
    "\n",
    "H0 (нулевая): среднее время между заказами у мобильных пользователей не выше, чем у десктопных\n",
    "H1 (альтернатива): среднее время между заказами у мобильных пользователей выше, чем у десктопных"
   ]
  },
  {
   "cell_type": "code",
   "execution_count": 30,
   "metadata": {},
   "outputs": [
    {
     "name": "stdout",
     "output_type": "stream",
     "text": [
      "Среднее количество заказов на пользователя:\n",
      "Медиана мобильных: 2.00, медиана десктопа: 2.00\n",
      "Среднее мобильных: 11.75, среднее десктопа: 6.64\n",
      "t-statistic=6.00, p-value=1.0267e-09\n",
      "\n",
      "Среднее время между заказами:\n",
      "Медиана мобильных: 7.31, медиана десктопа: 3.50\n",
      "Среднее мобильных: 15.37, среднее десктопа: 12.21\n",
      "t-statistic=9.51, p-value=1.1035e-21\n",
      "\n"
     ]
    },
    {
     "data": {
      "image/png": "[encoded data removed]",
      "text/plain": [
       "<Figure size 1008x432 with 2 Axes>"
      ]
     },
     "metadata": {
      "needs_background": "light"
     },
     "output_type": "display_data"
    }
   ],
   "source": [
    "# 1. Подсчёт заказов на пользователя\n",
    "orders_per_user = final_df.groupby(['user_id','device_type_canonical']).agg(\n",
    "    orders_count=('order_id','count')\n",
    ").reset_index()\n",
    "\n",
    "# 2. Среднее время между заказами\n",
    "time_between_orders = final_df.groupby(['user_id','device_type_canonical']).agg(\n",
    "    avg_days_between_orders=('days_since_prev','mean')\n",
    ").reset_index()\n",
    "\n",
    "mobile_orders = orders_per_user[orders_per_user['device_type_canonical']=='mobile']['orders_count']\n",
    "desktop_orders = orders_per_user[orders_per_user['device_type_canonical']=='desktop']['orders_count']\n",
    "\n",
    "mobile_days = time_between_orders[time_between_orders['device_type_canonical']=='mobile']['avg_days_between_orders'].dropna()\n",
    "desktop_days = time_between_orders[time_between_orders['device_type_canonical']=='desktop']['avg_days_between_orders'].dropna()\n",
    "\n",
    "# Гипотеза 1\n",
    "stat_orders, p_orders = ttest_ind(\n",
    "    mobile_orders, desktop_orders, \n",
    "    equal_var=False, alternative='greater'\n",
    ")\n",
    "print(\"Среднее количество заказов на пользователя:\")\n",
    "print(f\"Медиана мобильных: {mobile_orders.median():.2f}, медиана десктопа: {desktop_orders.median():.2f}\")\n",
    "print(f\"Среднее мобильных: {mobile_orders.mean():.2f}, среднее десктопа: {desktop_orders.mean():.2f}\")\n",
    "print(f\"t-statistic={stat_orders:.2f}, p-value={p_orders:.5g}\\n\")\n",
    "\n",
    "# Гипотеза 2:\n",
    "stat_days, p_days = ttest_ind(\n",
    "    mobile_days, desktop_days, \n",
    "    equal_var=False, alternative='greater'\n",
    ")\n",
    "print(\"Среднее время между заказами:\")\n",
    "print(f\"Медиана мобильных: {mobile_days.median():.2f}, медиана десктопа: {desktop_days.median():.2f}\")\n",
    "print(f\"Среднее мобильных: {mobile_days.mean():.2f}, среднее десктопа: {desktop_days.mean():.2f}\")\n",
    "print(f\"t-statistic={stat_days:.2f}, p-value={p_days:.5g}\\n\")\n",
    "\n",
    "# Визуализация\n",
    "plt.figure(figsize=(14,6))\n",
    "\n",
    "plt.subplot(1,2,1)\n",
    "sns.boxplot(x='device_type_canonical', y='orders_count', data=orders_per_user, palette=['#66c2a5','#fc8d62'])\n",
    "plt.title(\"Распределение числа заказов на пользователя по типу устройства\")\n",
    "plt.xlabel(\"Тип устройства\")\n",
    "plt.ylabel(\"Число заказов\")\n",
    "\n",
    "plt.subplot(1,2,2)\n",
    "sns.boxplot(x='device_type_canonical', y='avg_days_between_orders', data=time_between_orders, palette=['#66c2a5','#fc8d62'])\n",
    "plt.title(\"Распределение среднего времени между заказами по типу устройства\")\n",
    "plt.xlabel(\"Тип устройства\")\n",
    "plt.ylabel(\"Среднее время между заказами (дни)\")\n",
    "\n",
    "plt.tight_layout()\n",
    "plt.show()\n"
   ]
  },
  {
   "cell_type": "code",
   "execution_count": 31,
   "metadata": {},
   "outputs": [
    {
     "name": "stdout",
     "output_type": "stream",
     "text": [
      "494.2660135158039 434.08916857299096\n"
     ]
    }
   ],
   "source": [
    "import statistics\n",
    "\n",
    "mobile_days_var = statistics.variance(mobile_days)\n",
    "desktop_days_var = statistics.variance(desktop_days)\n",
    "print(mobile_days_var, desktop_days_var ) \n"
   ]
  },
  {
   "cell_type": "markdown",
   "metadata": {},
   "source": [
    "Гипотеза 1. Среднее количество заказов на пользователя\n",
    "Медиана одинаковая: 2 заказа на пользователя у мобильных и десктопных.\n",
    "Среднее выше у мобильных: 11.75 против 6.64. Это говорит о том, что есть небольшая группа очень активных мобильных пользователей, которые сильно повышают среднее.\n",
    "t-тест: t = 6.00, p 1.03e-09 нулевая гипотеза отвергается.\n",
    "Вывод: мобильные пользователи в среднем совершают больше заказов, чем десктопные.\n",
    "Гипотеза 2. Среднее время между заказами\n",
    "Медиана: мобильные – 7.31 дня, десктопные – 3.50 дня.\n",
    "Среднее: мобильные – 15.37 дня, десктопные – 12.21 дня.\n",
    "t-тест: t = 9.51, p 1.1035e-211 нулевая гипотеза отвергается.\n",
    "Вывод: среднее время между заказами у мобильных пользователей выше. То есть мобильные делают больше заказов, но с большей паузой между ними."
   ]
  },
  {
   "cell_type": "markdown",
   "metadata": {},
   "source": [
    "## Общий вывод и рекомендации"
   ]
  },
  {
   "cell_type": "markdown",
   "metadata": {},
   "source": [
    "Проведен анализ данных от сервиса Яндекс Афиша с 2024 год с 1 июня по 31 октября.\n",
    "Получено 290849 строк данных, в процессе обработки на пропуски, дубли, аномальные значения удалено около 1% данных.\n",
    "Основные результаты анализа продаж билетов\n",
    "\n",
    "Динамика по месяцам:\n",
    "Летние месяцы (июнь-август) - наименьшее количество заказов (3-4 тыс.).\n",
    "Осень (сентябрь-октябрь) - резкий рост до 7–10 тыс. заказов.\n",
    "Тип мероприятия:\n",
    "Лидеры — концерты (около 40%), театр и «другое».\n",
    "Стоимость билета осенью выше для выставок, спорта и концертов, остальные мероприятия дороже летом.\n",
    "Тип устройства:\n",
    "около 80% заказов совершается с мобильных устройств.\n",
    "Выраженной сезонной зависимости нет.\n",
    "Возрастная категория:\n",
    "Больше всего заказов для возрастов 12 и 16 лет.\n",
    "Сезонных изменений нет.\n",
    "Динамика по дням:\n",
    "Пики заказов - первые числа сентября и октября (до 7000 заказов).\n",
    "DAU растёт с 300-400 летом до 600-1000 осенью.\n",
    "Среднее число заказов на пользователя повторяет пики DAU - около 6 заказов в пиковые дни.\n",
    "Средняя стоимость билета около 160 руб., с резким снижением в начале сентября и октября.\n",
    "По дням недели больше всего заказов во вторник, четверг и пятницу, меньше всего в воскресенье.\n",
    "Региональная активность:\n",
    "Наибольшее число мероприятий и заказов - Каменевский регион (50 тыс. заказов), Североярская область (25 тыс.).\n",
    "Лидеры среди партнёров по количеству заказов:\n",
    "«Билеты без проблем», «Лови билет», «Билеты в руки».\n",
    "Лидеры по выручке:\n",
    "«Билеты без проблем», «Мой билет», «Облачно».\n",
    "\n",
    "Дополнительные наблюдения\n",
    "Существуют явные лидеры среди регионов и партнёров, как по количеству заказов, так и по выручке.\n",
    "Осенью наблюдается значительный рост активности пользователей, что важно учитывать при планировании маркетинга и акций.\n",
    "Разница в поведении мобильных и десктопных пользователей может быть использована для таргетинга и персонализированных предложений.\n",
    "\n",
    "Выводы по Гипотезам:\n",
    "1.мобильные пользователи в среднем совершают больше заказов, чем десктопные\n",
    "2.мобильные пользователи делают больше заказов, но с большей паузой между ними\n",
    "\n",
    "Рекомендации\n",
    "Фокус на мобильные каналы: оптимизация приложения и мобильного веб-интерфейса.\n",
    "Сезонные акции: увеличивать маркетинговые кампании в осенние месяцы, особенно в первые дни сентября и октября(проанализировать, что за мероприятия проводились в первые числа сентября и октября).\n",
    "Таргетинг по активности: уделять внимание активным мобильным пользователям для удержания и увеличения среднего чека.\n",
    "Региональная приоритизация: концентрироваться на Каменевском регионе и Североярской области для максимальной отдачи.\n",
    "Партнёрские стратегии: сотрудничество с топовыми билетными партнёрами для увеличения выручки.\n",
    "\n"
   ]
  }
 ],
 "metadata": {
  "ExecuteTimeLog": [
   {
    "duration": 452,
    "start_time": "2025-09-09T05:20:45.560Z"
   },
   {
    "duration": 122,
    "start_time": "2025-09-09T05:20:49.319Z"
   },
   {
    "duration": 3,
    "start_time": "2025-09-09T05:21:54.696Z"
   },
   {
    "duration": 54,
    "start_time": "2025-09-09T05:21:57.822Z"
   },
   {
    "duration": 54,
    "start_time": "2025-09-09T05:25:00.870Z"
   },
   {
    "duration": 2,
    "start_time": "2025-09-09T05:25:57.498Z"
   },
   {
    "duration": 58,
    "start_time": "2025-09-09T05:26:00.916Z"
   },
   {
    "duration": 1960,
    "start_time": "2025-09-09T05:29:37.503Z"
   },
   {
    "duration": 87,
    "start_time": "2025-09-09T05:31:14.812Z"
   },
   {
    "duration": 1229,
    "start_time": "2025-09-09T05:31:38.354Z"
   },
   {
    "duration": 325,
    "start_time": "2025-09-09T05:32:05.319Z"
   },
   {
    "duration": 1419,
    "start_time": "2025-09-09T05:33:07.214Z"
   },
   {
    "duration": 4,
    "start_time": "2025-09-09T05:33:23.345Z"
   },
   {
    "duration": 318,
    "start_time": "2025-09-09T05:33:35.962Z"
   },
   {
    "duration": 404,
    "start_time": "2025-09-09T08:31:42.316Z"
   },
   {
    "duration": 1749,
    "start_time": "2025-09-09T08:31:44.655Z"
   },
   {
    "duration": 358,
    "start_time": "2025-09-09T08:31:51.870Z"
   },
   {
    "duration": 103,
    "start_time": "2025-09-09T08:32:16.644Z"
   },
   {
    "duration": 18,
    "start_time": "2025-09-09T08:33:37.893Z"
   },
   {
    "duration": 228,
    "start_time": "2025-09-09T08:37:56.310Z"
   },
   {
    "duration": 145,
    "start_time": "2025-09-09T08:42:16.399Z"
   },
   {
    "duration": 88,
    "start_time": "2025-09-09T08:43:04.264Z"
   },
   {
    "duration": 132,
    "start_time": "2025-09-09T09:00:15.011Z"
   },
   {
    "duration": 5057,
    "start_time": "2025-09-09T09:05:27.978Z"
   },
   {
    "duration": 1779,
    "start_time": "2025-09-09T09:15:27.344Z"
   },
   {
    "duration": 16,
    "start_time": "2025-09-09T09:22:42.129Z"
   },
   {
    "duration": 43,
    "start_time": "2025-09-09T09:24:27.326Z"
   },
   {
    "duration": 16,
    "start_time": "2025-09-09T09:27:34.973Z"
   },
   {
    "duration": 411,
    "start_time": "2025-09-10T05:07:07.992Z"
   },
   {
    "duration": 1563,
    "start_time": "2025-09-10T05:07:11.431Z"
   },
   {
    "duration": 362,
    "start_time": "2025-09-10T05:07:17.807Z"
   },
   {
    "duration": 262,
    "start_time": "2025-09-10T05:07:24.329Z"
   },
   {
    "duration": 5243,
    "start_time": "2025-09-10T05:07:35.382Z"
   },
   {
    "duration": 193,
    "start_time": "2025-09-10T05:08:39.698Z"
   },
   {
    "duration": 50,
    "start_time": "2025-09-10T05:09:58.229Z"
   },
   {
    "duration": 21,
    "start_time": "2025-09-10T05:10:36.345Z"
   },
   {
    "duration": 2160,
    "start_time": "2025-09-10T05:15:36.152Z"
   },
   {
    "duration": 5149,
    "start_time": "2025-09-10T05:17:22.257Z"
   },
   {
    "duration": 3,
    "start_time": "2025-09-10T05:18:33.138Z"
   },
   {
    "duration": 2475,
    "start_time": "2025-09-10T05:18:36.473Z"
   },
   {
    "duration": 248,
    "start_time": "2025-09-10T05:18:40.730Z"
   },
   {
    "duration": 202,
    "start_time": "2025-09-10T05:18:48.372Z"
   },
   {
    "duration": 4960,
    "start_time": "2025-09-10T05:18:56.312Z"
   },
   {
    "duration": 194,
    "start_time": "2025-09-10T05:19:02.756Z"
   },
   {
    "duration": 45,
    "start_time": "2025-09-10T05:19:12.823Z"
   },
   {
    "duration": 12,
    "start_time": "2025-09-10T05:19:44.653Z"
   },
   {
    "duration": 56,
    "start_time": "2025-09-10T05:22:25.099Z"
   },
   {
    "duration": 780,
    "start_time": "2025-09-10T05:24:59.639Z"
   },
   {
    "duration": 423,
    "start_time": "2025-09-10T05:25:15.672Z"
   },
   {
    "duration": 336,
    "start_time": "2025-09-10T05:26:00.025Z"
   },
   {
    "duration": 1186,
    "start_time": "2025-09-10T05:28:04.985Z"
   },
   {
    "duration": 4,
    "start_time": "2025-09-10T05:29:17.019Z"
   },
   {
    "duration": 6412,
    "start_time": "2025-09-10T05:38:11.766Z"
   },
   {
    "duration": 207,
    "start_time": "2025-09-10T05:40:04.448Z"
   },
   {
    "duration": 136,
    "start_time": "2025-09-10T05:40:16.869Z"
   },
   {
    "duration": 434,
    "start_time": "2025-09-10T05:40:25.703Z"
   },
   {
    "duration": 4622,
    "start_time": "2025-09-10T05:45:35.214Z"
   },
   {
    "duration": 1045,
    "start_time": "2025-09-10T05:48:53.562Z"
   },
   {
    "duration": 7641,
    "start_time": "2025-09-10T05:50:43.392Z"
   },
   {
    "duration": 86,
    "start_time": "2025-09-10T05:56:50.341Z"
   },
   {
    "duration": 69,
    "start_time": "2025-09-10T05:57:09.308Z"
   },
   {
    "duration": 391,
    "start_time": "2025-09-10T05:57:15.792Z"
   },
   {
    "duration": 7617,
    "start_time": "2025-09-10T05:57:21.191Z"
   },
   {
    "duration": 181,
    "start_time": "2025-09-10T05:57:49.056Z"
   },
   {
    "duration": 104,
    "start_time": "2025-09-10T06:00:43.805Z"
   },
   {
    "duration": 539,
    "start_time": "2025-09-10T06:04:35.741Z"
   },
   {
    "duration": 18,
    "start_time": "2025-09-10T06:05:01.155Z"
   },
   {
    "duration": 88,
    "start_time": "2025-09-10T06:05:16.026Z"
   },
   {
    "duration": 439,
    "start_time": "2025-09-10T06:05:55.258Z"
   },
   {
    "duration": 7619,
    "start_time": "2025-09-10T06:06:02.961Z"
   },
   {
    "duration": 7742,
    "start_time": "2025-09-10T06:06:18.390Z"
   },
   {
    "duration": 573,
    "start_time": "2025-09-10T06:07:22.456Z"
   },
   {
    "duration": 611,
    "start_time": "2025-09-10T06:08:28.880Z"
   },
   {
    "duration": 7274,
    "start_time": "2025-09-10T06:11:44.607Z"
   },
   {
    "duration": 100,
    "start_time": "2025-09-10T06:12:36.993Z"
   },
   {
    "duration": 543,
    "start_time": "2025-09-10T06:18:48.868Z"
   },
   {
    "duration": 233,
    "start_time": "2025-09-10T06:20:08.222Z"
   },
   {
    "duration": 4672,
    "start_time": "2025-09-10T06:20:40.860Z"
   },
   {
    "duration": 280,
    "start_time": "2025-09-10T06:22:32.904Z"
   },
   {
    "duration": 642,
    "start_time": "2025-09-10T06:22:47.304Z"
   },
   {
    "duration": 8090,
    "start_time": "2025-09-10T06:22:54.420Z"
   },
   {
    "duration": 111,
    "start_time": "2025-09-10T06:23:18.698Z"
   },
   {
    "duration": 7798,
    "start_time": "2025-09-10T06:25:28.917Z"
   },
   {
    "duration": 108,
    "start_time": "2025-09-10T06:25:36.775Z"
   },
   {
    "duration": 214,
    "start_time": "2025-09-10T08:18:06.396Z"
   },
   {
    "duration": 886,
    "start_time": "2025-09-10T08:20:00.141Z"
   },
   {
    "duration": 990,
    "start_time": "2025-09-10T08:20:48.166Z"
   },
   {
    "duration": 299,
    "start_time": "2025-09-10T08:22:23.536Z"
   },
   {
    "duration": 41,
    "start_time": "2025-09-10T08:44:25.452Z"
   },
   {
    "duration": 1435,
    "start_time": "2025-09-10T08:46:14.678Z"
   },
   {
    "duration": 198,
    "start_time": "2025-09-10T08:47:05.881Z"
   },
   {
    "duration": 1186,
    "start_time": "2025-09-10T08:48:04.210Z"
   },
   {
    "duration": 672,
    "start_time": "2025-09-10T08:57:28.563Z"
   },
   {
    "duration": 500,
    "start_time": "2025-09-10T09:01:04.921Z"
   },
   {
    "duration": 138,
    "start_time": "2025-09-10T09:11:25.237Z"
   },
   {
    "duration": 437,
    "start_time": "2025-09-10T18:01:50.424Z"
   },
   {
    "duration": 1354,
    "start_time": "2025-09-10T18:01:50.863Z"
   },
   {
    "duration": 246,
    "start_time": "2025-09-10T18:01:52.219Z"
   },
   {
    "duration": 120,
    "start_time": "2025-09-10T18:01:52.466Z"
   },
   {
    "duration": 229,
    "start_time": "2025-09-10T18:01:52.588Z"
   },
   {
    "duration": 28,
    "start_time": "2025-09-10T18:01:52.819Z"
   },
   {
    "duration": 95,
    "start_time": "2025-09-10T18:01:52.848Z"
   },
   {
    "duration": 0,
    "start_time": "2025-09-10T18:01:52.945Z"
   },
   {
    "duration": 0,
    "start_time": "2025-09-10T18:01:52.946Z"
   },
   {
    "duration": 0,
    "start_time": "2025-09-10T18:01:52.947Z"
   },
   {
    "duration": 0,
    "start_time": "2025-09-10T18:01:52.948Z"
   },
   {
    "duration": 0,
    "start_time": "2025-09-10T18:01:52.949Z"
   },
   {
    "duration": 0,
    "start_time": "2025-09-10T18:01:52.950Z"
   },
   {
    "duration": 0,
    "start_time": "2025-09-10T18:01:52.952Z"
   },
   {
    "duration": 0,
    "start_time": "2025-09-10T18:01:52.953Z"
   },
   {
    "duration": 0,
    "start_time": "2025-09-10T18:01:52.954Z"
   },
   {
    "duration": 0,
    "start_time": "2025-09-10T18:01:52.955Z"
   },
   {
    "duration": 0,
    "start_time": "2025-09-10T18:01:52.956Z"
   },
   {
    "duration": 0,
    "start_time": "2025-09-10T18:01:52.957Z"
   },
   {
    "duration": 0,
    "start_time": "2025-09-10T18:01:52.958Z"
   },
   {
    "duration": 122,
    "start_time": "2025-09-10T18:03:53.683Z"
   },
   {
    "duration": 5013,
    "start_time": "2025-09-10T18:06:12.161Z"
   },
   {
    "duration": 419,
    "start_time": "2025-09-10T18:08:12.840Z"
   },
   {
    "duration": 1820,
    "start_time": "2025-09-10T18:08:13.261Z"
   },
   {
    "duration": 486,
    "start_time": "2025-09-10T18:08:15.083Z"
   },
   {
    "duration": 108,
    "start_time": "2025-09-10T18:08:15.570Z"
   },
   {
    "duration": 243,
    "start_time": "2025-09-10T18:08:15.682Z"
   },
   {
    "duration": 24,
    "start_time": "2025-09-10T18:08:15.927Z"
   },
   {
    "duration": 5174,
    "start_time": "2025-09-10T18:08:15.953Z"
   },
   {
    "duration": 237,
    "start_time": "2025-09-10T18:08:21.129Z"
   },
   {
    "duration": 573,
    "start_time": "2025-09-10T18:08:21.368Z"
   },
   {
    "duration": 8125,
    "start_time": "2025-09-10T18:08:21.944Z"
   },
   {
    "duration": 117,
    "start_time": "2025-09-10T18:08:30.072Z"
   },
   {
    "duration": 254,
    "start_time": "2025-09-10T18:08:30.192Z"
   },
   {
    "duration": 796,
    "start_time": "2025-09-10T18:08:30.448Z"
   },
   {
    "duration": 345,
    "start_time": "2025-09-10T18:08:31.247Z"
   },
   {
    "duration": 1266,
    "start_time": "2025-09-10T18:08:31.594Z"
   },
   {
    "duration": 217,
    "start_time": "2025-09-10T18:08:32.862Z"
   },
   {
    "duration": 533,
    "start_time": "2025-09-10T18:08:33.081Z"
   },
   {
    "duration": 449,
    "start_time": "2025-09-10T18:08:33.616Z"
   },
   {
    "duration": 45,
    "start_time": "2025-09-10T18:08:34.067Z"
   },
   {
    "duration": 0,
    "start_time": "2025-09-10T18:08:34.113Z"
   },
   {
    "duration": 25,
    "start_time": "2025-09-10T18:12:46.678Z"
   },
   {
    "duration": 4,
    "start_time": "2025-09-10T18:13:16.860Z"
   },
   {
    "duration": 826,
    "start_time": "2025-09-10T18:13:54.151Z"
   },
   {
    "duration": 19,
    "start_time": "2025-09-10T18:14:03.367Z"
   },
   {
    "duration": 66,
    "start_time": "2025-09-10T18:19:49.161Z"
   },
   {
    "duration": 6,
    "start_time": "2025-09-10T18:20:18.110Z"
   },
   {
    "duration": 6,
    "start_time": "2025-09-10T18:20:22.981Z"
   },
   {
    "duration": 6,
    "start_time": "2025-09-10T18:20:58.677Z"
   },
   {
    "duration": 6,
    "start_time": "2025-09-10T18:21:03.498Z"
   },
   {
    "duration": 4,
    "start_time": "2025-09-10T18:21:07.508Z"
   },
   {
    "duration": 362,
    "start_time": "2025-09-10T18:22:28.592Z"
   },
   {
    "duration": 1512,
    "start_time": "2025-09-10T18:22:28.956Z"
   },
   {
    "duration": 313,
    "start_time": "2025-09-10T18:22:30.469Z"
   },
   {
    "duration": 105,
    "start_time": "2025-09-10T18:22:30.783Z"
   },
   {
    "duration": 264,
    "start_time": "2025-09-10T18:22:30.891Z"
   },
   {
    "duration": 20,
    "start_time": "2025-09-10T18:22:31.157Z"
   },
   {
    "duration": 4940,
    "start_time": "2025-09-10T18:22:31.178Z"
   },
   {
    "duration": 220,
    "start_time": "2025-09-10T18:22:36.119Z"
   },
   {
    "duration": 549,
    "start_time": "2025-09-10T18:22:36.340Z"
   },
   {
    "duration": 7487,
    "start_time": "2025-09-10T18:22:36.890Z"
   },
   {
    "duration": 99,
    "start_time": "2025-09-10T18:22:44.378Z"
   },
   {
    "duration": 193,
    "start_time": "2025-09-10T18:22:44.478Z"
   },
   {
    "duration": 738,
    "start_time": "2025-09-10T18:22:44.673Z"
   },
   {
    "duration": 4,
    "start_time": "2025-09-10T18:22:45.414Z"
   },
   {
    "duration": 42,
    "start_time": "2025-09-10T18:22:45.419Z"
   },
   {
    "duration": 5,
    "start_time": "2025-09-10T18:22:45.463Z"
   },
   {
    "duration": 6,
    "start_time": "2025-09-10T18:22:45.470Z"
   },
   {
    "duration": 331,
    "start_time": "2025-09-10T18:22:45.478Z"
   },
   {
    "duration": 1312,
    "start_time": "2025-09-10T18:22:45.812Z"
   },
   {
    "duration": 181,
    "start_time": "2025-09-10T18:22:47.127Z"
   },
   {
    "duration": 498,
    "start_time": "2025-09-10T18:22:47.310Z"
   },
   {
    "duration": 445,
    "start_time": "2025-09-10T18:22:47.810Z"
   },
   {
    "duration": 79,
    "start_time": "2025-09-10T18:22:48.256Z"
   },
   {
    "duration": 0,
    "start_time": "2025-09-10T18:22:48.337Z"
   },
   {
    "duration": 5146,
    "start_time": "2025-09-10T18:23:19.031Z"
   },
   {
    "duration": 370,
    "start_time": "2025-09-10T18:23:59.491Z"
   },
   {
    "duration": 1404,
    "start_time": "2025-09-10T18:23:59.863Z"
   },
   {
    "duration": 241,
    "start_time": "2025-09-10T18:24:01.269Z"
   },
   {
    "duration": 106,
    "start_time": "2025-09-10T18:24:01.511Z"
   },
   {
    "duration": 248,
    "start_time": "2025-09-10T18:24:01.619Z"
   },
   {
    "duration": 18,
    "start_time": "2025-09-10T18:24:01.869Z"
   },
   {
    "duration": 4961,
    "start_time": "2025-09-10T18:24:01.889Z"
   },
   {
    "duration": 225,
    "start_time": "2025-09-10T18:24:06.852Z"
   },
   {
    "duration": 579,
    "start_time": "2025-09-10T18:24:07.079Z"
   },
   {
    "duration": 7407,
    "start_time": "2025-09-10T18:24:07.661Z"
   },
   {
    "duration": 101,
    "start_time": "2025-09-10T18:24:15.070Z"
   },
   {
    "duration": 199,
    "start_time": "2025-09-10T18:24:15.173Z"
   },
   {
    "duration": 781,
    "start_time": "2025-09-10T18:24:15.374Z"
   },
   {
    "duration": 5,
    "start_time": "2025-09-10T18:24:16.158Z"
   },
   {
    "duration": 30,
    "start_time": "2025-09-10T18:24:16.165Z"
   },
   {
    "duration": 6,
    "start_time": "2025-09-10T18:24:16.197Z"
   },
   {
    "duration": 5,
    "start_time": "2025-09-10T18:24:16.205Z"
   },
   {
    "duration": 350,
    "start_time": "2025-09-10T18:24:16.240Z"
   },
   {
    "duration": 1313,
    "start_time": "2025-09-10T18:24:16.591Z"
   },
   {
    "duration": 179,
    "start_time": "2025-09-10T18:24:17.905Z"
   },
   {
    "duration": 484,
    "start_time": "2025-09-10T18:24:18.086Z"
   },
   {
    "duration": 439,
    "start_time": "2025-09-10T18:24:18.572Z"
   },
   {
    "duration": 55,
    "start_time": "2025-09-10T18:24:19.013Z"
   },
   {
    "duration": 0,
    "start_time": "2025-09-10T18:24:19.070Z"
   },
   {
    "duration": 3170,
    "start_time": "2025-09-10T18:24:58.013Z"
   },
   {
    "duration": 5119,
    "start_time": "2025-09-10T18:25:15.725Z"
   },
   {
    "duration": 7546,
    "start_time": "2025-09-10T18:25:49.299Z"
   },
   {
    "duration": 7764,
    "start_time": "2025-09-10T18:26:23.842Z"
   },
   {
    "duration": 7726,
    "start_time": "2025-09-10T18:27:20.980Z"
   },
   {
    "duration": 7689,
    "start_time": "2025-09-10T18:27:58.362Z"
   },
   {
    "duration": 3127,
    "start_time": "2025-09-10T18:30:42.442Z"
   },
   {
    "duration": 35456,
    "start_time": "2025-09-10T18:32:37.698Z"
   },
   {
    "duration": 36001,
    "start_time": "2025-09-10T18:34:28.645Z"
   },
   {
    "duration": 8064,
    "start_time": "2025-09-10T18:36:27.649Z"
   },
   {
    "duration": 378,
    "start_time": "2025-09-10T18:36:41.268Z"
   },
   {
    "duration": 1533,
    "start_time": "2025-09-10T18:36:41.647Z"
   },
   {
    "duration": 240,
    "start_time": "2025-09-10T18:36:43.181Z"
   },
   {
    "duration": 116,
    "start_time": "2025-09-10T18:36:43.423Z"
   },
   {
    "duration": 224,
    "start_time": "2025-09-10T18:36:43.541Z"
   },
   {
    "duration": 17,
    "start_time": "2025-09-10T18:36:43.767Z"
   },
   {
    "duration": 4931,
    "start_time": "2025-09-10T18:36:43.786Z"
   },
   {
    "duration": 226,
    "start_time": "2025-09-10T18:36:48.719Z"
   },
   {
    "duration": 527,
    "start_time": "2025-09-10T18:36:48.947Z"
   },
   {
    "duration": 7786,
    "start_time": "2025-09-10T18:36:49.477Z"
   },
   {
    "duration": 107,
    "start_time": "2025-09-10T18:36:57.265Z"
   },
   {
    "duration": 204,
    "start_time": "2025-09-10T18:36:57.374Z"
   },
   {
    "duration": 743,
    "start_time": "2025-09-10T18:36:57.580Z"
   },
   {
    "duration": 4,
    "start_time": "2025-09-10T18:36:58.324Z"
   },
   {
    "duration": 39,
    "start_time": "2025-09-10T18:36:58.329Z"
   },
   {
    "duration": 5,
    "start_time": "2025-09-10T18:36:58.370Z"
   },
   {
    "duration": 36,
    "start_time": "2025-09-10T18:36:58.376Z"
   },
   {
    "duration": 349,
    "start_time": "2025-09-10T18:36:58.413Z"
   },
   {
    "duration": 1256,
    "start_time": "2025-09-10T18:36:58.764Z"
   },
   {
    "duration": 183,
    "start_time": "2025-09-10T18:37:00.021Z"
   },
   {
    "duration": 468,
    "start_time": "2025-09-10T18:37:00.206Z"
   },
   {
    "duration": 534,
    "start_time": "2025-09-10T18:37:00.676Z"
   },
   {
    "duration": 60,
    "start_time": "2025-09-10T18:37:01.212Z"
   },
   {
    "duration": 0,
    "start_time": "2025-09-10T18:37:01.274Z"
   },
   {
    "duration": 240,
    "start_time": "2025-09-10T18:37:10.122Z"
   },
   {
    "duration": 7,
    "start_time": "2025-09-10T18:37:27.604Z"
   },
   {
    "duration": 5,
    "start_time": "2025-09-10T18:37:42.734Z"
   },
   {
    "duration": 421,
    "start_time": "2025-09-10T18:39:19.617Z"
   },
   {
    "duration": 1300,
    "start_time": "2025-09-10T18:39:20.040Z"
   },
   {
    "duration": 199,
    "start_time": "2025-09-10T18:39:21.341Z"
   },
   {
    "duration": 106,
    "start_time": "2025-09-10T18:39:21.541Z"
   },
   {
    "duration": 233,
    "start_time": "2025-09-10T18:39:21.649Z"
   },
   {
    "duration": 19,
    "start_time": "2025-09-10T18:39:21.883Z"
   },
   {
    "duration": 4790,
    "start_time": "2025-09-10T18:39:21.903Z"
   },
   {
    "duration": 5,
    "start_time": "2025-09-10T18:39:26.694Z"
   },
   {
    "duration": 226,
    "start_time": "2025-09-10T18:39:26.701Z"
   },
   {
    "duration": 544,
    "start_time": "2025-09-10T18:39:26.928Z"
   },
   {
    "duration": 7597,
    "start_time": "2025-09-10T18:39:27.474Z"
   },
   {
    "duration": 101,
    "start_time": "2025-09-10T18:39:35.073Z"
   },
   {
    "duration": 184,
    "start_time": "2025-09-10T18:39:35.176Z"
   },
   {
    "duration": 708,
    "start_time": "2025-09-10T18:39:35.364Z"
   },
   {
    "duration": 4,
    "start_time": "2025-09-10T18:39:36.074Z"
   },
   {
    "duration": 38,
    "start_time": "2025-09-10T18:39:36.079Z"
   },
   {
    "duration": 5,
    "start_time": "2025-09-10T18:39:36.118Z"
   },
   {
    "duration": 5,
    "start_time": "2025-09-10T18:39:36.139Z"
   },
   {
    "duration": 337,
    "start_time": "2025-09-10T18:39:36.146Z"
   },
   {
    "duration": 1279,
    "start_time": "2025-09-10T18:39:36.485Z"
   },
   {
    "duration": 173,
    "start_time": "2025-09-10T18:39:37.765Z"
   },
   {
    "duration": 460,
    "start_time": "2025-09-10T18:39:37.939Z"
   },
   {
    "duration": 434,
    "start_time": "2025-09-10T18:39:38.400Z"
   },
   {
    "duration": 49,
    "start_time": "2025-09-10T18:39:38.835Z"
   },
   {
    "duration": 0,
    "start_time": "2025-09-10T18:39:38.886Z"
   },
   {
    "duration": 121,
    "start_time": "2025-09-10T18:42:55.535Z"
   },
   {
    "duration": 121,
    "start_time": "2025-09-10T18:43:46.728Z"
   },
   {
    "duration": 121,
    "start_time": "2025-09-10T18:43:54.211Z"
   },
   {
    "duration": 118,
    "start_time": "2025-09-10T18:43:56.850Z"
   },
   {
    "duration": 117,
    "start_time": "2025-09-10T18:43:59.804Z"
   },
   {
    "duration": 1462,
    "start_time": "2025-09-11T12:29:46.815Z"
   },
   {
    "duration": 1704,
    "start_time": "2025-09-11T12:29:51.011Z"
   },
   {
    "duration": 454,
    "start_time": "2025-09-11T12:29:57.805Z"
   },
   {
    "duration": 257,
    "start_time": "2025-09-11T12:30:06.618Z"
   },
   {
    "duration": 21,
    "start_time": "2025-09-11T12:30:14.088Z"
   },
   {
    "duration": 5190,
    "start_time": "2025-09-11T12:31:26.018Z"
   },
   {
    "duration": 150,
    "start_time": "2025-09-11T12:34:11.693Z"
   },
   {
    "duration": 5164,
    "start_time": "2025-09-11T12:34:16.155Z"
   },
   {
    "duration": 178,
    "start_time": "2025-09-11T12:40:09.854Z"
   },
   {
    "duration": 4590,
    "start_time": "2025-09-11T12:40:14.424Z"
   },
   {
    "duration": 113,
    "start_time": "2025-09-11T12:41:44.584Z"
   },
   {
    "duration": 479,
    "start_time": "2025-09-11T12:41:48.147Z"
   },
   {
    "duration": 507,
    "start_time": "2025-09-11T12:42:49.037Z"
   },
   {
    "duration": 314,
    "start_time": "2025-09-11T12:43:28.870Z"
   },
   {
    "duration": 6,
    "start_time": "2025-09-11T12:44:10.991Z"
   },
   {
    "duration": 4601,
    "start_time": "2025-09-11T12:48:20.761Z"
   },
   {
    "duration": 111,
    "start_time": "2025-09-11T12:48:25.840Z"
   },
   {
    "duration": 326,
    "start_time": "2025-09-11T12:48:31.834Z"
   },
   {
    "duration": 6,
    "start_time": "2025-09-11T12:49:02.980Z"
   },
   {
    "duration": 331,
    "start_time": "2025-09-11T12:49:19.047Z"
   },
   {
    "duration": 651,
    "start_time": "2025-09-11T12:50:12.451Z"
   },
   {
    "duration": 137,
    "start_time": "2025-09-11T12:53:21.845Z"
   },
   {
    "duration": 665,
    "start_time": "2025-09-11T12:54:46.312Z"
   },
   {
    "duration": 63,
    "start_time": "2025-09-11T12:56:01.557Z"
   },
   {
    "duration": 73,
    "start_time": "2025-09-11T13:00:32.510Z"
   },
   {
    "duration": 57,
    "start_time": "2025-09-11T13:02:34.179Z"
   },
   {
    "duration": 650,
    "start_time": "2025-09-11T13:02:50.176Z"
   },
   {
    "duration": 1260,
    "start_time": "2025-09-11T13:10:58.719Z"
   },
   {
    "duration": 1412,
    "start_time": "2025-09-11T13:11:04.702Z"
   },
   {
    "duration": 313,
    "start_time": "2025-09-11T13:11:10.336Z"
   },
   {
    "duration": 242,
    "start_time": "2025-09-11T13:11:16.903Z"
   },
   {
    "duration": 21,
    "start_time": "2025-09-11T13:11:25.653Z"
   },
   {
    "duration": 177,
    "start_time": "2025-09-11T13:11:36.022Z"
   },
   {
    "duration": 4515,
    "start_time": "2025-09-11T13:11:39.787Z"
   },
   {
    "duration": 117,
    "start_time": "2025-09-11T13:11:44.303Z"
   },
   {
    "duration": 315,
    "start_time": "2025-09-11T13:11:48.250Z"
   },
   {
    "duration": 7,
    "start_time": "2025-09-11T13:11:59.287Z"
   },
   {
    "duration": 370,
    "start_time": "2025-09-11T13:12:17.440Z"
   },
   {
    "duration": 669,
    "start_time": "2025-09-11T13:12:33.985Z"
   },
   {
    "duration": 181,
    "start_time": "2025-09-11T13:12:52.462Z"
   },
   {
    "duration": 53,
    "start_time": "2025-09-11T13:12:58.468Z"
   },
   {
    "duration": 681,
    "start_time": "2025-09-11T13:13:07.470Z"
   },
   {
    "duration": 430821,
    "start_time": "2025-09-11T13:21:09.068Z"
   },
   {
    "duration": 237697,
    "start_time": "2025-09-11T13:28:19.891Z"
   },
   {
    "duration": 1215,
    "start_time": "2025-09-11T13:41:06.257Z"
   },
   {
    "duration": 1398,
    "start_time": "2025-09-11T13:41:10.085Z"
   },
   {
    "duration": 323,
    "start_time": "2025-09-11T13:41:18.750Z"
   },
   {
    "duration": 241,
    "start_time": "2025-09-11T13:41:27.767Z"
   },
   {
    "duration": 21,
    "start_time": "2025-09-11T13:41:34.334Z"
   },
   {
    "duration": 164,
    "start_time": "2025-09-11T13:41:47.685Z"
   },
   {
    "duration": 4428,
    "start_time": "2025-09-11T13:41:52.135Z"
   },
   {
    "duration": 108,
    "start_time": "2025-09-11T13:41:57.880Z"
   },
   {
    "duration": 304,
    "start_time": "2025-09-11T13:42:01.759Z"
   },
   {
    "duration": 132,
    "start_time": "2025-09-11T13:43:09.211Z"
   },
   {
    "duration": 324,
    "start_time": "2025-09-11T13:43:24.555Z"
   },
   {
    "duration": 7,
    "start_time": "2025-09-11T13:43:33.695Z"
   },
   {
    "duration": 359,
    "start_time": "2025-09-11T13:43:47.114Z"
   },
   {
    "duration": 662,
    "start_time": "2025-09-11T13:43:56.904Z"
   },
   {
    "duration": 166,
    "start_time": "2025-09-11T13:44:17.751Z"
   },
   {
    "duration": 57,
    "start_time": "2025-09-11T13:44:29.089Z"
   },
   {
    "duration": 104,
    "start_time": "2025-09-11T13:47:18.949Z"
   },
   {
    "duration": 687,
    "start_time": "2025-09-11T13:47:30.648Z"
   },
   {
    "duration": 78,
    "start_time": "2025-09-11T13:47:38.009Z"
   },
   {
    "duration": 202,
    "start_time": "2025-09-11T13:49:16.314Z"
   },
   {
    "duration": 539,
    "start_time": "2025-09-11T13:54:51.695Z"
   },
   {
    "duration": 6231,
    "start_time": "2025-09-11T13:54:55.537Z"
   },
   {
    "duration": 199,
    "start_time": "2025-09-11T13:55:50.262Z"
   },
   {
    "duration": 6382,
    "start_time": "2025-09-11T13:57:56.618Z"
   },
   {
    "duration": 573,
    "start_time": "2025-09-11T14:14:59.770Z"
   },
   {
    "duration": 258,
    "start_time": "2025-09-11T14:15:05.020Z"
   },
   {
    "duration": 6270,
    "start_time": "2025-09-11T14:15:57.407Z"
   },
   {
    "duration": 441,
    "start_time": "2025-09-11T14:17:29.777Z"
   },
   {
    "duration": 110,
    "start_time": "2025-09-11T14:19:05.189Z"
   },
   {
    "duration": 6780,
    "start_time": "2025-09-11T14:20:51.411Z"
   },
   {
    "duration": 286,
    "start_time": "2025-09-11T14:25:38.943Z"
   },
   {
    "duration": 150,
    "start_time": "2025-09-11T14:27:08.417Z"
   },
   {
    "duration": 161,
    "start_time": "2025-09-11T14:29:41.621Z"
   },
   {
    "duration": 766,
    "start_time": "2025-09-11T14:34:22.354Z"
   },
   {
    "duration": 348,
    "start_time": "2025-09-11T14:58:27.719Z"
   },
   {
    "duration": 59,
    "start_time": "2025-09-11T15:01:58.270Z"
   },
   {
    "duration": 60,
    "start_time": "2025-09-11T15:02:18.221Z"
   },
   {
    "duration": 1104,
    "start_time": "2025-09-11T15:03:19.891Z"
   },
   {
    "duration": 1143,
    "start_time": "2025-09-11T15:04:07.842Z"
   },
   {
    "duration": 196,
    "start_time": "2025-09-11T15:06:45.838Z"
   },
   {
    "duration": 505,
    "start_time": "2025-09-11T15:08:55.486Z"
   },
   {
    "duration": 459,
    "start_time": "2025-09-11T15:10:50.397Z"
   },
   {
    "duration": 3,
    "start_time": "2025-09-11T15:25:19.044Z"
   },
   {
    "duration": 654,
    "start_time": "2025-09-11T15:25:57.805Z"
   },
   {
    "duration": 644,
    "start_time": "2025-09-11T15:26:49.805Z"
   },
   {
    "duration": 1421,
    "start_time": "2025-09-11T16:54:40.691Z"
   },
   {
    "duration": 1337,
    "start_time": "2025-09-11T16:54:42.114Z"
   },
   {
    "duration": 251,
    "start_time": "2025-09-11T16:54:43.453Z"
   },
   {
    "duration": 114,
    "start_time": "2025-09-11T16:54:43.706Z"
   },
   {
    "duration": 258,
    "start_time": "2025-09-11T16:54:43.822Z"
   },
   {
    "duration": 21,
    "start_time": "2025-09-11T16:54:44.081Z"
   },
   {
    "duration": 189,
    "start_time": "2025-09-11T16:54:44.104Z"
   },
   {
    "duration": 4572,
    "start_time": "2025-09-11T16:54:44.294Z"
   },
   {
    "duration": 140,
    "start_time": "2025-09-11T16:54:48.868Z"
   },
   {
    "duration": 331,
    "start_time": "2025-09-11T16:54:49.010Z"
   },
   {
    "duration": 8,
    "start_time": "2025-09-11T16:54:49.343Z"
   },
   {
    "duration": 420,
    "start_time": "2025-09-11T16:54:49.352Z"
   },
   {
    "duration": 727,
    "start_time": "2025-09-11T16:54:49.774Z"
   },
   {
    "duration": 179,
    "start_time": "2025-09-11T16:54:50.504Z"
   },
   {
    "duration": 64,
    "start_time": "2025-09-11T16:54:50.686Z"
   },
   {
    "duration": 776,
    "start_time": "2025-09-11T16:54:50.751Z"
   },
   {
    "duration": 243,
    "start_time": "2025-09-11T16:54:51.533Z"
   },
   {
    "duration": 614,
    "start_time": "2025-09-11T16:54:51.778Z"
   },
   {
    "duration": 260,
    "start_time": "2025-09-11T16:54:52.393Z"
   },
   {
    "duration": 6755,
    "start_time": "2025-09-11T16:54:52.654Z"
   },
   {
    "duration": 478,
    "start_time": "2025-09-11T16:54:59.411Z"
   },
   {
    "duration": 157,
    "start_time": "2025-09-11T16:54:59.890Z"
   },
   {
    "duration": 170,
    "start_time": "2025-09-11T16:55:00.049Z"
   },
   {
    "duration": 890,
    "start_time": "2025-09-11T16:55:00.220Z"
   },
   {
    "duration": 331,
    "start_time": "2025-09-11T16:55:01.112Z"
   },
   {
    "duration": 1178,
    "start_time": "2025-09-11T16:55:01.445Z"
   },
   {
    "duration": 195,
    "start_time": "2025-09-11T16:55:02.625Z"
   },
   {
    "duration": 495,
    "start_time": "2025-09-11T16:55:02.822Z"
   },
   {
    "duration": 584,
    "start_time": "2025-09-11T16:55:03.319Z"
   },
   {
    "duration": 670,
    "start_time": "2025-09-11T16:55:03.905Z"
   },
   {
    "duration": 5,
    "start_time": "2025-09-11T16:59:35.136Z"
   },
   {
    "duration": 4,
    "start_time": "2025-09-11T16:59:47.466Z"
   },
   {
    "duration": 63,
    "start_time": "2025-09-11T17:00:55.179Z"
   },
   {
    "duration": 787,
    "start_time": "2025-09-12T04:47:03.674Z"
   },
   {
    "duration": 882,
    "start_time": "2025-09-12T04:47:54.136Z"
   },
   {
    "duration": 2081,
    "start_time": "2025-09-12T04:47:57.785Z"
   },
   {
    "duration": 2314,
    "start_time": "2025-09-12T04:48:01.413Z"
   },
   {
    "duration": 281,
    "start_time": "2025-09-12T04:48:04.804Z"
   },
   {
    "duration": 105,
    "start_time": "2025-09-12T04:48:08.836Z"
   },
   {
    "duration": 240,
    "start_time": "2025-09-12T04:48:18.169Z"
   },
   {
    "duration": 185,
    "start_time": "2025-09-12T04:48:30.815Z"
   },
   {
    "duration": 5262,
    "start_time": "2025-09-12T04:48:33.481Z"
   },
   {
    "duration": 153,
    "start_time": "2025-09-12T04:48:38.746Z"
   },
   {
    "duration": 389,
    "start_time": "2025-09-12T04:48:39.195Z"
   },
   {
    "duration": 141,
    "start_time": "2025-09-12T04:48:45.281Z"
   },
   {
    "duration": 199,
    "start_time": "2025-09-12T04:48:55.186Z"
   },
   {
    "duration": 3036,
    "start_time": "2025-09-12T04:49:03.309Z"
   },
   {
    "duration": 135,
    "start_time": "2025-09-12T04:49:07.003Z"
   },
   {
    "duration": 9,
    "start_time": "2025-09-12T04:49:17.335Z"
   },
   {
    "duration": 414,
    "start_time": "2025-09-12T04:49:24.886Z"
   },
   {
    "duration": 754,
    "start_time": "2025-09-12T04:49:37.867Z"
   },
   {
    "duration": 177,
    "start_time": "2025-09-12T04:49:45.291Z"
   },
   {
    "duration": 70,
    "start_time": "2025-09-12T04:49:51.240Z"
   },
   {
    "duration": 818,
    "start_time": "2025-09-12T04:49:55.572Z"
   },
   {
    "duration": 252,
    "start_time": "2025-09-12T04:50:02.614Z"
   },
   {
    "duration": 685,
    "start_time": "2025-09-12T04:50:12.068Z"
   },
   {
    "duration": 262,
    "start_time": "2025-09-12T04:50:17.730Z"
   },
   {
    "duration": 7757,
    "start_time": "2025-09-12T04:50:23.274Z"
   },
   {
    "duration": 502,
    "start_time": "2025-09-12T04:50:32.375Z"
   },
   {
    "duration": 158,
    "start_time": "2025-09-12T04:50:36.680Z"
   },
   {
    "duration": 185,
    "start_time": "2025-09-12T04:50:48.714Z"
   },
   {
    "duration": 1038,
    "start_time": "2025-09-12T04:50:55.428Z"
   },
   {
    "duration": 370,
    "start_time": "2025-09-12T04:51:03.367Z"
   },
   {
    "duration": 1338,
    "start_time": "2025-09-12T04:51:11.798Z"
   },
   {
    "duration": 227,
    "start_time": "2025-09-12T04:51:20.132Z"
   },
   {
    "duration": 590,
    "start_time": "2025-09-12T04:51:27.628Z"
   },
   {
    "duration": 522,
    "start_time": "2025-09-12T04:51:33.990Z"
   },
   {
    "duration": 718,
    "start_time": "2025-09-12T04:51:40.943Z"
   },
   {
    "duration": 52,
    "start_time": "2025-09-12T04:51:52.745Z"
   },
   {
    "duration": 12,
    "start_time": "2025-09-12T04:51:56.470Z"
   },
   {
    "duration": 175,
    "start_time": "2025-09-12T04:55:02.807Z"
   },
   {
    "duration": 754,
    "start_time": "2025-09-12T04:55:41.083Z"
   },
   {
    "duration": 1450,
    "start_time": "2025-09-12T20:32:06.559Z"
   },
   {
    "duration": 1424,
    "start_time": "2025-09-12T20:32:08.011Z"
   },
   {
    "duration": 398,
    "start_time": "2025-09-12T20:32:09.437Z"
   },
   {
    "duration": 116,
    "start_time": "2025-09-12T20:32:09.837Z"
   },
   {
    "duration": 260,
    "start_time": "2025-09-12T20:32:09.955Z"
   },
   {
    "duration": 19,
    "start_time": "2025-09-12T20:32:10.217Z"
   },
   {
    "duration": 249,
    "start_time": "2025-09-12T20:32:10.251Z"
   },
   {
    "duration": 4578,
    "start_time": "2025-09-12T20:32:10.501Z"
   },
   {
    "duration": 137,
    "start_time": "2025-09-12T20:32:15.081Z"
   },
   {
    "duration": 319,
    "start_time": "2025-09-12T20:32:15.221Z"
   },
   {
    "duration": 15,
    "start_time": "2025-09-12T20:32:15.542Z"
   },
   {
    "duration": 384,
    "start_time": "2025-09-12T20:32:15.558Z"
   },
   {
    "duration": 708,
    "start_time": "2025-09-12T20:32:15.943Z"
   },
   {
    "duration": 176,
    "start_time": "2025-09-12T20:32:16.653Z"
   },
   {
    "duration": 68,
    "start_time": "2025-09-12T20:32:16.831Z"
   },
   {
    "duration": 729,
    "start_time": "2025-09-12T20:32:16.901Z"
   },
   {
    "duration": 230,
    "start_time": "2025-09-12T20:32:17.632Z"
   },
   {
    "duration": 614,
    "start_time": "2025-09-12T20:32:17.864Z"
   },
   {
    "duration": 224,
    "start_time": "2025-09-12T20:32:18.480Z"
   },
   {
    "duration": 6973,
    "start_time": "2025-09-12T20:32:18.706Z"
   },
   {
    "duration": 429,
    "start_time": "2025-09-12T20:32:25.681Z"
   },
   {
    "duration": 105,
    "start_time": "2025-09-12T20:32:26.112Z"
   },
   {
    "duration": 167,
    "start_time": "2025-09-12T20:32:26.219Z"
   },
   {
    "duration": 872,
    "start_time": "2025-09-12T20:32:26.388Z"
   },
   {
    "duration": 380,
    "start_time": "2025-09-12T20:32:27.262Z"
   },
   {
    "duration": 1109,
    "start_time": "2025-09-12T20:32:27.651Z"
   },
   {
    "duration": 185,
    "start_time": "2025-09-12T20:32:28.762Z"
   },
   {
    "duration": 494,
    "start_time": "2025-09-12T20:32:28.953Z"
   },
   {
    "duration": 518,
    "start_time": "2025-09-12T20:32:29.452Z"
   },
   {
    "duration": 768,
    "start_time": "2025-09-12T20:32:29.972Z"
   },
   {
    "duration": 43,
    "start_time": "2025-09-12T20:32:30.742Z"
   }
  ],
  "colab": {
   "provenance": []
  },
  "kernelspec": {
   "display_name": "Python 3 (ipykernel)",
   "language": "python",
   "name": "python3"
  },
  "language_info": {
   "codemirror_mode": {
    "name": "ipython",
    "version": 3
   },
   "file_extension": ".py",
   "mimetype": "text/x-python",
   "name": "python",
   "nbconvert_exporter": "python",
   "pygments_lexer": "ipython3",
   "version": "3.9.5"
  },
  "toc": {
   "base_numbering": 1,
   "nav_menu": {},
   "number_sections": true,
   "sideBar": true,
   "skip_h1_title": true,
   "title_cell": "Table of Contents",
   "title_sidebar": "Contents",
   "toc_cell": false,
   "toc_position": {},
   "toc_section_display": true,
   "toc_window_display": false
  }
 },
 "nbformat": 4,
 "nbformat_minor": 1
}

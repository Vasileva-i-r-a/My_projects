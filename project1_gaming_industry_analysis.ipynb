{
 "cells": [
  {
   "cell_type": "markdown",
   "id": "e06910dd",
   "metadata": {
    "id": "e06910dd"
   },
   "source": [
    "# Анализ игровой индустрии с 2003 по 2013 год.\n",
    "\n",
    "- Автор:Васильева Ирина\n",
    "- Дата: 22.05.2025"
   ]
  },
  {
   "cell_type": "markdown",
   "id": "4149134c",
   "metadata": {
    "id": "4149134c"
   },
   "source": [
    "1.Цели и задачи проекта\n",
    "\n",
    "Провести аналитику игр с 2003 по 2013 год. Провести категоризацию игр по оценке пользователей и экспертов. Выделить ТОП-7 платформ, по играм выпущенным в этот период."
   ]
  },
  {
   "cell_type": "markdown",
   "id": "728986ea",
   "metadata": {
    "id": "728986ea"
   },
   "source": [
    "2 Описание данных\n",
    "\n",
    "Данные содержат информацию о продажах игр разных жанров и платформ, а также пользовательские и экспертные оценки."
   ]
  },
  {
   "cell_type": "markdown",
   "id": "4fecaf95",
   "metadata": {
    "id": "4fecaf95"
   },
   "source": [
    "3 Содержимое проекта\n",
    "    1.Знакомство с данными. \n",
    "    2. Предобработка данных\n",
    "    3. Фильтрация данных на пропуски, дубликаты и ошбики.\n",
    "    4. Категоризация данных."
   ]
  },
  {
   "cell_type": "markdown",
   "id": "6f7d21d6",
   "metadata": {
    "id": "6f7d21d6"
   },
   "source": [
    "## 1. Загрузка данных и знакомство с ними\n",
    "\n",
    "\n"
   ]
  },
  {
   "cell_type": "code",
   "execution_count": 1,
   "id": "ebb66dc5",
   "metadata": {
    "id": "ebb66dc5"
   },
   "outputs": [
    {
     "data": {
      "text/html": [
       "<div>\n",
       "<style scoped>\n",
       "    .dataframe tbody tr th:only-of-type {\n",
       "        vertical-align: middle;\n",
       "    }\n",
       "\n",
       "    .dataframe tbody tr th {\n",
       "        vertical-align: top;\n",
       "    }\n",
       "\n",
       "    .dataframe thead th {\n",
       "        text-align: right;\n",
       "    }\n",
       "</style>\n",
       "<table border=\"1\" class=\"dataframe\">\n",
       "  <thead>\n",
       "    <tr style=\"text-align: right;\">\n",
       "      <th></th>\n",
       "      <th>Name</th>\n",
       "      <th>Platform</th>\n",
       "      <th>Year of Release</th>\n",
       "      <th>Genre</th>\n",
       "      <th>NA sales</th>\n",
       "      <th>EU sales</th>\n",
       "      <th>JP sales</th>\n",
       "      <th>Other sales</th>\n",
       "      <th>Critic Score</th>\n",
       "      <th>User Score</th>\n",
       "      <th>Rating</th>\n",
       "    </tr>\n",
       "  </thead>\n",
       "  <tbody>\n",
       "    <tr>\n",
       "      <th>0</th>\n",
       "      <td>Wii Sports</td>\n",
       "      <td>Wii</td>\n",
       "      <td>2006.0</td>\n",
       "      <td>Sports</td>\n",
       "      <td>41.36</td>\n",
       "      <td>28.96</td>\n",
       "      <td>3.77</td>\n",
       "      <td>8.45</td>\n",
       "      <td>76.0</td>\n",
       "      <td>8</td>\n",
       "      <td>E</td>\n",
       "    </tr>\n",
       "    <tr>\n",
       "      <th>1</th>\n",
       "      <td>Super Mario Bros.</td>\n",
       "      <td>NES</td>\n",
       "      <td>1985.0</td>\n",
       "      <td>Platform</td>\n",
       "      <td>29.08</td>\n",
       "      <td>3.58</td>\n",
       "      <td>6.81</td>\n",
       "      <td>0.77</td>\n",
       "      <td>NaN</td>\n",
       "      <td>NaN</td>\n",
       "      <td>NaN</td>\n",
       "    </tr>\n",
       "    <tr>\n",
       "      <th>2</th>\n",
       "      <td>Mario Kart Wii</td>\n",
       "      <td>Wii</td>\n",
       "      <td>2008.0</td>\n",
       "      <td>Racing</td>\n",
       "      <td>15.68</td>\n",
       "      <td>12.76</td>\n",
       "      <td>3.79</td>\n",
       "      <td>3.29</td>\n",
       "      <td>82.0</td>\n",
       "      <td>8.3</td>\n",
       "      <td>E</td>\n",
       "    </tr>\n",
       "    <tr>\n",
       "      <th>3</th>\n",
       "      <td>Wii Sports Resort</td>\n",
       "      <td>Wii</td>\n",
       "      <td>2009.0</td>\n",
       "      <td>Sports</td>\n",
       "      <td>15.61</td>\n",
       "      <td>10.93</td>\n",
       "      <td>3.28</td>\n",
       "      <td>2.95</td>\n",
       "      <td>80.0</td>\n",
       "      <td>8</td>\n",
       "      <td>E</td>\n",
       "    </tr>\n",
       "    <tr>\n",
       "      <th>4</th>\n",
       "      <td>Pokemon Red/Pokemon Blue</td>\n",
       "      <td>GB</td>\n",
       "      <td>1996.0</td>\n",
       "      <td>Role-Playing</td>\n",
       "      <td>11.27</td>\n",
       "      <td>8.89</td>\n",
       "      <td>10.22</td>\n",
       "      <td>1.00</td>\n",
       "      <td>NaN</td>\n",
       "      <td>NaN</td>\n",
       "      <td>NaN</td>\n",
       "    </tr>\n",
       "  </tbody>\n",
       "</table>\n",
       "</div>"
      ],
      "text/plain": [
       "                       Name Platform  Year of Release         Genre  NA sales  \\\n",
       "0                Wii Sports      Wii           2006.0        Sports     41.36   \n",
       "1         Super Mario Bros.      NES           1985.0      Platform     29.08   \n",
       "2            Mario Kart Wii      Wii           2008.0        Racing     15.68   \n",
       "3         Wii Sports Resort      Wii           2009.0        Sports     15.61   \n",
       "4  Pokemon Red/Pokemon Blue       GB           1996.0  Role-Playing     11.27   \n",
       "\n",
       "  EU sales JP sales  Other sales  Critic Score User Score Rating  \n",
       "0    28.96     3.77         8.45          76.0          8      E  \n",
       "1     3.58     6.81         0.77           NaN        NaN    NaN  \n",
       "2    12.76     3.79         3.29          82.0        8.3      E  \n",
       "3    10.93     3.28         2.95          80.0          8      E  \n",
       "4     8.89    10.22         1.00           NaN        NaN    NaN  "
      ]
     },
     "metadata": {},
     "output_type": "display_data"
    },
    {
     "data": {
      "text/html": [
       "<div>\n",
       "<style scoped>\n",
       "    .dataframe tbody tr th:only-of-type {\n",
       "        vertical-align: middle;\n",
       "    }\n",
       "\n",
       "    .dataframe tbody tr th {\n",
       "        vertical-align: top;\n",
       "    }\n",
       "\n",
       "    .dataframe thead th {\n",
       "        text-align: right;\n",
       "    }\n",
       "</style>\n",
       "<table border=\"1\" class=\"dataframe\">\n",
       "  <thead>\n",
       "    <tr style=\"text-align: right;\">\n",
       "      <th></th>\n",
       "      <th>Name</th>\n",
       "      <th>Platform</th>\n",
       "      <th>Year of Release</th>\n",
       "      <th>Genre</th>\n",
       "      <th>NA sales</th>\n",
       "      <th>EU sales</th>\n",
       "      <th>JP sales</th>\n",
       "      <th>Other sales</th>\n",
       "      <th>Critic Score</th>\n",
       "      <th>User Score</th>\n",
       "      <th>Rating</th>\n",
       "    </tr>\n",
       "  </thead>\n",
       "  <tbody>\n",
       "    <tr>\n",
       "      <th>16951</th>\n",
       "      <td>Samurai Warriors: Sanada Maru</td>\n",
       "      <td>PS3</td>\n",
       "      <td>2016.0</td>\n",
       "      <td>Action</td>\n",
       "      <td>0.00</td>\n",
       "      <td>0.0</td>\n",
       "      <td>0.01</td>\n",
       "      <td>0.0</td>\n",
       "      <td>NaN</td>\n",
       "      <td>NaN</td>\n",
       "      <td>NaN</td>\n",
       "    </tr>\n",
       "    <tr>\n",
       "      <th>16952</th>\n",
       "      <td>LMA Manager 2007</td>\n",
       "      <td>X360</td>\n",
       "      <td>2006.0</td>\n",
       "      <td>Sports</td>\n",
       "      <td>0.00</td>\n",
       "      <td>0.01</td>\n",
       "      <td>0.0</td>\n",
       "      <td>0.0</td>\n",
       "      <td>NaN</td>\n",
       "      <td>NaN</td>\n",
       "      <td>NaN</td>\n",
       "    </tr>\n",
       "    <tr>\n",
       "      <th>16953</th>\n",
       "      <td>Haitaka no Psychedelica</td>\n",
       "      <td>PSV</td>\n",
       "      <td>2016.0</td>\n",
       "      <td>Adventure</td>\n",
       "      <td>0.00</td>\n",
       "      <td>0.0</td>\n",
       "      <td>0.01</td>\n",
       "      <td>0.0</td>\n",
       "      <td>NaN</td>\n",
       "      <td>NaN</td>\n",
       "      <td>NaN</td>\n",
       "    </tr>\n",
       "    <tr>\n",
       "      <th>16954</th>\n",
       "      <td>Spirits &amp; Spells</td>\n",
       "      <td>GBA</td>\n",
       "      <td>2003.0</td>\n",
       "      <td>Platform</td>\n",
       "      <td>0.01</td>\n",
       "      <td>0.0</td>\n",
       "      <td>0.0</td>\n",
       "      <td>0.0</td>\n",
       "      <td>NaN</td>\n",
       "      <td>NaN</td>\n",
       "      <td>NaN</td>\n",
       "    </tr>\n",
       "    <tr>\n",
       "      <th>16955</th>\n",
       "      <td>Winning Post 8 2016</td>\n",
       "      <td>PSV</td>\n",
       "      <td>2016.0</td>\n",
       "      <td>Simulation</td>\n",
       "      <td>0.00</td>\n",
       "      <td>0.0</td>\n",
       "      <td>0.01</td>\n",
       "      <td>0.0</td>\n",
       "      <td>NaN</td>\n",
       "      <td>NaN</td>\n",
       "      <td>NaN</td>\n",
       "    </tr>\n",
       "  </tbody>\n",
       "</table>\n",
       "</div>"
      ],
      "text/plain": [
       "                                Name Platform  Year of Release       Genre  \\\n",
       "16951  Samurai Warriors: Sanada Maru      PS3           2016.0      Action   \n",
       "16952               LMA Manager 2007     X360           2006.0      Sports   \n",
       "16953        Haitaka no Psychedelica      PSV           2016.0   Adventure   \n",
       "16954               Spirits & Spells      GBA           2003.0    Platform   \n",
       "16955            Winning Post 8 2016      PSV           2016.0  Simulation   \n",
       "\n",
       "       NA sales EU sales JP sales  Other sales  Critic Score User Score Rating  \n",
       "16951      0.00      0.0     0.01          0.0           NaN        NaN    NaN  \n",
       "16952      0.00     0.01      0.0          0.0           NaN        NaN    NaN  \n",
       "16953      0.00      0.0     0.01          0.0           NaN        NaN    NaN  \n",
       "16954      0.01      0.0      0.0          0.0           NaN        NaN    NaN  \n",
       "16955      0.00      0.0     0.01          0.0           NaN        NaN    NaN  "
      ]
     },
     "metadata": {},
     "output_type": "display_data"
    },
    {
     "data": {
      "text/plain": [
       "(16956, 11)"
      ]
     },
     "metadata": {},
     "output_type": "display_data"
    },
    {
     "data": {
      "text/plain": [
       "Index(['Name', 'Platform', 'Year of Release', 'Genre', 'NA sales', 'EU sales',\n",
       "       'JP sales', 'Other sales', 'Critic Score', 'User Score', 'Rating'],\n",
       "      dtype='object')"
      ]
     },
     "metadata": {},
     "output_type": "display_data"
    }
   ],
   "source": [
    "import pandas as pd\n",
    "from IPython.display import display\n",
    "\n",
    "df = pd.read_csv('https://code.s3.yandex.net/datasets/new_games.csv')\n",
    "display(df.head())\n",
    "\n",
    "display(df.tail())\n",
    "display(df.shape)\n",
    "display(df.columns)  "
   ]
  },
  {
   "cell_type": "markdown",
   "id": "b13d05b5",
   "metadata": {
    "id": "ce87c1db"
   },
   "source": [
    "Данные содержатся в 11 колонках, содержат 16956 строк"
   ]
  },
  {
   "cell_type": "code",
   "execution_count": 2,
   "id": "3937acf7",
   "metadata": {
    "id": "3937acf7"
   },
   "outputs": [
    {
     "name": "stdout",
     "output_type": "stream",
     "text": [
      "<class 'pandas.core.frame.DataFrame'>\n",
      "RangeIndex: 16956 entries, 0 to 16955\n",
      "Data columns (total 11 columns):\n",
      " #   Column           Non-Null Count  Dtype  \n",
      "---  ------           --------------  -----  \n",
      " 0   Name             16954 non-null  object \n",
      " 1   Platform         16956 non-null  object \n",
      " 2   Year of Release  16681 non-null  float64\n",
      " 3   Genre            16954 non-null  object \n",
      " 4   NA sales         16956 non-null  float64\n",
      " 5   EU sales         16956 non-null  object \n",
      " 6   JP sales         16956 non-null  object \n",
      " 7   Other sales      16956 non-null  float64\n",
      " 8   Critic Score     8242 non-null   float64\n",
      " 9   User Score       10152 non-null  object \n",
      " 10  Rating           10085 non-null  object \n",
      "dtypes: float64(4), object(7)\n",
      "memory usage: 1.4+ MB\n",
      "None\n"
     ]
    }
   ],
   "source": [
    "print(df.info())"
   ]
  },
  {
   "cell_type": "markdown",
   "id": "761bc41b",
   "metadata": {
    "id": "d7c8eb4b"
   },
   "source": [
    "Объем данных 1.4 МБ. Данные представлены 2 типами: Name, Platform, Genre, EU sales, JP sales, User Score, \n",
    "    Rating - объекты, остальные колонки float 64. Стболбцы EU sales, JP sales должны быть числовыми. Столбец User Score\n",
    "    тоже должен быть числовым. Возможно в этих колонках есть текст. Year of Release - год должен быть по типу int.\n",
    "    В данных есть пропуски в колонке Name - 2 пропуска. Year of Release - 275, Genre - 2, Critic Score - 8714, \n",
    "    User Score - 6804, Rating - 6871. Названия столбцов не соответствуют правилу snake case.\n"
   ]
  },
  {
   "cell_type": "markdown",
   "id": "774bf76e",
   "metadata": {
    "id": "774bf76e"
   },
   "source": [
    "---\n",
    "\n",
    "## 2.  Проверка ошибок в данных и их предобработка\n",
    "\n",
    "\n",
    "### 2.1. Названия, или метки, столбцов датафрейма\n",
    "\n",
    "- На экран выведены названия всех столбцов датафрейма и проверен их стиль написания.\n",
    "- Все столбцы приведены к стилю snake case. Названия должны быть в нижнем регистре, а вместо пробелов — подчёркивания."
   ]
  },
  {
   "cell_type": "code",
   "execution_count": 3,
   "id": "b9276a2b",
   "metadata": {
    "id": "b9276a2b"
   },
   "outputs": [
    {
     "name": "stdout",
     "output_type": "stream",
     "text": [
      "                                name platform  year_of_release         genre  \\\n",
      "0                         Wii Sports      Wii           2006.0        Sports   \n",
      "1                  Super Mario Bros.      NES           1985.0      Platform   \n",
      "2                     Mario Kart Wii      Wii           2008.0        Racing   \n",
      "3                  Wii Sports Resort      Wii           2009.0        Sports   \n",
      "4           Pokemon Red/Pokemon Blue       GB           1996.0  Role-Playing   \n",
      "...                              ...      ...              ...           ...   \n",
      "16951  Samurai Warriors: Sanada Maru      PS3           2016.0        Action   \n",
      "16952               LMA Manager 2007     X360           2006.0        Sports   \n",
      "16953        Haitaka no Psychedelica      PSV           2016.0     Adventure   \n",
      "16954               Spirits & Spells      GBA           2003.0      Platform   \n",
      "16955            Winning Post 8 2016      PSV           2016.0    Simulation   \n",
      "\n",
      "       north_america_sales europe_sales japan_sales  other_sales  \\\n",
      "0                    41.36        28.96        3.77         8.45   \n",
      "1                    29.08         3.58        6.81         0.77   \n",
      "2                    15.68        12.76        3.79         3.29   \n",
      "3                    15.61        10.93        3.28         2.95   \n",
      "4                    11.27         8.89       10.22         1.00   \n",
      "...                    ...          ...         ...          ...   \n",
      "16951                 0.00          0.0        0.01         0.00   \n",
      "16952                 0.00         0.01         0.0         0.00   \n",
      "16953                 0.00          0.0        0.01         0.00   \n",
      "16954                 0.01          0.0         0.0         0.00   \n",
      "16955                 0.00          0.0        0.01         0.00   \n",
      "\n",
      "       critic_score user_score rating  \n",
      "0              76.0          8      E  \n",
      "1               NaN        NaN    NaN  \n",
      "2              82.0        8.3      E  \n",
      "3              80.0          8      E  \n",
      "4               NaN        NaN    NaN  \n",
      "...             ...        ...    ...  \n",
      "16951           NaN        NaN    NaN  \n",
      "16952           NaN        NaN    NaN  \n",
      "16953           NaN        NaN    NaN  \n",
      "16954           NaN        NaN    NaN  \n",
      "16955           NaN        NaN    NaN  \n",
      "\n",
      "[16956 rows x 11 columns]\n"
     ]
    }
   ],
   "source": [
    "df = df.rename(columns={\n",
    "    'Name': 'name',\n",
    "    'Platform': 'platform',\n",
    "    'Year of Release': 'year_of_release',\n",
    "    'Genre': 'genre',\n",
    "    'NA sales': 'north_america_sales',\n",
    "    'EU sales': 'europe_sales',\n",
    "    'JP sales': 'japan_sales',\n",
    "    'Other sales': 'other_sales',\n",
    "    'Critic Score': 'critic_score',\n",
    "    'User Score': 'user_score',\n",
    "    'Rating': 'rating',\n",
    "})\n",
    "\n",
    "print(df)\n"
   ]
  },
  {
   "cell_type": "markdown",
   "id": "41bc6bf8",
   "metadata": {
    "id": "41bc6bf8"
   },
   "source": [
    "### 2.2. Типы данных\n",
    "\n",
    "- Если встречаются некорректные типы данных, предполагаем их причины.\n",
    "- При необходимости проводим преобразование типов данных."
   ]
  },
  {
   "cell_type": "code",
   "execution_count": 4,
   "id": "8adaac81",
   "metadata": {
    "id": "8adaac81"
   },
   "outputs": [
    {
     "data": {
      "text/plain": [
       "array([2006., 1985., 2008., 2009., 1996., 1989., 1984., 2005., 1999.,\n",
       "       2007., 2010., 2013., 2004., 1990., 1988., 2002., 2001., 2011.,\n",
       "       1998., 2015., 2012., 2014., 1992., 1997., 1993., 1994., 1982.,\n",
       "       2016., 2003., 1986., 2000.,   nan, 1995., 1991., 1981., 1987.,\n",
       "       1980., 1983.])"
      ]
     },
     "execution_count": 4,
     "metadata": {},
     "output_type": "execute_result"
    }
   ],
   "source": [
    "df['year_of_release'].unique()"
   ]
  },
  {
   "cell_type": "code",
   "execution_count": 5,
   "id": "e8412c01",
   "metadata": {
    "id": "e8412c01"
   },
   "outputs": [
    {
     "data": {
      "text/plain": [
       "array(['E', nan, 'M', 'T', 'E10+', 'K-A', 'AO', 'EC', 'RP'], dtype=object)"
      ]
     },
     "execution_count": 5,
     "metadata": {},
     "output_type": "execute_result"
    }
   ],
   "source": [
    "df['rating'].unique()"
   ]
  },
  {
   "cell_type": "markdown",
   "id": "63378edf",
   "metadata": {
    "id": "63378edf"
   },
   "source": [
    "- В числовых столбцах могут встретиться строковые значения, например `unknown` или другие. Приводим такие столбцы к числовому типу данных, заменив строковые значения на пропуски."
   ]
  },
  {
   "cell_type": "code",
   "execution_count": 6,
   "id": "5033ee32",
   "metadata": {
    "id": "5033ee32"
   },
   "outputs": [
    {
     "name": "stdout",
     "output_type": "stream",
     "text": [
      "name                    object\n",
      "platform                object\n",
      "year_of_release          Int64\n",
      "genre                   object\n",
      "north_america_sales    float64\n",
      "europe_sales           float64\n",
      "japan_sales            float64\n",
      "other_sales            float64\n",
      "critic_score             Int64\n",
      "user_score             float64\n",
      "rating                  object\n",
      "dtype: object\n",
      "                       name platform  year_of_release         genre  \\\n",
      "0                Wii Sports      Wii             2006        Sports   \n",
      "1         Super Mario Bros.      NES             1985      Platform   \n",
      "2            Mario Kart Wii      Wii             2008        Racing   \n",
      "3         Wii Sports Resort      Wii             2009        Sports   \n",
      "4  Pokemon Red/Pokemon Blue       GB             1996  Role-Playing   \n",
      "\n",
      "   north_america_sales  europe_sales  japan_sales  other_sales  critic_score  \\\n",
      "0                41.36         28.96         3.77         8.45            76   \n",
      "1                29.08          3.58         6.81         0.77          <NA>   \n",
      "2                15.68         12.76         3.79         3.29            82   \n",
      "3                15.61         10.93         3.28         2.95            80   \n",
      "4                11.27          8.89        10.22         1.00          <NA>   \n",
      "\n",
      "   user_score rating  \n",
      "0         8.0      E  \n",
      "1         NaN    NaN  \n",
      "2         8.3      E  \n",
      "3         8.0      E  \n",
      "4         NaN    NaN  \n"
     ]
    }
   ],
   "source": [
    "columns_to_clean = ['year_of_release', 'europe_sales', 'japan_sales', 'critic_score', 'user_score']\n",
    "\n",
    "for col in columns_to_clean:\n",
    "    df[col] = pd.to_numeric(df[col], errors='coerce')\n",
    "    df['year_of_release'] = df['year_of_release'].astype('Int64')\n",
    "    df['critic_score'] = df['critic_score'].astype('Int64')\n",
    "\n",
    "print(df.dtypes)\n",
    "print(df.head())\n"
   ]
  },
  {
   "cell_type": "markdown",
   "id": "f573a573",
   "metadata": {
    "id": "3a26fb26"
   },
   "source": [
    "Колонки с числовыми данными приведены к типу float64, строки в числовых колонках заменены на Nan.\n",
    "Колонка год реализации приведена к типу int."
   ]
  },
  {
   "cell_type": "markdown",
   "id": "b39893cb",
   "metadata": {
    "id": "b39893cb"
   },
   "source": [
    "2.3. Наличие пропусков в данных\n",
    "\n"
   ]
  },
  {
   "cell_type": "code",
   "execution_count": 7,
   "id": "0f1c91a8",
   "metadata": {
    "id": "0f1c91a8"
   },
   "outputs": [
    {
     "name": "stdout",
     "output_type": "stream",
     "text": [
      "                     missing_count  missing_percent\n",
      "name                             2         0.011795\n",
      "platform                         0         0.000000\n",
      "year_of_release                275         1.621845\n",
      "genre                            2         0.011795\n",
      "north_america_sales              0         0.000000\n",
      "europe_sales                     6         0.035386\n",
      "japan_sales                      4         0.023590\n",
      "other_sales                      0         0.000000\n",
      "critic_score                  8714        51.391838\n",
      "user_score                    9268        54.659118\n",
      "rating                        6871        40.522529\n"
     ]
    }
   ],
   "source": [
    "missing_counts = df.isna().sum()\n",
    "\n",
    "missing_percent = df.isna().mean() * 100\n",
    "\n",
    "missing_data = pd.DataFrame({\n",
    "    'missing_count': missing_counts,\n",
    "    'missing_percent': missing_percent\n",
    "})\n",
    "\n",
    "print(missing_data)"
   ]
  },
  {
   "cell_type": "markdown",
   "id": "357d8526",
   "metadata": {
    "id": "86cd1cc1"
   },
   "source": [
    "По пропускам в абсолютном значении в колонке name 2 пропуска, year_of_release - 275, genre - 2, europe_sales - 6,\n",
    "japan_sales - 4, critic_score - 8714, user_score - 9268, rating - 6871. Значимы для анализа пропуски в колонках critic_score,\n",
    "user_score и rating это около 50% всех данных, заполнять такие пропуски не следует это исказит результаты,\n",
    "заменим пропуски на показатель -1.\n",
    "Для дальнейшего анализа удалим данные с 2 пропусками в колонке name, и 275 строк в колонке\n",
    "year_of_release это 1,6% данных. Так как нам нужно провести анализ с 2003-2013 год. И игра без названия и года не имеет смысла.\n",
    "Данные в колонках europe_sales и japan_sales заменим на медианные значения."
   ]
  },
  {
   "cell_type": "code",
   "execution_count": 8,
   "id": "247a6cf7",
   "metadata": {
    "id": "247a6cf7"
   },
   "outputs": [
    {
     "name": "stdout",
     "output_type": "stream",
     "text": [
      "europe_sales    0\n",
      "japan_sales     0\n",
      "dtype: int64\n"
     ]
    }
   ],
   "source": [
    "df = df.dropna(subset=['name', 'year_of_release'])\n",
    "\n",
    "df['europe_sales'] = df['europe_sales'].fillna(df['europe_sales'].median())\n",
    "df['japan_sales'] = df['japan_sales'].fillna(df['japan_sales'].median())\n",
    "df[['critic_score', 'user_score', 'rating']] = df[['critic_score', 'user_score', 'rating']].fillna(-1)\n",
    "\n",
    "\n",
    "print(df[['europe_sales', 'japan_sales']].isna().sum()) \n"
   ]
  },
  {
   "cell_type": "markdown",
   "id": "a63363fd",
   "metadata": {
    "id": "a63363fd"
   },
   "source": [
    "### 2.4. Явные и неявные дубликаты в данных\n",
    "\n"
   ]
  },
  {
   "cell_type": "code",
   "execution_count": 9,
   "id": "491c9c39",
   "metadata": {
    "id": "491c9c39"
   },
   "outputs": [
    {
     "name": "stdout",
     "output_type": "stream",
     "text": [
      "Уникальные значения в колонке \"name\":\n",
      "11426\n",
      "--------------------------------------------------\n",
      "Уникальные значения в колонке \"platform\":\n",
      "31\n",
      "--------------------------------------------------\n",
      "Уникальные значения в колонке \"year_of_release\":\n",
      "37\n",
      "--------------------------------------------------\n",
      "Уникальные значения в колонке \"genre\":\n",
      "24\n",
      "--------------------------------------------------\n",
      "Уникальные значения в колонке \"north_america_sales\":\n",
      "401\n",
      "--------------------------------------------------\n",
      "Уникальные значения в колонке \"europe_sales\":\n",
      "307\n",
      "--------------------------------------------------\n",
      "Уникальные значения в колонке \"japan_sales\":\n",
      "244\n",
      "--------------------------------------------------\n",
      "Уникальные значения в колонке \"other_sales\":\n",
      "155\n",
      "--------------------------------------------------\n",
      "Уникальные значения в колонке \"critic_score\":\n",
      "82\n",
      "--------------------------------------------------\n",
      "Уникальные значения в колонке \"user_score\":\n",
      "96\n",
      "--------------------------------------------------\n",
      "Уникальные значения в колонке \"rating\":\n",
      "9\n",
      "--------------------------------------------------\n"
     ]
    }
   ],
   "source": [
    "for col in df.columns:\n",
    "    print(f'Уникальные значения в колонке \"{col}\":')\n",
    "    print(df[col].nunique())\n",
    "    print('-' * 50)"
   ]
  },
  {
   "cell_type": "markdown",
   "id": "467c0b40",
   "metadata": {
    "id": "f1627198"
   },
   "source": [
    "Приведем заполнение данных в колонках к нижнему регистру и проверим на пробелы"
   ]
  },
  {
   "cell_type": "code",
   "execution_count": 10,
   "id": "a0cac80c",
   "metadata": {
    "id": "a0cac80c"
   },
   "outputs": [
    {
     "name": "stdout",
     "output_type": "stream",
     "text": [
      "genre: ['Sports' 'Platform' 'Racing' 'Role-Playing' 'Puzzle' 'Misc' 'Shooter'\n",
      " 'Simulation' 'Action' 'Fighting' 'Adventure' 'Strategy' 'MISC'\n",
      " 'ROLE-PLAYING' 'RACING' 'ACTION' 'SHOOTER' 'FIGHTING' 'SPORTS' 'PLATFORM'\n",
      " 'ADVENTURE' 'SIMULATION' 'PUZZLE' 'STRATEGY']\n",
      "platform: ['Wii' 'NES' 'GB' 'DS' 'X360' 'PS3' 'PS2' 'SNES' 'GBA' 'PS4' '3DS' 'N64'\n",
      " 'PS' 'XB' 'PC' '2600' 'PSP' 'XOne' 'WiiU' 'GC' 'GEN' 'DC' 'PSV' 'SAT'\n",
      " 'SCD' 'WS' 'NG' 'TG16' '3DO' 'GG' 'PCFX']\n",
      "name: ['Wii Sports' 'Super Mario Bros.' 'Mario Kart Wii' ...\n",
      " 'Woody Woodpecker in Crazy Castle 5' 'LMA Manager 2007'\n",
      " 'Haitaka no Psychedelica']\n",
      "rating: ['E' -1 'M' 'T' 'E10+' 'K-A' 'AO' 'EC' 'RP']\n",
      "Строки с пробелами в начале/конце:\n",
      "[]\n",
      "Всего строк в колонке 'name': 16679\n",
      "Уникальных значений в колонке 'name': 11426\n"
     ]
    }
   ],
   "source": [
    "for col in ['genre', 'platform', 'name', 'rating']:\n",
    "    print(f'{col}: {df[col].unique()}')\n",
    "mask_strip = df['platform'] != df['platform'].str.strip()\n",
    "print(\"Строки с пробелами в начале/конце:\")\n",
    "print(df.loc[mask_strip, 'platform'].unique())\n",
    "print(\"Всего строк в колонке 'name':\", df['name'].shape[0])\n",
    "print(\"Уникальных значений в колонке 'name':\", df['name'].nunique())\n"
   ]
  },
  {
   "cell_type": "code",
   "execution_count": 11,
   "id": "fc5c91b5",
   "metadata": {
    "id": "fc5c91b5"
   },
   "outputs": [
    {
     "name": "stdout",
     "output_type": "stream",
     "text": [
      "genre: ['Sports' 'Platform' 'Racing' 'Role-Playing' 'Puzzle' 'Misc' 'Shooter'\n",
      " 'Simulation' 'Action' 'Fighting' 'Adventure' 'Strategy' 'MISC'\n",
      " 'ROLE-PLAYING' 'RACING' 'ACTION' 'SHOOTER' 'FIGHTING' 'SPORTS' 'PLATFORM'\n",
      " 'ADVENTURE' 'SIMULATION' 'PUZZLE' 'STRATEGY']\n",
      "platform: ['Wii' 'NES' 'GB' 'DS' 'X360' 'PS3' 'PS2' 'SNES' 'GBA' 'PS4' '3DS' 'N64'\n",
      " 'PS' 'XB' 'PC' '2600' 'PSP' 'XOne' 'WiiU' 'GC' 'GEN' 'DC' 'PSV' 'SAT'\n",
      " 'SCD' 'WS' 'NG' 'TG16' '3DO' 'GG' 'PCFX']\n",
      "name: ['Wii Sports' 'Super Mario Bros.' 'Mario Kart Wii' ...\n",
      " 'Woody Woodpecker in Crazy Castle 5' 'LMA Manager 2007'\n",
      " 'Haitaka no Psychedelica']\n",
      "rating: ['E' -1 'M' 'T' 'E10+' 'K-A' 'AO' 'EC' 'RP']\n",
      "Строки с пробелами в начале/конце:\n",
      "[]\n",
      "Всего строк в колонке 'name': 16679\n",
      "Уникальных значений в колонке 'name': 11426\n",
      "180\n"
     ]
    }
   ],
   "source": [
    "\n",
    "for col in ['genre', 'platform', 'name', 'rating']:\n",
    "    print(f'{col}: {df[col].unique()}')\n",
    "mask_strip = df['platform'] != df['platform'].str.strip()\n",
    "print(\"Строки с пробелами в начале/конце:\")\n",
    "print(df.loc[mask_strip, 'platform'].unique())\n",
    "print(\"Всего строк в колонке 'name':\", df['name'].shape[0])\n",
    "print(\"Уникальных значений в колонке 'name':\", df['name'].nunique())\n",
    "print(df[['name', 'platform', 'year_of_release', 'genre']].duplicated().sum())\n"
   ]
  },
  {
   "cell_type": "markdown",
   "id": "4109879f",
   "metadata": {
    "id": "2f61e076"
   },
   "source": [
    "Значение в колонке name должно быть уникальным в сочетании с годом, платформой и жанром. Выявлено 236 явных дубликатов.\n",
    "Удалим явные дубликаты."
   ]
  },
  {
   "cell_type": "code",
   "execution_count": 13,
   "id": "29e57705",
   "metadata": {
    "id": "29e57705"
   },
   "outputs": [
    {
     "name": "stdout",
     "output_type": "stream",
     "text": [
      "Осталось строк после удаления дубликатов: 16499\n",
      "['PS3' '3DS' 'PS4' 'WiiU' 'PSV' 'PSP' 'X360' 'Wii' 'DS']\n",
      "Всего строк в колонке 'name': 16499\n",
      "Уникальных значений в колонке 'name': 11426\n",
      "0\n"
     ]
    }
   ],
   "source": [
    "df['score_count'] = df[['critic_score', 'user_score', 'rating']].apply(lambda row: sum(row != -1), axis=1)\n",
    "df = df.sort_values(by='score_count', ascending=False)\n",
    "df = df.drop_duplicates(subset=['name', 'platform', 'year_of_release', 'genre'], keep='first')\n",
    "df = df.drop(columns='score_count')\n",
    "df = df.drop_duplicates().reset_index(drop=True)\n",
    "print(\"Осталось строк после удаления дубликатов:\", len(df))\n",
    "mask_strip = df['name'].str.strip() != df['name']\n",
    "print(df.loc[mask_strip, 'platform'].unique())\n",
    "print(\"Всего строк в колонке 'name':\", df['name'].shape[0])\n",
    "print(\"Уникальных значений в колонке 'name':\", df['name'].nunique())\n",
    "print(df[['name', 'platform', 'year_of_release', 'genre']].duplicated().sum())"
   ]
  },
  {
   "cell_type": "markdown",
   "id": "4617ef6f",
   "metadata": {
    "id": "5166fdf8"
   },
   "source": [
    "Проведена предобработка данных. Удалены строки с пропусками в ключевых для анализа колонках Название и год.\n",
    "Все данные приведены к нижнему регистру, проведена проверка на пропуски в написании.\n",
    "Выявлено 236 явных дубликатов, они удалены. Приоритетно удалялись данные где не заполнены все данные."
   ]
  },
  {
   "cell_type": "markdown",
   "id": "613f0eb0",
   "metadata": {
    "id": "613f0eb0"
   },
   "source": [
    "---\n",
    "\n",
    "## 3. Фильтрация данных\n",
    "\n",
    "Коллеги хотят изучить историю продаж игр в начале XXI века, и их интересует период с 2000 по 2013 год включительно. Отберите данные по этому показателю. Сохраните новый срез данных в отдельном датафрейме, например `df_actual`."
   ]
  },
  {
   "cell_type": "code",
   "execution_count": 14,
   "id": "2344916d",
   "metadata": {
    "id": "2344916d"
   },
   "outputs": [
    {
     "name": "stdout",
     "output_type": "stream",
     "text": [
      "                                                    name platform  \\\n",
      "0                                             Wii Sports      Wii   \n",
      "1                               Link's Crossbow Training      Wii   \n",
      "2                                   MX vs. ATV Unleashed      PS2   \n",
      "3         Tom Clancy's Ghost Recon Advanced Warfighter 2      PS3   \n",
      "4                    Grand Theft Auto: Vice City Stories      PSP   \n",
      "...                                                  ...      ...   \n",
      "16490                            Great Battle Full Blast      PSP   \n",
      "16491           Lise no Atelier: Ordre no Renkinjutsushi       DS   \n",
      "16495                                        Torino 2006       XB   \n",
      "16496                                            Amnesia      PSP   \n",
      "16497  Tabi no Yubisashi Kaiwachou DS: DS Series 5 De...       DS   \n",
      "\n",
      "       year_of_release         genre  north_america_sales  europe_sales  \\\n",
      "0                 2006        Sports                41.36         28.96   \n",
      "1                 2007       Shooter                 3.05          1.17   \n",
      "2                 2005        Racing                 0.86          0.03   \n",
      "3                 2007       Shooter                 0.34          0.48   \n",
      "4                 2006        Action                 1.70          1.99   \n",
      "...                ...           ...                  ...           ...   \n",
      "16490             2012        Action                 0.00          0.00   \n",
      "16491             2007  Role-Playing                 0.00          0.00   \n",
      "16495             2006        Sports                 0.03          0.01   \n",
      "16496             2011     Adventure                 0.00          0.00   \n",
      "16497             2006          Misc                 0.00          0.00   \n",
      "\n",
      "       japan_sales  other_sales  critic_score  user_score rating  \n",
      "0             3.77         8.45            76         8.0      E  \n",
      "1             0.29         0.46            68         7.1      T  \n",
      "2             0.00         0.14            79         8.4      E  \n",
      "3             0.02         0.19            84         8.1      T  \n",
      "4             0.16         1.18            86         8.0      M  \n",
      "...            ...          ...           ...         ...    ...  \n",
      "16490         0.04         0.00            -1        -1.0     -1  \n",
      "16491         0.04         0.00            -1        -1.0     -1  \n",
      "16495         0.00         0.00            -1        -1.0     -1  \n",
      "16496         0.04         0.00            -1        -1.0     -1  \n",
      "16497         0.04         0.00            -1        -1.0     -1  \n",
      "\n",
      "[12828 rows x 11 columns]\n"
     ]
    }
   ],
   "source": [
    "df_actual = df[(df['year_of_release'] >= 2000) & (df['year_of_release'] <= 2013)].copy()\n",
    "print(df_actual)"
   ]
  },
  {
   "cell_type": "markdown",
   "id": "8cb313aa",
   "metadata": {
    "id": "44d7529f"
   },
   "source": [
    "Проведена фильтрация данных, отобраны игры с 2003 по 2013 год включительно. Осталось 12780 игр для анализа."
   ]
  },
  {
   "cell_type": "markdown",
   "id": "a6f10b01",
   "metadata": {
    "id": "a6f10b01"
   },
   "source": [
    "---\n",
    "\n",
    "## 4. Категоризация данных\n",
    "    \n",
    "Провести категоризацию данных:\n",
    "- Разделим все игры по оценкам пользователей и выделим такие категории: высокая оценка (от 8 до 10 включительно), средняя оценка (от 3 до 8, не включая правую границу интервала) и низкая оценка (от 0 до 3, не включая правую границу интервала)."
   ]
  },
  {
   "cell_type": "code",
   "execution_count": 15,
   "id": "3db87229",
   "metadata": {
    "id": "3db87229"
   },
   "outputs": [
    {
     "name": "stdout",
     "output_type": "stream",
     "text": [
      "   user_score user_score_category\n",
      "0         8.0      высокая оценка\n",
      "1         7.1      средняя оценка\n",
      "2         8.4      высокая оценка\n",
      "3         8.1      высокая оценка\n",
      "4         8.0      высокая оценка\n"
     ]
    }
   ],
   "source": [
    "def categorize_user_score(score):\n",
    "    if score == -1:\n",
    "        return 'без оценки'\n",
    "    elif 8 <= score <= 10:\n",
    "        return 'высокая оценка'\n",
    "    elif 3 <= score < 8:\n",
    "        return 'средняя оценка'\n",
    "    elif 0 <= score < 3:\n",
    "        return 'низкая оценка'\n",
    "\n",
    "df_actual['user_score_category'] = df_actual['user_score'].apply(categorize_user_score)\n",
    "\n",
    "print(df_actual[['user_score', 'user_score_category']].head())"
   ]
  },
  {
   "cell_type": "markdown",
   "id": "80d686ab",
   "metadata": {
    "id": "9b0ca0f2"
   },
   "source": [
    "Проведена категоризация игр по показателю user_score"
   ]
  },
  {
   "cell_type": "code",
   "execution_count": 16,
   "id": "35438bd6",
   "metadata": {
    "id": "35438bd6"
   },
   "outputs": [
    {
     "name": "stdout",
     "output_type": "stream",
     "text": [
      "   critic_score critic_score_category\n",
      "0            76               средняя\n",
      "1            68               средняя\n",
      "2            79               средняя\n",
      "3            84               высокая\n",
      "4            86               высокая\n"
     ]
    }
   ],
   "source": [
    "def categorize_critic_score(score):\n",
    "    if score == -1:\n",
    "        return 'нет оценок'\n",
    "    elif 80 <= score <= 100:\n",
    "        return 'высокая'\n",
    "    elif 30 <= score < 80:\n",
    "        return 'средняя'\n",
    "    elif 0 <= score < 30:\n",
    "        return 'низкая'\n",
    "df_actual['critic_score_category'] = df_actual['critic_score'].apply(categorize_critic_score)\n",
    "print(df_actual[['critic_score', 'critic_score_category']].head())"
   ]
  },
  {
   "cell_type": "markdown",
   "id": "f8f34b40",
   "metadata": {
    "id": "f8f34b40"
   },
   "source": [
    "- Разделим все игры по оценкам критиков и выделите такие категории: высокая оценка (от 80 до 100 включительно), средняя оценка (от 30 до 80, не включая правую границу интервала) и низкая оценка (от 0 до 30, не включая правую границу интервала)."
   ]
  },
  {
   "cell_type": "markdown",
   "id": "26ef5247",
   "metadata": {
    "id": "e3f7acb0"
   },
   "source": [
    "Проведена категоризация по колонке critic_score"
   ]
  },
  {
   "cell_type": "markdown",
   "id": "olkTlTlAUDR9",
   "metadata": {
    "id": "olkTlTlAUDR9"
   },
   "source": [
    "- После категоризации данных проверим результат: сгруппируем данные по выделенным категориям и посчитаем количество игр в каждой категории."
   ]
  },
  {
   "cell_type": "code",
   "execution_count": 17,
   "id": "HW0Nsp-4UMSL",
   "metadata": {
    "id": "HW0Nsp-4UMSL"
   },
   "outputs": [
    {
     "name": "stdout",
     "output_type": "stream",
     "text": [
      "Распределение по user_score_category:\n",
      "без оценки        6322\n",
      "высокая оценка    2289\n",
      "низкая оценка      116\n",
      "средняя оценка    4101\n",
      "Name: user_score_category, dtype: int64\n",
      "\n",
      "Распределение по critic_score_category:\n",
      "высокая       1695\n",
      "нет оценок    5632\n",
      "низкая          55\n",
      "средняя       5446\n",
      "Name: critic_score_category, dtype: int64\n"
     ]
    }
   ],
   "source": [
    "print(\"Распределение по user_score_category:\")\n",
    "print(df_actual['user_score_category'].value_counts().sort_index())\n",
    "\n",
    "print(\"\\nРаспределение по critic_score_category:\")\n",
    "print(df_actual['critic_score_category'].value_counts().sort_index())"
   ]
  },
  {
   "cell_type": "markdown",
   "id": "6a98444c",
   "metadata": {
    "id": "6a98444c"
   },
   "source": [
    "- Выделим топ-7 платформ по количеству игр, выпущенных за весь актуальный период."
   ]
  },
  {
   "cell_type": "code",
   "execution_count": 18,
   "id": "003caa2c",
   "metadata": {
    "id": "003caa2c"
   },
   "outputs": [
    {
     "name": "stdout",
     "output_type": "stream",
     "text": [
      "Топ-7 платформ по количеству игр (2000–2013):\n",
      "PS2     2131\n",
      "DS      2126\n",
      "Wii     1279\n",
      "PSP     1184\n",
      "X360    1126\n",
      "PS3     1089\n",
      "GBA      813\n",
      "Name: platform, dtype: int64\n"
     ]
    }
   ],
   "source": [
    "top_platforms = (\n",
    "    df_actual['platform']\n",
    "    .value_counts()\n",
    "    .head(7)\n",
    ")\n",
    "\n",
    "print(\"Топ-7 платформ по количеству игр (2000–2013):\")\n",
    "print(top_platforms)"
   ]
  },
  {
   "cell_type": "markdown",
   "id": "4ca16861",
   "metadata": {
    "id": "e8d8a1d0"
   },
   "source": [
    "Выведены топ-7 платформ по количеству игр с 2003 по 2013 годы"
   ]
  },
  {
   "cell_type": "markdown",
   "id": "c0158881",
   "metadata": {
    "id": "c0158881"
   },
   "source": [
    "---\n",
    "\n",
    "## 5. Итоговый вывод\n",
    "\n",
    "В конце напишите основной вывод и отразите, какую работу проделали. Не забудьте указать описание среза данных и новых полей, которые добавили в исходный датасет."
   ]
  },
  {
   "cell_type": "markdown",
   "id": "d9115cc9",
   "metadata": {
    "id": "20175f5b"
   },
   "source": [
    "Проведен анализ данных игровой индустрии. Сделана предобработка массива данных на пропуски, дубликаты, неправильное заполнение.\n",
    "Проведена фильтрация для учета игр только за 2003-2013 год. Созданы новые поля для категоризации данных по оценке зрителей\n",
    "и оценке критиков. Выделены топ-7 платформ по количеству игр.Платформы Sony (PS2, PSP, PS3) и Nintendo (DS, Wii, GBA) имели наибольшее количество релизов в период с 2000 по 2013 год. Более половины игр не имеют пользовательских оценок  это может быть связано с низкой популярностью или отсутствием данных. Среди оценённых игр доминируют игры со средней оценкой. Почти половина игр не получила также оценок и от критиков, что может говорить о низком интересе к ним. Из тех, что получили, преобладают средние оценки - как и у пользователей"
   ]
  }
 ],
 "metadata": {
  "ExecuteTimeLog": [
   {
    "duration": 92,
    "start_time": "2025-05-20T04:44:14.095Z"
   },
   {
    "duration": 88,
    "start_time": "2025-05-20T04:47:03.932Z"
   },
   {
    "duration": 566,
    "start_time": "2025-05-20T04:48:14.730Z"
   },
   {
    "duration": 138,
    "start_time": "2025-05-20T04:53:59.616Z"
   },
   {
    "duration": 112,
    "start_time": "2025-05-20T04:55:24.643Z"
   },
   {
    "duration": 168,
    "start_time": "2025-05-20T06:03:07.685Z"
   },
   {
    "duration": 145,
    "start_time": "2025-05-20T06:05:34.609Z"
   },
   {
    "duration": 150,
    "start_time": "2025-05-20T07:57:18.459Z"
   },
   {
    "duration": 127,
    "start_time": "2025-05-20T07:57:57.409Z"
   },
   {
    "duration": 376,
    "start_time": "2025-05-20T08:03:02.275Z"
   },
   {
    "duration": 122,
    "start_time": "2025-05-20T08:09:25.760Z"
   },
   {
    "duration": 137,
    "start_time": "2025-05-20T08:17:58.900Z"
   },
   {
    "duration": 116,
    "start_time": "2025-05-20T08:18:04.881Z"
   },
   {
    "duration": 267,
    "start_time": "2025-05-20T08:32:19.038Z"
   },
   {
    "duration": 172,
    "start_time": "2025-05-20T08:34:28.475Z"
   },
   {
    "duration": 261,
    "start_time": "2025-05-20T08:43:43.593Z"
   },
   {
    "duration": 138,
    "start_time": "2025-05-20T08:46:18.685Z"
   },
   {
    "duration": 149,
    "start_time": "2025-05-20T08:47:36.366Z"
   },
   {
    "duration": 156,
    "start_time": "2025-05-20T08:49:27.476Z"
   },
   {
    "duration": 142,
    "start_time": "2025-05-20T08:52:12.066Z"
   },
   {
    "duration": 160,
    "start_time": "2025-05-20T08:52:59.247Z"
   },
   {
    "duration": 143,
    "start_time": "2025-05-20T08:53:35.628Z"
   },
   {
    "duration": 236,
    "start_time": "2025-05-20T08:54:00.436Z"
   },
   {
    "duration": 121,
    "start_time": "2025-05-20T08:57:16.123Z"
   },
   {
    "duration": 159,
    "start_time": "2025-05-20T08:57:41.789Z"
   },
   {
    "duration": 107,
    "start_time": "2025-05-20T09:01:23.244Z"
   },
   {
    "duration": 188,
    "start_time": "2025-05-20T09:11:15.240Z"
   },
   {
    "duration": 129,
    "start_time": "2025-05-20T09:15:14.296Z"
   },
   {
    "duration": 176,
    "start_time": "2025-05-20T10:03:28.943Z"
   },
   {
    "duration": 574,
    "start_time": "2025-05-21T05:20:10.404Z"
   },
   {
    "duration": 205,
    "start_time": "2025-05-21T05:22:04.657Z"
   },
   {
    "duration": 139,
    "start_time": "2025-05-21T05:26:45.512Z"
   },
   {
    "duration": 149,
    "start_time": "2025-05-21T05:27:16.092Z"
   },
   {
    "duration": 152,
    "start_time": "2025-05-21T05:35:26.305Z"
   },
   {
    "duration": 208,
    "start_time": "2025-05-21T05:41:30.396Z"
   },
   {
    "duration": 191,
    "start_time": "2025-05-21T05:42:39.723Z"
   },
   {
    "duration": 181,
    "start_time": "2025-05-21T05:45:06.842Z"
   },
   {
    "duration": 158,
    "start_time": "2025-05-21T05:50:57.329Z"
   },
   {
    "duration": 188,
    "start_time": "2025-05-21T05:52:38.091Z"
   },
   {
    "duration": 221,
    "start_time": "2025-05-21T05:53:32.961Z"
   },
   {
    "duration": 235,
    "start_time": "2025-05-21T05:55:28.439Z"
   },
   {
    "duration": 180,
    "start_time": "2025-05-21T05:55:47.612Z"
   },
   {
    "duration": 245,
    "start_time": "2025-05-21T06:00:32.276Z"
   },
   {
    "duration": 238,
    "start_time": "2025-05-21T06:10:16.603Z"
   },
   {
    "duration": 233,
    "start_time": "2025-05-21T06:14:58.392Z"
   },
   {
    "duration": 234,
    "start_time": "2025-05-21T06:15:34.469Z"
   },
   {
    "duration": 247,
    "start_time": "2025-05-21T06:17:14.533Z"
   },
   {
    "duration": 562,
    "start_time": "2025-05-22T04:30:29.996Z"
   },
   {
    "duration": 103,
    "start_time": "2025-05-22T04:31:58.182Z"
   },
   {
    "duration": 140,
    "start_time": "2025-05-22T04:32:34.796Z"
   },
   {
    "duration": 198,
    "start_time": "2025-05-22T04:33:07.438Z"
   },
   {
    "duration": 233,
    "start_time": "2025-05-22T04:33:58.212Z"
   },
   {
    "duration": 240,
    "start_time": "2025-05-22T04:34:46.255Z"
   },
   {
    "duration": 1353,
    "start_time": "2025-05-22T04:42:13.607Z"
   },
   {
    "duration": 1430,
    "start_time": "2025-05-22T04:46:50.083Z"
   },
   {
    "duration": 1410,
    "start_time": "2025-05-22T04:48:11.962Z"
   },
   {
    "duration": 113,
    "start_time": "2025-05-22T05:03:53.978Z"
   },
   {
    "duration": 1447,
    "start_time": "2025-05-22T05:06:54.647Z"
   },
   {
    "duration": 1517,
    "start_time": "2025-05-22T05:11:13.957Z"
   },
   {
    "duration": 1394,
    "start_time": "2025-05-22T05:14:39.336Z"
   },
   {
    "duration": 1466,
    "start_time": "2025-05-22T05:21:08.081Z"
   },
   {
    "duration": 1390,
    "start_time": "2025-05-22T05:25:38.839Z"
   },
   {
    "duration": 1418,
    "start_time": "2025-05-22T05:26:20.113Z"
   },
   {
    "duration": 1441,
    "start_time": "2025-05-22T05:26:34.636Z"
   },
   {
    "duration": 1413,
    "start_time": "2025-05-22T05:26:51.291Z"
   },
   {
    "duration": 94,
    "start_time": "2025-05-22T05:32:42.680Z"
   },
   {
    "duration": 1483,
    "start_time": "2025-05-22T05:34:32.751Z"
   },
   {
    "duration": 653,
    "start_time": "2025-05-22T09:24:05.939Z"
   },
   {
    "duration": 131,
    "start_time": "2025-05-22T09:24:06.593Z"
   },
   {
    "duration": 0,
    "start_time": "2025-05-22T09:24:06.726Z"
   },
   {
    "duration": 0,
    "start_time": "2025-05-22T09:24:06.727Z"
   },
   {
    "duration": 0,
    "start_time": "2025-05-22T09:24:06.729Z"
   },
   {
    "duration": 0,
    "start_time": "2025-05-22T09:24:06.730Z"
   },
   {
    "duration": 0,
    "start_time": "2025-05-22T09:24:06.732Z"
   },
   {
    "duration": 0,
    "start_time": "2025-05-22T09:24:06.734Z"
   },
   {
    "duration": 0,
    "start_time": "2025-05-22T09:24:06.736Z"
   },
   {
    "duration": 0,
    "start_time": "2025-05-22T09:24:06.737Z"
   },
   {
    "duration": 0,
    "start_time": "2025-05-22T09:24:06.739Z"
   },
   {
    "duration": 0,
    "start_time": "2025-05-22T09:24:06.741Z"
   },
   {
    "duration": 0,
    "start_time": "2025-05-22T09:24:06.743Z"
   },
   {
    "duration": 0,
    "start_time": "2025-05-22T09:24:06.744Z"
   },
   {
    "duration": 0,
    "start_time": "2025-05-22T09:24:06.745Z"
   },
   {
    "duration": 0,
    "start_time": "2025-05-22T09:24:06.747Z"
   },
   {
    "duration": 0,
    "start_time": "2025-05-22T09:24:06.749Z"
   },
   {
    "duration": 0,
    "start_time": "2025-05-22T09:24:06.751Z"
   },
   {
    "duration": 0,
    "start_time": "2025-05-22T09:24:06.752Z"
   },
   {
    "duration": 0,
    "start_time": "2025-05-22T09:24:06.754Z"
   },
   {
    "duration": 0,
    "start_time": "2025-05-22T09:24:06.755Z"
   },
   {
    "duration": 0,
    "start_time": "2025-05-22T09:24:06.757Z"
   },
   {
    "duration": 0,
    "start_time": "2025-05-22T09:24:06.758Z"
   },
   {
    "duration": 0,
    "start_time": "2025-05-22T09:24:06.759Z"
   },
   {
    "duration": 0,
    "start_time": "2025-05-22T09:24:06.760Z"
   },
   {
    "duration": 0,
    "start_time": "2025-05-22T09:24:06.762Z"
   },
   {
    "duration": 0,
    "start_time": "2025-05-22T09:24:06.771Z"
   },
   {
    "duration": 0,
    "start_time": "2025-05-22T09:24:06.772Z"
   },
   {
    "duration": 0,
    "start_time": "2025-05-22T09:24:06.773Z"
   },
   {
    "duration": 548,
    "start_time": "2025-05-22T10:03:01.017Z"
   },
   {
    "duration": 16,
    "start_time": "2025-05-22T10:05:35.013Z"
   },
   {
    "duration": 14,
    "start_time": "2025-05-22T10:06:18.460Z"
   },
   {
    "duration": 12,
    "start_time": "2025-05-22T10:16:04.492Z"
   },
   {
    "duration": 5,
    "start_time": "2025-05-22T10:17:13.525Z"
   },
   {
    "duration": 29,
    "start_time": "2025-05-22T10:17:41.283Z"
   },
   {
    "duration": 16,
    "start_time": "2025-05-22T10:20:31.424Z"
   },
   {
    "duration": 27,
    "start_time": "2025-05-22T10:21:44.669Z"
   },
   {
    "duration": 20,
    "start_time": "2025-05-22T10:22:37.726Z"
   },
   {
    "duration": 62,
    "start_time": "2025-05-22T10:23:08.637Z"
   },
   {
    "duration": 19,
    "start_time": "2025-05-22T10:23:58.548Z"
   },
   {
    "duration": 1213,
    "start_time": "2025-05-22T10:24:59.813Z"
   },
   {
    "duration": 15,
    "start_time": "2025-05-22T10:26:29.328Z"
   },
   {
    "duration": 13,
    "start_time": "2025-05-22T10:26:49.456Z"
   },
   {
    "duration": 7,
    "start_time": "2025-05-22T10:27:58.649Z"
   },
   {
    "duration": 12,
    "start_time": "2025-05-22T10:29:10.526Z"
   },
   {
    "duration": 7,
    "start_time": "2025-05-22T10:29:54.680Z"
   },
   {
    "duration": 7,
    "start_time": "2025-05-22T10:30:43.031Z"
   },
   {
    "duration": 0,
    "start_time": "2025-05-22T17:26:56.690Z"
   },
   {
    "duration": 0,
    "start_time": "2025-05-22T17:26:56.692Z"
   },
   {
    "duration": 0,
    "start_time": "2025-05-22T17:26:56.694Z"
   },
   {
    "duration": 0,
    "start_time": "2025-05-22T17:26:56.695Z"
   },
   {
    "duration": 0,
    "start_time": "2025-05-22T17:26:56.697Z"
   },
   {
    "duration": 0,
    "start_time": "2025-05-22T17:26:56.698Z"
   },
   {
    "duration": 0,
    "start_time": "2025-05-22T17:26:56.700Z"
   },
   {
    "duration": 0,
    "start_time": "2025-05-22T17:26:56.702Z"
   },
   {
    "duration": 0,
    "start_time": "2025-05-22T17:26:56.704Z"
   },
   {
    "duration": 0,
    "start_time": "2025-05-22T17:26:56.705Z"
   },
   {
    "duration": 0,
    "start_time": "2025-05-22T17:26:56.707Z"
   },
   {
    "duration": 0,
    "start_time": "2025-05-22T17:26:56.709Z"
   },
   {
    "duration": 0,
    "start_time": "2025-05-22T17:26:56.710Z"
   },
   {
    "duration": 1,
    "start_time": "2025-05-22T17:26:56.711Z"
   },
   {
    "duration": 0,
    "start_time": "2025-05-22T17:26:56.713Z"
   },
   {
    "duration": 0,
    "start_time": "2025-05-22T17:26:56.715Z"
   },
   {
    "duration": 0,
    "start_time": "2025-05-22T17:26:56.716Z"
   },
   {
    "duration": 540,
    "start_time": "2025-05-22T17:27:08.654Z"
   },
   {
    "duration": 16,
    "start_time": "2025-05-22T17:27:09.196Z"
   },
   {
    "duration": 32,
    "start_time": "2025-05-22T17:27:09.214Z"
   },
   {
    "duration": 7,
    "start_time": "2025-05-22T17:27:09.248Z"
   },
   {
    "duration": 8,
    "start_time": "2025-05-22T17:27:09.256Z"
   },
   {
    "duration": 107,
    "start_time": "2025-05-22T17:27:09.265Z"
   },
   {
    "duration": 17,
    "start_time": "2025-05-22T17:27:09.373Z"
   },
   {
    "duration": 17,
    "start_time": "2025-05-22T17:27:09.392Z"
   },
   {
    "duration": 45,
    "start_time": "2025-05-22T17:27:09.411Z"
   },
   {
    "duration": 21,
    "start_time": "2025-05-22T17:27:09.459Z"
   },
   {
    "duration": 121,
    "start_time": "2025-05-22T17:27:09.482Z"
   },
   {
    "duration": 1389,
    "start_time": "2025-05-22T17:27:09.606Z"
   },
   {
    "duration": 16,
    "start_time": "2025-05-22T17:27:10.997Z"
   },
   {
    "duration": 1286,
    "start_time": "2025-05-22T17:27:11.015Z"
   },
   {
    "duration": 0,
    "start_time": "2025-05-22T17:27:12.303Z"
   },
   {
    "duration": 0,
    "start_time": "2025-05-22T17:27:12.304Z"
   },
   {
    "duration": 0,
    "start_time": "2025-05-22T17:27:12.305Z"
   },
   {
    "duration": 29,
    "start_time": "2025-05-22T17:32:58.702Z"
   },
   {
    "duration": 13,
    "start_time": "2025-05-22T17:38:21.600Z"
   },
   {
    "duration": 1029,
    "start_time": "2025-05-22T17:38:27.281Z"
   },
   {
    "duration": 7,
    "start_time": "2025-05-22T17:38:28.464Z"
   },
   {
    "duration": 60,
    "start_time": "2025-05-24T17:19:51.710Z"
   },
   {
    "duration": 7,
    "start_time": "2025-05-24T17:20:48.373Z"
   },
   {
    "duration": 926,
    "start_time": "2025-05-24T17:21:09.484Z"
   },
   {
    "duration": 18,
    "start_time": "2025-05-24T17:21:19.728Z"
   },
   {
    "duration": 15,
    "start_time": "2025-05-24T17:21:27.984Z"
   },
   {
    "duration": 6,
    "start_time": "2025-05-24T17:21:41.540Z"
   },
   {
    "duration": 6,
    "start_time": "2025-05-24T17:21:48.412Z"
   },
   {
    "duration": 32,
    "start_time": "2025-05-24T17:22:24.384Z"
   },
   {
    "duration": 20,
    "start_time": "2025-05-24T17:22:43.893Z"
   },
   {
    "duration": 24,
    "start_time": "2025-05-24T17:22:50.751Z"
   },
   {
    "duration": 30,
    "start_time": "2025-05-24T17:22:58.188Z"
   },
   {
    "duration": 1307,
    "start_time": "2025-05-24T17:23:05.735Z"
   },
   {
    "duration": 1357,
    "start_time": "2025-05-24T17:24:05.876Z"
   },
   {
    "duration": 31,
    "start_time": "2025-05-24T17:24:28.979Z"
   },
   {
    "duration": 1294,
    "start_time": "2025-05-24T17:24:36.289Z"
   },
   {
    "duration": 14,
    "start_time": "2025-05-24T17:25:40.261Z"
   },
   {
    "duration": 79,
    "start_time": "2025-05-24T17:28:08.122Z"
   },
   {
    "duration": 14,
    "start_time": "2025-05-24T17:28:23.851Z"
   },
   {
    "duration": 342,
    "start_time": "2025-05-24T17:29:08.535Z"
   },
   {
    "duration": 13,
    "start_time": "2025-05-24T17:31:16.589Z"
   },
   {
    "duration": 12,
    "start_time": "2025-05-24T17:31:28.367Z"
   },
   {
    "duration": 16,
    "start_time": "2025-05-24T17:36:06.353Z"
   },
   {
    "duration": 16,
    "start_time": "2025-05-24T17:37:06.545Z"
   },
   {
    "duration": 11,
    "start_time": "2025-05-24T17:38:19.453Z"
   },
   {
    "duration": 11,
    "start_time": "2025-05-24T17:38:35.661Z"
   },
   {
    "duration": 12,
    "start_time": "2025-05-24T17:38:45.647Z"
   },
   {
    "duration": 10,
    "start_time": "2025-05-24T17:39:00.222Z"
   },
   {
    "duration": 7,
    "start_time": "2025-05-24T17:39:25.573Z"
   },
   {
    "duration": 616,
    "start_time": "2025-05-25T07:30:38.946Z"
   },
   {
    "duration": 17,
    "start_time": "2025-05-25T07:30:39.563Z"
   },
   {
    "duration": 14,
    "start_time": "2025-05-25T07:30:39.581Z"
   },
   {
    "duration": 5,
    "start_time": "2025-05-25T07:30:39.597Z"
   },
   {
    "duration": 15,
    "start_time": "2025-05-25T07:30:39.604Z"
   },
   {
    "duration": 62,
    "start_time": "2025-05-25T07:30:39.621Z"
   },
   {
    "duration": 17,
    "start_time": "2025-05-25T07:30:39.684Z"
   },
   {
    "duration": 118,
    "start_time": "2025-05-25T07:30:39.703Z"
   },
   {
    "duration": 34,
    "start_time": "2025-05-25T07:30:39.823Z"
   },
   {
    "duration": 21,
    "start_time": "2025-05-25T07:30:39.859Z"
   },
   {
    "duration": 25,
    "start_time": "2025-05-25T07:30:39.881Z"
   },
   {
    "duration": 1355,
    "start_time": "2025-05-25T07:30:39.907Z"
   },
   {
    "duration": 0,
    "start_time": "2025-05-25T07:30:41.263Z"
   },
   {
    "duration": 0,
    "start_time": "2025-05-25T07:30:41.264Z"
   },
   {
    "duration": 0,
    "start_time": "2025-05-25T07:30:41.266Z"
   },
   {
    "duration": 0,
    "start_time": "2025-05-25T07:30:41.267Z"
   },
   {
    "duration": 0,
    "start_time": "2025-05-25T07:30:41.268Z"
   },
   {
    "duration": 1281,
    "start_time": "2025-05-25T07:32:01.501Z"
   },
   {
    "duration": 22,
    "start_time": "2025-05-25T07:32:54.982Z"
   },
   {
    "duration": 13,
    "start_time": "2025-05-25T07:32:57.827Z"
   },
   {
    "duration": 11,
    "start_time": "2025-05-25T07:32:59.969Z"
   },
   {
    "duration": 9,
    "start_time": "2025-05-25T07:33:02.103Z"
   },
   {
    "duration": 7,
    "start_time": "2025-05-25T07:33:02.990Z"
   },
   {
    "duration": 535,
    "start_time": "2025-08-28T06:08:25.723Z"
   }
  ],
  "colab": {
   "provenance": []
  },
  "kernelspec": {
   "display_name": "Python 3 (ipykernel)",
   "language": "python",
   "name": "python3"
  },
  "language_info": {
   "codemirror_mode": {
    "name": "ipython",
    "version": 3
   },
   "file_extension": ".py",
   "mimetype": "text/x-python",
   "name": "python",
   "nbconvert_exporter": "python",
   "pygments_lexer": "ipython3",
   "version": "3.9.5"
  },
  "toc": {
   "base_numbering": 1,
   "nav_menu": {},
   "number_sections": true,
   "sideBar": true,
   "skip_h1_title": true,
   "title_cell": "Table of Contents",
   "title_sidebar": "Contents",
   "toc_cell": false,
   "toc_position": {},
   "toc_section_display": true,
   "toc_window_display": false
  }
 },
 "nbformat": 4,
 "nbformat_minor": 5
}

{
 "cells": [
  {
   "cell_type": "markdown",
   "id": "e06910dd",
   "metadata": {
    "id": "e06910dd"
   },
   "source": [
    "# Изучение рынка заведений общественного питания Москвы\n",
    "\n",
    "- Автор: Васильева Ирина\n",
    "- Дата: 11/06/2025"
   ]
  },
  {
   "cell_type": "markdown",
   "id": "3fd9b51f",
   "metadata": {
    "id": "4149134c"
   },
   "source": [
    "### Цели и задачи проекта\n",
    "\n",
    "<font color='#777778'>Исследовательский анализ заведений общественного питания Москвы, с целью решить вопрос о открытии и развитии бизнеса в данной сфере. Выявить наиболее перспективные показатели в сфере бизнеса общественного питания.</font>"
   ]
  },
  {
   "cell_type": "markdown",
   "id": "728986ea",
   "metadata": {
    "id": "728986ea"
   },
   "source": [
    "### Описание данных\n",
    "\n",
    "<font color='#777778'>Данные сервисов Яндекс Карты и Яндекс Бизнес на лето 2022 года по городу Москва. Доступно название\n",
    "заведения, сетевое/несетевое, категория заведения, часы работы, количество посадочных мест, адрес, средний рейтинг,\n",
    "средний чек, средния стоимость кофе.\n",
    "Файл /datasets/rest_info.csv содержит информацию о заведениях общественного питания:\n",
    "name — название заведения;\n",
    "address — адрес заведения;\n",
    "district — административный район, в котором находится заведение, например Центральный административный округ;\n",
    "category — категория заведения, например «кафе», «пиццерия» или «кофейня»;\n",
    "hours — информация о днях и часах работы;\n",
    "rating — рейтинг заведения по оценкам пользователей в Яндекс Картах (высшая оценка — 5.0);\n",
    "chain — число, выраженное 0 или 1, которое показывает, является ли заведение сетевым (для маленьких сетей могут встречаться ошибки):\n",
    "0 — заведение не является сетевым;\n",
    "1 — заведение является сетевым.\n",
    "seats — количество посадочных мест.\n",
    "Файл /datasets/rest_price.csv содержит информацию о среднем чеке в заведениях общественного питания:\n",
    "price — категория цен в заведении, например «средние», «ниже среднего», «выше среднего» и так далее;\n",
    "avg_bill — строка, которая хранит среднюю стоимость заказа в виде диапазона, например:\n",
    "«Средний счёт: 1000–1500 ₽»;\n",
    "«Цена чашки капучино: 130–220 ₽»;\n",
    "«Цена бокала пива: 400–600 ₽».\n",
    "и так далее;\n",
    "middle_avg_bill — число с оценкой среднего чека, которое указано только для значений из столбца avg_bill, начинающихся с подстроки «Средний счёт»:\n",
    "Если в строке указан ценовой диапазон из двух значений, в столбец войдёт медиана этих двух значений.\n",
    "Если в строке указано одно число — цена без диапазона, то в столбец войдёт это число.\n",
    "Если значения нет или оно не начинается с подстроки «Средний счёт», то в столбец ничего не войдёт.\n",
    "middle_coffee_cup — число с оценкой одной чашки капучино, которое указано только для значений из столбца avg_bill, начинающихся с подстроки «Цена одной чашки капучино»:\n",
    "Если в строке указан ценовой диапазон из двух значений, в столбец войдёт медиана этих двух значений.\n",
    "Если в строке указано одно число — цена без диапазона, то в столбец войдёт это число.\n",
    "Если значения нет или оно не начинается с подстроки «Цена одной чашки капучино», то в столбец ничего не войдёт.</font>"
   ]
  },
  {
   "cell_type": "markdown",
   "id": "4fecaf95",
   "metadata": {
    "id": "4fecaf95"
   },
   "source": [
    "### Содержимое проекта\n",
    "\n",
    "<font color='#777778'>Загрузка данных и знакомство с ними. Предобработка данных. Исследовательский анализ данных. Итоговые выводы и рекомендации. </font>\n",
    "\n",
    "---"
   ]
  },
  {
   "cell_type": "markdown",
   "id": "6f7d21d6",
   "metadata": {
    "id": "6f7d21d6"
   },
   "source": [
    "## 1. Загрузка данных и знакомство с ними\n",
    "\n"
   ]
  },
  {
   "cell_type": "code",
   "execution_count": 3,
   "id": "43a1b86f",
   "metadata": {},
   "outputs": [
    {
     "name": "stdout",
     "output_type": "stream",
     "text": [
      "Первые 5 строк:\n"
     ]
    },
    {
     "data": {
      "text/html": [
       "<div>\n",
       "<style scoped>\n",
       "    .dataframe tbody tr th:only-of-type {\n",
       "        vertical-align: middle;\n",
       "    }\n",
       "\n",
       "    .dataframe tbody tr th {\n",
       "        vertical-align: top;\n",
       "    }\n",
       "\n",
       "    .dataframe thead th {\n",
       "        text-align: right;\n",
       "    }\n",
       "</style>\n",
       "<table border=\"1\" class=\"dataframe\">\n",
       "  <thead>\n",
       "    <tr style=\"text-align: right;\">\n",
       "      <th></th>\n",
       "      <th>id</th>\n",
       "      <th>name</th>\n",
       "      <th>category</th>\n",
       "      <th>address</th>\n",
       "      <th>district</th>\n",
       "      <th>hours</th>\n",
       "      <th>rating</th>\n",
       "      <th>chain</th>\n",
       "      <th>seats</th>\n",
       "    </tr>\n",
       "  </thead>\n",
       "  <tbody>\n",
       "    <tr>\n",
       "      <th>0</th>\n",
       "      <td>0c3e3439a8c64ea5bf6ecd6ca6ae19f0</td>\n",
       "      <td>WoWфли</td>\n",
       "      <td>кафе</td>\n",
       "      <td>Москва, улица Дыбенко, 7/1</td>\n",
       "      <td>Северный административный округ</td>\n",
       "      <td>ежедневно, 10:00–22:00</td>\n",
       "      <td>5.0</td>\n",
       "      <td>0</td>\n",
       "      <td>NaN</td>\n",
       "    </tr>\n",
       "    <tr>\n",
       "      <th>1</th>\n",
       "      <td>045780ada3474c57a2112e505d74b633</td>\n",
       "      <td>Четыре комнаты</td>\n",
       "      <td>ресторан</td>\n",
       "      <td>Москва, улица Дыбенко, 36, корп. 1</td>\n",
       "      <td>Северный административный округ</td>\n",
       "      <td>ежедневно, 10:00–22:00</td>\n",
       "      <td>4.5</td>\n",
       "      <td>0</td>\n",
       "      <td>4.0</td>\n",
       "    </tr>\n",
       "    <tr>\n",
       "      <th>2</th>\n",
       "      <td>1070b6b59144425896c65889347fcff6</td>\n",
       "      <td>Хазри</td>\n",
       "      <td>кафе</td>\n",
       "      <td>Москва, Клязьминская улица, 15</td>\n",
       "      <td>Северный административный округ</td>\n",
       "      <td>пн-чт 11:00–02:00; пт,сб 11:00–05:00; вс 11:00...</td>\n",
       "      <td>4.6</td>\n",
       "      <td>0</td>\n",
       "      <td>45.0</td>\n",
       "    </tr>\n",
       "    <tr>\n",
       "      <th>3</th>\n",
       "      <td>03ac7cd772104f65b58b349dc59f03ee</td>\n",
       "      <td>Dormouse Coffee Shop</td>\n",
       "      <td>кофейня</td>\n",
       "      <td>Москва, улица Маршала Федоренко, 12</td>\n",
       "      <td>Северный административный округ</td>\n",
       "      <td>ежедневно, 09:00–22:00</td>\n",
       "      <td>5.0</td>\n",
       "      <td>0</td>\n",
       "      <td>NaN</td>\n",
       "    </tr>\n",
       "    <tr>\n",
       "      <th>4</th>\n",
       "      <td>a163aada139c4c7f87b0b1c0b466a50f</td>\n",
       "      <td>Иль Марко</td>\n",
       "      <td>пиццерия</td>\n",
       "      <td>Москва, Правобережная улица, 1Б</td>\n",
       "      <td>Северный административный округ</td>\n",
       "      <td>ежедневно, 10:00–22:00</td>\n",
       "      <td>5.0</td>\n",
       "      <td>1</td>\n",
       "      <td>148.0</td>\n",
       "    </tr>\n",
       "  </tbody>\n",
       "</table>\n",
       "</div>"
      ],
      "text/plain": [
       "                                 id                  name  category  \\\n",
       "0  0c3e3439a8c64ea5bf6ecd6ca6ae19f0                WoWфли      кафе   \n",
       "1  045780ada3474c57a2112e505d74b633        Четыре комнаты  ресторан   \n",
       "2  1070b6b59144425896c65889347fcff6                 Хазри      кафе   \n",
       "3  03ac7cd772104f65b58b349dc59f03ee  Dormouse Coffee Shop   кофейня   \n",
       "4  a163aada139c4c7f87b0b1c0b466a50f             Иль Марко  пиццерия   \n",
       "\n",
       "                               address                         district  \\\n",
       "0           Москва, улица Дыбенко, 7/1  Северный административный округ   \n",
       "1   Москва, улица Дыбенко, 36, корп. 1  Северный административный округ   \n",
       "2       Москва, Клязьминская улица, 15  Северный административный округ   \n",
       "3  Москва, улица Маршала Федоренко, 12  Северный административный округ   \n",
       "4      Москва, Правобережная улица, 1Б  Северный административный округ   \n",
       "\n",
       "                                               hours  rating  chain  seats  \n",
       "0                             ежедневно, 10:00–22:00     5.0      0    NaN  \n",
       "1                             ежедневно, 10:00–22:00     4.5      0    4.0  \n",
       "2  пн-чт 11:00–02:00; пт,сб 11:00–05:00; вс 11:00...     4.6      0   45.0  \n",
       "3                             ежедневно, 09:00–22:00     5.0      0    NaN  \n",
       "4                             ежедневно, 10:00–22:00     5.0      1  148.0  "
      ]
     },
     "metadata": {},
     "output_type": "display_data"
    },
    {
     "name": "stdout",
     "output_type": "stream",
     "text": [
      "\n",
      "Последние 5 строк:\n"
     ]
    },
    {
     "data": {
      "text/html": [
       "<div>\n",
       "<style scoped>\n",
       "    .dataframe tbody tr th:only-of-type {\n",
       "        vertical-align: middle;\n",
       "    }\n",
       "\n",
       "    .dataframe tbody tr th {\n",
       "        vertical-align: top;\n",
       "    }\n",
       "\n",
       "    .dataframe thead th {\n",
       "        text-align: right;\n",
       "    }\n",
       "</style>\n",
       "<table border=\"1\" class=\"dataframe\">\n",
       "  <thead>\n",
       "    <tr style=\"text-align: right;\">\n",
       "      <th></th>\n",
       "      <th>id</th>\n",
       "      <th>name</th>\n",
       "      <th>category</th>\n",
       "      <th>address</th>\n",
       "      <th>district</th>\n",
       "      <th>hours</th>\n",
       "      <th>rating</th>\n",
       "      <th>chain</th>\n",
       "      <th>seats</th>\n",
       "    </tr>\n",
       "  </thead>\n",
       "  <tbody>\n",
       "    <tr>\n",
       "      <th>8401</th>\n",
       "      <td>0342ad1a45ed41ba89dcba246a8267e5</td>\n",
       "      <td>Суши Мания</td>\n",
       "      <td>кафе</td>\n",
       "      <td>Москва, Профсоюзная улица, 56</td>\n",
       "      <td>Юго-Западный административный округ</td>\n",
       "      <td>ежедневно, 09:00–02:00</td>\n",
       "      <td>4.4</td>\n",
       "      <td>0</td>\n",
       "      <td>86.0</td>\n",
       "    </tr>\n",
       "    <tr>\n",
       "      <th>8402</th>\n",
       "      <td>ee6bb7c3650e47bd8186fca08eda1091</td>\n",
       "      <td>Миславнес</td>\n",
       "      <td>кафе</td>\n",
       "      <td>Москва, Пролетарский проспект, 19, корп. 1</td>\n",
       "      <td>Южный административный округ</td>\n",
       "      <td>ежедневно, 08:00–22:00</td>\n",
       "      <td>4.8</td>\n",
       "      <td>0</td>\n",
       "      <td>150.0</td>\n",
       "    </tr>\n",
       "    <tr>\n",
       "      <th>8403</th>\n",
       "      <td>62e8c64d4c89467aba608e39ef87616b</td>\n",
       "      <td>Самовар</td>\n",
       "      <td>кафе</td>\n",
       "      <td>Москва, Люблинская улица, 112А, стр. 1</td>\n",
       "      <td>Юго-Восточный административный округ</td>\n",
       "      <td>ежедневно, круглосуточно</td>\n",
       "      <td>3.9</td>\n",
       "      <td>0</td>\n",
       "      <td>150.0</td>\n",
       "    </tr>\n",
       "    <tr>\n",
       "      <th>8404</th>\n",
       "      <td>06a0db5ecd4842d48cd6350aa923e297</td>\n",
       "      <td>Чайхана Sabr</td>\n",
       "      <td>кафе</td>\n",
       "      <td>Москва, Люблинская улица, 112А, стр. 1</td>\n",
       "      <td>Юго-Восточный административный округ</td>\n",
       "      <td>ежедневно, круглосуточно</td>\n",
       "      <td>4.2</td>\n",
       "      <td>1</td>\n",
       "      <td>150.0</td>\n",
       "    </tr>\n",
       "    <tr>\n",
       "      <th>8405</th>\n",
       "      <td>9d56f8f7a7f74df1a925bc0fd2de8aae</td>\n",
       "      <td>Kebab Time</td>\n",
       "      <td>кафе</td>\n",
       "      <td>Москва, Россошанский проезд, 6</td>\n",
       "      <td>Южный административный округ</td>\n",
       "      <td>ежедневно, круглосуточно</td>\n",
       "      <td>3.9</td>\n",
       "      <td>0</td>\n",
       "      <td>12.0</td>\n",
       "    </tr>\n",
       "  </tbody>\n",
       "</table>\n",
       "</div>"
      ],
      "text/plain": [
       "                                    id          name category  \\\n",
       "8401  0342ad1a45ed41ba89dcba246a8267e5    Суши Мания     кафе   \n",
       "8402  ee6bb7c3650e47bd8186fca08eda1091     Миславнес     кафе   \n",
       "8403  62e8c64d4c89467aba608e39ef87616b       Самовар     кафе   \n",
       "8404  06a0db5ecd4842d48cd6350aa923e297  Чайхана Sabr     кафе   \n",
       "8405  9d56f8f7a7f74df1a925bc0fd2de8aae    Kebab Time     кафе   \n",
       "\n",
       "                                         address  \\\n",
       "8401               Москва, Профсоюзная улица, 56   \n",
       "8402  Москва, Пролетарский проспект, 19, корп. 1   \n",
       "8403      Москва, Люблинская улица, 112А, стр. 1   \n",
       "8404      Москва, Люблинская улица, 112А, стр. 1   \n",
       "8405              Москва, Россошанский проезд, 6   \n",
       "\n",
       "                                  district                     hours  rating  \\\n",
       "8401   Юго-Западный административный округ    ежедневно, 09:00–02:00     4.4   \n",
       "8402          Южный административный округ    ежедневно, 08:00–22:00     4.8   \n",
       "8403  Юго-Восточный административный округ  ежедневно, круглосуточно     3.9   \n",
       "8404  Юго-Восточный административный округ  ежедневно, круглосуточно     4.2   \n",
       "8405          Южный административный округ  ежедневно, круглосуточно     3.9   \n",
       "\n",
       "      chain  seats  \n",
       "8401      0   86.0  \n",
       "8402      0  150.0  \n",
       "8403      0  150.0  \n",
       "8404      1  150.0  \n",
       "8405      0   12.0  "
      ]
     },
     "metadata": {},
     "output_type": "display_data"
    },
    {
     "name": "stdout",
     "output_type": "stream",
     "text": [
      "\n",
      "Общая информация:\n",
      "<class 'pandas.core.frame.DataFrame'>\n",
      "RangeIndex: 8406 entries, 0 to 8405\n",
      "Data columns (total 9 columns):\n",
      " #   Column    Non-Null Count  Dtype  \n",
      "---  ------    --------------  -----  \n",
      " 0   id        8406 non-null   object \n",
      " 1   name      8406 non-null   object \n",
      " 2   category  8406 non-null   object \n",
      " 3   address   8406 non-null   object \n",
      " 4   district  8406 non-null   object \n",
      " 5   hours     7870 non-null   object \n",
      " 6   rating    8406 non-null   float64\n",
      " 7   chain     8406 non-null   int64  \n",
      " 8   seats     4795 non-null   float64\n",
      "dtypes: float64(2), int64(1), object(6)\n",
      "memory usage: 591.2+ KB\n"
     ]
    },
    {
     "data": {
      "text/plain": [
       "None"
      ]
     },
     "metadata": {},
     "output_type": "display_data"
    }
   ],
   "source": [
    "import pandas as pd\n",
    "from IPython.display import display\n",
    "\n",
    "\n",
    "df = pd.read_csv('/datasets/rest_info.csv')\n",
    "\n",
    "print(\"Первые 5 строк:\")\n",
    "display(df.head())\n",
    "\n",
    "print(\"\\nПоследние 5 строк:\")\n",
    "display(df.tail())\n",
    "\n",
    "print(\"\\nОбщая информация:\")\n",
    "display(df.info())"
   ]
  },
  {
   "cell_type": "markdown",
   "id": "98095aa3",
   "metadata": {
    "id": "ce87c1db"
   },
   "source": [
    "Данные содержатся в 9 колонках. Названия колонок соответствуют правилу snake-name. Пропуски есть в колонках hours и seats. По типу данных 6 object, int64 - 1,  float64 - 2."
   ]
  },
  {
   "cell_type": "markdown",
   "id": "18b5dfff",
   "metadata": {
    "id": "18b5dfff"
   },
   "source": [
    "- Знакомимся с данными и изучаем общую информацию о них."
   ]
  },
  {
   "cell_type": "code",
   "execution_count": 4,
   "id": "f68a7419",
   "metadata": {
    "id": "f68a7419"
   },
   "outputs": [
    {
     "name": "stdout",
     "output_type": "stream",
     "text": [
      "Первые 5 строк:\n"
     ]
    },
    {
     "data": {
      "text/html": [
       "<div>\n",
       "<style scoped>\n",
       "    .dataframe tbody tr th:only-of-type {\n",
       "        vertical-align: middle;\n",
       "    }\n",
       "\n",
       "    .dataframe tbody tr th {\n",
       "        vertical-align: top;\n",
       "    }\n",
       "\n",
       "    .dataframe thead th {\n",
       "        text-align: right;\n",
       "    }\n",
       "</style>\n",
       "<table border=\"1\" class=\"dataframe\">\n",
       "  <thead>\n",
       "    <tr style=\"text-align: right;\">\n",
       "      <th></th>\n",
       "      <th>id</th>\n",
       "      <th>price</th>\n",
       "      <th>avg_bill</th>\n",
       "      <th>middle_avg_bill</th>\n",
       "      <th>middle_coffee_cup</th>\n",
       "    </tr>\n",
       "  </thead>\n",
       "  <tbody>\n",
       "    <tr>\n",
       "      <th>0</th>\n",
       "      <td>045780ada3474c57a2112e505d74b633</td>\n",
       "      <td>выше среднего</td>\n",
       "      <td>Средний счёт:1500–1600 ₽</td>\n",
       "      <td>1550.0</td>\n",
       "      <td>NaN</td>\n",
       "    </tr>\n",
       "    <tr>\n",
       "      <th>1</th>\n",
       "      <td>1070b6b59144425896c65889347fcff6</td>\n",
       "      <td>средние</td>\n",
       "      <td>Средний счёт:от 1000 ₽</td>\n",
       "      <td>1000.0</td>\n",
       "      <td>NaN</td>\n",
       "    </tr>\n",
       "    <tr>\n",
       "      <th>2</th>\n",
       "      <td>03ac7cd772104f65b58b349dc59f03ee</td>\n",
       "      <td>NaN</td>\n",
       "      <td>Цена чашки капучино:155–185 ₽</td>\n",
       "      <td>NaN</td>\n",
       "      <td>170.0</td>\n",
       "    </tr>\n",
       "    <tr>\n",
       "      <th>3</th>\n",
       "      <td>a163aada139c4c7f87b0b1c0b466a50f</td>\n",
       "      <td>средние</td>\n",
       "      <td>Средний счёт:400–600 ₽</td>\n",
       "      <td>500.0</td>\n",
       "      <td>NaN</td>\n",
       "    </tr>\n",
       "    <tr>\n",
       "      <th>4</th>\n",
       "      <td>8a343546b24e4a499ad96eb7d0797a8a</td>\n",
       "      <td>средние</td>\n",
       "      <td>NaN</td>\n",
       "      <td>NaN</td>\n",
       "      <td>NaN</td>\n",
       "    </tr>\n",
       "  </tbody>\n",
       "</table>\n",
       "</div>"
      ],
      "text/plain": [
       "                                 id          price  \\\n",
       "0  045780ada3474c57a2112e505d74b633  выше среднего   \n",
       "1  1070b6b59144425896c65889347fcff6        средние   \n",
       "2  03ac7cd772104f65b58b349dc59f03ee            NaN   \n",
       "3  a163aada139c4c7f87b0b1c0b466a50f        средние   \n",
       "4  8a343546b24e4a499ad96eb7d0797a8a        средние   \n",
       "\n",
       "                        avg_bill  middle_avg_bill  middle_coffee_cup  \n",
       "0       Средний счёт:1500–1600 ₽           1550.0                NaN  \n",
       "1         Средний счёт:от 1000 ₽           1000.0                NaN  \n",
       "2  Цена чашки капучино:155–185 ₽              NaN              170.0  \n",
       "3         Средний счёт:400–600 ₽            500.0                NaN  \n",
       "4                            NaN              NaN                NaN  "
      ]
     },
     "metadata": {},
     "output_type": "display_data"
    },
    {
     "name": "stdout",
     "output_type": "stream",
     "text": [
      "\n",
      "Последние 5 строк:\n"
     ]
    },
    {
     "data": {
      "text/html": [
       "<div>\n",
       "<style scoped>\n",
       "    .dataframe tbody tr th:only-of-type {\n",
       "        vertical-align: middle;\n",
       "    }\n",
       "\n",
       "    .dataframe tbody tr th {\n",
       "        vertical-align: top;\n",
       "    }\n",
       "\n",
       "    .dataframe thead th {\n",
       "        text-align: right;\n",
       "    }\n",
       "</style>\n",
       "<table border=\"1\" class=\"dataframe\">\n",
       "  <thead>\n",
       "    <tr style=\"text-align: right;\">\n",
       "      <th></th>\n",
       "      <th>id</th>\n",
       "      <th>price</th>\n",
       "      <th>avg_bill</th>\n",
       "      <th>middle_avg_bill</th>\n",
       "      <th>middle_coffee_cup</th>\n",
       "    </tr>\n",
       "  </thead>\n",
       "  <tbody>\n",
       "    <tr>\n",
       "      <th>4053</th>\n",
       "      <td>962800540173458486f3c465437c2d8b</td>\n",
       "      <td>средние</td>\n",
       "      <td>Цена бокала пива:от 140 ₽</td>\n",
       "      <td>NaN</td>\n",
       "      <td>NaN</td>\n",
       "    </tr>\n",
       "    <tr>\n",
       "      <th>4054</th>\n",
       "      <td>4277890d659341848d7051cbf2e51f51</td>\n",
       "      <td>выше среднего</td>\n",
       "      <td>Средний счёт:1000–1500 ₽</td>\n",
       "      <td>1250.0</td>\n",
       "      <td>NaN</td>\n",
       "    </tr>\n",
       "    <tr>\n",
       "      <th>4055</th>\n",
       "      <td>026cbc478f9b4c3294a83458dcd89982</td>\n",
       "      <td>средние</td>\n",
       "      <td>NaN</td>\n",
       "      <td>NaN</td>\n",
       "      <td>NaN</td>\n",
       "    </tr>\n",
       "    <tr>\n",
       "      <th>4056</th>\n",
       "      <td>71cc394927204d45b81c3a91edb47955</td>\n",
       "      <td>NaN</td>\n",
       "      <td>Средний счёт:50–250 ₽</td>\n",
       "      <td>150.0</td>\n",
       "      <td>NaN</td>\n",
       "    </tr>\n",
       "    <tr>\n",
       "      <th>4057</th>\n",
       "      <td>62e8c64d4c89467aba608e39ef87616b</td>\n",
       "      <td>NaN</td>\n",
       "      <td>Средний счёт:от 150 ₽</td>\n",
       "      <td>150.0</td>\n",
       "      <td>NaN</td>\n",
       "    </tr>\n",
       "  </tbody>\n",
       "</table>\n",
       "</div>"
      ],
      "text/plain": [
       "                                    id          price  \\\n",
       "4053  962800540173458486f3c465437c2d8b        средние   \n",
       "4054  4277890d659341848d7051cbf2e51f51  выше среднего   \n",
       "4055  026cbc478f9b4c3294a83458dcd89982        средние   \n",
       "4056  71cc394927204d45b81c3a91edb47955            NaN   \n",
       "4057  62e8c64d4c89467aba608e39ef87616b            NaN   \n",
       "\n",
       "                       avg_bill  middle_avg_bill  middle_coffee_cup  \n",
       "4053  Цена бокала пива:от 140 ₽              NaN                NaN  \n",
       "4054   Средний счёт:1000–1500 ₽           1250.0                NaN  \n",
       "4055                        NaN              NaN                NaN  \n",
       "4056      Средний счёт:50–250 ₽            150.0                NaN  \n",
       "4057      Средний счёт:от 150 ₽            150.0                NaN  "
      ]
     },
     "metadata": {},
     "output_type": "display_data"
    },
    {
     "name": "stdout",
     "output_type": "stream",
     "text": [
      "\n",
      "Общая информация:\n",
      "<class 'pandas.core.frame.DataFrame'>\n",
      "RangeIndex: 4058 entries, 0 to 4057\n",
      "Data columns (total 5 columns):\n",
      " #   Column             Non-Null Count  Dtype  \n",
      "---  ------             --------------  -----  \n",
      " 0   id                 4058 non-null   object \n",
      " 1   price              3315 non-null   object \n",
      " 2   avg_bill           3816 non-null   object \n",
      " 3   middle_avg_bill    3149 non-null   float64\n",
      " 4   middle_coffee_cup  535 non-null    float64\n",
      "dtypes: float64(2), object(3)\n",
      "memory usage: 158.6+ KB\n"
     ]
    },
    {
     "data": {
      "text/plain": [
       "None"
      ]
     },
     "metadata": {},
     "output_type": "display_data"
    }
   ],
   "source": [
    "\n",
    "df = pd.read_csv('/datasets/rest_price.csv')\n",
    "\n",
    "print(\"Первые 5 строк:\")\n",
    "display(df.head()) \n",
    "\n",
    "print(\"\\nПоследние 5 строк:\")\n",
    "display(df.tail()) \n",
    "\n",
    "print(\"\\nОбщая информация:\")\n",
    "display(df.info())  "
   ]
  },
  {
   "cell_type": "markdown",
   "id": "8780c7c7",
   "metadata": {
    "id": "dd415c80"
   },
   "source": [
    "Данные содеражатся в 5 колонках. Названия колонок соответсвуют snake-name. По типу данных 3 столбца object и 2 столбца float64. Пропуски содержатся в 4 столбцах."
   ]
  },
  {
   "cell_type": "markdown",
   "id": "2c614a62",
   "metadata": {
    "id": "2c614a62"
   },
   "source": [
    "---\n",
    "\n",
    "### Промежуточный вывод\n"
   ]
  },
  {
   "cell_type": "markdown",
   "id": "1a249903",
   "metadata": {
    "id": "3593b7d5"
   },
   "source": [
    "Некоторые типы данных можно изменить для экономии памяти. Столбцы с пропусками требуют дальнейшего изучения."
   ]
  },
  {
   "cell_type": "markdown",
   "id": "8a8d1491",
   "metadata": {
    "id": "8a8d1491"
   },
   "source": [
    "### Подготовка единого датафрейма\n",
    "\n",
    "- Объединяем данные двух датасетов в один, с которым и продолжим работу."
   ]
  },
  {
   "cell_type": "code",
   "execution_count": 5,
   "id": "3408e303",
   "metadata": {
    "id": "3408e303"
   },
   "outputs": [
    {
     "name": "stdout",
     "output_type": "stream",
     "text": [
      "Первые 5 строк:\n"
     ]
    },
    {
     "data": {
      "text/html": [
       "<div>\n",
       "<style scoped>\n",
       "    .dataframe tbody tr th:only-of-type {\n",
       "        vertical-align: middle;\n",
       "    }\n",
       "\n",
       "    .dataframe tbody tr th {\n",
       "        vertical-align: top;\n",
       "    }\n",
       "\n",
       "    .dataframe thead th {\n",
       "        text-align: right;\n",
       "    }\n",
       "</style>\n",
       "<table border=\"1\" class=\"dataframe\">\n",
       "  <thead>\n",
       "    <tr style=\"text-align: right;\">\n",
       "      <th></th>\n",
       "      <th>id</th>\n",
       "      <th>name</th>\n",
       "      <th>category</th>\n",
       "      <th>address</th>\n",
       "      <th>district</th>\n",
       "      <th>hours</th>\n",
       "      <th>rating</th>\n",
       "      <th>chain</th>\n",
       "      <th>seats</th>\n",
       "      <th>price</th>\n",
       "      <th>avg_bill</th>\n",
       "      <th>middle_avg_bill</th>\n",
       "      <th>middle_coffee_cup</th>\n",
       "    </tr>\n",
       "  </thead>\n",
       "  <tbody>\n",
       "    <tr>\n",
       "      <th>0</th>\n",
       "      <td>0c3e3439a8c64ea5bf6ecd6ca6ae19f0</td>\n",
       "      <td>WoWфли</td>\n",
       "      <td>кафе</td>\n",
       "      <td>Москва, улица Дыбенко, 7/1</td>\n",
       "      <td>Северный административный округ</td>\n",
       "      <td>ежедневно, 10:00–22:00</td>\n",
       "      <td>5.0</td>\n",
       "      <td>0</td>\n",
       "      <td>NaN</td>\n",
       "      <td>NaN</td>\n",
       "      <td>NaN</td>\n",
       "      <td>NaN</td>\n",
       "      <td>NaN</td>\n",
       "    </tr>\n",
       "    <tr>\n",
       "      <th>1</th>\n",
       "      <td>045780ada3474c57a2112e505d74b633</td>\n",
       "      <td>Четыре комнаты</td>\n",
       "      <td>ресторан</td>\n",
       "      <td>Москва, улица Дыбенко, 36, корп. 1</td>\n",
       "      <td>Северный административный округ</td>\n",
       "      <td>ежедневно, 10:00–22:00</td>\n",
       "      <td>4.5</td>\n",
       "      <td>0</td>\n",
       "      <td>4.0</td>\n",
       "      <td>выше среднего</td>\n",
       "      <td>Средний счёт:1500–1600 ₽</td>\n",
       "      <td>1550.0</td>\n",
       "      <td>NaN</td>\n",
       "    </tr>\n",
       "    <tr>\n",
       "      <th>2</th>\n",
       "      <td>1070b6b59144425896c65889347fcff6</td>\n",
       "      <td>Хазри</td>\n",
       "      <td>кафе</td>\n",
       "      <td>Москва, Клязьминская улица, 15</td>\n",
       "      <td>Северный административный округ</td>\n",
       "      <td>пн-чт 11:00–02:00; пт,сб 11:00–05:00; вс 11:00...</td>\n",
       "      <td>4.6</td>\n",
       "      <td>0</td>\n",
       "      <td>45.0</td>\n",
       "      <td>средние</td>\n",
       "      <td>Средний счёт:от 1000 ₽</td>\n",
       "      <td>1000.0</td>\n",
       "      <td>NaN</td>\n",
       "    </tr>\n",
       "    <tr>\n",
       "      <th>3</th>\n",
       "      <td>03ac7cd772104f65b58b349dc59f03ee</td>\n",
       "      <td>Dormouse Coffee Shop</td>\n",
       "      <td>кофейня</td>\n",
       "      <td>Москва, улица Маршала Федоренко, 12</td>\n",
       "      <td>Северный административный округ</td>\n",
       "      <td>ежедневно, 09:00–22:00</td>\n",
       "      <td>5.0</td>\n",
       "      <td>0</td>\n",
       "      <td>NaN</td>\n",
       "      <td>NaN</td>\n",
       "      <td>Цена чашки капучино:155–185 ₽</td>\n",
       "      <td>NaN</td>\n",
       "      <td>170.0</td>\n",
       "    </tr>\n",
       "    <tr>\n",
       "      <th>4</th>\n",
       "      <td>a163aada139c4c7f87b0b1c0b466a50f</td>\n",
       "      <td>Иль Марко</td>\n",
       "      <td>пиццерия</td>\n",
       "      <td>Москва, Правобережная улица, 1Б</td>\n",
       "      <td>Северный административный округ</td>\n",
       "      <td>ежедневно, 10:00–22:00</td>\n",
       "      <td>5.0</td>\n",
       "      <td>1</td>\n",
       "      <td>148.0</td>\n",
       "      <td>средние</td>\n",
       "      <td>Средний счёт:400–600 ₽</td>\n",
       "      <td>500.0</td>\n",
       "      <td>NaN</td>\n",
       "    </tr>\n",
       "  </tbody>\n",
       "</table>\n",
       "</div>"
      ],
      "text/plain": [
       "                                 id                  name  category  \\\n",
       "0  0c3e3439a8c64ea5bf6ecd6ca6ae19f0                WoWфли      кафе   \n",
       "1  045780ada3474c57a2112e505d74b633        Четыре комнаты  ресторан   \n",
       "2  1070b6b59144425896c65889347fcff6                 Хазри      кафе   \n",
       "3  03ac7cd772104f65b58b349dc59f03ee  Dormouse Coffee Shop   кофейня   \n",
       "4  a163aada139c4c7f87b0b1c0b466a50f             Иль Марко  пиццерия   \n",
       "\n",
       "                               address                         district  \\\n",
       "0           Москва, улица Дыбенко, 7/1  Северный административный округ   \n",
       "1   Москва, улица Дыбенко, 36, корп. 1  Северный административный округ   \n",
       "2       Москва, Клязьминская улица, 15  Северный административный округ   \n",
       "3  Москва, улица Маршала Федоренко, 12  Северный административный округ   \n",
       "4      Москва, Правобережная улица, 1Б  Северный административный округ   \n",
       "\n",
       "                                               hours  rating  chain  seats  \\\n",
       "0                             ежедневно, 10:00–22:00     5.0      0    NaN   \n",
       "1                             ежедневно, 10:00–22:00     4.5      0    4.0   \n",
       "2  пн-чт 11:00–02:00; пт,сб 11:00–05:00; вс 11:00...     4.6      0   45.0   \n",
       "3                             ежедневно, 09:00–22:00     5.0      0    NaN   \n",
       "4                             ежедневно, 10:00–22:00     5.0      1  148.0   \n",
       "\n",
       "           price                       avg_bill  middle_avg_bill  \\\n",
       "0            NaN                            NaN              NaN   \n",
       "1  выше среднего       Средний счёт:1500–1600 ₽           1550.0   \n",
       "2        средние         Средний счёт:от 1000 ₽           1000.0   \n",
       "3            NaN  Цена чашки капучино:155–185 ₽              NaN   \n",
       "4        средние         Средний счёт:400–600 ₽            500.0   \n",
       "\n",
       "   middle_coffee_cup  \n",
       "0                NaN  \n",
       "1                NaN  \n",
       "2                NaN  \n",
       "3              170.0  \n",
       "4                NaN  "
      ]
     },
     "metadata": {},
     "output_type": "display_data"
    },
    {
     "name": "stdout",
     "output_type": "stream",
     "text": [
      "\n",
      "Общая информация:\n",
      "<class 'pandas.core.frame.DataFrame'>\n",
      "Int64Index: 8406 entries, 0 to 8405\n",
      "Data columns (total 13 columns):\n",
      " #   Column             Non-Null Count  Dtype  \n",
      "---  ------             --------------  -----  \n",
      " 0   id                 8406 non-null   object \n",
      " 1   name               8406 non-null   object \n",
      " 2   category           8406 non-null   object \n",
      " 3   address            8406 non-null   object \n",
      " 4   district           8406 non-null   object \n",
      " 5   hours              7870 non-null   object \n",
      " 6   rating             8406 non-null   float64\n",
      " 7   chain              8406 non-null   int64  \n",
      " 8   seats              4795 non-null   float64\n",
      " 9   price              3315 non-null   object \n",
      " 10  avg_bill           3816 non-null   object \n",
      " 11  middle_avg_bill    3149 non-null   float64\n",
      " 12  middle_coffee_cup  535 non-null    float64\n",
      "dtypes: float64(4), int64(1), object(8)\n",
      "memory usage: 919.4+ KB\n"
     ]
    },
    {
     "data": {
      "text/plain": [
       "None"
      ]
     },
     "metadata": {},
     "output_type": "display_data"
    }
   ],
   "source": [
    "\n",
    "df_info = pd.read_csv('/datasets/rest_info.csv')\n",
    "df_price = pd.read_csv('/datasets/rest_price.csv')\n",
    "\n",
    "df_merged = df_info.merge(df_price, on='id', how='left')\n",
    "\n",
    "print(\"Первые 5 строк:\")\n",
    "display(df_merged.head())\n",
    "\n",
    "print(\"\\nОбщая информация:\")\n",
    "display(df_merged.info()) "
   ]
  },
  {
   "cell_type": "markdown",
   "id": "9b741850",
   "metadata": {
    "id": "5695950b"
   },
   "source": [
    "Провдено  левое объединение по столбцу id"
   ]
  },
  {
   "cell_type": "markdown",
   "id": "956e82e2",
   "metadata": {
    "id": "956e82e2"
   },
   "source": [
    "## 2. Предобработка данных\n",
    "\n",
    "Подготовим данные к исследовательскому анализу:\n",
    "\n",
    "- Изучим корректность типов данных и при необходимости проведем их преобразование."
   ]
  },
  {
   "cell_type": "code",
   "execution_count": 6,
   "id": "67956690",
   "metadata": {
    "id": "67956690"
   },
   "outputs": [
    {
     "name": "stdout",
     "output_type": "stream",
     "text": [
      "id                    object\n",
      "name                  object\n",
      "category              object\n",
      "address               object\n",
      "district              object\n",
      "hours                 object\n",
      "rating               float32\n",
      "chain                   int8\n",
      "seats                float32\n",
      "price                 object\n",
      "avg_bill              object\n",
      "middle_avg_bill      float32\n",
      "middle_coffee_cup    float32\n",
      "dtype: object\n"
     ]
    }
   ],
   "source": [
    "df_merged['chain'] = df_merged['chain'].astype('int8')\n",
    "df_merged['rating'] = df_merged['rating'].astype('float32')\n",
    "df_merged['seats'] = df_merged['seats'].astype('float32')\n",
    "df_merged['middle_avg_bill'] = df_merged['middle_avg_bill'].astype('float32')\n",
    "df_merged['middle_coffee_cup'] = df_merged['middle_coffee_cup'].astype('float32')\n",
    "print(df_merged.dtypes)"
   ]
  },
  {
   "cell_type": "markdown",
   "id": "36c6a165",
   "metadata": {
    "id": "b5f2a94d"
   },
   "source": [
    "Проведено преобразование типов данных"
   ]
  },
  {
   "cell_type": "markdown",
   "id": "4b7ee469",
   "metadata": {
    "id": "4b7ee469"
   },
   "source": [
    "- Изучим пропущенные значения в данных: посчитаем их количество в каждом столбце датафрейме, изучим данные с пропущенными значениями и предположим гипотезы их появления. Проведем обработку пропущенных значений."
   ]
  },
  {
   "cell_type": "code",
   "execution_count": 7,
   "id": "3d8840ca",
   "metadata": {
    "id": "3d8840ca"
   },
   "outputs": [
    {
     "name": "stdout",
     "output_type": "stream",
     "text": [
      "id                      0\n",
      "name                    0\n",
      "category                0\n",
      "address                 0\n",
      "district                0\n",
      "hours                 536\n",
      "rating                  0\n",
      "chain                   0\n",
      "seats                3611\n",
      "price                5091\n",
      "avg_bill             4590\n",
      "middle_avg_bill      5257\n",
      "middle_coffee_cup    7871\n",
      "dtype: int64\n"
     ]
    }
   ],
   "source": [
    "print(df_merged.isna().sum())"
   ]
  },
  {
   "cell_type": "markdown",
   "id": "c5ba28e3",
   "metadata": {
    "id": "2ea145ca"
   },
   "source": [
    "Пропуски в часах работы, количестве посадочных мест, категория цен, и столбцы со средними ценами и диапозоном цен."
   ]
  },
  {
   "cell_type": "code",
   "execution_count": 7,
   "id": "d9e7c358",
   "metadata": {
    "id": "d9e7c358"
   },
   "outputs": [
    {
     "name": "stdout",
     "output_type": "stream",
     "text": [
      "hours    0\n",
      "price    0\n",
      "dtype: int64\n"
     ]
    }
   ],
   "source": [
    "df_merged['hours'] = df_merged['hours'].fillna('неизвестно')\n",
    "df_merged['price'] = df_merged['price'].fillna('неизвестно')\n",
    "print(df_merged[['hours', 'price']].isna().sum())"
   ]
  },
  {
   "cell_type": "markdown",
   "id": "8f7fc33f",
   "metadata": {},
   "source": [
    "В 'hours' и 'price' пропуски заменены на \"неизвестно\". В остальных столбцах с пропусками работать нельзя, это числовые данные и они затрагивают слишком большой объем данных."
   ]
  },
  {
   "cell_type": "markdown",
   "id": "c4d5f04d",
   "metadata": {
    "id": "c4d5f04d"
   },
   "source": [
    "- Проверим данные на явные и неявные дубликаты, например поля с названием и адресом заведения. Для оптимизации проверки нормализуем данные в текстовых столбцах, например с названием заведения."
   ]
  },
  {
   "cell_type": "code",
   "execution_count": 8,
   "id": "0769b681",
   "metadata": {
    "id": "0769b681"
   },
   "outputs": [
    {
     "name": "stdout",
     "output_type": "stream",
     "text": [
      "Полные дубликаты: 0\n"
     ]
    }
   ],
   "source": [
    "print(\"Полные дубликаты:\", df_merged.duplicated().sum())"
   ]
  },
  {
   "cell_type": "code",
   "execution_count": 9,
   "id": "95b15cd0",
   "metadata": {
    "id": "95b15cd0"
   },
   "outputs": [
    {
     "name": "stdout",
     "output_type": "stream",
     "text": [
      "Неявные дубликаты по названию и адресу: 4\n"
     ]
    }
   ],
   "source": [
    "df_merged['name_normalized'] = df_merged['name'].str.lower().str.strip()\n",
    "df_merged['address_normalized'] = df_merged['address'].str.lower().str.strip()\n",
    "name_address_dupes = df_merged.duplicated(subset=['name_normalized', 'address_normalized']).sum()\n",
    "print(\"Неявные дубликаты по названию и адресу:\", name_address_dupes)"
   ]
  },
  {
   "cell_type": "code",
   "execution_count": 9,
   "id": "b78ded60",
   "metadata": {},
   "outputs": [
    {
     "name": "stdout",
     "output_type": "stream",
     "text": [
      "                                    id                       name  category  \\\n",
      "1430  62608690e9cc464fbcd980cfd552e334                  More poke  ресторан   \n",
      "1511  a69f018d5c064873a3b491b0121bc1b4                  More Poke  ресторан   \n",
      "189   072032ce16dc47bfbc63b672c75bd371                       Кафе      кафе   \n",
      "215   897ddbc6746c4388b19dc8a9fcdbb488                       Кафе      кафе   \n",
      "2211  c6ef39ae8a8c483d8f9a6531bc386a2c  Раковарня Клешни и Хвосты  ресторан   \n",
      "2420  aba1de7ad7d64ac0a3f8684bda29d905  Раковарня Клешни и хвосты   бар,паб   \n",
      "3091  3c2a73ea79a04be48858fab3685f2f37            Хлеб да Выпечка  булочная   \n",
      "3109  d3116844e4e048f99614eb30be3214e0            Хлеб да выпечка      кафе   \n",
      "\n",
      "                                      address  \\\n",
      "1430  Москва, Волоколамское шоссе, 11, стр. 2   \n",
      "1511  Москва, Волоколамское шоссе, 11, стр. 2   \n",
      "189              Москва, парк Ангарские Пруды   \n",
      "215              Москва, парк Ангарские пруды   \n",
      "2211               Москва, проспект Мира, 118   \n",
      "2420               Москва, проспект Мира, 118   \n",
      "3091              Москва, Ярцевская улица, 19   \n",
      "3109              Москва, Ярцевская улица, 19   \n",
      "\n",
      "                                     district  \\\n",
      "1430          Северный административный округ   \n",
      "1511          Северный административный округ   \n",
      "189           Северный административный округ   \n",
      "215           Северный административный округ   \n",
      "2211  Северо-Восточный административный округ   \n",
      "2420  Северо-Восточный административный округ   \n",
      "3091          Западный административный округ   \n",
      "3109          Западный административный округ   \n",
      "\n",
      "                                                  hours  rating  chain  seats  \\\n",
      "1430                             ежедневно, 09:00–21:00     4.2      0  188.0   \n",
      "1511  пн-чт 09:00–18:00; пт,сб 09:00–21:00; вс 09:00...     4.2      1  188.0   \n",
      "189                              ежедневно, 09:00–23:00     3.2      0    NaN   \n",
      "215                              ежедневно, 10:00–22:00     3.2      0    NaN   \n",
      "2211                             ежедневно, 12:00–00:00     4.4      0  150.0   \n",
      "2420  пн-чт 12:00–00:00; пт,сб 12:00–01:00; вс 12:00...     4.4      1  150.0   \n",
      "3091                             ежедневно, 09:00–22:00     4.1      1  276.0   \n",
      "3109                                                NaN     4.1      0  276.0   \n",
      "\n",
      "     price avg_bill  middle_avg_bill  middle_coffee_cup  \\\n",
      "1430   NaN      NaN              NaN                NaN   \n",
      "1511   NaN      NaN              NaN                NaN   \n",
      "189    NaN      NaN              NaN                NaN   \n",
      "215    NaN      NaN              NaN                NaN   \n",
      "2211   NaN      NaN              NaN                NaN   \n",
      "2420   NaN      NaN              NaN                NaN   \n",
      "3091   NaN      NaN              NaN                NaN   \n",
      "3109   NaN      NaN              NaN                NaN   \n",
      "\n",
      "                name_normalized                       address_normalized  \n",
      "1430                  more poke  москва, волоколамское шоссе, 11, стр. 2  \n",
      "1511                  more poke  москва, волоколамское шоссе, 11, стр. 2  \n",
      "189                        кафе             москва, парк ангарские пруды  \n",
      "215                        кафе             москва, парк ангарские пруды  \n",
      "2211  раковарня клешни и хвосты               москва, проспект мира, 118  \n",
      "2420  раковарня клешни и хвосты               москва, проспект мира, 118  \n",
      "3091            хлеб да выпечка              москва, ярцевская улица, 19  \n",
      "3109            хлеб да выпечка              москва, ярцевская улица, 19  \n"
     ]
    }
   ],
   "source": [
    "dupes = df_merged[df_merged.duplicated(subset=['name_normalized', 'address_normalized'], keep=False)]\n",
    "print(dupes.sort_values(by=['name_normalized', 'address_normalized']))"
   ]
  },
  {
   "cell_type": "markdown",
   "id": "1615811a",
   "metadata": {
    "id": "b52bae9a"
   },
   "source": [
    "Явные дубликаты не выявлены. 4 неявных дубликата нужно удалить."
   ]
  },
  {
   "cell_type": "code",
   "execution_count": 11,
   "id": "54a343f2",
   "metadata": {},
   "outputs": [
    {
     "name": "stdout",
     "output_type": "stream",
     "text": [
      "Размер до: 8406\n",
      "Размер после: 8402\n"
     ]
    }
   ],
   "source": [
    "\n",
    "df_merged['name_normalized'] = df_merged['name'].str.lower().str.strip()\n",
    "df_merged['address_normalized'] = df_merged['address'].str.lower().str.strip()\n",
    "\n",
    "df_merged_cleaned = df_merged.drop_duplicates(subset=['name_normalized', 'address_normalized'], keep='first').copy()\n",
    "\n",
    "print(\"Размер до:\", len(df_merged))\n",
    "print(\"Размер после:\", len(df_merged_cleaned))"
   ]
  },
  {
   "cell_type": "markdown",
   "id": "33c5dd72",
   "metadata": {},
   "source": [
    "4 дубликата удалено, это менее 0,5% данных"
   ]
  },
  {
   "cell_type": "markdown",
   "id": "4c0563f2",
   "metadata": {
    "id": "4c0563f2"
   },
   "source": [
    "- Для дальнейшей работы создадим столбец `is_24_7` с обозначением того, что заведение работает ежедневно и круглосуточно, то есть 24/7:\n",
    "  - логическое значение `True` — если заведение работает ежедневно и круглосуточно;\n",
    "  - логическое значение `False` — в противоположном случае."
   ]
  },
  {
   "cell_type": "code",
   "execution_count": 12,
   "id": "d8a8a963",
   "metadata": {
    "id": "d8a8a963"
   },
   "outputs": [
    {
     "name": "stdout",
     "output_type": "stream",
     "text": [
      "                                               hours is_24_7\n",
      "0                             ежедневно, 10:00–22:00   False\n",
      "1                             ежедневно, 10:00–22:00   False\n",
      "2  пн-чт 11:00–02:00; пт,сб 11:00–05:00; вс 11:00...   False\n",
      "3                             ежедневно, 09:00–22:00   False\n",
      "4                             ежедневно, 10:00–22:00   False\n",
      "5                             ежедневно, 10:00–23:00   False\n",
      "6                  пн 15:00–04:00; вт-вс 15:00–05:00   False\n",
      "7  пн-чт 10:00–22:00; пт,сб 10:00–23:00; вс 10:00...   False\n",
      "8                             ежедневно, 10:00–22:00   False\n",
      "9                             ежедневно, 12:00–00:00   False\n",
      "False    7137\n",
      "True      730\n",
      "Name: is_24_7, dtype: int64\n"
     ]
    }
   ],
   "source": [
    "df_merged_cleaned.loc[:, 'is_24_7'] = df_merged_cleaned['hours'].str.contains('ежедневно, круглосуточно', case=False)\n",
    "print(df_merged_cleaned[['hours', 'is_24_7']].head(10))\n",
    "print(df_merged_cleaned['is_24_7'].value_counts())"
   ]
  },
  {
   "cell_type": "markdown",
   "id": "44aa121b",
   "metadata": {
    "id": "42d1e685"
   },
   "source": [
    "Создан дополнительный столбец для признака работает ежедневно и круглосуточно."
   ]
  },
  {
   "cell_type": "markdown",
   "id": "562f30ab",
   "metadata": {
    "id": "562f30ab"
   },
   "source": [
    "---\n",
    "\n",
    "### Промежуточный вывод\n",
    "\n"
   ]
  },
  {
   "cell_type": "markdown",
   "id": "2739cc53",
   "metadata": {
    "id": "4e587ce1"
   },
   "source": [
    "Изначально было получено 2 таблицы. В первой было 8406 строк, было произведено объединение таблиц. Явные дубликаты не выявлены. \n",
    "Неявные дубликаты - 4 при проверке оказались дублями, они удалены. По пропускам была проведена работа по их заполнению, \n",
    "только в 2 колонках, остальные пропуски оставлены. Типы данных были оптимизированы."
   ]
  },
  {
   "cell_type": "markdown",
   "id": "6953e84c",
   "metadata": {
    "id": "6953e84c"
   },
   "source": [
    "## 3. Исследовательский анализ данных\n",
    "Проведем исследовательский анализ исходных данных.\n",
    "\n",
    "При исследовании данных используем визуализации.\n"
   ]
  },
  {
   "cell_type": "markdown",
   "id": "8555d840",
   "metadata": {
    "id": "8555d840"
   },
   "source": [
    "---\n",
    "\n",
    "### Задача 1\n",
    "\n",
    "Какие категории заведений представлены в данных? Исследуйте количество объектов общественного питания по каждой категории. Результат сопроводите подходящей визуализацией."
   ]
  },
  {
   "cell_type": "code",
   "execution_count": 13,
   "id": "ef2bffe9",
   "metadata": {
    "id": "ef2bffe9"
   },
   "outputs": [
    {
     "data": {
      "image/png": "[encoded data removed]",
      "text/plain": [
       "<Figure size 864x432 with 1 Axes>"
      ]
     },
     "metadata": {
      "needs_background": "light"
     },
     "output_type": "display_data"
    }
   ],
   "source": [
    "import matplotlib.pyplot as plt\n",
    "\n",
    "category_counts = df_merged_cleaned['category'].value_counts().sort_values(ascending=False)\n",
    "\n",
    "plt.figure(figsize=(12, 6))\n",
    "category_counts.plot(kind='bar', color='skyblue', edgecolor='black')\n",
    "\n",
    "plt.title('Количество заведений по категориям', fontsize=14)\n",
    "plt.xlabel('Категория', fontsize=12)\n",
    "plt.ylabel('Количество заведений', fontsize=12)\n",
    "plt.xticks(rotation=45, ha='right')\n",
    "plt.grid(axis='y', linestyle='--', alpha=0.7)\n",
    "\n",
    "plt.tight_layout()\n",
    "plt.show()"
   ]
  },
  {
   "cell_type": "markdown",
   "id": "c9c4df8d",
   "metadata": {
    "id": "71ab5e91"
   },
   "source": [
    "В представленных данных 8 типов категорий заведений. По количеству ТОП-3 это кафе(более 2000), ресторан(около 2000) и кофейня(около 1500).\n",
    "Меньше всего булочных."
   ]
  },
  {
   "cell_type": "markdown",
   "id": "6821e1d0",
   "metadata": {
    "id": "6821e1d0"
   },
   "source": [
    "---\n",
    "\n",
    "### Задача 2\n",
    "\n",
    "Какие административные районы Москвы присутствуют в данных? Исследуйте распределение количества заведений по административным районам Москвы, а также отдельно распределение заведений каждой категории в Центральном административном округе Москвы. Результат сопроводите подходящими визуализациями."
   ]
  },
  {
   "cell_type": "code",
   "execution_count": 14,
   "id": "e62f31be",
   "metadata": {
    "id": "e62f31be"
   },
   "outputs": [
    {
     "data": {
      "image/png": "[encoded data removed]",
      "text/plain": [
       "<Figure size 864x432 with 1 Axes>"
      ]
     },
     "metadata": {
      "needs_background": "light"
     },
     "output_type": "display_data"
    }
   ],
   "source": [
    "import seaborn as sns\n",
    "\n",
    "district_counts = df_merged_cleaned['district'].value_counts().sort_values(ascending=False)\n",
    "\n",
    "plt.figure(figsize=(12, 6))\n",
    "sns.barplot(x=district_counts.index, y=district_counts.values, palette='coolwarm')\n",
    "plt.title('Количество заведений по административным районам Москвы', fontsize=14)\n",
    "plt.xlabel('Административный район', fontsize=12)\n",
    "plt.ylabel('Количество заведений', fontsize=12)\n",
    "plt.xticks(rotation=45, ha='right')\n",
    "plt.tight_layout()\n",
    "plt.show()"
   ]
  },
  {
   "cell_type": "markdown",
   "id": "7d7ac872",
   "metadata": {
    "id": "0a290cd1"
   },
   "source": [
    "Данные содержат информацию о 9 административных округах города Москва. Распределение количества заведений по административным огругам Москвы - больше всего заведений в Центральном административном\n",
    "округе, более 2000 заведений. В остальных округах распределение относительно равномерное 500-1000 заведений. Меньше всего\n",
    "в Северо-Западном(менее 500 заведений)."
   ]
  },
  {
   "cell_type": "code",
   "execution_count": 15,
   "id": "41f1654a",
   "metadata": {
    "id": "41f1654a"
   },
   "outputs": [
    {
     "data": {
      "image/png": "[encoded data removed]",
      "text/plain": [
       "<Figure size 720x432 with 1 Axes>"
      ]
     },
     "metadata": {
      "needs_background": "light"
     },
     "output_type": "display_data"
    }
   ],
   "source": [
    "central_df = df_merged_cleaned[df_merged_cleaned['district'] == 'Центральный административный округ']\n",
    "\n",
    "category_counts = central_df['category'].value_counts().sort_values(ascending=False)\n",
    "\n",
    "plt.figure(figsize=(10, 6))\n",
    "sns.barplot(x=category_counts.index, y=category_counts.values, palette='coolwarm')\n",
    "plt.title('Распределение категорий заведений в Центральном административном округе', fontsize=14)\n",
    "plt.xlabel('Категория заведения', fontsize=12)\n",
    "plt.ylabel('Количество заведений', fontsize=12)\n",
    "plt.xticks(rotation=45, ha='right')\n",
    "plt.tight_layout()\n",
    "plt.show()"
   ]
  },
  {
   "cell_type": "markdown",
   "id": "fb31bb6f",
   "metadata": {},
   "source": [
    "Если рассмотреть Центральный административный округ, то в разрезе категорий больше всего ресторанов(более 700), кафе и кофейни около 400. Меньше всего булочных."
   ]
  },
  {
   "cell_type": "markdown",
   "id": "7c824f58",
   "metadata": {
    "id": "7c824f58"
   },
   "source": [
    "---\n",
    "\n",
    "### Задача 3\n",
    "\n",
    "Изучите соотношение сетевых и несетевых заведений в целом по всем данным и в разрезе категорий заведения. Каких заведений больше — сетевых или несетевых? Какие категории заведений чаще являются сетевыми? Исследуйте данные, ответьте на вопросы и постройте необходимые визуализации."
   ]
  },
  {
   "cell_type": "code",
   "execution_count": 16,
   "id": "ef442d1a",
   "metadata": {
    "id": "ef442d1a"
   },
   "outputs": [
    {
     "data": {
      "image/png": "[encoded data removed]",
      "text/plain": [
       "<Figure size 432x432 with 1 Axes>"
      ]
     },
     "metadata": {},
     "output_type": "display_data"
    }
   ],
   "source": [
    "chain_labels = ['Не сетевое', 'Сетевое']\n",
    "\n",
    "chain_counts = df_merged_cleaned['chain'].value_counts().sort_index()\n",
    "\n",
    "plt.figure(figsize=(6, 6))\n",
    "plt.pie(\n",
    "    chain_counts, \n",
    "    labels=chain_labels, \n",
    "    autopct='%1.1f%%', \n",
    "    startangle=90, \n",
    "    colors = ['#99ccff', '#3399ff'],\n",
    "    wedgeprops={'edgecolor': 'black'}\n",
    ")\n",
    "plt.title('Распределение сетевых и не сетевых заведений', fontsize=14)\n",
    "plt.axis('equal') \n",
    "plt.tight_layout()\n",
    "plt.show()"
   ]
  },
  {
   "cell_type": "markdown",
   "id": "5e7cd7c5",
   "metadata": {
    "id": "0de29fa2"
   },
   "source": [
    "Относительно принадлежности к сетевым. В представленных данных 61,9% заведений не сетевые. 38,1% заведений сетевые."
   ]
  },
  {
   "cell_type": "code",
   "execution_count": 19,
   "id": "a139bd72",
   "metadata": {
    "id": "a139bd72"
   },
   "outputs": [
    {
     "data": {
      "image/png": "[encoded data removed]",
      "text/plain": [
       "<Figure size 864x432 with 1 Axes>"
      ]
     },
     "metadata": {
      "needs_background": "light"
     },
     "output_type": "display_data"
    }
   ],
   "source": [
    "category_chain_counts = df_merged_cleaned.groupby(['category', 'chain']).size().unstack(fill_value=0)\n",
    "\n",
    "category_chain_counts = category_chain_counts.sort_values(by=category_chain_counts.columns.tolist(), ascending=False)\n",
    "\n",
    "category_chain_counts.plot(kind='bar', figsize=(12, 6), color=['#99ccff', '#3399ff'])\n",
    "\n",
    "plt.title('Распределение категорий по сетевым и не сетевым заведениям', fontsize=14)\n",
    "plt.xlabel('Категория заведения')\n",
    "plt.ylabel('Количество заведений')\n",
    "plt.legend(['Не сетевое', 'Сетевое']) \n",
    "plt.xticks(rotation=45, ha='right')\n",
    "plt.tight_layout()\n",
    "plt.show()"
   ]
  },
  {
   "cell_type": "markdown",
   "id": "e2d3e0f4",
   "metadata": {},
   "source": [
    "Относительно категорий заведений. Сетевые преобладают над не сетевыми только в пиццериях, кофейнях и булочных. Не сетевых больше всего ресторанов(около 1600) и кафе(около 1400)."
   ]
  },
  {
   "cell_type": "markdown",
   "id": "5913c3e3",
   "metadata": {
    "id": "5913c3e3"
   },
   "source": [
    "---\n",
    "\n",
    "### Задача 4\n",
    "\n",
    "Исследуйте количество посадочных мест в заведениях. Встречаются ли в данных аномальные значения или выбросы? Если да, то с чем они могут быть связаны? Приведите для каждой категории заведений наиболее типичное для него количество посадочных мест. Результат сопроводите подходящими визуализациями.\n"
   ]
  },
  {
   "cell_type": "code",
   "execution_count": 20,
   "id": "2293fc9e",
   "metadata": {},
   "outputs": [
    {
     "name": "stdout",
     "output_type": "stream",
     "text": [
      "Количество выбросов: 318\n"
     ]
    }
   ],
   "source": [
    "Q1 = df_merged_cleaned['seats'].quantile(0.25)\n",
    "Q3 = df_merged_cleaned['seats'].quantile(0.75)\n",
    "IQR = Q3 - Q1\n",
    "\n",
    "lower_bound = Q1 - 1.5 * IQR\n",
    "upper_bound = Q3 + 1.5 * IQR\n",
    "\n",
    "outliers = df_merged_cleaned[(df_merged_cleaned['seats'] < lower_bound) | (df_merged_cleaned['seats'] > upper_bound)]\n",
    "\n",
    "print(f\"Количество выбросов: {len(outliers)}\")"
   ]
  },
  {
   "cell_type": "markdown",
   "id": "0f93f457",
   "metadata": {},
   "source": [
    "318 значений количества посадочных мест относятся к аномальным выбросам."
   ]
  },
  {
   "cell_type": "code",
   "execution_count": 21,
   "id": "7152200d",
   "metadata": {},
   "outputs": [
    {
     "name": "stdout",
     "output_type": "stream",
     "text": [
      "ресторан           94\n",
      "кафе               67\n",
      "кофейня            55\n",
      "бар,паб            45\n",
      "пиццерия           21\n",
      "быстрое питание    21\n",
      "столовая            9\n",
      "булочная            6\n",
      "Name: category, dtype: int64\n"
     ]
    }
   ],
   "source": [
    "category_counts = outliers['category'].value_counts()\n",
    "print(category_counts)"
   ]
  },
  {
   "cell_type": "markdown",
   "id": "b3caedde",
   "metadata": {},
   "source": [
    "По категориям много выбросов в ресторанах и кафе, это может объясняться их большим размером."
   ]
  },
  {
   "cell_type": "code",
   "execution_count": 31,
   "id": "a5b227f2",
   "metadata": {},
   "outputs": [
    {
     "data": {
      "image/png": "[encoded data removed]",
      "text/plain": [
       "<Figure size 720x432 with 1 Axes>"
      ]
     },
     "metadata": {
      "needs_background": "light"
     },
     "output_type": "display_data"
    }
   ],
   "source": [
    "plt.figure(figsize=(10,6))\n",
    "sns.histplot(df_merged_cleaned['seats'], bins=30, kde=True, color='skyblue')\n",
    "plt.title('Распределение количества посадочных мест с KDE')\n",
    "plt.xlabel('Количество посадочных мест')\n",
    "plt.ylabel('Частота')\n",
    "plt.show()"
   ]
  },
  {
   "cell_type": "markdown",
   "id": "b17a1158",
   "metadata": {
    "id": "6cb238d2"
   },
   "source": [
    "Большинство заведений имеют до 100 посадочных мест."
   ]
  },
  {
   "cell_type": "code",
   "execution_count": 22,
   "id": "062b55d8",
   "metadata": {
    "id": "062b55d8"
   },
   "outputs": [
    {
     "data": {
      "image/png": "[encoded data removed]",
      "text/plain": [
       "<Figure size 864x432 with 1 Axes>"
      ]
     },
     "metadata": {
      "needs_background": "light"
     },
     "output_type": "display_data"
    }
   ],
   "source": [
    "median_seats = df_merged_cleaned.groupby('category')['seats'].median().reset_index()\n",
    "median_seats = median_seats.sort_values(by='seats', ascending=False)\n",
    "plt.figure(figsize=(12, 6))\n",
    "plt.bar(median_seats['category'], median_seats['seats'], color='skyblue')\n",
    "plt.xlabel('Категория')\n",
    "plt.ylabel('Медианное количество посадочных мест')\n",
    "plt.title('Медианное количество посадочных мест для каждой категории')\n",
    "plt.xticks(rotation=45)\n",
    "plt.tight_layout()\n",
    "plt.show()"
   ]
  },
  {
   "cell_type": "markdown",
   "id": "cfe97b75",
   "metadata": {
    "id": "ceadf25b"
   },
   "source": [
    "В ресторанах больше всего посадоных мест(более 80), бар/паб и коефейня около 80 мест. Для всех заведений медианое значение количества посадочных мест больше 50."
   ]
  },
  {
   "cell_type": "markdown",
   "id": "8ed065ea",
   "metadata": {
    "id": "8ed065ea"
   },
   "source": [
    "---\n",
    "\n",
    "### Задача 5\n",
    "\n",
    "Исследуйте рейтинг заведений. Визуализируйте распределение средних рейтингов по категориям заведений. Сильно ли различаются усреднённые рейтинги для разных типов общепита?"
   ]
  },
  {
   "cell_type": "code",
   "execution_count": 34,
   "id": "3e0ec5d7",
   "metadata": {
    "id": "3e0ec5d7"
   },
   "outputs": [
    {
     "data": {
      "image/png": "[encoded data removed]",
      "text/plain": [
       "<Figure size 576x360 with 1 Axes>"
      ]
     },
     "metadata": {
      "needs_background": "light"
     },
     "output_type": "display_data"
    }
   ],
   "source": [
    "plt.figure(figsize=(8,5))\n",
    "plt.hist(df_merged_cleaned['rating'], bins=20, color='skyblue', edgecolor='black')\n",
    "plt.title('Распределение рейтинга')\n",
    "plt.xlabel('Рейтинг')\n",
    "plt.ylabel('Количество')\n",
    "plt.show()"
   ]
  },
  {
   "cell_type": "markdown",
   "id": "26f0ce16",
   "metadata": {
    "id": "766c86cb"
   },
   "source": [
    "Распределение на гистограмме смещено вправо. Самый частый рейтинг около 4,3."
   ]
  },
  {
   "cell_type": "code",
   "execution_count": 35,
   "id": "dc2eeefc",
   "metadata": {},
   "outputs": [
    {
     "data": {
      "image/png": "[encoded data removed]",
      "text/plain": [
       "<Figure size 864x432 with 1 Axes>"
      ]
     },
     "metadata": {
      "needs_background": "light"
     },
     "output_type": "display_data"
    }
   ],
   "source": [
    "\n",
    "plt.figure(figsize=(12,6))\n",
    "sns.boxplot(data=df_merged_cleaned, x='category', y='rating', palette='Set3')\n",
    "\n",
    "plt.title('Распределение среднего рейтинга по категориям заведений')\n",
    "plt.xlabel('Категория заведения')\n",
    "plt.ylabel('Средний рейтинг')\n",
    "plt.xticks(rotation=45)\n",
    "plt.show()"
   ]
  },
  {
   "cell_type": "markdown",
   "id": "05c141cb",
   "metadata": {},
   "source": [
    "Все заведения имеют медиану между 4,2-4,5. Выбросы с низким рейтингом характерны для кафе, быстрого питания. "
   ]
  },
  {
   "cell_type": "markdown",
   "id": "dd9702d9",
   "metadata": {
    "id": "dd9702d9"
   },
   "source": [
    "---\n",
    "\n",
    "### Задача 6\n",
    "\n",
    "Изучите, с какими данными показывают самую сильную корреляцию рейтинги заведений? Постройте и визуализируйте матрицу корреляции рейтинга заведения с разными данными: его категория, положение (административный район Москвы), статус сетевого заведения, количество мест, ценовая категория и признак, является ли заведения круглосуточным. Выберите самую сильную связь и проверьте её."
   ]
  },
  {
   "cell_type": "code",
   "execution_count": 38,
   "id": "7a32df0d",
   "metadata": {},
   "outputs": [
    {
     "name": "stdout",
     "output_type": "stream",
     "text": [
      "Collecting phik\n",
      "  Downloading phik-0.12.4-cp39-cp39-manylinux_2_17_x86_64.manylinux2014_x86_64.whl (686 kB)\n",
      "\u001b[K     |████████████████████████████████| 686 kB 1.2 MB/s eta 0:00:01\n",
      "\u001b[?25hRequirement already satisfied: joblib>=0.14.1 in /opt/conda/lib/python3.9/site-packages (from phik) (1.1.0)\n",
      "Requirement already satisfied: numpy>=1.18.0 in /opt/conda/lib/python3.9/site-packages (from phik) (1.21.1)\n",
      "Requirement already satisfied: matplotlib>=2.2.3 in /opt/conda/lib/python3.9/site-packages (from phik) (3.3.4)\n",
      "Requirement already satisfied: pandas>=0.25.1 in /opt/conda/lib/python3.9/site-packages (from phik) (1.2.4)\n",
      "Requirement already satisfied: scipy>=1.5.2 in /opt/conda/lib/python3.9/site-packages (from phik) (1.9.1)\n",
      "Requirement already satisfied: pillow>=6.2.0 in /opt/conda/lib/python3.9/site-packages (from matplotlib>=2.2.3->phik) (8.4.0)\n",
      "Requirement already satisfied: cycler>=0.10 in /opt/conda/lib/python3.9/site-packages (from matplotlib>=2.2.3->phik) (0.11.0)\n",
      "Requirement already satisfied: kiwisolver>=1.0.1 in /opt/conda/lib/python3.9/site-packages (from matplotlib>=2.2.3->phik) (1.4.4)\n",
      "Requirement already satisfied: pyparsing!=2.0.4,!=2.1.2,!=2.1.6,>=2.0.3 in /opt/conda/lib/python3.9/site-packages (from matplotlib>=2.2.3->phik) (2.4.7)\n",
      "Requirement already satisfied: python-dateutil>=2.1 in /opt/conda/lib/python3.9/site-packages (from matplotlib>=2.2.3->phik) (2.8.1)\n",
      "Requirement already satisfied: pytz>=2017.3 in /opt/conda/lib/python3.9/site-packages (from pandas>=0.25.1->phik) (2021.1)\n",
      "Requirement already satisfied: six>=1.5 in /opt/conda/lib/python3.9/site-packages (from python-dateutil>=2.1->matplotlib>=2.2.3->phik) (1.16.0)\n",
      "Installing collected packages: phik\n",
      "Successfully installed phik-0.12.4\n"
     ]
    }
   ],
   "source": [
    "!pip install phik"
   ]
  },
  {
   "cell_type": "code",
   "execution_count": 41,
   "id": "3d1d5f3c",
   "metadata": {},
   "outputs": [
    {
     "name": "stdout",
     "output_type": "stream",
     "text": [
      "rating      1.000000\n",
      "district    0.278489\n",
      "price       0.259125\n",
      "category    0.188473\n",
      "is_24_7     0.088686\n",
      "chain       0.064788\n",
      "seats       0.000000\n",
      "Name: rating, dtype: float64\n"
     ]
    },
    {
     "data": {
      "image/png": "[encoded data removed]",
      "text/plain": [
       "<Figure size 720x576 with 2 Axes>"
      ]
     },
     "metadata": {
      "needs_background": "light"
     },
     "output_type": "display_data"
    }
   ],
   "source": [
    "from phik import phik_matrix\n",
    "from phik.report import plot_correlation_matrix\n",
    "\n",
    "df_corr = df_merged_cleaned.copy()\n",
    "\n",
    "cols_to_use = ['rating', 'seats', 'price', 'category', 'district', 'chain', 'is_24_7']\n",
    "df_corr = df_corr[cols_to_use].dropna()\n",
    "\n",
    "for col in ['category', 'district', 'chain', 'is_24_7', 'price']:\n",
    "    df_corr[col] = df_corr[col].astype(str)\n",
    "\n",
    "phik_corr = df_corr.phik_matrix(interval_cols=['rating', 'seats'])\n",
    "\n",
    "print(phik_corr['rating'].sort_values(ascending=False))\n",
    "\n",
    "plt.figure(figsize=(10, 8))\n",
    "sns.heatmap(phik_corr, annot=True, cmap='coolwarm', vmin=0, vmax=1)\n",
    "plt.title('Корреляционная матрица')\n",
    "plt.tight_layout()\n",
    "plt.show()"
   ]
  },
  {
   "cell_type": "markdown",
   "id": "15c86d32",
   "metadata": {},
   "source": [
    "Выявлена умеренная положительная корреляция между рейтингом и категорией цен, а также АО."
   ]
  },
  {
   "cell_type": "code",
   "execution_count": 40,
   "id": "1a65a84d",
   "metadata": {
    "id": "1a65a84d"
   },
   "outputs": [
    {
     "data": {
      "image/png": "[encoded data removed]",
      "text/plain": [
       "<Figure size 576x360 with 1 Axes>"
      ]
     },
     "metadata": {
      "needs_background": "light"
     },
     "output_type": "display_data"
    }
   ],
   "source": [
    "\n",
    "order = [\"низкие\", \"средние\", \"выше среднего\", \"высокие\"]\n",
    "\n",
    "plt.figure(figsize=(8, 5))\n",
    "sns.barplot(data=df_merged_cleaned, x=\"price\", y=\"rating\", order=order, ci=None)\n",
    "\n",
    "plt.title(\"Средний рейтинг по категориям цен\")\n",
    "plt.xlabel(\"Категория цены\")\n",
    "plt.ylabel(\"Рейтинг\")\n",
    "plt.tight_layout()\n",
    "plt.show()"
   ]
  },
  {
   "cell_type": "markdown",
   "id": "15d4a9f8",
   "metadata": {},
   "source": [
    "Связь между категорией цены и рейтингом есть, но она очень слабая, у категрии цен выше-среднего и высокие средний рейтинг немного выше, чем для других категорий."
   ]
  },
  {
   "cell_type": "code",
   "execution_count": 47,
   "id": "99517315",
   "metadata": {},
   "outputs": [
    {
     "data": {
      "image/png": "[encoded data removed]",
      "text/plain": [
       "<Figure size 864x432 with 1 Axes>"
      ]
     },
     "metadata": {
      "needs_background": "light"
     },
     "output_type": "display_data"
    }
   ],
   "source": [
    "district_order = [\n",
    "    \"Центральный административный округ\",\n",
    "    \"Северный административный округ\",\n",
    "    \"Южный административный округ\",\n",
    "    \"Северо-Восточный административный округ\",\n",
    "    \"Западный административный округ\",\n",
    "    \"Восточный административный округ\",\n",
    "    \"Юго-Восточный административный округ\",\n",
    "    \"Юго-Западный административный округ\",\n",
    "    \"Северо-Западный административный округ\"\n",
    "]\n",
    "\n",
    "plt.figure(figsize=(12, 6))\n",
    "sns.barplot(data=df_merged_cleaned, x=\"district\", y=\"rating\", order=district_order, ci=None)\n",
    "\n",
    "plt.title(\"Средний рейтинг по административным округам\")\n",
    "plt.xlabel(\"Округ\")\n",
    "plt.ylabel(\"Рейтинг\")\n",
    "plt.xticks(rotation=45, ha='right')\n",
    "plt.tight_layout()\n",
    "plt.show()"
   ]
  },
  {
   "cell_type": "markdown",
   "id": "c08fc572",
   "metadata": {},
   "source": [
    "В ЦАО средний рейтинг немного выше. Вцелом рейтинг около 4."
   ]
  },
  {
   "cell_type": "markdown",
   "id": "370de703",
   "metadata": {
    "id": "370de703"
   },
   "source": [
    "\n",
    "\n",
    "### Задача 7\n",
    "\n",
    "Сгруппируйте данные по названиям заведений и найдите топ-15 популярных сетей в Москве. Для них посчитайте значения среднего рейтинга. Под популярностью понимается количество заведений этой сети в регионе. К какой категории заведений они относятся? Результат сопроводите подходящими визуализациями."
   ]
  },
  {
   "cell_type": "code",
   "execution_count": 43,
   "id": "5d828a9a",
   "metadata": {
    "id": "5d828a9a"
   },
   "outputs": [
    {
     "data": {
      "image/png": "[encoded data removed]",
      "text/plain": [
       "<Figure size 864x576 with 1 Axes>"
      ]
     },
     "metadata": {
      "needs_background": "light"
     },
     "output_type": "display_data"
    }
   ],
   "source": [
    "import seaborn as sns\n",
    "import matplotlib.pyplot as plt\n",
    "\n",
    "# Только сетевые заведения\n",
    "top_names = (\n",
    "    df_merged_cleaned[df_merged_cleaned['chain'] == 1]\n",
    "    .groupby('name')\n",
    "    .agg(\n",
    "        count=('name', 'size'),\n",
    "        avg_rating=('rating', 'mean'),\n",
    "        most_common_category=('category', lambda x: x.mode().iloc[0] if not x.mode().empty else None)\n",
    "    )\n",
    "    .sort_values('count', ascending=False)\n",
    "    .head(15)\n",
    "    .reset_index()\n",
    ")\n",
    "\n",
    "plt.figure(figsize=(12, 8))\n",
    "\n",
    "top_names_sorted = top_names.sort_values('count')\n",
    "sns.barplot(\n",
    "    data=top_names_sorted,\n",
    "    x='count',\n",
    "    y='name',\n",
    "    hue='most_common_category',\n",
    "    dodge=False \n",
    ")\n",
    "\n",
    "plt.title('Топ-15 сетевых заведений по количеству с разбивкой по категории')\n",
    "plt.xlabel('Количество')\n",
    "plt.ylabel('Имя')\n",
    "plt.legend(title='Категория', bbox_to_anchor=(1.05, 1), loc='upper left')\n",
    "\n",
    "for i, (count, avg_rating) in enumerate(zip(top_names_sorted['count'], top_names_sorted['avg_rating'])):\n",
    "    plt.text(\n",
    "        x=count + max(top_names_sorted['count']) * 0.01, \n",
    "        y=i,\n",
    "        s=f'{avg_rating:.2f}',\n",
    "        va='center'\n",
    "    )\n",
    "\n",
    "plt.tight_layout()\n",
    "plt.show()"
   ]
  },
  {
   "cell_type": "markdown",
   "id": "6dab1b8b",
   "metadata": {
    "id": "d013c598"
   },
   "source": [
    "По сетям в ТОП-3 входят Шоколадница, Додо Пицца, т Домино-с Пицца, по типу заведения это кофейня и пиццерия. Срдений рейтинг\n",
    "около 4,2."
   ]
  },
  {
   "cell_type": "markdown",
   "id": "85a90a94",
   "metadata": {
    "id": "85a90a94"
   },
   "source": [
    "---\n",
    "\n",
    "### Задача 8\n",
    "\n",
    "Изучите вариацию среднего чека заведения (столбец `middle_avg_bill`) в зависимости от района Москвы. Проанализируйте цены в Центральном административном округе и других. Как удалённость от центра влияет на цены в заведениях? Результат сопроводите подходящими визуализациями.\n"
   ]
  },
  {
   "cell_type": "code",
   "execution_count": 18,
   "id": "5fb4ffc6",
   "metadata": {
    "id": "5fb4ffc6"
   },
   "outputs": [
    {
     "data": {
      "image/png": "[encoded data removed]",
      "text/plain": [
       "<Figure size 864x432 with 1 Axes>"
      ]
     },
     "metadata": {
      "needs_background": "light"
     },
     "output_type": "display_data"
    }
   ],
   "source": [
    "df_plot = df_merged_cleaned[['district', 'middle_avg_bill']].dropna()\n",
    "\n",
    "df_sorted = df_plot.groupby('district', as_index=False)['middle_avg_bill'].mean()\n",
    "df_sorted = df_sorted.sort_values(by='middle_avg_bill', ascending=False)\n",
    "\n",
    "plt.figure(figsize=(12, 6))\n",
    "sns.barplot(data=df_sorted, x='district', y='middle_avg_bill', ci=None)\n",
    "plt.xticks(rotation=45, ha='right')\n",
    "plt.title('Средний чек по районам')\n",
    "plt.xlabel('Район')\n",
    "plt.ylabel('Средний чек')\n",
    "plt.tight_layout()\n",
    "plt.show()"
   ]
  },
  {
   "cell_type": "markdown",
   "id": "fcf5e204",
   "metadata": {
    "id": "b98066c1"
   },
   "source": [
    "Самый высокий средний чек в Центральном административном округе(около 1200), на 2 месте Западный административны округ(около 1000). Самый низкий средний чек в Юго-восточном административном округе(около 700)."
   ]
  },
  {
   "cell_type": "markdown",
   "id": "c150bd4f",
   "metadata": {
    "id": "c150bd4f"
   },
   "source": [
    "---\n"
   ]
  },
  {
   "cell_type": "markdown",
   "id": "f2c54e9a",
   "metadata": {
    "id": "f2c54e9a"
   },
   "source": [
    "---\n",
    "\n",
    "### Промежуточный вывод\n",
    "\n"
   ]
  },
  {
   "cell_type": "markdown",
   "id": "e1a39658",
   "metadata": {
    "id": "c8869609"
   },
   "source": [
    "Топ-3 заведений по количеству в Москве - ресторан, кофейня или кафе. Самое большое количество заведений в Центральном административном\n",
    "округе. В этом округе преобладают категории заведений - ресторан, кафе, кофейня. Большая часть заведений в Москве несетевые.\n",
    "Сетевые завдениея преобладают только в пиццериях и кофейнях. \n",
    "По сетям в ТОП-3 входят Шоколадница, Додо Пицца, т Домино-с Пицца, по типу заведения это кофейня и пиццерия. \n",
    "Большинство заведений имеют до 100 посадочных мест.\n",
    "Большинство заведений имеют хорошую медиану рейтинга(более 4). Сильной связи между рейтингом и другими показателями(цены, часы работы, количество посадочных мест, адрес) нет.\n",
    "Самый высокий средний чек в Центральном административном округе(около 1200), на 2 месте Западный административны округ(около 1000). Самый низкий средний чек в Юго-восточном административном округе(около 700)."
   ]
  },
  {
   "cell_type": "markdown",
   "id": "480f3422",
   "metadata": {
    "id": "480f3422"
   },
   "source": [
    "## 4. Итоговый вывод и рекомендации\n",
    "\n"
   ]
  },
  {
   "cell_type": "markdown",
   "id": "3a295623",
   "metadata": {},
   "source": [
    "Проведен исследовательский анализ заведений общественного питания Москвы, с целью решить вопрос о развитии бизнеса в данной сфере. Данные сервисов Яндекс Карты и Яндекс Бизнес на лето 2022 года по городу Москва.\n",
    "Выполнена загрузка данных и знакомство с ними. Предобработка данных. Исследовательский анализ данных.\n",
    "Рекомендации - по локации лучше выбрать ЦАО Москвы. В этом районе много заведений и высокий средний чек. По типу заведения лучше\n",
    "выбрать ресторан, кафе, кофейню. Размер заведения до 100 посадочных мест. В Москве преобладают несетевые заведения.\n",
    "Топ сетевых заведений(Шоколадница, Додо и Доминопицца) тоже стоит рассматривать, у них хороший средний рейтинг и высокая узнаваемость."
   ]
  }
 ],
 "metadata": {
  "ExecuteTimeLog": [
   {
    "duration": 665,
    "start_time": "2025-06-11T09:39:09.730Z"
   },
   {
    "duration": 4,
    "start_time": "2025-06-11T09:48:43.852Z"
   },
   {
    "duration": 89,
    "start_time": "2025-06-11T09:51:47.792Z"
   },
   {
    "duration": 70,
    "start_time": "2025-06-11T10:06:31.377Z"
   },
   {
    "duration": 118,
    "start_time": "2025-06-11T10:08:41.467Z"
   },
   {
    "duration": 1393,
    "start_time": "2025-06-11T10:38:28.339Z"
   },
   {
    "duration": 1213,
    "start_time": "2025-06-11T10:39:26.406Z"
   },
   {
    "duration": 1178,
    "start_time": "2025-06-11T10:40:43.582Z"
   },
   {
    "duration": 1314,
    "start_time": "2025-06-11T10:41:22.092Z"
   },
   {
    "duration": 10,
    "start_time": "2025-06-11T10:44:36.099Z"
   },
   {
    "duration": 7,
    "start_time": "2025-06-11T10:44:36.666Z"
   },
   {
    "duration": 8,
    "start_time": "2025-06-11T10:45:53.227Z"
   },
   {
    "duration": 10,
    "start_time": "2025-06-11T10:49:58.341Z"
   },
   {
    "duration": 117,
    "start_time": "2025-06-11T11:02:47.290Z"
   },
   {
    "duration": 8,
    "start_time": "2025-06-11T11:03:03.522Z"
   },
   {
    "duration": 109,
    "start_time": "2025-06-11T11:04:53.036Z"
   },
   {
    "duration": 107,
    "start_time": "2025-06-11T11:07:06.183Z"
   },
   {
    "duration": 9,
    "start_time": "2025-06-11T11:07:46.574Z"
   },
   {
    "duration": 8,
    "start_time": "2025-06-11T11:07:55.717Z"
   },
   {
    "duration": 11,
    "start_time": "2025-06-11T13:17:58.640Z"
   },
   {
    "duration": 14,
    "start_time": "2025-06-11T13:21:40.140Z"
   },
   {
    "duration": 20,
    "start_time": "2025-06-11T13:23:07.211Z"
   },
   {
    "duration": 13,
    "start_time": "2025-06-11T13:26:36.962Z"
   },
   {
    "duration": 7,
    "start_time": "2025-06-11T15:55:46.551Z"
   },
   {
    "duration": 15,
    "start_time": "2025-06-11T15:56:30.039Z"
   },
   {
    "duration": 16,
    "start_time": "2025-06-11T15:56:34.699Z"
   },
   {
    "duration": 10,
    "start_time": "2025-06-11T15:56:42.883Z"
   },
   {
    "duration": 14,
    "start_time": "2025-06-11T15:58:38.961Z"
   },
   {
    "duration": 18,
    "start_time": "2025-06-11T15:58:43.704Z"
   },
   {
    "duration": 805,
    "start_time": "2025-06-11T16:16:54.735Z"
   },
   {
    "duration": 915,
    "start_time": "2025-06-11T16:29:42.096Z"
   },
   {
    "duration": 338,
    "start_time": "2025-06-11T17:44:18.032Z"
   },
   {
    "duration": 373,
    "start_time": "2025-06-11T17:45:10.354Z"
   },
   {
    "duration": 167,
    "start_time": "2025-06-11T17:58:41.047Z"
   },
   {
    "duration": 163,
    "start_time": "2025-06-11T18:00:32.463Z"
   },
   {
    "duration": 324,
    "start_time": "2025-06-11T18:09:24.194Z"
   },
   {
    "duration": 51,
    "start_time": "2025-06-12T11:27:29.933Z"
   },
   {
    "duration": 1420,
    "start_time": "2025-06-12T11:28:01.480Z"
   },
   {
    "duration": 14,
    "start_time": "2025-06-12T11:28:34.894Z"
   },
   {
    "duration": 90,
    "start_time": "2025-06-12T11:29:28.479Z"
   },
   {
    "duration": 41,
    "start_time": "2025-06-12T11:29:42.946Z"
   },
   {
    "duration": 12,
    "start_time": "2025-06-12T11:30:10.909Z"
   },
   {
    "duration": 101,
    "start_time": "2025-06-12T11:30:22.588Z"
   },
   {
    "duration": 9,
    "start_time": "2025-06-12T11:30:29.238Z"
   },
   {
    "duration": 8,
    "start_time": "2025-06-12T11:30:36.095Z"
   },
   {
    "duration": 10,
    "start_time": "2025-06-12T11:30:42.436Z"
   },
   {
    "duration": 16,
    "start_time": "2025-06-12T11:30:46.089Z"
   },
   {
    "duration": 18,
    "start_time": "2025-06-12T11:30:51.295Z"
   },
   {
    "duration": 14,
    "start_time": "2025-06-12T11:30:55.811Z"
   },
   {
    "duration": 396,
    "start_time": "2025-06-12T11:31:05.161Z"
   },
   {
    "duration": 363,
    "start_time": "2025-06-12T11:31:13.388Z"
   },
   {
    "duration": 296,
    "start_time": "2025-06-12T11:31:21.612Z"
   },
   {
    "duration": 215,
    "start_time": "2025-06-12T11:31:29.136Z"
   },
   {
    "duration": 361,
    "start_time": "2025-06-12T11:31:36.263Z"
   },
   {
    "duration": 1648,
    "start_time": "2025-06-12T11:31:45.620Z"
   },
   {
    "duration": 14,
    "start_time": "2025-06-12T11:33:45.609Z"
   },
   {
    "duration": 1793,
    "start_time": "2025-06-12T11:34:00.586Z"
   },
   {
    "duration": 12,
    "start_time": "2025-06-12T11:34:20.374Z"
   },
   {
    "duration": 12,
    "start_time": "2025-06-12T11:34:36.171Z"
   },
   {
    "duration": 105,
    "start_time": "2025-06-12T11:35:07.537Z"
   },
   {
    "duration": 12,
    "start_time": "2025-06-12T11:35:25.244Z"
   },
   {
    "duration": 13,
    "start_time": "2025-06-12T11:35:36.131Z"
   },
   {
    "duration": 12,
    "start_time": "2025-06-12T11:35:45.457Z"
   },
   {
    "duration": 332,
    "start_time": "2025-06-12T11:36:11.910Z"
   },
   {
    "duration": 13,
    "start_time": "2025-06-12T11:36:54.186Z"
   },
   {
    "duration": 163,
    "start_time": "2025-06-12T11:37:26.018Z"
   },
   {
    "duration": 165,
    "start_time": "2025-06-12T11:38:07.836Z"
   },
   {
    "duration": 12,
    "start_time": "2025-06-12T11:42:09.765Z"
   },
   {
    "duration": 1091,
    "start_time": "2025-06-12T11:43:04.935Z"
   },
   {
    "duration": 950,
    "start_time": "2025-06-12T11:44:32.283Z"
   },
   {
    "duration": 1053,
    "start_time": "2025-06-12T11:45:59.661Z"
   },
   {
    "duration": 247,
    "start_time": "2025-06-12T11:50:09.292Z"
   },
   {
    "duration": 7,
    "start_time": "2025-06-12T12:00:44.687Z"
   },
   {
    "duration": 10,
    "start_time": "2025-06-12T12:02:02.515Z"
   },
   {
    "duration": 1413,
    "start_time": "2025-06-12T12:10:01.106Z"
   },
   {
    "duration": 1260,
    "start_time": "2025-06-12T12:13:11.238Z"
   },
   {
    "duration": 12,
    "start_time": "2025-06-12T12:14:29.341Z"
   },
   {
    "duration": 650,
    "start_time": "2025-06-12T12:14:43.680Z"
   },
   {
    "duration": 665,
    "start_time": "2025-06-12T12:18:31.458Z"
   },
   {
    "duration": 655,
    "start_time": "2025-06-12T12:22:23.532Z"
   },
   {
    "duration": 6,
    "start_time": "2025-06-12T12:26:59.369Z"
   },
   {
    "duration": 10,
    "start_time": "2025-06-12T12:27:59.076Z"
   },
   {
    "duration": 6,
    "start_time": "2025-06-12T12:28:09.904Z"
   },
   {
    "duration": 8,
    "start_time": "2025-06-12T12:29:05.258Z"
   },
   {
    "duration": 7,
    "start_time": "2025-06-12T12:30:50.978Z"
   },
   {
    "duration": 1342,
    "start_time": "2025-06-12T12:32:11.294Z"
   },
   {
    "duration": 8,
    "start_time": "2025-06-12T12:36:51.290Z"
   },
   {
    "duration": 6,
    "start_time": "2025-06-12T12:37:18.453Z"
   },
   {
    "duration": 73,
    "start_time": "2025-06-12T12:37:57.705Z"
   },
   {
    "duration": 9,
    "start_time": "2025-06-12T12:38:15.281Z"
   },
   {
    "duration": 270,
    "start_time": "2025-06-12T12:46:52.486Z"
   },
   {
    "duration": 203,
    "start_time": "2025-06-12T12:47:27.279Z"
   },
   {
    "duration": 600,
    "start_time": "2025-06-12T12:55:59.171Z"
   },
   {
    "duration": 734,
    "start_time": "2025-06-12T12:56:33.106Z"
   },
   {
    "duration": 1187,
    "start_time": "2025-06-12T12:59:38.157Z"
   },
   {
    "duration": 1287,
    "start_time": "2025-06-12T13:02:03.891Z"
   },
   {
    "duration": 17,
    "start_time": "2025-06-12T13:08:48.051Z"
   },
   {
    "duration": 16,
    "start_time": "2025-06-12T13:09:11.336Z"
   },
   {
    "duration": 479,
    "start_time": "2025-06-12T13:10:06.185Z"
   },
   {
    "duration": 7825,
    "start_time": "2025-06-12T13:12:53.714Z"
   },
   {
    "duration": 475,
    "start_time": "2025-06-12T13:22:32.408Z"
   },
   {
    "duration": 220,
    "start_time": "2025-06-12T13:22:56.446Z"
   },
   {
    "duration": 218,
    "start_time": "2025-06-12T13:24:09.073Z"
   },
   {
    "duration": 179,
    "start_time": "2025-06-12T13:28:33.088Z"
   },
   {
    "duration": 186,
    "start_time": "2025-06-12T13:29:25.922Z"
   },
   {
    "duration": 9,
    "start_time": "2025-06-12T13:34:36.136Z"
   },
   {
    "duration": 68,
    "start_time": "2025-06-13T07:45:17.521Z"
   },
   {
    "duration": 467,
    "start_time": "2025-06-13T07:45:31.044Z"
   },
   {
    "duration": 41,
    "start_time": "2025-06-13T07:45:37.289Z"
   },
   {
    "duration": 103,
    "start_time": "2025-06-13T07:45:43.790Z"
   },
   {
    "duration": 8,
    "start_time": "2025-06-13T07:45:50.144Z"
   },
   {
    "duration": 8,
    "start_time": "2025-06-13T07:45:57.786Z"
   },
   {
    "duration": 9,
    "start_time": "2025-06-13T07:46:04.412Z"
   },
   {
    "duration": 12,
    "start_time": "2025-06-13T07:46:11.329Z"
   },
   {
    "duration": 20,
    "start_time": "2025-06-13T07:46:18.633Z"
   },
   {
    "duration": 13,
    "start_time": "2025-06-13T07:46:22.412Z"
   },
   {
    "duration": 842,
    "start_time": "2025-06-13T07:46:30.863Z"
   },
   {
    "duration": 938,
    "start_time": "2025-06-13T07:46:37.904Z"
   },
   {
    "duration": 342,
    "start_time": "2025-06-13T07:46:45.228Z"
   },
   {
    "duration": 211,
    "start_time": "2025-06-13T07:46:51.621Z"
   },
   {
    "duration": 366,
    "start_time": "2025-06-13T07:46:57.749Z"
   },
   {
    "duration": 13,
    "start_time": "2025-06-13T07:47:04.933Z"
   },
   {
    "duration": 244,
    "start_time": "2025-06-13T07:47:10.642Z"
   },
   {
    "duration": 186,
    "start_time": "2025-06-13T07:47:17.435Z"
   },
   {
    "duration": 252,
    "start_time": "2025-06-13T07:47:23.997Z"
   },
   {
    "duration": 267,
    "start_time": "2025-06-13T07:47:29.714Z"
   },
   {
    "duration": 680,
    "start_time": "2025-06-13T07:47:35.968Z"
   },
   {
    "duration": 264,
    "start_time": "2025-06-13T07:48:20.466Z"
   },
   {
    "duration": 1296,
    "start_time": "2025-06-13T07:48:28.430Z"
   },
   {
    "duration": 71,
    "start_time": "2025-06-13T07:51:25.322Z"
   },
   {
    "duration": 23,
    "start_time": "2025-06-13T07:52:18.058Z"
   },
   {
    "duration": 25,
    "start_time": "2025-06-13T07:54:56.856Z"
   },
   {
    "duration": 25,
    "start_time": "2025-06-13T07:55:11.113Z"
   },
   {
    "duration": 17,
    "start_time": "2025-06-13T07:56:36.569Z"
   },
   {
    "duration": 23,
    "start_time": "2025-06-13T07:56:54.464Z"
   },
   {
    "duration": 440,
    "start_time": "2025-06-13T07:57:44.813Z"
   },
   {
    "duration": 78,
    "start_time": "2025-06-13T08:05:22.290Z"
   },
   {
    "duration": 4841,
    "start_time": "2025-06-13T08:08:33.697Z"
   },
   {
    "duration": 2507,
    "start_time": "2025-06-13T08:09:21.326Z"
   },
   {
    "duration": 1044,
    "start_time": "2025-06-13T08:09:41.390Z"
   },
   {
    "duration": 938,
    "start_time": "2025-06-13T08:12:13.812Z"
   },
   {
    "duration": 19,
    "start_time": "2025-06-13T08:36:11.421Z"
   },
   {
    "duration": 105,
    "start_time": "2025-06-13T08:37:23.473Z"
   },
   {
    "duration": 2817,
    "start_time": "2025-06-13T08:37:51.495Z"
   },
   {
    "duration": 86,
    "start_time": "2025-06-13T08:38:00.145Z"
   },
   {
    "duration": 81,
    "start_time": "2025-06-13T08:39:39.448Z"
   },
   {
    "duration": 72,
    "start_time": "2025-06-13T08:40:11.394Z"
   },
   {
    "duration": 104,
    "start_time": "2025-06-13T08:41:19.871Z"
   },
   {
    "duration": 54,
    "start_time": "2025-06-13T08:45:46.950Z"
   },
   {
    "duration": 123,
    "start_time": "2025-06-13T08:47:48.794Z"
   },
   {
    "duration": 45,
    "start_time": "2025-06-13T11:39:35.219Z"
   },
   {
    "duration": 480,
    "start_time": "2025-06-13T11:39:53.570Z"
   },
   {
    "duration": 46,
    "start_time": "2025-06-13T11:40:00.998Z"
   },
   {
    "duration": 101,
    "start_time": "2025-06-13T11:40:10.111Z"
   },
   {
    "duration": 7,
    "start_time": "2025-06-13T11:40:40.936Z"
   },
   {
    "duration": 9,
    "start_time": "2025-06-13T11:40:53.172Z"
   },
   {
    "duration": 16,
    "start_time": "2025-06-13T11:41:31.961Z"
   },
   {
    "duration": 27,
    "start_time": "2025-06-13T11:41:38.882Z"
   },
   {
    "duration": 16,
    "start_time": "2025-06-13T11:48:02.763Z"
   },
   {
    "duration": 27,
    "start_time": "2025-06-13T11:50:51.210Z"
   },
   {
    "duration": 16,
    "start_time": "2025-06-13T11:51:13.294Z"
   },
   {
    "duration": 16,
    "start_time": "2025-06-13T11:52:41.408Z"
   },
   {
    "duration": 30,
    "start_time": "2025-06-13T11:55:04.955Z"
   },
   {
    "duration": 27,
    "start_time": "2025-06-13T11:55:14.847Z"
   },
   {
    "duration": 13,
    "start_time": "2025-06-13T11:55:34.058Z"
   },
   {
    "duration": 16,
    "start_time": "2025-06-13T11:56:14.882Z"
   },
   {
    "duration": 13,
    "start_time": "2025-06-13T11:56:30.715Z"
   },
   {
    "duration": 36,
    "start_time": "2025-06-13T11:56:41.256Z"
   },
   {
    "duration": 14,
    "start_time": "2025-06-13T11:57:38.223Z"
   },
   {
    "duration": 12,
    "start_time": "2025-06-13T11:58:35.211Z"
   },
   {
    "duration": 25,
    "start_time": "2025-06-13T12:01:01.718Z"
   },
   {
    "duration": 16,
    "start_time": "2025-06-13T12:01:08.178Z"
   },
   {
    "duration": 751,
    "start_time": "2025-06-13T12:03:28.987Z"
   },
   {
    "duration": 866,
    "start_time": "2025-06-13T12:05:22.932Z"
   },
   {
    "duration": 305,
    "start_time": "2025-06-13T12:07:27.790Z"
   },
   {
    "duration": 141,
    "start_time": "2025-06-13T12:09:01.049Z"
   },
   {
    "duration": 322,
    "start_time": "2025-06-13T12:09:31.873Z"
   },
   {
    "duration": 10,
    "start_time": "2025-06-13T12:12:06.502Z"
   },
   {
    "duration": 205,
    "start_time": "2025-06-13T12:12:41.306Z"
   },
   {
    "duration": 5,
    "start_time": "2025-06-13T12:15:27.447Z"
   },
   {
    "duration": 214,
    "start_time": "2025-06-13T12:18:23.598Z"
   },
   {
    "duration": 234,
    "start_time": "2025-06-13T12:19:08.283Z"
   },
   {
    "duration": 160,
    "start_time": "2025-06-13T12:21:07.236Z"
   },
   {
    "duration": 157,
    "start_time": "2025-06-13T12:21:24.680Z"
   },
   {
    "duration": 234,
    "start_time": "2025-06-13T12:22:24.796Z"
   },
   {
    "duration": 44,
    "start_time": "2025-06-13T12:25:38.733Z"
   },
   {
    "duration": 11,
    "start_time": "2025-06-13T12:25:58.071Z"
   },
   {
    "duration": 3425,
    "start_time": "2025-06-13T12:26:07.870Z"
   },
   {
    "duration": 1017,
    "start_time": "2025-06-13T12:26:15.521Z"
   },
   {
    "duration": 250,
    "start_time": "2025-06-13T12:35:16.920Z"
   },
   {
    "duration": 851,
    "start_time": "2025-06-13T12:37:27.955Z"
   },
   {
    "duration": 1763,
    "start_time": "2025-06-13T12:41:10.679Z"
   },
   {
    "duration": 713,
    "start_time": "2025-06-13T12:47:03.197Z"
   },
   {
    "duration": 321,
    "start_time": "2025-06-13T12:48:03.025Z"
   },
   {
    "duration": 17,
    "start_time": "2025-06-13T12:48:57.276Z"
   },
   {
    "duration": 106,
    "start_time": "2025-06-13T12:59:53.606Z"
   },
   {
    "duration": 314,
    "start_time": "2025-06-13T13:10:55.674Z"
   },
   {
    "duration": 51,
    "start_time": "2025-06-14T11:37:59.530Z"
   },
   {
    "duration": 8,
    "start_time": "2025-06-14T11:38:25.690Z"
   },
   {
    "duration": 467,
    "start_time": "2025-06-14T11:38:41.301Z"
   },
   {
    "duration": 49,
    "start_time": "2025-06-14T11:38:48.364Z"
   },
   {
    "duration": 111,
    "start_time": "2025-06-14T11:38:59.701Z"
   },
   {
    "duration": 7,
    "start_time": "2025-06-14T11:39:12.161Z"
   },
   {
    "duration": 9,
    "start_time": "2025-06-14T11:39:18.453Z"
   },
   {
    "duration": 17,
    "start_time": "2025-06-14T11:39:30.302Z"
   },
   {
    "duration": 44,
    "start_time": "2025-06-14T11:39:34.409Z"
   },
   {
    "duration": 32,
    "start_time": "2025-06-14T11:39:42.643Z"
   },
   {
    "duration": 32,
    "start_time": "2025-06-14T11:39:51.372Z"
   },
   {
    "duration": 19,
    "start_time": "2025-06-14T11:39:58.162Z"
   },
   {
    "duration": 822,
    "start_time": "2025-06-14T11:40:19.134Z"
   },
   {
    "duration": 881,
    "start_time": "2025-06-14T11:40:29.376Z"
   },
   {
    "duration": 331,
    "start_time": "2025-06-14T11:40:37.765Z"
   },
   {
    "duration": 170,
    "start_time": "2025-06-14T11:40:44.871Z"
   },
   {
    "duration": 355,
    "start_time": "2025-06-14T11:40:53.342Z"
   },
   {
    "duration": 380,
    "start_time": "2025-06-14T11:41:17.445Z"
   },
   {
    "duration": 344,
    "start_time": "2025-06-14T11:43:25.803Z"
   },
   {
    "duration": 9,
    "start_time": "2025-06-14T11:44:42.658Z"
   },
   {
    "duration": 4,
    "start_time": "2025-06-14T11:44:53.441Z"
   },
   {
    "duration": 336,
    "start_time": "2025-06-14T11:53:49.475Z"
   }
  ],
  "colab": {
   "provenance": []
  },
  "kernelspec": {
   "display_name": "Python 3 (ipykernel)",
   "language": "python",
   "name": "python3"
  },
  "language_info": {
   "codemirror_mode": {
    "name": "ipython",
    "version": 3
   },
   "file_extension": ".py",
   "mimetype": "text/x-python",
   "name": "python",
   "nbconvert_exporter": "python",
   "pygments_lexer": "ipython3",
   "version": "3.9.5"
  },
  "toc": {
   "base_numbering": 1,
   "nav_menu": {},
   "number_sections": true,
   "sideBar": true,
   "skip_h1_title": true,
   "title_cell": "Table of Contents",
   "title_sidebar": "Contents",
   "toc_cell": false,
   "toc_position": {},
   "toc_section_display": true,
   "toc_window_display": false
  }
 },
 "nbformat": 4,
 "nbformat_minor": 5
}

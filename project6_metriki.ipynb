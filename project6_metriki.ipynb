{
 "cells": [
  {
   "cell_type": "markdown",
   "metadata": {
    "deletable": false,
    "editable": false,
    "id": "1xwNO7BJsK7k"
   },
   "source": [
    "# Проверка гипотез в бизнесе\n",
    "В этом проекте вы попробуете себя в роли аналитика крупного сервиса проката самокатов GoFast. Компания предоставила три датасета с данными о пользователях сервиса, их поездках за один год, а также стоимости услуг в подписках. Вас просят проанализировать демографию пользователей и особенности использования самокатов, а также определить возможную выгоду от распространения платной подписки на самокаты."
   ]
  },
  {
   "cell_type": "markdown",
   "metadata": {
    "deletable": false,
    "editable": false,
    "id": "gzyXNgprsK7m"
   },
   "source": [
    "# Описание данных\n",
    "\n",
    "Таблица с пользователями `users_go.csv`\n",
    "\n",
    "- `user_id` — уникальный идентификатор пользователя.\n",
    "\n",
    "- `name` — имя пользователя.\n",
    "\n",
    "- `age` — возраст.\n",
    "\n",
    "- `city` — город.\n",
    "\n",
    "- `subscription_type` — тип подписки: `free`, `ultra`.\n",
    "\n",
    "Таблица с поездками `rides_go.csv`\n",
    "\n",
    "- `user_id` — уникальный идентификатор пользователя.\n",
    "\n",
    "- `distance` — расстояние в метрах, которое пользователь проехал в текущей сессии.\n",
    "\n",
    "- `duration` — продолжительность сессии в минутах, то есть время с того момента, как пользователь нажал кнопку «Начать поездку», до того, как он нажал кнопку «Завершить поездку».\n",
    "\n",
    "- `date` — дата совершения поездки.\n",
    "\n",
    "Таблица с подписками `subscriptions_go.csv`\n",
    "\n",
    "- `subscription_type` — тип подписки.\n",
    "\n",
    "- `minute_price` — стоимость одной минуты поездки по этой подписке.\n",
    "\n",
    "- `start_ride_price` — стоимость начала поездки.\n",
    "\n",
    "- `subscription_fee` — стоимость ежемесячного платежа."
   ]
  },
  {
   "cell_type": "markdown",
   "metadata": {
    "deletable": false,
    "editable": false,
    "id": "Gpc3MBZRsK7m"
   },
   "source": [
    "---\n",
    "## Задание 1. Загрузка данных\n",
    "На первом этапе загрузите все необходимые данные и познакомьтесь с содержанием таблиц."
   ]
  },
  {
   "cell_type": "markdown",
   "metadata": {
    "deletable": false,
    "editable": false,
    "id": "vSu11HpOsK7m",
    "tags": [
     "start_task"
    ]
   },
   "source": [
    "### Задача 1.1 Импорт библиотеки pandas\n",
    "Импортируйте библиотеку pandas с сокращением `pd`."
   ]
  },
  {
   "cell_type": "code",
   "execution_count": 2,
   "metadata": {
    "deletable": false,
    "id": "n97uaKsR7LbX"
   },
   "outputs": [],
   "source": [
    "import pandas as pd"
   ]
  },
  {
   "cell_type": "markdown",
   "metadata": {
    "deletable": false,
    "editable": false,
    "id": "iiB5hMdMsK7n",
    "tags": [
     "start_task"
    ]
   },
   "source": [
    "### Задача 1.2 Чтение данных\n",
    "Cчитайте и сохраните в отдельные датафреймы три CSV-файла. Датафреймы назовите в соответствии с названиями файлов, добавив префикс `df_`, например `df_users_go`. Для доступа к файлам используйте следующие ссылки:\n",
    "\n",
    "- https://code.s3.yandex.net/datasets/users_go.csv\n",
    "- https://code.s3.yandex.net/datasets/rides_go.csv\n",
    "- https://code.s3.yandex.net/datasets/subscriptions_go.csv"
   ]
  },
  {
   "cell_type": "code",
   "execution_count": 3,
   "metadata": {
    "deletable": false,
    "id": "jvIwXMOz7HaE"
   },
   "outputs": [],
   "source": [
    "df_users_go = pd.read_csv('https://code.s3.yandex.net/datasets/users_go.csv')\n",
    "df_rides_go = pd.read_csv('https://code.s3.yandex.net/datasets/rides_go.csv')\n",
    "df_subscriptions_go = pd.read_csv('https://code.s3.yandex.net/datasets/subscriptions_go.csv')"
   ]
  },
  {
   "cell_type": "markdown",
   "metadata": {
    "deletable": false,
    "editable": false,
    "id": "zw-1DjajsK7o",
    "tags": [
     "start_task"
    ]
   },
   "source": [
    "### Задача 1.3 Печать первых строк\n",
    "Выведите первые пять строк каждого датафрейма. Познакомьтесь с содержанием таблиц."
   ]
  },
  {
   "cell_type": "markdown",
   "metadata": {
    "deletable": false,
    "editable": false,
    "id": "sO6J_nPe7aUd"
   },
   "source": [
    "<details>\n",
    "<summary>Открыть подсказку</summary>\n",
    "Чтобы распечатать несколько датафреймов в одной ячейке, можно воспользоваться функцией <code>display()</code>.\n",
    "</details>"
   ]
  },
  {
   "cell_type": "code",
   "execution_count": 4,
   "metadata": {
    "deletable": false,
    "id": "7aqE6vqSHZE-"
   },
   "outputs": [
    {
     "name": "stdout",
     "output_type": "stream",
     "text": [
      "   user_id        name  age            city subscription_type\n",
      "0        1        Кира   22          Тюмень             ultra\n",
      "1        2   Станислав   31            Омск             ultra\n",
      "2        3     Алексей   20          Москва             ultra\n",
      "3        4  Константин   26  Ростов-на-Дону             ultra\n",
      "4        5       Адель   28            Омск             ultra\n",
      "   user_id     distance   duration        date\n",
      "0        1  4409.919140  25.599769  2021-01-01\n",
      "1        1  2617.592153  15.816871  2021-01-18\n",
      "2        1   754.159807   6.232113  2021-04-20\n",
      "3        1  2694.783254  18.511000  2021-08-11\n",
      "4        1  4028.687306  26.265803  2021-08-28\n",
      "  subscription_type  minute_price  start_ride_price  subscription_fee\n",
      "0              free             8                50                 0\n",
      "1             ultra             6                 0               199\n"
     ]
    }
   ],
   "source": [
    "print(df_users_go.head())\n",
    "print(df_rides_go.head())\n",
    "print(df_subscriptions_go.head())"
   ]
  },
  {
   "cell_type": "markdown",
   "metadata": {
    "deletable": false,
    "editable": false,
    "id": "zjZVYVQ3sK7p",
    "tags": [
     "start_task"
    ]
   },
   "source": [
    "### Задача 1.4 Подсчёт строк\n",
    "Определите количество строк в каждом из трёх датафреймов. Это поможет оценить объём данных и выявить аномалии, например слишком малое количество записей. В качестве ответа запишите три целых числа в одну строку через пробел."
   ]
  },
  {
   "cell_type": "code",
   "execution_count": 5,
   "metadata": {
    "deletable": false,
    "id": "I-mEFxuHHavX"
   },
   "outputs": [
    {
     "name": "stdout",
     "output_type": "stream",
     "text": [
      "1565 18068 2\n"
     ]
    }
   ],
   "source": [
    "print(len(df_users_go), len(df_rides_go), len(df_subscriptions_go))"
   ]
  },
  {
   "cell_type": "markdown",
   "metadata": {
    "deletable": false,
    "editable": false,
    "id": "xXmiI6QYsK7q"
   },
   "source": [
    "---\n",
    "## Задание 2. Знакомство с данными и их предварительная подготовка\n",
    "\n",
    "Прежде чем начать анализ, важно убедиться в качестве предоставленных данных. Выполните несколько шагов, чтобы лучше понять структуру и устранить потенциальные проблемы в таблицах."
   ]
  },
  {
   "cell_type": "markdown",
   "metadata": {
    "deletable": false,
    "editable": false,
    "id": "2D6UywOBsK7q",
    "tags": [
     "start_task"
    ]
   },
   "source": [
    "### Задача 2.1 Определение типов данных\n",
    "В датафрейме `df_rides_go` выведите типы данных каждой колонки стандартным атрибутом `dtypes`. Так вы проверите корректность типов и подготовите данные для дальнейшей обработки."
   ]
  },
  {
   "cell_type": "code",
   "execution_count": 6,
   "metadata": {
    "deletable": false,
    "id": "B40wZ2cnHfAM"
   },
   "outputs": [
    {
     "name": "stdout",
     "output_type": "stream",
     "text": [
      "user_id       int64\n",
      "distance    float64\n",
      "duration    float64\n",
      "date         object\n",
      "dtype: object\n"
     ]
    }
   ],
   "source": [
    "print(df_rides_go.dtypes)"
   ]
  },
  {
   "cell_type": "markdown",
   "metadata": {
    "deletable": false,
    "editable": false,
    "id": "R0EN6gRJsK7r",
    "tags": [
     "start_task"
    ]
   },
   "source": [
    "### Задача 2.2 Преобразование формата даты\n",
    "Приведите столбец `date` в датафрейме `df_rides_go` к типу даты pandas, используя метод `pd.to_datetime()`, изученный вами в одном из прошлых спринтов. Этот шаг упростит работу с временными данными."
   ]
  },
  {
   "cell_type": "code",
   "execution_count": 8,
   "metadata": {
    "deletable": false,
    "id": "flLYZquqHggn"
   },
   "outputs": [],
   "source": [
    "df_rides_go['date'] = pd.to_datetime(df_rides_go['date'])"
   ]
  },
  {
   "cell_type": "markdown",
   "metadata": {
    "deletable": false,
    "editable": false,
    "id": "RVxOqAqtsK7r",
    "tags": [
     "start_task"
    ]
   },
   "source": [
    "### Задача 2.3 Создание столбца с месяцем\n",
    "На основе столбца `date` создайте новый столбец `month`, содержащий номер месяца. Это нужно для последующей группировки данных и анализа сезонных трендов."
   ]
  },
  {
   "cell_type": "code",
   "execution_count": 9,
   "metadata": {
    "deletable": false,
    "id": "LYkUO3EnHhu5"
   },
   "outputs": [
    {
     "name": "stdout",
     "output_type": "stream",
     "text": [
      "   user_id     distance   duration       date  month\n",
      "0        1  4409.919140  25.599769 2021-01-01      1\n",
      "1        1  2617.592153  15.816871 2021-01-18      1\n",
      "2        1   754.159807   6.232113 2021-04-20      4\n",
      "3        1  2694.783254  18.511000 2021-08-11      8\n",
      "4        1  4028.687306  26.265803 2021-08-28      8\n"
     ]
    }
   ],
   "source": [
    "df_rides_go['month'] = df_rides_go['date'].dt.month\n",
    "\n",
    "print(df_rides_go.head())"
   ]
  },
  {
   "cell_type": "markdown",
   "metadata": {
    "deletable": false,
    "editable": false,
    "id": "u69-EsMDsK7w",
    "tags": [
     "start_task"
    ]
   },
   "source": [
    "### Задача 2.4 Поиск дублей и пропусков\n",
    "В датафрейме пользователей `df_users_go` определите количество пропусков и дубликатов. Это необходимо для понимания полноты и уникальности данных пользователей. Ответ выведите в виде двух целых чисел, разделённых пробелом. Например: `10 20`."
   ]
  },
  {
   "cell_type": "code",
   "execution_count": 10,
   "metadata": {
    "deletable": false,
    "id": "Bsfa7IX3Hi7w"
   },
   "outputs": [
    {
     "name": "stdout",
     "output_type": "stream",
     "text": [
      "0 31\n"
     ]
    }
   ],
   "source": [
    "missing = df_users_go.isna().sum().sum()\n",
    "\n",
    "duplicates = df_users_go.duplicated().sum()\n",
    "\n",
    "print(missing, duplicates)"
   ]
  },
  {
   "cell_type": "markdown",
   "metadata": {
    "deletable": false,
    "editable": false,
    "id": "0n5_KBqtsK7y",
    "tags": [
     "start_task"
    ]
   },
   "source": [
    "### Задача 2.5 Заполнение пропусков и удаление дублей\n",
    "При наличии пропущенных значений заполните их нулями, а все дубликаты удалите. Это шаг необходим для улучшения качества данных, что является ключевым для точного анализа. Все операции проводите с созданными в рамках задачи 1 датафреймами."
   ]
  },
  {
   "cell_type": "markdown",
   "metadata": {
    "deletable": false,
    "editable": false,
    "id": "0pfQQZP7-n_F"
   },
   "source": [
    "<details>\n",
    "<summary>Открыть подсказку</summary>\n",
    "Внимательно изучите результаты предыдущих шагов и определите, какие датасеты вам понадобятся.\n",
    "</details>"
   ]
  },
  {
   "cell_type": "code",
   "execution_count": 11,
   "metadata": {
    "deletable": false,
    "id": "X75yCyl_HkUS"
   },
   "outputs": [],
   "source": [
    "df_users_go = df_users_go.drop_duplicates()"
   ]
  },
  {
   "cell_type": "markdown",
   "metadata": {
    "deletable": false,
    "editable": false,
    "id": "kAGj3NxDsK7z",
    "tags": [
     "start_task"
    ]
   },
   "source": [
    "### Задача 2.6 Округление длительности поездки\n",
    "В датафрейме поездок `df_rides_go` округлите время поездки `duration` до целого числа стандартным методом `round()`. Затем приведите эту колонку к целочисленному типу `int`. Этот шаг затем поможет вам правильно рассчитать прибыль, так как плата взимается только за целое число минут."
   ]
  },
  {
   "cell_type": "code",
   "execution_count": 12,
   "metadata": {
    "deletable": false,
    "id": "pm5FYnl_HlSd"
   },
   "outputs": [],
   "source": [
    "df_rides_go['duration'] = df_rides_go['duration'].round().astype(int)"
   ]
  },
  {
   "cell_type": "markdown",
   "metadata": {
    "deletable": false,
    "editable": false,
    "id": "r5kzIOGGsK7z"
   },
   "source": [
    "---\n",
    "## Задание 3. Исследовательский анализ данных (EDA)\n",
    "Исследовательский анализ данных — неотъемлемая часть работы аналитика. В этом задании вы внимательнее изучите и визуализируете информацию о географии и демографии сервиса, а также лучше поймёте закономерности в дистанциях и длительности поездок.\n"
   ]
  },
  {
   "cell_type": "markdown",
   "metadata": {
    "deletable": false,
    "editable": false,
    "id": "mnLLcghssK70",
    "tags": [
     "start_task"
    ]
   },
   "source": [
    "### Задача 3.1 Импорт библиотеки matplotlib\n",
    "Импортируйте библиотеку matplotlib.pyplot с сокращением `plt`."
   ]
  },
  {
   "cell_type": "code",
   "execution_count": 13,
   "metadata": {
    "deletable": false,
    "id": "gtf8ylhTHnBO"
   },
   "outputs": [],
   "source": [
    "import matplotlib.pyplot as plt"
   ]
  },
  {
   "cell_type": "markdown",
   "metadata": {
    "deletable": false,
    "editable": false,
    "id": "v4xEIrk1sK70",
    "tags": [
     "start_task"
    ]
   },
   "source": [
    "### Задача 3.2 Количество пользователей по городам.\n",
    "Пользуясь данными из датафрейма `df_users_go`, изучите количество пользователей в каждом из городов. Создайте и выведите на экран объект `pd.Series`, названный `users_by_city_count`, с одной колонкой `count` — суммарным количеством пользователей в каждом городе `city`, отсортированным по убыванию."
   ]
  },
  {
   "cell_type": "markdown",
   "metadata": {
    "deletable": false,
    "editable": false,
    "id": "UuAD6cGfE1Lp"
   },
   "source": [
    "<details>\n",
    "<summary>Открыть подсказку</summary>\n",
    "В этом задании можно воспользоваться методом <code>value_counts()</code>.\n",
    "</details>"
   ]
  },
  {
   "cell_type": "code",
   "execution_count": 20,
   "metadata": {
    "deletable": false,
    "id": "rkqVGZ9HHoXm"
   },
   "outputs": [
    {
     "name": "stdout",
     "output_type": "stream",
     "text": [
      "Пятигорск         219\n",
      "Екатеринбург      204\n",
      "Ростов-на-Дону    198\n",
      "Краснодар         193\n",
      "Сочи              189\n",
      "Омск              183\n",
      "Тюмень            180\n",
      "Москва            168\n",
      "Name: city, dtype: int64\n"
     ]
    }
   ],
   "source": [
    "users_by_city_count = df_users_go['city'].value_counts()\n",
    "users_by_city_count.name = 'city'  # задаём имя Series как 'city'\n",
    "print(users_by_city_count)\n"
   ]
  },
  {
   "cell_type": "markdown",
   "metadata": {
    "deletable": false,
    "editable": false,
    "id": "T4MURCh8sK76",
    "tags": [
     "start_task"
    ]
   },
   "source": [
    "### Задача 3.3 Количество пользователей подписки\n",
    "Создайте и выведите на экран серию `subscription_type_count` с количеством пользователей для каждого типа подписки `subscription_type`."
   ]
  },
  {
   "cell_type": "markdown",
   "metadata": {
    "deletable": false,
    "editable": false,
    "id": "M_6HyiPdFeNH"
   },
   "source": [
    "<details>\n",
    "<summary>Открыть подсказку</summary>\n",
    "В этом задании можно воспользоваться методом <code>value_counts()</code>.\n",
    "</details>"
   ]
  },
  {
   "cell_type": "code",
   "execution_count": 24,
   "metadata": {
    "deletable": false,
    "id": "Fc_B3eFvHpum"
   },
   "outputs": [
    {
     "name": "stdout",
     "output_type": "stream",
     "text": [
      "free     835\n",
      "ultra    699\n",
      "Name: subscription_type, dtype: int64\n"
     ]
    }
   ],
   "source": [
    "subscription_type_count = df_users_go['subscription_type'].value_counts()\n",
    "print(subscription_type_count)\n"
   ]
  },
  {
   "cell_type": "markdown",
   "metadata": {
    "deletable": false,
    "editable": false,
    "id": "O3lz5rR4sK77",
    "tags": [
     "start_task"
    ]
   },
   "source": [
    "### Задача 3.4 Круговая диаграмма\n",
    "Постройте круговую диаграмму, указав процент пользователей с `free` и `ultra` подпиской. Вызовите метод `plot()` для серии `subscription_type_count` с указанием нужного аргумента для построения круговой диаграммы.\n",
    "\n",
    "Затем добавьте следующее:\n",
    "- **Заголовок.** Установите заголовок с помощью параметра `title`, задав его как `'Соотношение пользователей с подпиской и без подписки'`.\n",
    "- **Процентные метки.** Используйте параметр `autopct='%.0f%%'` для отображения процентных значений на диаграмме. Достаточно передать аргумент в указанном виде методу `plot()`. Процентные метки часто хорошо дополняют круговые диаграммы.\n",
    "- **Подпись оси Y.** Установите пустую строку для подписи оси Y `(ylabel='')`, чтобы она не отображалась.\n",
    "- **Цвета секторов.** Используйте параметр `colors`, задав красный цвет `red` для пользователей без подписки и зелёный `green` для подписчиков.\n",
    "\n",
    "Затем вызовите `plt.show()` для отображения диаграммы."
   ]
  },
  {
   "cell_type": "code",
   "execution_count": 25,
   "metadata": {
    "deletable": false,
    "id": "xdIJI_KoHr7b"
   },
   "outputs": [
    {
     "data": {
      "image/png": "[encoded data removed]",
      "text/plain": [
       "<Figure size 432x288 with 1 Axes>"
      ]
     },
     "metadata": {},
     "output_type": "display_data"
    }
   ],
   "source": [
    "subscription_type_count.plot(\n",
    "    kind='pie',\n",
    "    title='Соотношение пользователей с подпиской и без подписки',\n",
    "    autopct='%.0f%%',\n",
    "    ylabel='',\n",
    "    colors=['red', 'green']  # 'free' — красный, 'ultra' — зелёный\n",
    ")\n",
    "\n",
    "plt.show()"
   ]
  },
  {
   "cell_type": "markdown",
   "metadata": {
    "deletable": false,
    "editable": false,
    "id": "AghuPrntsK78",
    "tags": [
     "start_task"
    ]
   },
   "source": [
    "### Задача 3.5 Гистограмма возрастов\n",
    "Постройте гистограмму возрастов `age` пользователей самокатов. Используйте количество бинов, равное разности максимального и минимального значений возраста.\n",
    "\n",
    "Что нужно сделать:\n",
    "\n",
    "1. Определить количество бинов `n_bins` как разницу между максимальным и минимальным значениями в столбце `age`.\n",
    "2. Использовать метод `hist()` для столбца `df_users_go['age']`.\n",
    "3. Установить количество бинов через параметр `bins=n_bins`.\n",
    "4. Назначить заголовок графика как `'Возраст пользователей'` с помощью `plt.title()`.\n",
    "5. Установить подпись оси X как `'Возраст'` с помощью `plt.xlabel()`.\n",
    "6. Вызвать `plt.show()` для визуального отображения гистограммы."
   ]
  },
  {
   "cell_type": "code",
   "execution_count": 26,
   "metadata": {
    "deletable": false,
    "id": "E-0ubIOKmbCR"
   },
   "outputs": [
    {
     "data": {
      "image/png": "[encoded data removed]",
      "text/plain": [
       "<Figure size 432x288 with 1 Axes>"
      ]
     },
     "metadata": {
      "needs_background": "light"
     },
     "output_type": "display_data"
    }
   ],
   "source": [
    "# Определим количество бинов как разницу между max и min возрастом\n",
    "n_bins = df_users_go['age'].max() - df_users_go['age'].min()\n",
    "\n",
    "# Построим гистограмму\n",
    "df_users_go['age'].hist(bins=n_bins)\n",
    "\n",
    "# Добавим заголовок и подпись оси X\n",
    "plt.title('Возраст пользователей')\n",
    "plt.xlabel('Возраст')\n",
    "\n",
    "# Отобразим график\n",
    "plt.show()"
   ]
  },
  {
   "cell_type": "markdown",
   "metadata": {
    "deletable": false,
    "editable": false,
    "id": "s0gjcXIasK7-",
    "tags": [
     "start_task"
    ]
   },
   "source": [
    "### Задача 3.6 Несовершеннолетние пользователи\n",
    "Рассчитайте долю несовершеннолетних (возрастом менее 18 лет) пользователей самокатов."
   ]
  },
  {
   "cell_type": "markdown",
   "metadata": {
    "deletable": false,
    "editable": false,
    "id": "7VY_FIj0Ifet"
   },
   "source": [
    "<details>\n",
    "<summary>Открыть подсказку</summary>\n",
    "Для начала необходимо рассчитать количество пользователей младше 18 лет — для этого вспомните принцип использования логических масок в pandas. Затем полученное значение следует разделить на количество строк в таблице. Получить его можно, например, из кортежа, который выдаёт атрибут <code>shape</code>.\n",
    "</details>"
   ]
  },
  {
   "cell_type": "code",
   "execution_count": 28,
   "metadata": {
    "deletable": false,
    "id": "OR-1q5LJI9UK"
   },
   "outputs": [
    {
     "name": "stdout",
     "output_type": "stream",
     "text": [
      "Доля несовершеннолетних пользователей самокатов составляет 5%.\n"
     ]
    }
   ],
   "source": [
    "# Рассчитываем долю несовершеннолетних пользователей\n",
    "users_under_18_ratio = (df_users_go[df_users_go['age'] < 18].shape[0] / df_users_go.shape[0]) * 100\n",
    "users_under_18_ratio = int(users_under_18_ratio)\n",
    "\n",
    "# Выводим результат\n",
    "print(f'Доля несовершеннолетних пользователей самокатов составляет {users_under_18_ratio}%.')\n"
   ]
  },
  {
   "cell_type": "markdown",
   "metadata": {
    "deletable": false,
    "editable": false,
    "id": "FK3h1H-nP5NW",
    "tags": [
     "start_task"
    ]
   },
   "source": [
    "### Задача 3.7 Характеристики длительности поездки\n",
    "Длительность поездки является важной метрикой в работе сервиса проката самокатов. Если средняя длительность поездок будет слишком высокой, самокаты будут быстрее выходить из строя. Если слишком низкой, значит, клиентам что-то не нравится в сервисе.\n",
    "\n",
    "В этом задании с помощью описательной статистики вы изучите длительность поездок:\n",
    "\n",
    "1. Используйте колонку `duration` из датафрейма `df_rides_go`.\n",
    "2. Расчитайте среднее значение и стандартное отклонение длительности поездки. Для расчёта стандартного отклонения можно воспользоваться методом `std()`.\n",
    "3. Рассчитайте 25-й и 75-й процентили длительности поездки.\n",
    "4. Выведите на экран ответ по предложенному шаблону.\n",
    "\n",
    "Используя шаблон, сформулируйте и выведите текстовый вывод о средней длительности поездки, а также о 25-м и 75-м процентилях длительности.\n"
   ]
  },
  {
   "cell_type": "code",
   "execution_count": 34,
   "metadata": {
    "deletable": false,
    "id": "Gnhi9BqZKr3-"
   },
   "outputs": [
    {
     "name": "stdout",
     "output_type": "stream",
     "text": [
      "Средняя длительность поездки 18 минут со стандартным отклонением 6. Основная часть поездок занимает от 14 до 22 минут.\n"
     ]
    }
   ],
   "source": [
    "duration_mean = round(df_rides_go['duration'].mean())\n",
    "duration_std = int(df_rides_go['duration'].std())\n",
    "\n",
    "duration_pct25 = int(df_rides_go['duration'].quantile(0.25))\n",
    "duration_pct75 = int(df_rides_go['duration'].quantile(0.75))\n",
    "\n",
    "print(f'Средняя длительность поездки {duration_mean} минут со стандартным отклонением {duration_std}. Основная часть поездок занимает от {duration_pct25} до {duration_pct75} минут.') "
   ]
  },
  {
   "cell_type": "markdown",
   "metadata": {
    "deletable": false,
    "editable": false,
    "id": "tyrEdxs0sK8C"
   },
   "source": [
    "---\n",
    "## Задание 4. Объединение данных\n",
    "\n",
    "В самом начале урока вы загрузили три таблицы, настало время объединить все эти данные в один датафрейм."
   ]
  },
  {
   "cell_type": "markdown",
   "metadata": {
    "deletable": false,
    "editable": false,
    "id": "diTj4AtBsK8C",
    "tags": [
     "start_task"
    ]
   },
   "source": [
    "### Задача 4.1 Объединение таблицы пользователей и поездок\n",
    "Объедините датафреймы с информацией о пользователях `df_users_go` и поездках `df_rides_go`. Полученный датафрейм назовите просто `df`. При объединении используйте метод `merge()` по общей для двух таблиц колонке и тип объединения `left`."
   ]
  },
  {
   "cell_type": "code",
   "execution_count": 35,
   "metadata": {
    "deletable": false,
    "id": "WwPCouN0nhPk"
   },
   "outputs": [],
   "source": [
    "df = df_users_go.merge(df_rides_go, on='user_id', how='left')"
   ]
  },
  {
   "cell_type": "markdown",
   "metadata": {
    "deletable": false,
    "editable": false,
    "id": "-RP6pSRQsK8D",
    "tags": [
     "start_task"
    ]
   },
   "source": [
    "### Задача 4.2 Присоединение информации о подписках\n",
    "Присоедините к полученному датафрейму `df` информацию о подписках из `df_subscriptions_go`, используя метод `merge()` по общей колонке и тип объединения `left`.\n"
   ]
  },
  {
   "cell_type": "code",
   "execution_count": 36,
   "metadata": {
    "deletable": false,
    "id": "G2coeCg2n6oe"
   },
   "outputs": [],
   "source": [
    "df = df.merge(df_subscriptions_go, on='subscription_type', how='left')\n"
   ]
  },
  {
   "cell_type": "markdown",
   "metadata": {
    "deletable": false,
    "editable": false,
    "id": "RGrvW_QIsK8D",
    "tags": [
     "start_task"
    ]
   },
   "source": [
    "### Задача 4.3. Размеры объединённого датафрейма\n",
    "Для финальной проверки выведите на экран первые пять строк датафрейма, а также количество строк и столбцов полученного датафрейма `df`. Этот этап позволит убедиться, что никакие записи не потерялись при объединении."
   ]
  },
  {
   "cell_type": "code",
   "execution_count": 37,
   "metadata": {
    "deletable": false,
    "id": "9isF62fNLWAD"
   },
   "outputs": [
    {
     "data": {
      "text/html": [
       "<div>\n",
       "<style scoped>\n",
       "    .dataframe tbody tr th:only-of-type {\n",
       "        vertical-align: middle;\n",
       "    }\n",
       "\n",
       "    .dataframe tbody tr th {\n",
       "        vertical-align: top;\n",
       "    }\n",
       "\n",
       "    .dataframe thead th {\n",
       "        text-align: right;\n",
       "    }\n",
       "</style>\n",
       "<table border=\"1\" class=\"dataframe\">\n",
       "  <thead>\n",
       "    <tr style=\"text-align: right;\">\n",
       "      <th></th>\n",
       "      <th>user_id</th>\n",
       "      <th>name</th>\n",
       "      <th>age</th>\n",
       "      <th>city</th>\n",
       "      <th>subscription_type</th>\n",
       "      <th>distance</th>\n",
       "      <th>duration</th>\n",
       "      <th>date</th>\n",
       "      <th>month</th>\n",
       "      <th>minute_price</th>\n",
       "      <th>start_ride_price</th>\n",
       "      <th>subscription_fee</th>\n",
       "    </tr>\n",
       "  </thead>\n",
       "  <tbody>\n",
       "    <tr>\n",
       "      <th>0</th>\n",
       "      <td>1</td>\n",
       "      <td>Кира</td>\n",
       "      <td>22</td>\n",
       "      <td>Тюмень</td>\n",
       "      <td>ultra</td>\n",
       "      <td>4409.919140</td>\n",
       "      <td>26</td>\n",
       "      <td>2021-01-01</td>\n",
       "      <td>1</td>\n",
       "      <td>6</td>\n",
       "      <td>0</td>\n",
       "      <td>199</td>\n",
       "    </tr>\n",
       "    <tr>\n",
       "      <th>1</th>\n",
       "      <td>1</td>\n",
       "      <td>Кира</td>\n",
       "      <td>22</td>\n",
       "      <td>Тюмень</td>\n",
       "      <td>ultra</td>\n",
       "      <td>2617.592153</td>\n",
       "      <td>16</td>\n",
       "      <td>2021-01-18</td>\n",
       "      <td>1</td>\n",
       "      <td>6</td>\n",
       "      <td>0</td>\n",
       "      <td>199</td>\n",
       "    </tr>\n",
       "    <tr>\n",
       "      <th>2</th>\n",
       "      <td>1</td>\n",
       "      <td>Кира</td>\n",
       "      <td>22</td>\n",
       "      <td>Тюмень</td>\n",
       "      <td>ultra</td>\n",
       "      <td>754.159807</td>\n",
       "      <td>6</td>\n",
       "      <td>2021-04-20</td>\n",
       "      <td>4</td>\n",
       "      <td>6</td>\n",
       "      <td>0</td>\n",
       "      <td>199</td>\n",
       "    </tr>\n",
       "    <tr>\n",
       "      <th>3</th>\n",
       "      <td>1</td>\n",
       "      <td>Кира</td>\n",
       "      <td>22</td>\n",
       "      <td>Тюмень</td>\n",
       "      <td>ultra</td>\n",
       "      <td>2694.783254</td>\n",
       "      <td>19</td>\n",
       "      <td>2021-08-11</td>\n",
       "      <td>8</td>\n",
       "      <td>6</td>\n",
       "      <td>0</td>\n",
       "      <td>199</td>\n",
       "    </tr>\n",
       "    <tr>\n",
       "      <th>4</th>\n",
       "      <td>1</td>\n",
       "      <td>Кира</td>\n",
       "      <td>22</td>\n",
       "      <td>Тюмень</td>\n",
       "      <td>ultra</td>\n",
       "      <td>4028.687306</td>\n",
       "      <td>26</td>\n",
       "      <td>2021-08-28</td>\n",
       "      <td>8</td>\n",
       "      <td>6</td>\n",
       "      <td>0</td>\n",
       "      <td>199</td>\n",
       "    </tr>\n",
       "  </tbody>\n",
       "</table>\n",
       "</div>"
      ],
      "text/plain": [
       "   user_id  name  age    city subscription_type     distance  duration  \\\n",
       "0        1  Кира   22  Тюмень             ultra  4409.919140        26   \n",
       "1        1  Кира   22  Тюмень             ultra  2617.592153        16   \n",
       "2        1  Кира   22  Тюмень             ultra   754.159807         6   \n",
       "3        1  Кира   22  Тюмень             ultra  2694.783254        19   \n",
       "4        1  Кира   22  Тюмень             ultra  4028.687306        26   \n",
       "\n",
       "        date  month  minute_price  start_ride_price  subscription_fee  \n",
       "0 2021-01-01      1             6                 0               199  \n",
       "1 2021-01-18      1             6                 0               199  \n",
       "2 2021-04-20      4             6                 0               199  \n",
       "3 2021-08-11      8             6                 0               199  \n",
       "4 2021-08-28      8             6                 0               199  "
      ]
     },
     "metadata": {},
     "output_type": "display_data"
    },
    {
     "name": "stdout",
     "output_type": "stream",
     "text": [
      "В полученном датафрейме 18068 строк и 12 столбцов.\n"
     ]
    }
   ],
   "source": [
    "# Выводим первые строки датафрейма\n",
    "display(df.head())\n",
    "\n",
    "# Выводим количество строк и столбцов в объединённом датафрейме\n",
    "n_rows, n_cols = df.shape\n",
    "print(f'В полученном датафрейме {n_rows} строк и {n_cols} столбцов.')\n"
   ]
  },
  {
   "cell_type": "markdown",
   "metadata": {
    "deletable": false,
    "editable": false,
    "id": "j4fAbR0dsK8E",
    "tags": [
     "start_task"
    ]
   },
   "source": [
    "### Задача 4.4 Отдельные датафреймы для пользователей с подпиской и без\n",
    "Создайте два вспомогательных датафрейма на основе `df`: первый только для пользователей с подпиской `df_ultra` и второй только для пользователей без подписки `df_free`. В следующих заданиях два этих датафрейма пригодятся при изучении поведения пользователей с подпиской и без, а также при проверке продуктовых гипотез."
   ]
  },
  {
   "cell_type": "code",
   "execution_count": 38,
   "metadata": {
    "deletable": false,
    "id": "sKY6MwNNosYg"
   },
   "outputs": [],
   "source": [
    "# Датафрейм для пользователей с подпиской ultra\n",
    "df_ultra = df[df['subscription_type'] == 'ultra']\n",
    "\n",
    "# Датафрейм для пользователей без подписки free\n",
    "df_free = df[df['subscription_type'] == 'free']\n"
   ]
  },
  {
   "cell_type": "markdown",
   "metadata": {
    "deletable": false,
    "editable": false,
    "id": "EsOUpiJ1sK8F",
    "tags": [
     "start_task"
    ]
   },
   "source": [
    "### Задача 4.5 Гистограмма длительности поездок для обоих групп\n",
    "На одном графике постройте гистограмму распределения длительности поездок `duration` для пользователей с подпиской и без.\n",
    "\n",
    "Что нужно сделать:\n",
    "\n",
    "1. Установить размер графика: 15 по горизонтали и 5 по вертикали. Использовать `plt.figure(figsize=(15, 5))`.\n",
    "2. Отобразить данные из столбца `duration` датафрейма `df_free` с помощью метода `hist()`, задав количество бинов `bins=30` и метку `label='free'`.\n",
    "3. Отобразить данные из столбца `duration` датафрейма `df_ultra` с помощью метода `hist()`, также задав количество бинов `bins=30` и метку `label='ultra'`.\n",
    "4. Установить подпись оси X как `'Длительность поездки, мин.'`, используя `plt.xlabel()`.\n",
    "5. Задать заголовок графика как `'Гистограмма распределения длительности поездок'` методом `plt.title()`.\n",
    "6. Добавить легенду для различения категорий на графике с использованием `plt.legend()`.\n",
    "7. Вызвать `plt.show()` для показа графика пользователю.\n",
    "\n",
    "Для удобства воспользуйтесь датафреймами, созданными на прошлом шаге, — `df_ultra` и `df_free`.\n",
    "\n",
    "Дополнительно рассчитайте среднюю длительность поездки для пользователей с подпиской и без, округлив ее до целых стандартной функцией `round` и распечатайте на экран при помощи шаблона."
   ]
  },
  {
   "cell_type": "code",
   "execution_count": 39,
   "metadata": {
    "deletable": false,
    "id": "qw6ZmTHspFbc"
   },
   "outputs": [
    {
     "data": {
      "image/png": "[encoded data removed]",
      "text/plain": [
       "<Figure size 1080x360 with 1 Axes>"
      ]
     },
     "metadata": {
      "needs_background": "light"
     },
     "output_type": "display_data"
    },
    {
     "name": "stdout",
     "output_type": "stream",
     "text": [
      "Средняя длительность поездки для пользователей без подписки 17 мин, а для пользователей с подпиской 19 мин\n"
     ]
    }
   ],
   "source": [
    "import matplotlib.pyplot as plt\n",
    "\n",
    "# Гистограмма длительности поездки для пользователей с подпиской и без\n",
    "plt.figure(figsize=(15, 5))\n",
    "\n",
    "# Гистограмма для пользователей без подписки\n",
    "df_free['duration'].hist(bins=30, label='free', alpha=0.7)\n",
    "\n",
    "# Гистограмма для пользователей с подпиской\n",
    "df_ultra['duration'].hist(bins=30, label='ultra', alpha=0.7)\n",
    "\n",
    "# Подписи и легенда\n",
    "plt.xlabel('Длительность поездки, мин.')\n",
    "plt.title('Гистограмма распределения длительности поездок')\n",
    "plt.legend()\n",
    "plt.show()\n",
    "\n",
    "# Расчёт средней длительности поездки\n",
    "mean_duration_free = round(df_free['duration'].mean())\n",
    "mean_duration_ultra = round(df_ultra['duration'].mean())\n",
    "\n",
    "# Вывод\n",
    "print(f'Средняя длительность поездки для пользователей без подписки {mean_duration_free} мин, а для пользователей с подпиской {mean_duration_ultra} мин')\n"
   ]
  },
  {
   "cell_type": "markdown",
   "metadata": {
    "deletable": false,
    "editable": false,
    "id": "oasgRJ_osK8G"
   },
   "source": [
    "---\n",
    "## Задание 5. Подсчёт выручки\n",
    "Данные о количестве и длительности поездок объединены с ценами и тарифами, а значит, теперь есть всё необходимое, чтобы рассчитать важный для бизнеса показатель — выручку."
   ]
  },
  {
   "cell_type": "markdown",
   "metadata": {
    "deletable": false,
    "editable": false,
    "id": "LVBMnLV0sK8G",
    "tags": [
     "start_task"
    ]
   },
   "source": [
    "### Задача 5.1 Данные сгруппированные по нужным колонкам\n",
    "Сгруппируйте данные по следующим столбцам: `user_id`, `name`, `subscription_type`, `month`. Группировку призводите в датафрейме `df_gp`. В итоговом датафрейме `df_gp` должен сохраниться порядок агрегации изначальных столбцов и не должны использоваться групповые индексы (опция `as_index=False`).\n"
   ]
  },
  {
   "cell_type": "code",
   "execution_count": 41,
   "metadata": {
    "deletable": false,
    "id": "Ij2VX1plpVQI"
   },
   "outputs": [],
   "source": [
    "df_gp = df.groupby(['user_id', 'name', 'subscription_type', 'month'], as_index=False)\n",
    "\n"
   ]
  },
  {
   "cell_type": "markdown",
   "metadata": {
    "deletable": false,
    "editable": false,
    "id": "UVBq7IWjsK8H",
    "tags": [
     "start_task"
    ]
   },
   "source": [
    "### Задача 5.2 Подсчёт агрегированных метрик\n",
    "Создайте новый датафрейм `df_agg`. В нём для каждой группы рассчитайте и добавьте в датафрейм следующие агрегированные значения, используя метод `agg()`:\n",
    "- `total_distance` — сумма значений в столбце `distance`.\n",
    "- `total_duration` — сумма значений в столбце `duration`.\n",
    "- `rides_count` — количество элементов в столбце `duration`.\n",
    "- `subscription_type` — первое значение в группе для столбца `subscription_type`.\n",
    "- `minute_price` — первое значение в группе для столбца `minute_price`.\n",
    "- `start_ride_price` — первое значение в группе для столбца `start_ride_price`.\n",
    "- `subscription_fee` — первое значение в группе для столбца `subscription_fee`."
   ]
  },
  {
   "cell_type": "markdown",
   "metadata": {
    "deletable": false,
    "editable": false,
    "id": "p5MR_VMxNHKs"
   },
   "source": [
    "<details>\n",
    "<summary>Открыть подсказку</summary>\n",
    "В этом задании удобнее всего сделать агрегацию с использованием кортежей.\n",
    "</details>"
   ]
  },
  {
   "cell_type": "code",
   "execution_count": 42,
   "metadata": {
    "deletable": false,
    "id": "8NEOkiIONXHF"
   },
   "outputs": [],
   "source": [
    "df_agg = df_gp.agg(\n",
    "    total_distance=('distance', 'sum'),\n",
    "    total_duration=('duration', 'sum'),\n",
    "    rides_count=('duration', 'count'),\n",
    "    subscription_type=('subscription_type', 'first'),\n",
    "    minute_price=('minute_price', 'first'),\n",
    "    start_ride_price=('start_ride_price', 'first'),\n",
    "    subscription_fee=('subscription_fee', 'first')\n",
    ")\n"
   ]
  },
  {
   "cell_type": "markdown",
   "metadata": {
    "deletable": false,
    "editable": false,
    "id": "l6uH5vWSsK8H",
    "tags": [
     "start_task"
    ]
   },
   "source": [
    "### Задача 5.3 Функция для подсчёта выручки\n",
    "Создайте функцию `calculate_monthly_revenue(row)` для расчёта месячной выручки по формуле:\n",
    "\n",
    "`monthly_revenue` = `start_ride_price` * `rides_count` + `minute_price` * `total_duration` + `subscription_fee`\n",
    "\n",
    "В качестве входных данных функция будет принимать одну строку `row` датафрейма. Вспомните, как в таком случае обращаться к каждой колонке.\n",
    "\n",
    "Здесь:\n",
    "- `start_ride_price * rides_count` — выручка от начала каждой поездки.\n",
    "- `minute_price * total_duration` — выручка за время использования.\n",
    "- `subscription_fee` — фиксированная выручка от подписок."
   ]
  },
  {
   "cell_type": "code",
   "execution_count": 43,
   "metadata": {
    "deletable": false,
    "id": "4nzdjVb8qDds"
   },
   "outputs": [],
   "source": [
    "def calculate_monthly_revenue(row):\n",
    "    monthly_revenue = (\n",
    "        row['start_ride_price'] * row['rides_count'] +\n",
    "        row['minute_price'] * row['total_duration'] +\n",
    "        row['subscription_fee']\n",
    "    )\n",
    "    return monthly_revenue\n"
   ]
  },
  {
   "cell_type": "markdown",
   "metadata": {
    "deletable": false,
    "editable": false,
    "id": "bH0zftBAsK8I",
    "tags": [
     "start_task"
    ]
   },
   "source": [
    "### Задача 5.4 Создание столбца с месячной выручкой на пользователя\n",
    "Создайте новый столбец с месячной выручкой на пользователя `monthly_revenue`. Для этого примените функцию `calculate_monthly_revenue(row)` к каждой строке агрегированного датафрейма `df_agg`."
   ]
  },
  {
   "cell_type": "code",
   "execution_count": 44,
   "metadata": {
    "deletable": false,
    "id": "iUo_b7nmqVL3"
   },
   "outputs": [],
   "source": [
    "df_agg['monthly_revenue'] = df_agg.apply(calculate_monthly_revenue, axis=1)\n"
   ]
  },
  {
   "cell_type": "markdown",
   "metadata": {
    "deletable": false,
    "editable": false,
    "id": "HTbnNX3msK8I",
    "tags": [
     "start_task"
    ]
   },
   "source": [
    "### Задача 5.5 Поиск пользователя с максимальной выручкой\n",
    "Исследуйте полученные значения выручки. Найдите пользователя с максимальной суммарной выручкой за весь период наблюдения и для него выведите на экран `user_id`, имя, месяц, количество поездок и выручку за каждый из месяцев."
   ]
  },
  {
   "cell_type": "markdown",
   "metadata": {
    "deletable": false,
    "editable": false,
    "id": "ORj5Kf9EPYno"
   },
   "source": [
    "<details>\n",
    "<summary>Открыть подсказку</summary>\n",
    "Для найденного пользователя выведите колонки <code>user_id</code>, <code>name</code>, <code>month</code>, <code>rides_count</code>, <code>monthly_revenue</code>.\n",
    "</details>"
   ]
  },
  {
   "cell_type": "code",
   "execution_count": 45,
   "metadata": {
    "deletable": false,
    "id": "G93dZkJgqozi"
   },
   "outputs": [
    {
     "name": "stdout",
     "output_type": "stream",
     "text": [
      "      user_id       name  month  rides_count  monthly_revenue\n",
      "8877     1236  Александр      1            2              228\n",
      "8878     1236  Александр      2            3              614\n",
      "8879     1236  Александр      3            5              762\n",
      "8880     1236  Александр      4            1              202\n",
      "8881     1236  Александр      5            3              574\n",
      "8882     1236  Александр      6            1              282\n",
      "8883     1236  Александр      7            1              290\n",
      "8884     1236  Александр      8            2              452\n",
      "8885     1236  Александр      9            1              122\n",
      "8886     1236  Александр     10            3              430\n",
      "8887     1236  Александр     11            3              494\n",
      "8888     1236  Александр     12            2              476\n"
     ]
    }
   ],
   "source": [
    "# 1. Суммарная выручка по пользователям\n",
    "total_revenue_per_user = df_agg.groupby('user_id')['monthly_revenue'].sum()\n",
    "\n",
    "# 2. Пользователь с максимальной выручкой\n",
    "max_user_id = total_revenue_per_user.idxmax()\n",
    "\n",
    "# 3. Отфильтровать данные по этому пользователю\n",
    "max_user_data = df_agg[df_agg['user_id'] == max_user_id]\n",
    "\n",
    "# 4. Вывести user_id, имя, месяц, количество поездок и выручку за каждый месяц\n",
    "print(max_user_data[['user_id', 'name', 'month', 'rides_count', 'monthly_revenue']])\n"
   ]
  },
  {
   "cell_type": "markdown",
   "metadata": {
    "deletable": false,
    "editable": false,
    "id": "pTYLbBZEsK8J"
   },
   "source": [
    "---\n",
    "## Задание 6. Проверка гипотез"
   ]
  },
  {
   "cell_type": "markdown",
   "metadata": {
    "deletable": false,
    "editable": false,
    "id": "W4q8-WRDsK8J",
    "tags": [
     "start_task"
    ]
   },
   "source": [
    "### Задача 6.1 Импорт библиотеки SciPy\n",
    "Импортируйте библиотеку `scipy.stats` с сокращением `st`."
   ]
  },
  {
   "cell_type": "code",
   "execution_count": 46,
   "metadata": {
    "deletable": false,
    "id": "zyNhaTb8q5JY"
   },
   "outputs": [],
   "source": [
    "import scipy.stats as st\n"
   ]
  },
  {
   "cell_type": "markdown",
   "metadata": {
    "deletable": false,
    "editable": false,
    "id": "kiNRoB5zsK8K",
    "tags": [
     "start_task"
    ]
   },
   "source": [
    "### Задача 6.2 Вспомогательная функция для интерпретации результатов\n",
    "Напишите вспомогательную функцию `print_stattest_results(p_value, alpha)`, которая будет интерпретировать результаты статистического теста на основе p-value и заданного уровня значимости (α-уровня). Функция должна решать, следует ли принять альтернативную гипотезу или сохранить нулевую гипотезу.\n",
    "\n",
    "У функции два параметра:\n",
    "- `p_value` (тип `float`) — значение p-value, полученное в результате выполнения статистического теста.\n",
    "- `alpha` (тип `float`, необязательный, по умолчанию `alpha = 0.05`) — уровень значимости статистического теста, который используется как порог для принятия решения об отклонении нулевой гипотезы.\n",
    "\n",
    "Если вы принимаете альтернативную гипотезу, нужно вывести сообщение:\n",
    "`'Полученное значение p_value=<Введённое значение p_value> меньше критического уровня alpha=0.05. Принимаем альтернативную гипотезу.'`\n",
    "\n",
    "Если вы не можете опровергнуть нулевую гипотезу, нужно вывести сообщение: `'Полученное значение p_value=<Введённое значение p_value> больше критического уровня alpha=0.05. Опровергнуть нулевую гипотезу нельзя.'`\n",
    "\n",
    "Вызовите функцию для `p_value = 0.0001` и `p_value = 0.1`."
   ]
  },
  {
   "cell_type": "markdown",
   "metadata": {
    "deletable": false,
    "editable": false,
    "id": "DuKe7ipRQQoN"
   },
   "source": [
    "<details>\n",
    "<summary>Открыть подсказку</summary>\n",
    "В этом задании вам пригодятся знания f-строк из прошлых спринтов. Например, такой код позволит вам легко и красиво отформатировать и вывести переменную <code>x</code> — <code>print(f'Значение {x=}.')</code>.\n",
    "</details>"
   ]
  },
  {
   "cell_type": "code",
   "execution_count": 47,
   "metadata": {
    "deletable": false,
    "id": "xRuwp-yeQwTD"
   },
   "outputs": [
    {
     "name": "stdout",
     "output_type": "stream",
     "text": [
      "Полученное значение p_value=0.0001 меньше критического уровня alpha=0.05. Принимаем альтернативную гипотезу.\n",
      "Полученное значение p_value=0.1 больше критического уровня alpha=0.05. Опровергнуть нулевую гипотезу нельзя.\n"
     ]
    }
   ],
   "source": [
    "def print_stattest_results(p_value: float, alpha: float = 0.05):\n",
    "    if p_value < alpha:\n",
    "        print(f'Полученное значение p_value={p_value} меньше критического уровня alpha={alpha}. Принимаем альтернативную гипотезу.')\n",
    "    else:\n",
    "        print(f'Полученное значение p_value={p_value} больше критического уровня alpha={alpha}. Опровергнуть нулевую гипотезу нельзя.')\n",
    "\n",
    "print_stattest_results(p_value=0.0001)\n",
    "print_stattest_results(p_value=0.1)\n"
   ]
  },
  {
   "cell_type": "markdown",
   "metadata": {
    "deletable": false,
    "editable": false,
    "id": "6sLXAPjjsK8K",
    "tags": [
     "start_task"
    ]
   },
   "source": [
    "### Задача 6.3 Длительность для пользователей с подпиской и без\n",
    "\n",
    "Важно понять, тратят ли пользователи с подпиской больше времени на поездки? Сформулируем нулевую и альтернативную гипотезы:\n",
    "- Нулевая гипотеза (Н0): Среднее время поездки у пользователей с подпиской и без подписки одинаковое.\n",
    "- Альтернативная гипотеза (Н1): Среднее время поездки у пользователей с подпиской больше, чем у пользователей без подписки.\n",
    "\n",
    "Чтобы проверить эту гипотезу:\n",
    "1. Используйте неагрегированные данные из датафреймов `df_ultra` и `df_free`, созданные на одном из прошлых шагов.\n",
    "2. Используйте данные о продолжительности каждой поездки `duration` — отдельно для подписчиков и тех, у кого нет подписки.\n",
    "3. Рассчитайте значение `p_value` для выбранной гипотезы, используя функции модуля `scipy.stats` и односторонний t-тест.\n",
    "4. В качестве результата вызовите написанную функцию `print_stattest_results(p_value, alpha)`, передав ей рассчитанное значение `p_value`.\n",
    "5. В конце дополнительно рассчитайте среднюю длительность поездки для тарифов `ultra` и `free`, округлив её до двух знаков после точки стандартной функцией `round()`."
   ]
  },
  {
   "cell_type": "code",
   "execution_count": 48,
   "metadata": {
    "deletable": false,
    "id": "DJ1nCMZQRfFX"
   },
   "outputs": [
    {
     "name": "stdout",
     "output_type": "stream",
     "text": [
      "Полученное значение p_value=3.1600689435611813e-35 меньше критического уровня alpha=0.05. Принимаем альтернативную гипотезу.\n",
      "Средняя длительность поездки тарифа Ultra 18.55\n",
      "Средняя длительность поездки тарифа Free 17.39\n"
     ]
    }
   ],
   "source": [
    "import scipy.stats as st\n",
    "\n",
    "# Средние длительности поездок (данные)\n",
    "ultra_duration = df_ultra['duration']\n",
    "free_duration = df_free['duration']\n",
    "\n",
    "# Односторонний t-тест (альтернатива: среднее у ultra больше, чем у free)\n",
    "results = st.ttest_ind(ultra_duration, free_duration, alternative='greater')\n",
    "\n",
    "p_value = results.pvalue\n",
    "print_stattest_results(p_value)\n",
    "\n",
    "ultra_mean_duration = round(ultra_duration.mean(), 2)\n",
    "free_mean_duration = round(free_duration.mean(), 2)\n",
    "\n",
    "print(f'Средняя длительность поездки тарифа Ultra {ultra_mean_duration}')\n",
    "print(f'Средняя длительность поездки тарифа Free {free_mean_duration}')\n"
   ]
  },
  {
   "cell_type": "markdown",
   "metadata": {
    "deletable": false,
    "editable": false,
    "id": "HLlf6BYfsK8L",
    "tags": [
     "start_task"
    ]
   },
   "source": [
    "### Задача 6.4 Длительность поездки: больше или меньше критического значения\n",
    "\n",
    "Проанализируйте ещё одну важную продуктовую гипотезу. Расстояние одной поездки в 3130 метров — оптимальное с точки зрения износа самоката. Можно ли сказать, что расстояние, которое проезжают пользователи с подпиской за одну поездку, меньше 3130 метров?\n",
    "\n",
    "Сформулируем нулевую и альтернативную гипотезы:\n",
    "\n",
    "- Нулевая гипотеза (Н0): Средняя дистанция поездки у пользователей с подпиской равна 3130 м.\n",
    "\n",
    "- Альтернативная гипотеза (Н1): Средняя дистанция поездки у пользователей с подпиской больше 3130 м.\n",
    "\n",
    "Чтобы проверить эту гипотезу:\n",
    "\n",
    "1. Используйте неагрегированные данные о каждой поездке пользователей с подпиской из датафрейма `df_ultra`.\n",
    "\n",
    "2. Используйте данные о дистанции каждой поездки `distance`.\n",
    "\n",
    "3. Рассчитайте значение `p_value` для выбранной гипотезы, используя функции модуля `scipy.stats` и односторонний t-тест. Подумайте, как применить эту функцию, если необходимо проверить равенство с одним значением.\n",
    "\n",
    "4. В качестве результата вызовите написанную функцию `print_stattest_results(p_value, alpha)`, передав ей рассчитанное значение `p_value`."
   ]
  },
  {
   "cell_type": "code",
   "execution_count": 49,
   "metadata": {
    "deletable": false,
    "id": "sXgKlO-bSJI-"
   },
   "outputs": [
    {
     "name": "stdout",
     "output_type": "stream",
     "text": [
      "Полученное значение p_value=0.9195368847849785 больше критического уровня alpha=0.05. Опровергнуть нулевую гипотезу нельзя.\n"
     ]
    }
   ],
   "source": [
    "null_hypothesis = 3130\n",
    "ultra_distance = df_ultra['distance']\n",
    "\n",
    "# Одновыборочный односторонний t-тест: проверяем, что среднее ultra_distance > 3130\n",
    "results = st.ttest_1samp(ultra_distance, null_hypothesis, alternative='greater')\n",
    "\n",
    "p_value = results.pvalue\n",
    "print_stattest_results(p_value)\n"
   ]
  },
  {
   "cell_type": "markdown",
   "metadata": {
    "deletable": false,
    "editable": false,
    "id": "5TmnT74FsK8L",
    "tags": [
     "start_task"
    ]
   },
   "source": [
    "### Задача 6.5 Прибыль от пользователей с подпиской и без\n",
    "Проверьте гипотезу о том, что выручка от пользователей с подпиской выше, чем выручка от пользователей без подписки.\n",
    "\n",
    "Сформулируем нулевую и альтернативную гипотезы:\n",
    "\n",
    "- Нулевая гипотеза (Н0): Средняя месячная выручка у пользователей с подпиской и без подписки одинаковая.\n",
    "- Альтернативная гипотеза (Н1): Средняя месячная выручка у пользователей с подпиской выше, чем у пользователей без подписки.\n",
    "\n",
    "Чтобы проверить эту гипотезу:\n",
    "1. Используйте агрегированные данные из датафрейма `df_agg`, подготовленного на шаге 5.\n",
    "2. Используйте исходные данные о месячной выручке от каждого пользователя — `monthly_revenue`.\n",
    "3. Рассчитайте значение `p_value` для выбранной гипотезы, используя функции модуля `scipy.stats` и односторонний t-тест.\n",
    "4. В качестве результата вызовите написанную функцию `print_stattest_results(p_value, alpha)`, передав ей рассчитанное значение `p_value`.\n",
    "5. Дополнительно рассчитайте среднюю выручку для тарифов `ultra` и `free`, округлив её до целого стандартной функцией `round()`."
   ]
  },
  {
   "cell_type": "code",
   "execution_count": 50,
   "metadata": {
    "deletable": false,
    "id": "Gvfo6GlvSrHl"
   },
   "outputs": [
    {
     "name": "stdout",
     "output_type": "stream",
     "text": [
      "Полученное значение p_value=1.7274069878387966e-37 меньше критического уровня alpha=0.05. Принимаем альтернативную гипотезу.\n",
      "Средняя выручка подписчиков Ultra 359 руб\n",
      "Средняя выручка подписчиков Free 322 руб\n"
     ]
    }
   ],
   "source": [
    "# Выделяем выручку для пользователей с подпиской ultra и без подписки free\n",
    "revenue_ultra = df_agg[df_agg['subscription_type'] == 'ultra']['monthly_revenue']\n",
    "revenue_free = df_agg[df_agg['subscription_type'] == 'free']['monthly_revenue']\n",
    "\n",
    "# Односторонний t-тест: проверяем, что средняя выручка у подписчиков выше, чем у пользователей без подписки\n",
    "results = st.ttest_ind(revenue_ultra, revenue_free, alternative='greater')\n",
    "p_value = results.pvalue\n",
    "\n",
    "print_stattest_results(p_value)\n",
    "\n",
    "mean_revenue_ultra = round(revenue_ultra.mean())\n",
    "mean_revenue_free = round(revenue_free.mean())\n",
    "\n",
    "print(f'Средняя выручка подписчиков Ultra {mean_revenue_ultra} руб')\n",
    "print(f'Средняя выручка подписчиков Free {mean_revenue_free} руб')\n"
   ]
  },
  {
   "cell_type": "markdown",
   "metadata": {
    "deletable": false,
    "editable": false,
    "id": "C3EoEcibyzeu"
   },
   "source": [
    "---\n",
    "## Задание 7. Распределения"
   ]
  },
  {
   "cell_type": "markdown",
   "metadata": {
    "deletable": false,
    "editable": false,
    "id": "ibnzyqiCz0i2"
   },
   "source": [
    "В компании возникла идея предлагать дополнительную скидку подписчикам, совершающим длительные поездки продолжительностью более 30 минут. Вас просят оценить долю таких поездок.\n",
    "\n",
    "В одном из предыдущих заданий вы уже построили гистограмму распределения длительности поездок для выборки. Однако эти данные охватывают лишь часть пользователей всех самокатов, а вас интересуют возможные значения для всей генеральной совокупности. Учитывая, что у вас нет доступа ко всем данным о поездках, было решено смоделировать длительность поездки с помощью нормального распределения, используя в качестве параметров выборочное среднее и стандартное отклонение из доступных данных о поездках."
   ]
  },
  {
   "cell_type": "markdown",
   "metadata": {
    "deletable": false,
    "editable": false,
    "id": "C2C1nTJx5Hf_",
    "tags": [
     "start_task"
    ]
   },
   "source": [
    "### Задача 7.1 Расчёт выборочного среднего и стандартного отклонения\n",
    "\n",
    "1. Расчитайте среднюю длительность поездки и сохраните в переменную `mu`.\n",
    "2. Вычислите стандартное отклонение длительности `duration` и сохраните в переменную `sigma`. Для вычисления стандартного отклонения можно применить метод `std()` к столбцу датасета.\n",
    "3. Задайте значение переменной `target_time`, равное `30`. Эта переменная будет использоваться для последующего вычисления вероятности.\n",
    "4. Выведите текстовый вывод по шаблону. При этом округлите оба значения до одного знака после точки стандартной функцией `round()`. Сами значения переменных должны остаться неимзменными для последующих задач."
   ]
  },
  {
   "cell_type": "code",
   "execution_count": 59,
   "metadata": {
    "deletable": false,
    "id": "LNVfLHzUTkAJ"
   },
   "outputs": [
    {
     "name": "stdout",
     "output_type": "stream",
     "text": [
      "Средняя длительность поездки 18.5, стандартное отклонение 6.\n"
     ]
    }
   ],
   "source": [
    "# Вычисляем среднее значение длительности поездки для пользователей с подпиской ultra\n",
    "mu = df_ultra['duration'].mean()\n",
    "\n",
    "# Вычисляем стандартное отклонение длительности поездки для пользователей с подпиской ultra\n",
    "sigma = df_ultra['duration'].std()\n",
    "\n",
    "# Задаём целевое время\n",
    "target_time = 30\n",
    "\n",
    "# Округляем до целого для вывода\n",
    "mu_rounded = round(mu, 1)\n",
    "sigma_rounded = round(sigma)\n",
    "\n",
    "# Делаем вывод\n",
    "print(f'Средняя длительность поездки {mu_rounded}, стандартное отклонение {sigma_rounded}.')\n",
    "\n"
   ]
  },
  {
   "cell_type": "markdown",
   "metadata": {
    "deletable": false,
    "editable": false,
    "id": "M65RN8Ic6ozL",
    "tags": [
     "start_task"
    ]
   },
   "source": [
    "### Задача 7.2 Вычисление значения функции распределения в точке (CDF)\n",
    "Если вычислить значение функции распределения в точке, это позволит узнать вероятность того, что случайная величина примет значение меньше заданного либо равное ему. Соответственно, если вы хотите ответить на вопрос о вероятности поездки более 30 минут, потребуется использовать CDF.\n",
    "\n",
    "1. Используйте функцию `norm()` из библиотеки SciPy для создания нормального распределения с параметрами `mu` и `sigma`.\n",
    "\n",
    "2. Примените метод `cdf()` к целевому времени `target_time` для получения вероятности того, что случайная величина будет меньше этого значения или равна ему. Полученное значение сохраните в переменную `prob`, округлив до трёх знаков после точки стандартной функцией `round()`.\n",
    "3. Выведите на экран текстовый ответ по шаблону."
   ]
  },
  {
   "cell_type": "code",
   "execution_count": 60,
   "metadata": {
    "deletable": false,
    "id": "l3kJCKfvUQMP"
   },
   "outputs": [
    {
     "name": "stdout",
     "output_type": "stream",
     "text": [
      "Вероятность поездки более 30 минут 0.02\n"
     ]
    }
   ],
   "source": [
    "from scipy.stats import norm\n",
    "\n",
    "# Создаём нормальное распределение с параметрами mu и sigma\n",
    "duration_norm_dist = norm(loc=mu, scale=sigma)\n",
    "\n",
    "# Вычисляем вероятность поездки более 30 минут\n",
    "# Используем 1 - CDF, так как хотим P(X > target_time)\n",
    "prob = round(1 - duration_norm_dist.cdf(target_time), 3)\n",
    "\n",
    "# Выводим результат\n",
    "print(f'Вероятность поездки более 30 минут {prob}')\n"
   ]
  },
  {
   "cell_type": "markdown",
   "metadata": {
    "deletable": false,
    "editable": false,
    "id": "G6r8KA03IrNe",
    "tags": [
     "start_task"
    ]
   },
   "source": [
    "### Задача 7.3 Вероятность для интервала (CDF)\n",
    "Коллеги посчитали, что процент пользователей, для которых будет показана скидка, недостаточно большой и вряд ли поможет в увеличении лояльности клиентов. Дополнительно вас просят проверить, какой процент пользователей совершает поездки в интервале от 20 до 30 минут. Возможно, именно для них стоит провести промоакцию?\n",
    "\n",
    "Для этого:\n",
    "\n",
    "1. Создайте переменные `low` и `high`, указывающие на начало и конец интересующего временного интервала. В этом случае они равны 20 и 30 минут.\n",
    "2. Используйте кумулятивную функцию распределения (CDF) для объекта `duration_norm_dist`, чтобы вычислить вероятность достижения верхней границы (`high`) и нижней границы (`low`).\n",
    "3. Вычислите вероятность попадания в интервал, округлите до трёх знаков после точки стандартной функцией `round()` и сохраните в переменную `prob_interval`.\n",
    "4. Выведите ответ, используя шаблон."
   ]
  },
  {
   "cell_type": "code",
   "execution_count": 61,
   "metadata": {
    "deletable": false,
    "id": "aujB5fDhU15e"
   },
   "outputs": [
    {
     "name": "stdout",
     "output_type": "stream",
     "text": [
      "Вероятность того, что пользователь совершит поездку длительностью от 20 до 30 минут: 0.377\n"
     ]
    }
   ],
   "source": [
    "# Определяем границы интервала\n",
    "low = 20\n",
    "high = 30\n",
    "\n",
    "# Вычисляем вероятность попадания в интервал\n",
    "prob_interval = round(duration_norm_dist.cdf(high) - duration_norm_dist.cdf(low), 3)\n",
    "\n",
    "# Выводим результат\n",
    "print(f'Вероятность того, что пользователь совершит поездку длительностью от {low} до {high} минут: {prob_interval}')\n"
   ]
  },
  {
   "cell_type": "markdown",
   "metadata": {
    "deletable": false,
    "editable": false,
    "id": "HDjUsAV8VB_t",
    "tags": [
     "start_task"
    ]
   },
   "source": [
    "### Задача 7.4 Определение критической дистанции поездок (PPF)\n",
    "Длительные поездки могут негативно сказываться на сроке службы самоката. В связи с этим принято решение установить критическую дистанцию, превышение которой будет сопровождаться дополнительной платой. Для этого необходимо определить расстояние, которое превышается только в 10% поездок (90-й процентиль).\n",
    "\n",
    "Ваша задача — смоделировать распределение длительности поездок, предполагая, что оно подчиняется нормальному закону, и рассчитать критическую дистанцию, ниже которой находится 90% всех поездок.\n",
    "\n",
    "Для этого:\n",
    "1. Рассчитайте среднюю дистанцию поездки для всех пользователей из датафрейма `df` (с подпиской и без) и сохраните в переменную `mu`.\n",
    "2. Вычислите стандартное отклонение дистанции поездки `distance` и сохраните в переменную `sigma`. Для вычисления стандартного отклонения можно применить метод `std()` к столбцу датасета.\n",
    "3. Задайте значение переменной `target_prob`, равное `0.90`. Эта переменная будет использоваться для последующего вычисления критической дистанции.\n",
    "4. Создайте объект нормального распределения `distance_norm` с заданными значениями `mu` и `sigma`.\n",
    "5. Примените к созданному нормальному распределению `distance_norm` метод `ppf()` и в качестве аргумента передайте целевую вероятность `target_prob`. Полученное значение сохраните в переменную `critical_distance`.\n",
    "6. Выведите ответ, используя шаблон.\n",
    "\n"
   ]
  },
  {
   "cell_type": "code",
   "execution_count": 62,
   "metadata": {
    "deletable": false,
    "id": "uviLDRSKVkho"
   },
   "outputs": [
    {
     "name": "stdout",
     "output_type": "stream",
     "text": [
      "90.0 % поездок имеют дистанцию ниже критического значения 4501.94 М.\n"
     ]
    }
   ],
   "source": [
    "import scipy.stats as st\n",
    "\n",
    "# Вычисляем среднее значение дистанции\n",
    "mu = df['distance'].mean()\n",
    "\n",
    "# Вычисляем стандартное отклонение дистанции\n",
    "sigma = df['distance'].std()\n",
    "\n",
    "# Вероятность, для которой хотим найти значение (90% случаев)\n",
    "target_prob = 0.90\n",
    "\n",
    "# Создаём объект нормального распределения\n",
    "distance_norm = st.norm(loc=mu, scale=sigma)\n",
    "\n",
    "# Рассчитываем критическую дистанцию для заданного процентиля поездок\n",
    "critical_distance = distance_norm.ppf(target_prob)\n",
    "\n",
    "print(f'{100 * target_prob} % поездок имеют дистанцию ниже критического значения {critical_distance:.2f} М.')\n"
   ]
  },
  {
   "cell_type": "markdown",
   "metadata": {
    "deletable": false,
    "editable": false,
    "id": "17NpJxLAau6M"
   },
   "source": [
    "Поздравляем! Вы продемонстрировали глубокое понимание статистических методов и мастерски справились с задачами, используя CDF и PPF. Ваш анализ помог выявить ключевые характеристики распределения данных и определить критические значения, что очень ценно для принятия эффективных бизнес-решений."
   ]
  }
 ],
 "metadata": {
  "ExecuteTimeLog": [
   {
    "duration": 367,
    "start_time": "2025-07-28T04:53:08.032Z"
   },
   {
    "duration": 3,
    "start_time": "2025-07-28T04:53:16.184Z"
   },
   {
    "duration": 422,
    "start_time": "2025-07-28T04:54:59.632Z"
   },
   {
    "duration": 10,
    "start_time": "2025-07-28T04:55:29.108Z"
   },
   {
    "duration": 4,
    "start_time": "2025-07-28T04:56:37.291Z"
   },
   {
    "duration": 4,
    "start_time": "2025-07-28T04:57:47.022Z"
   },
   {
    "duration": 8,
    "start_time": "2025-07-28T04:58:42.245Z"
   },
   {
    "duration": 13,
    "start_time": "2025-07-28T04:58:48.426Z"
   },
   {
    "duration": 8,
    "start_time": "2025-07-28T05:00:14.288Z"
   },
   {
    "duration": 7,
    "start_time": "2025-07-28T05:01:20.637Z"
   },
   {
    "duration": 5,
    "start_time": "2025-07-28T05:10:36.663Z"
   },
   {
    "duration": 4,
    "start_time": "2025-07-28T05:11:42.894Z"
   },
   {
    "duration": 416,
    "start_time": "2025-07-28T05:12:29.015Z"
   },
   {
    "duration": 7,
    "start_time": "2025-07-28T05:13:16.592Z"
   },
   {
    "duration": 6,
    "start_time": "2025-07-28T05:13:53.883Z"
   },
   {
    "duration": 4,
    "start_time": "2025-07-28T05:16:25.214Z"
   },
   {
    "duration": 4,
    "start_time": "2025-07-28T05:16:34.669Z"
   },
   {
    "duration": 6,
    "start_time": "2025-07-28T05:17:56.180Z"
   },
   {
    "duration": 5,
    "start_time": "2025-07-28T05:18:20.874Z"
   },
   {
    "duration": 5,
    "start_time": "2025-07-28T05:20:47.509Z"
   },
   {
    "duration": 4,
    "start_time": "2025-07-28T05:47:23.385Z"
   },
   {
    "duration": 4,
    "start_time": "2025-07-28T05:49:01.398Z"
   },
   {
    "duration": 4,
    "start_time": "2025-07-28T05:50:07.875Z"
   },
   {
    "duration": 5,
    "start_time": "2025-07-28T05:51:38.126Z"
   },
   {
    "duration": 94,
    "start_time": "2025-07-28T05:53:09.011Z"
   },
   {
    "duration": 153,
    "start_time": "2025-07-28T05:54:46.039Z"
   },
   {
    "duration": 6,
    "start_time": "2025-07-28T05:56:02.275Z"
   },
   {
    "duration": 4,
    "start_time": "2025-07-28T05:57:27.708Z"
   },
   {
    "duration": 7,
    "start_time": "2025-07-28T05:59:49.320Z"
   },
   {
    "duration": 7,
    "start_time": "2025-07-28T06:01:02.068Z"
   },
   {
    "duration": 7,
    "start_time": "2025-07-28T06:02:05.048Z"
   },
   {
    "duration": 6,
    "start_time": "2025-07-28T06:02:49.347Z"
   },
   {
    "duration": 8,
    "start_time": "2025-07-28T06:04:48.427Z"
   },
   {
    "duration": 8,
    "start_time": "2025-07-28T06:06:11.340Z"
   },
   {
    "duration": 12,
    "start_time": "2025-07-28T11:37:13.663Z"
   },
   {
    "duration": 11,
    "start_time": "2025-07-28T11:38:38.469Z"
   },
   {
    "duration": 14,
    "start_time": "2025-07-28T11:39:54.473Z"
   },
   {
    "duration": 9,
    "start_time": "2025-07-28T11:41:35.347Z"
   },
   {
    "duration": 287,
    "start_time": "2025-07-28T12:03:50.803Z"
   },
   {
    "duration": 20,
    "start_time": "2025-07-28T12:09:00.128Z"
   },
   {
    "duration": 3,
    "start_time": "2025-07-28T12:11:14.166Z"
   },
   {
    "duration": 46,
    "start_time": "2025-07-28T12:12:51.469Z"
   },
   {
    "duration": 3,
    "start_time": "2025-07-28T12:14:05.217Z"
   },
   {
    "duration": 181,
    "start_time": "2025-07-28T12:15:04.816Z"
   },
   {
    "duration": 10,
    "start_time": "2025-07-28T12:16:13.900Z"
   },
   {
    "duration": 404,
    "start_time": "2025-07-28T12:17:16.506Z"
   },
   {
    "duration": 5,
    "start_time": "2025-07-28T12:18:36.775Z"
   },
   {
    "duration": 8,
    "start_time": "2025-07-28T12:19:53.323Z"
   },
   {
    "duration": 5,
    "start_time": "2025-07-28T12:21:15.487Z"
   },
   {
    "duration": 10,
    "start_time": "2025-07-28T12:22:26.796Z"
   },
   {
    "duration": 4,
    "start_time": "2025-07-28T12:23:42.354Z"
   },
   {
    "duration": 5,
    "start_time": "2025-07-28T12:25:24.806Z"
   },
   {
    "duration": 5,
    "start_time": "2025-07-28T12:30:54.287Z"
   },
   {
    "duration": 5,
    "start_time": "2025-07-28T12:32:08.623Z"
   },
   {
    "duration": 6,
    "start_time": "2025-07-28T12:36:37.275Z"
   },
   {
    "duration": 5,
    "start_time": "2025-07-28T12:37:30.915Z"
   },
   {
    "duration": 4,
    "start_time": "2025-07-28T12:39:18.084Z"
   },
   {
    "duration": 4,
    "start_time": "2025-07-28T12:41:26.132Z"
   },
   {
    "duration": 5,
    "start_time": "2025-07-28T12:42:25.332Z"
   },
   {
    "duration": 4,
    "start_time": "2025-07-28T12:44:01.546Z"
   },
   {
    "duration": 5,
    "start_time": "2025-07-28T12:45:30.366Z"
   },
   {
    "duration": 6,
    "start_time": "2025-07-28T12:47:53.280Z"
   }
  ],
  "colab": {
   "provenance": [],
   "toc_visible": true
  },
  "kernelspec": {
   "display_name": "Python 3 (ipykernel)",
   "language": "python",
   "name": "python3"
  },
  "language_info": {
   "codemirror_mode": {
    "name": "ipython",
    "version": 3
   },
   "file_extension": ".py",
   "mimetype": "text/x-python",
   "name": "python",
   "nbconvert_exporter": "python",
   "pygments_lexer": "ipython3",
   "version": "3.9.5"
  },
  "toc": {
   "base_numbering": 1,
   "nav_menu": {},
   "number_sections": true,
   "sideBar": true,
   "skip_h1_title": true,
   "title_cell": "Table of Contents",
   "title_sidebar": "Contents",
   "toc_cell": false,
   "toc_position": {},
   "toc_section_display": true,
   "toc_window_display": false
  }
 },
 "nbformat": 4,
 "nbformat_minor": 1
}
